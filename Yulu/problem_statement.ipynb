{
 "cells": [
  {
   "cell_type": "markdown",
   "metadata": {},
   "source": [
    "# Yulu\n",
    "\n",
    "Yulu is India’s leading micro-mobility service provider, which offers unique vehicles for the daily commute. Starting off as a mission to eliminate traffic congestion in India, Yulu provides the safest commute solution through a user-friendly mobile app to enable shared, solo and sustainable commuting.\n",
    "\n",
    "Yulu zones are located at all the appropriate locations (including metro stations, bus stands, office spaces, residential areas, corporate offices, etc) to make those first and last miles smooth, affordable, and convenient!"
   ]
  },
  {
   "cell_type": "markdown",
   "metadata": {},
   "source": [
    "## Problem Statement\n",
    "\n",
    "Yulu has recently suffered considerable dips in its revenues. They have contracted a consulting company to understand the factors on which the demand for these shared electric cycles depends. Specifically, they want to understand the factors affecting the demand for these shared electric cycles in the Indian market.\n",
    "\n",
    "\n",
    "**How you can help here?**\n",
    "\n",
    "The company wants to know:\n",
    "\n",
    "-   Which variables are significant in predicting the demand for shared electric cycles in the Indian market?\n",
    "- How well those variables describe the electric cycle demands"
   ]
  },
  {
   "cell_type": "markdown",
   "metadata": {},
   "source": [
    "### Dataset Definition\n",
    "\n",
    "Dataset link: [yulu_data.csv](https://d2beiqkhq929f0.cloudfront.net/public_assets/assets/000/001/428/original/bike_sharing.csv?1642089089)\n",
    "\n",
    "| Column      | Description                                                                                                                                   |\n",
    "|-------------|-----------------------------------------------------------------------------------------------------------------------------------------------|\n",
    "| datetime    | datetime                                                                                                                                      |\n",
    "| season      | season (1: spring, 2: summer, 3: fall, 4: winter)                                                                                             |\n",
    "| holiday     | whether day is a holiday or not (extracted from [DC holiday schedule](http://dchr.dc.gov/page/holiday-schedule))                             |\n",
    "| workingday  | if day is neither weekend nor holiday is 1, otherwise is 0                                                                                   |\n",
    "| weather     | 1: Clear, Few clouds, partly cloudy, partly cloudy<br>2: Mist + Cloudy, Mist + Broken clouds, Mist + Few clouds, Mist<br>3: Light Snow, Light Rain + Thunderstorm + Scattered clouds, Light Rain + Scattered clouds<br>4: Heavy Rain + Ice Pallets + Thunderstorm + Mist, Snow + Fog |\n",
    "| temp        | temperature in Celsius                                                                                                                       |\n",
    "| atemp       | feeling temperature in Celsius                                                                                                               |\n",
    "| humidity    | humidity                                                                                                                                      |\n",
    "| windspeed   | wind speed                                                                                                                                    |\n",
    "| casual      | count of casual users                                                                                                                         |\n",
    "| registered  | count of registered users                                                                                                                     |\n",
    "| count       | count of total rental bikes including both casual and registered                                                                             |\n"
   ]
  },
  {
   "cell_type": "markdown",
   "metadata": {},
   "source": [
    "### Concept Used:\n",
    "\n",
    "- Bi-Variate Analysis\n",
    "- 2-sample t-test: testing for difference across populations\n",
    "- ANNOVA\n",
    "- Chi-square"
   ]
  },
  {
   "cell_type": "markdown",
   "metadata": {},
   "source": [
    "### How to begin:\n",
    "\n",
    "1. Import the dataset and do usual exploratory data analysis steps like checking the structure & characteristics of the dataset\n",
    "2. Try establishing a relation between the dependent and independent variable (Dependent “Count” & Independent: Workingday, Weather, Season etc)\n",
    "\n",
    "3. Select an appropriate test to check whether:\n",
    "    - Working Day has effect on number of electric cycles rented\n",
    "    - No. of cycles rented similar or different in different seasons\n",
    "    - No. of cycles rented similar or different in different weather\n",
    "    - Weather is dependent on season (check between 2 predictor variable)\n",
    "4. Follow the below steps for hypothesis testing:\n",
    "   1. Set up Null Hypothesis (H0)\n",
    "   2. State the alternate hypothesis (H1)\n",
    "   3. Check assumptions of the test (Normality, Equal Variance).\n",
    "       - You can check it using Histogram, Q-Q plot or statistical methods like levene’s test, Shapiro-wilk test (optional)\n",
    "       - Please continue doing the analysis even If some assumptions fail (levene’s test or Shapiro-wilk test) but double check using visual analysis and report wherever necessary\n",
    "   4. Set a significance level (alpha)\n",
    "   5. Calculate test Statistics\n",
    "   6.  Decision to accept or reject null hypothesis\n",
    "   7.  Inference from the analysis"
   ]
  },
  {
   "cell_type": "markdown",
   "metadata": {},
   "source": [
    "### Evaluation Criteria (50 Points):\n",
    "\n",
    "1. Define Problem Statement and perform Exploratory Data Analysis (10 points)\n",
    "    - Definition of problem (as per given problem statement with additional views)\n",
    "    - Observations on shape of data, data types of all the attributes, conversion of categorical attributes to 'category' (If required) , missing value detection, statistical summary.\n",
    "    - Univariate Analysis (distribution plots of all the continuous variable(s) barplots/countplots of all the categorical variables)\n",
    "    - Bivariate Analysis (Relationships between important variables such as workday and count, season and count, weather and count.\n",
    "    - Illustrate the insights based on EDA\n",
    "        - Comments on range of attributes, outliers of various attributes\n",
    "        - Comments on the distribution of the variables and relationship between them\n",
    "        - Comments for each univariate and bivariate plots\n",
    "2. Hypothesis Testing (30 Points):\n",
    "    - 2- Sample T-Test to check if Working Day has an effect on the number of electric cycles rented (10 points)\n",
    "    - ANNOVA to check if No. of cycles rented is similar or different in different 1. weather 2. season (10 points)\n",
    "    - Chi-square test to check if Weather is dependent on the season (10 points)\n",
    "3. Notebook Quality (10 points):\n",
    "    - Structure & Flow\n",
    "    - Well commented code"
   ]
  },
  {
   "cell_type": "markdown",
   "metadata": {},
   "source": [
    "### What good looks like (distribution of 10 points):\n",
    "\n",
    "- Visual analysis (1)\n",
    "- Hypothesis formulation (1)\n",
    "- Select the appropriate test (1)\n",
    "- Check test assumptions (2)\n",
    "- Find the p-value(1)\n",
    "- Conclusion based on the p-value (2)"
   ]
  }
 ],
 "metadata": {
  "language_info": {
   "name": "python"
  }
 },
 "nbformat": 4,
 "nbformat_minor": 2
}
