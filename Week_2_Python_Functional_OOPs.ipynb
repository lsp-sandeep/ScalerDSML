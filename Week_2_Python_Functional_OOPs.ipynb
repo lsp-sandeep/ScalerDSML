{
  "nbformat": 4,
  "nbformat_minor": 0,
  "metadata": {
    "colab": {
      "name": "Week-2_Python_Functional_OOPs",
      "provenance": [],
      "collapsed_sections": [],
      "authorship_tag": "ABX9TyOdxaj+1uWooTCvl4lne5KM",
      "include_colab_link": true
    },
    "kernelspec": {
      "name": "python3",
      "display_name": "Python 3"
    },
    "language_info": {
      "name": "python"
    }
  },
  "cells": [
    {
      "cell_type": "markdown",
      "metadata": {
        "id": "view-in-github",
        "colab_type": "text"
      },
      "source": [
        "<a href=\"https://colab.research.google.com/github/lsp-sandeep/scaler_dsml_practice/blob/main/Week_2_Python_Functional_OOPs.ipynb\" target=\"_parent\"><img src=\"https://colab.research.google.com/assets/colab-badge.svg\" alt=\"Open In Colab\"/></a>"
      ]
    },
    {
      "cell_type": "code",
      "source": [
        "def func(c, d):\n",
        "    return c,d\n",
        "\n",
        "\n",
        "x = lambda: func(1,2)\n",
        "\n",
        "x()"
      ],
      "metadata": {
        "colab": {
          "base_uri": "https://localhost:8080/"
        },
        "id": "cShBK76AJH65",
        "outputId": "45df81f4-dab8-4492-d1cc-5bca6a7bb62a"
      },
      "execution_count": null,
      "outputs": [
        {
          "output_type": "execute_result",
          "data": {
            "text/plain": [
              "(1, 2)"
            ]
          },
          "metadata": {},
          "execution_count": 2
        }
      ]
    },
    {
      "cell_type": "code",
      "source": [
        "def func2(c, d):\n",
        "    return c, d\n",
        "\n",
        "def func1(a, b):\n",
        "    c = a**1\n",
        "    d = b**2\n",
        "    return lambda: func2(c,d)\n",
        "\n",
        "result = func1(1, 2)\n",
        "\n",
        "print(result())"
      ],
      "metadata": {
        "id": "aOggBtuLEhsH",
        "colab": {
          "base_uri": "https://localhost:8080/"
        },
        "outputId": "72457ce2-6007-4846-9a95-0abed1fe48e0"
      },
      "execution_count": null,
      "outputs": [
        {
          "output_type": "stream",
          "name": "stdout",
          "text": [
            "(1, 4)\n"
          ]
        }
      ]
    },
    {
      "cell_type": "code",
      "source": [
        "odd=lambda x: bool(x%2)\n",
        "result=[n for n in range(10)]\n",
        "\n",
        "for i in result:\n",
        "    if odd(i):\n",
        "        continue       \n",
        "    else:\n",
        "        print(i, end=\" \")"
      ],
      "metadata": {
        "colab": {
          "base_uri": "https://localhost:8080/"
        },
        "id": "AxrBDALEMauM",
        "outputId": "2e922cef-2e8f-42c0-c4ba-ea18001f9625"
      },
      "execution_count": null,
      "outputs": [
        {
          "output_type": "stream",
          "name": "stdout",
          "text": [
            "0 2 4 6 8 "
          ]
        }
      ]
    },
    {
      "cell_type": "code",
      "source": [
        "array  = [1, -1, 3, 4, 5]\n",
        "def func1(x):\n",
        "    return x<0\n",
        "result=filter(func1, array)\n",
        "print(list(result))"
      ],
      "metadata": {
        "colab": {
          "base_uri": "https://localhost:8080/"
        },
        "id": "3eXDl2O8MvTh",
        "outputId": "4bae558e-7f3a-4be7-ab95-d96ae14098ca"
      },
      "execution_count": null,
      "outputs": [
        {
          "output_type": "stream",
          "name": "stdout",
          "text": [
            "[-1]\n"
          ]
        }
      ]
    },
    {
      "cell_type": "code",
      "source": [
        "list(filter(lambda x:x<0, array))"
      ],
      "metadata": {
        "colab": {
          "base_uri": "https://localhost:8080/"
        },
        "id": "7132ldl_NULN",
        "outputId": "9d9ac9d1-e7b1-4a60-884f-8ef33b2f1dbb"
      },
      "execution_count": null,
      "outputs": [
        {
          "output_type": "execute_result",
          "data": {
            "text/plain": [
              "[-1]"
            ]
          },
          "metadata": {},
          "execution_count": 8
        }
      ]
    },
    {
      "cell_type": "code",
      "source": [
        "a=[1,[2,3],4,5]\n",
        "result = lambda x: list(map(lambda y:2*y, x)) if isinstance(x,list) else lambda x:3*x\n",
        "print(result(a))"
      ],
      "metadata": {
        "colab": {
          "base_uri": "https://localhost:8080/"
        },
        "id": "33jjFKbiNWXm",
        "outputId": "d2daa2fc-185e-4e70-ad3e-8caeb6203c46"
      },
      "execution_count": null,
      "outputs": [
        {
          "output_type": "stream",
          "name": "stdout",
          "text": [
            "[2, [2, 3, 2, 3], 8, 10]\n"
          ]
        }
      ]
    },
    {
      "cell_type": "code",
      "source": [
        "(lambda x: print(x))([2,3])"
      ],
      "metadata": {
        "colab": {
          "base_uri": "https://localhost:8080/"
        },
        "id": "w1Wg9dazP-MM",
        "outputId": "49d3936f-dff7-47da-b4fc-9b0af1024ca3"
      },
      "execution_count": null,
      "outputs": [
        {
          "output_type": "stream",
          "name": "stdout",
          "text": [
            "[2, 3]\n"
          ]
        }
      ]
    },
    {
      "cell_type": "code",
      "source": [
        "2*a"
      ],
      "metadata": {
        "colab": {
          "base_uri": "https://localhost:8080/"
        },
        "id": "5rSr7ObiQPoS",
        "outputId": "c7bf4967-781f-4872-cc9f-af090cb86624"
      },
      "execution_count": null,
      "outputs": [
        {
          "output_type": "execute_result",
          "data": {
            "text/plain": [
              "[1, [2, 3], 4, 5, 1, [2, 3], 4, 5]"
            ]
          },
          "metadata": {},
          "execution_count": 13
        }
      ]
    },
    {
      "cell_type": "code",
      "source": [
        "ids=[\"Sam@gmail.com\", \"Ram@gmail.com\", \"Sam@gmail.com\", \"samJohnson@iit.com\", \"SAM@harvard.com\"]\n",
        "name=\"sam\"\n",
        "result = list(filter(lambda x : name.lower() in x or name.upper() in x, ids))\n",
        "print(result)"
      ],
      "metadata": {
        "colab": {
          "base_uri": "https://localhost:8080/"
        },
        "id": "vl0clSS7QlmZ",
        "outputId": "dcd9fb44-f496-416a-9174-98203da1e829"
      },
      "execution_count": null,
      "outputs": [
        {
          "output_type": "stream",
          "name": "stdout",
          "text": [
            "['samJohnson@iit.com', 'SAM@harvard.com']\n"
          ]
        }
      ]
    },
    {
      "cell_type": "code",
      "source": [
        "arr = [\"php\", \"w3r\", \"python\", \"aaa\", \"java\"]\n",
        "result  = list( filter( lambda x: (x ==\"\".join( reversed(x))), arr))\n",
        "\n",
        "result"
      ],
      "metadata": {
        "id": "DU1kBXcURu9Z",
        "colab": {
          "base_uri": "https://localhost:8080/"
        },
        "outputId": "f9d07814-829a-465f-f33a-47f8745598de"
      },
      "execution_count": null,
      "outputs": [
        {
          "output_type": "execute_result",
          "data": {
            "text/plain": [
              "['php', 'aaa']"
            ]
          },
          "metadata": {},
          "execution_count": 2
        }
      ]
    },
    {
      "cell_type": "code",
      "source": [
        "list(reversed(\"tr\"))"
      ],
      "metadata": {
        "colab": {
          "base_uri": "https://localhost:8080/"
        },
        "id": "X5ZzkG9NnkVi",
        "outputId": "4d2dec0a-64e3-4ff7-d5d2-ff370c757f7d"
      },
      "execution_count": null,
      "outputs": [
        {
          "output_type": "execute_result",
          "data": {
            "text/plain": [
              "['r', 't']"
            ]
          },
          "metadata": {},
          "execution_count": 4
        }
      ]
    },
    {
      "cell_type": "code",
      "source": [
        "column_names = ['name', 'salary', 'job']\n",
        "db_rows = [('Alice', 180000, 'data scientist'),\n",
        "           ('Bob', 99000, 'data engineer'),\n",
        "           ('Frank', 87000, 'data analyst')]\n",
        "\n",
        "db = [dict(zip(column_names, row)) for row in db_rows]\n",
        "print(db)\n"
      ],
      "metadata": {
        "id": "mR38sBxin7PC",
        "colab": {
          "base_uri": "https://localhost:8080/"
        },
        "outputId": "7ef25e6e-49ff-45b4-b3a0-31c2128fecb5"
      },
      "execution_count": null,
      "outputs": [
        {
          "output_type": "stream",
          "name": "stdout",
          "text": [
            "[{'name': 'Alice', 'salary': 180000, 'job': 'data scientist'}, {'name': 'Bob', 'salary': 99000, 'job': 'data engineer'}, {'name': 'Frank', 'salary': 87000, 'job': 'data analyst'}]\n"
          ]
        }
      ]
    },
    {
      "cell_type": "code",
      "source": [
        "import functools\n",
        "lists = [1,2,3,4]\n",
        "print(functools.reduce(lambda x,y : x if x > y else y ,lists))"
      ],
      "metadata": {
        "colab": {
          "base_uri": "https://localhost:8080/"
        },
        "id": "ueBx0aicdc-N",
        "outputId": "08d4cede-663d-48ce-f4d1-27be6eb26031"
      },
      "execution_count": null,
      "outputs": [
        {
          "output_type": "stream",
          "name": "stdout",
          "text": [
            "4\n"
          ]
        }
      ]
    },
    {
      "cell_type": "code",
      "source": [
        "sentence = \"abc cde def\"\n",
        "result = list(map(lambda x: list(x), sentence.split(\" \")))\n",
        "print(result)"
      ],
      "metadata": {
        "colab": {
          "base_uri": "https://localhost:8080/"
        },
        "id": "K0yLa0YZebGc",
        "outputId": "aece56f3-8086-445c-a140-c0fa7eeee1a7"
      },
      "execution_count": null,
      "outputs": [
        {
          "output_type": "stream",
          "name": "stdout",
          "text": [
            "[['a', 'b', 'c'], ['c', 'd', 'e'], ['d', 'e', 'f']]\n"
          ]
        }
      ]
    },
    {
      "cell_type": "code",
      "source": [
        "list(sentence)"
      ],
      "metadata": {
        "id": "gtHphKNreob0",
        "outputId": "8e260b47-9be5-4f3d-a1f1-b05772ddeeff",
        "colab": {
          "base_uri": "https://localhost:8080/"
        }
      },
      "execution_count": null,
      "outputs": [
        {
          "output_type": "execute_result",
          "data": {
            "text/plain": [
              "['a', 'b', 'c', ' ', 'c', 'd', 'e', ' ', 'd', 'e', 'f']"
            ]
          },
          "metadata": {},
          "execution_count": 6
        }
      ]
    },
    {
      "cell_type": "code",
      "source": [
        "def decorate(func):\n",
        "    def wrapper(words):\n",
        "        print(\"----------------\")\n",
        "        func(words)\n",
        "        print(\"----------------\")\n",
        "    return wrapper\n",
        "\n",
        "def print_hello():\n",
        "    print(\"Hello\")\n",
        "\n",
        "def print_any_string(words):\n",
        "    print(words)\n",
        "\n",
        "decorated_print_hello = decorate(print_hello)\n",
        "\n",
        "decorated_print_any_string = decorate(print_any_string)\n",
        "\n",
        "decorated_print_any_string(\"Cool\")"
      ],
      "metadata": {
        "id": "l6cftfTOer9A",
        "colab": {
          "base_uri": "https://localhost:8080/"
        },
        "outputId": "bf4f97ff-1828-4152-fe0b-7dc70d5c30a8"
      },
      "execution_count": null,
      "outputs": [
        {
          "output_type": "stream",
          "name": "stdout",
          "text": [
            "----------------\n",
            "Cool\n",
            "----------------\n"
          ]
        }
      ]
    },
    {
      "cell_type": "code",
      "source": [
        "class Dog1:\n",
        "\n",
        "    def class_method(a, b):\n",
        "        print(a, b)\n",
        "    \n",
        "    def instance_method(self, a, b):\n",
        "        self.cool = \"buy\"\n",
        "        self.b = a\n"
      ],
      "metadata": {
        "id": "Pu_Qg1bXGVI5"
      },
      "execution_count": null,
      "outputs": []
    },
    {
      "cell_type": "code",
      "source": [
        "d1 = Dog1()\n",
        "\n",
        "d1.class_method(1,1)"
      ],
      "metadata": {
        "colab": {
          "base_uri": "https://localhost:8080/"
        },
        "id": "CP-KR-fkj-iO",
        "outputId": "b1904863-5635-4dd1-fa14-5ced59faa60e"
      },
      "execution_count": null,
      "outputs": [
        {
          "output_type": "stream",
          "name": "stdout",
          "text": [
            "1\n"
          ]
        }
      ]
    },
    {
      "cell_type": "code",
      "source": [
        "class Dog2:\n",
        "\n",
        "    def class_method1(a, b):\n",
        "        print(a, b)"
      ],
      "metadata": {
        "id": "oKApFAFYkIA-"
      },
      "execution_count": null,
      "outputs": []
    },
    {
      "cell_type": "code",
      "source": [
        "d2 = Dog2()\n",
        "\n",
        "d2.class_method1(1,2)"
      ],
      "metadata": {
        "colab": {
          "base_uri": "https://localhost:8080/",
          "height": 209
        },
        "id": "_NOOGlp-lSGp",
        "outputId": "2d82b064-1d87-4545-bc69-cd017d895c4b"
      },
      "execution_count": null,
      "outputs": [
        {
          "output_type": "error",
          "ename": "TypeError",
          "evalue": "ignored",
          "traceback": [
            "\u001b[0;31m---------------------------------------------------------------------------\u001b[0m",
            "\u001b[0;31mTypeError\u001b[0m                                 Traceback (most recent call last)",
            "\u001b[0;32m<ipython-input-26-fb59738634ea>\u001b[0m in \u001b[0;36m<module>\u001b[0;34m()\u001b[0m\n\u001b[1;32m      1\u001b[0m \u001b[0md2\u001b[0m \u001b[0;34m=\u001b[0m \u001b[0mDog2\u001b[0m\u001b[0;34m(\u001b[0m\u001b[0;34m)\u001b[0m\u001b[0;34m\u001b[0m\u001b[0;34m\u001b[0m\u001b[0m\n\u001b[1;32m      2\u001b[0m \u001b[0;34m\u001b[0m\u001b[0m\n\u001b[0;32m----> 3\u001b[0;31m \u001b[0md2\u001b[0m\u001b[0;34m.\u001b[0m\u001b[0mclass_method1\u001b[0m\u001b[0;34m(\u001b[0m\u001b[0;36m1\u001b[0m\u001b[0;34m,\u001b[0m\u001b[0;36m2\u001b[0m\u001b[0;34m)\u001b[0m\u001b[0;34m\u001b[0m\u001b[0;34m\u001b[0m\u001b[0m\n\u001b[0m",
            "\u001b[0;31mTypeError\u001b[0m: class_method1() takes 2 positional arguments but 3 were given"
          ]
        }
      ]
    },
    {
      "cell_type": "code",
      "source": [
        "class Dog:\n",
        "    def inst_method(a,b):\n",
        "        a.var = b\n",
        "\n",
        "    def class_method(a,b):\n",
        "        print(a,b)\n"
      ],
      "metadata": {
        "id": "coEG28mvlXMK"
      },
      "execution_count": null,
      "outputs": []
    },
    {
      "cell_type": "code",
      "source": [
        "d = Dog()\n",
        "\n",
        "d.inst_method(1)\n",
        "\n",
        "\n",
        "Dog.class_method(d,2), d.var"
      ],
      "metadata": {
        "colab": {
          "base_uri": "https://localhost:8080/"
        },
        "id": "XkR_GQ9embRW",
        "outputId": "ae7d07b6-2081-4d33-c88f-dc185c661c9e"
      },
      "execution_count": null,
      "outputs": [
        {
          "output_type": "stream",
          "name": "stdout",
          "text": [
            "<__main__.Dog object at 0x7f7f4abf99d0> 2\n"
          ]
        },
        {
          "output_type": "execute_result",
          "data": {
            "text/plain": [
              "(None, 1)"
            ]
          },
          "metadata": {},
          "execution_count": 37
        }
      ]
    },
    {
      "cell_type": "code",
      "source": [
        "d.class_method(1)"
      ],
      "metadata": {
        "colab": {
          "base_uri": "https://localhost:8080/"
        },
        "id": "Mrln6B0emfr9",
        "outputId": "4322eea9-834a-4f8b-eff7-53bf69eb24d1"
      },
      "execution_count": null,
      "outputs": [
        {
          "output_type": "stream",
          "name": "stdout",
          "text": [
            "<__main__.Dog object at 0x7f7f4abf99d0> 1\n"
          ]
        }
      ]
    },
    {
      "cell_type": "code",
      "source": [
        "class football:\n",
        "    final_res= 'lose'\n",
        "    def __init__(self,name,score):\n",
        "        self.name = name\n",
        "        self.score = score\n",
        "        self.final_res = 'lose'\n",
        "    \n",
        "    def calc(self, winning_score):\n",
        "        if self.score>winning_score:\n",
        "            self.final_res='win'\n",
        "match = football('Juventus',3)\n",
        "match.calc(2)\n",
        "print(football.final_res, match.final_res)"
      ],
      "metadata": {
        "id": "1O0-7KahvAhA",
        "colab": {
          "base_uri": "https://localhost:8080/"
        },
        "outputId": "c90f7d33-174f-421a-c767-052e1e280b7d"
      },
      "execution_count": null,
      "outputs": [
        {
          "output_type": "stream",
          "name": "stdout",
          "text": [
            "lose win\n"
          ]
        }
      ]
    },
    {
      "cell_type": "code",
      "source": [
        "class Student:\n",
        "  # Class variable\n",
        "  subject_name = 'Math for Machine Learning'\n",
        "\n",
        "  # constructor\n",
        "  def __init__(self, name, roll_no):\n",
        "    self.name = name\n",
        "    self.roll_no = roll_no\n",
        "\n",
        "# create Objects\n",
        "s1 = Student('Emma', 10)#blank1\n",
        "s1.subject_name = 'Machine Learning' #blank2\n",
        "\n",
        "print(s1.name, s1.roll_no, s1.subject_name)"
      ],
      "metadata": {
        "colab": {
          "base_uri": "https://localhost:8080/"
        },
        "id": "S3qOBzHgjRK4",
        "outputId": "0f2265ec-6c01-451d-ea04-d4133c55bcab"
      },
      "execution_count": null,
      "outputs": [
        {
          "output_type": "stream",
          "name": "stdout",
          "text": [
            "Emma 10 Machine Learning\n"
          ]
        }
      ]
    },
    {
      "cell_type": "code",
      "source": [
        "class solution:\n",
        "  def initial(self,sets):\n",
        "    return self.final(sets)\n",
        " \n",
        "  def final(self, sets):\n",
        "    return list(map(lambda x: ((x**3)%2==0,x**3),sets))\n",
        "\n",
        "print(solution().initial([4,5,6]))"
      ],
      "metadata": {
        "colab": {
          "base_uri": "https://localhost:8080/"
        },
        "id": "yCZeaXogj9ty",
        "outputId": "fbfaa39d-986e-4e26-d769-3ba40b2c1462"
      },
      "execution_count": null,
      "outputs": [
        {
          "output_type": "stream",
          "name": "stdout",
          "text": [
            "[(True, 64), (False, 125), (True, 216)]\n"
          ]
        }
      ]
    },
    {
      "cell_type": "code",
      "source": [
        "class Employee:\n",
        "\n",
        "    def __init__(self, name, val):\n",
        "\n",
        "        self._name=name\n",
        "\n",
        "        self._salary=val\n",
        "\n",
        "e1=Employee(\"Rahul\",200)\n",
        "\n",
        "e1._salary = 300\n",
        "\n",
        "print(e1._salary)"
      ],
      "metadata": {
        "colab": {
          "base_uri": "https://localhost:8080/"
        },
        "id": "QjsqidrMlAyD",
        "outputId": "ad2ff5cc-a39e-46aa-ec27-c7ab8802b38c"
      },
      "execution_count": null,
      "outputs": [
        {
          "output_type": "stream",
          "name": "stdout",
          "text": [
            "300\n"
          ]
        }
      ]
    },
    {
      "cell_type": "code",
      "source": [
        "class Employee:\n",
        "\n",
        "    def __init__(self, name, val):\n",
        "\n",
        "        self.__name=name\n",
        "\n",
        "        self.__salary=val\n",
        "\n",
        "e1=Employee(\"Rahul\",200)\n",
        "\n",
        "print(e1.__salary)"
      ],
      "metadata": {
        "colab": {
          "base_uri": "https://localhost:8080/",
          "height": 209
        },
        "id": "kdmttGxNnTPM",
        "outputId": "ad00e20d-caa6-48cc-cce1-099019ea0983"
      },
      "execution_count": null,
      "outputs": [
        {
          "output_type": "error",
          "ename": "AttributeError",
          "evalue": "ignored",
          "traceback": [
            "\u001b[0;31m---------------------------------------------------------------------------\u001b[0m",
            "\u001b[0;31mAttributeError\u001b[0m                            Traceback (most recent call last)",
            "\u001b[0;32m<ipython-input-11-5edf56a47fbc>\u001b[0m in \u001b[0;36m<module>\u001b[0;34m()\u001b[0m\n\u001b[1;32m      9\u001b[0m \u001b[0me1\u001b[0m\u001b[0;34m=\u001b[0m\u001b[0mEmployee\u001b[0m\u001b[0;34m(\u001b[0m\u001b[0;34m\"Rahul\"\u001b[0m\u001b[0;34m,\u001b[0m\u001b[0;36m200\u001b[0m\u001b[0;34m)\u001b[0m\u001b[0;34m\u001b[0m\u001b[0;34m\u001b[0m\u001b[0m\n\u001b[1;32m     10\u001b[0m \u001b[0;34m\u001b[0m\u001b[0m\n\u001b[0;32m---> 11\u001b[0;31m \u001b[0mprint\u001b[0m\u001b[0;34m(\u001b[0m\u001b[0me1\u001b[0m\u001b[0;34m.\u001b[0m\u001b[0m__salary\u001b[0m\u001b[0;34m)\u001b[0m\u001b[0;34m\u001b[0m\u001b[0;34m\u001b[0m\u001b[0m\n\u001b[0m",
            "\u001b[0;31mAttributeError\u001b[0m: 'Employee' object has no attribute '__salary'"
          ]
        }
      ]
    },
    {
      "cell_type": "code",
      "source": [
        "class SchoolMember:\n",
        "    def __init__(self, name):\n",
        "        self.name = name\n",
        "class Student(SchoolMember):\n",
        "    def __init__(self, name, percentage):\n",
        "        super().__init__(name)\n",
        "        self.percentage = percentage\n",
        "class Staff(SchoolMember):\n",
        "    def __init__(self, name, salary):\n",
        "        super().__init__(name)\n",
        "        self.salary = salary\n",
        "class Teacher(Staff):\n",
        "    def __init__(self, name, salary, subject):\n",
        "        super().__init__(name)\n",
        "        super().__init__(name, salary)\n",
        "        self.subject = subject"
      ],
      "metadata": {
        "id": "_2C9DPp3nj90"
      },
      "execution_count": null,
      "outputs": []
    },
    {
      "cell_type": "code",
      "source": [
        "t = Teacher(\"sandeep\", 100, \"Math\")\n",
        "\n",
        "t.name, t.salary, t.subject"
      ],
      "metadata": {
        "colab": {
          "base_uri": "https://localhost:8080/",
          "height": 338
        },
        "id": "YbpqYk7smIcA",
        "outputId": "981f2a61-9fc3-4e73-836a-4453a231d4df"
      },
      "execution_count": null,
      "outputs": [
        {
          "output_type": "error",
          "ename": "TypeError",
          "evalue": "ignored",
          "traceback": [
            "\u001b[0;31m---------------------------------------------------------------------------\u001b[0m",
            "\u001b[0;31mTypeError\u001b[0m                                 Traceback (most recent call last)",
            "\u001b[0;32m<ipython-input-4-6f560711c6e3>\u001b[0m in \u001b[0;36m<module>\u001b[0;34m()\u001b[0m\n\u001b[0;32m----> 1\u001b[0;31m \u001b[0mt\u001b[0m \u001b[0;34m=\u001b[0m \u001b[0mTeacher\u001b[0m\u001b[0;34m(\u001b[0m\u001b[0;34m\"sandeep\"\u001b[0m\u001b[0;34m,\u001b[0m \u001b[0;36m100\u001b[0m\u001b[0;34m,\u001b[0m \u001b[0;34m\"Math\"\u001b[0m\u001b[0;34m)\u001b[0m\u001b[0;34m\u001b[0m\u001b[0;34m\u001b[0m\u001b[0m\n\u001b[0m\u001b[1;32m      2\u001b[0m \u001b[0;34m\u001b[0m\u001b[0m\n\u001b[1;32m      3\u001b[0m \u001b[0mt\u001b[0m\u001b[0;34m.\u001b[0m\u001b[0mname\u001b[0m\u001b[0;34m,\u001b[0m \u001b[0mt\u001b[0m\u001b[0;34m.\u001b[0m\u001b[0msalary\u001b[0m\u001b[0;34m,\u001b[0m \u001b[0mt\u001b[0m\u001b[0;34m.\u001b[0m\u001b[0msubject\u001b[0m\u001b[0;34m\u001b[0m\u001b[0;34m\u001b[0m\u001b[0m\n",
            "\u001b[0;32m<ipython-input-3-8a8849ccb91e>\u001b[0m in \u001b[0;36m__init__\u001b[0;34m(self, name, salary, subject)\u001b[0m\n\u001b[1;32m     12\u001b[0m \u001b[0;32mclass\u001b[0m \u001b[0mTeacher\u001b[0m\u001b[0;34m(\u001b[0m\u001b[0mStaff\u001b[0m\u001b[0;34m)\u001b[0m\u001b[0;34m:\u001b[0m\u001b[0;34m\u001b[0m\u001b[0;34m\u001b[0m\u001b[0m\n\u001b[1;32m     13\u001b[0m     \u001b[0;32mdef\u001b[0m \u001b[0m__init__\u001b[0m\u001b[0;34m(\u001b[0m\u001b[0mself\u001b[0m\u001b[0;34m,\u001b[0m \u001b[0mname\u001b[0m\u001b[0;34m,\u001b[0m \u001b[0msalary\u001b[0m\u001b[0;34m,\u001b[0m \u001b[0msubject\u001b[0m\u001b[0;34m)\u001b[0m\u001b[0;34m:\u001b[0m\u001b[0;34m\u001b[0m\u001b[0;34m\u001b[0m\u001b[0m\n\u001b[0;32m---> 14\u001b[0;31m         \u001b[0msuper\u001b[0m\u001b[0;34m(\u001b[0m\u001b[0;34m)\u001b[0m\u001b[0;34m.\u001b[0m\u001b[0m__init__\u001b[0m\u001b[0;34m(\u001b[0m\u001b[0mname\u001b[0m\u001b[0;34m)\u001b[0m\u001b[0;34m\u001b[0m\u001b[0;34m\u001b[0m\u001b[0m\n\u001b[0m\u001b[1;32m     15\u001b[0m         \u001b[0msuper\u001b[0m\u001b[0;34m(\u001b[0m\u001b[0;34m)\u001b[0m\u001b[0;34m.\u001b[0m\u001b[0m__init__\u001b[0m\u001b[0;34m(\u001b[0m\u001b[0mname\u001b[0m\u001b[0;34m,\u001b[0m \u001b[0msalary\u001b[0m\u001b[0;34m)\u001b[0m\u001b[0;34m\u001b[0m\u001b[0;34m\u001b[0m\u001b[0m\n\u001b[1;32m     16\u001b[0m         \u001b[0mself\u001b[0m\u001b[0;34m.\u001b[0m\u001b[0msubject\u001b[0m \u001b[0;34m=\u001b[0m \u001b[0msubject\u001b[0m\u001b[0;34m\u001b[0m\u001b[0;34m\u001b[0m\u001b[0m\n",
            "\u001b[0;31mTypeError\u001b[0m: __init__() missing 1 required positional argument: 'salary'"
          ]
        }
      ]
    },
    {
      "cell_type": "code",
      "source": [
        "class Dog:\n",
        "    kind = 'libra'\n",
        "    def __init__(self, name, height):\n",
        "        self.name = name\n",
        "        self.height = height\n",
        "    def __str__(self):\n",
        "        return f\" kind : {self.kind}, name : {self.name}, height : {self.height}\"\n",
        "    def __add__(self, other):\n",
        "        return Dog(self.name + \" \" + other.name, self.height + other.height)"
      ],
      "metadata": {
        "id": "G7THc9t6nmNM"
      },
      "execution_count": null,
      "outputs": []
    },
    {
      "cell_type": "code",
      "source": [
        "d1 = Dog(\"name1\", 55)\n",
        "d2 = Dog(\"name2\", 56)\n",
        "d3 = Dog(\"name3\", 57)"
      ],
      "metadata": {
        "id": "hASLP-As0eqe"
      },
      "execution_count": null,
      "outputs": []
    },
    {
      "cell_type": "code",
      "source": [
        "(d1 + d2 + d3).height"
      ],
      "metadata": {
        "colab": {
          "base_uri": "https://localhost:8080/"
        },
        "id": "z1KwpSK80skF",
        "outputId": "a225c960-220d-4d3b-f050-c9f689773528"
      },
      "execution_count": null,
      "outputs": [
        {
          "output_type": "execute_result",
          "data": {
            "text/plain": [
              "168"
            ]
          },
          "metadata": {},
          "execution_count": 18
        }
      ]
    },
    {
      "cell_type": "code",
      "source": [
        "class Test:\n",
        "    def __init__(self, testie):\n",
        "        self.testie = testie\n",
        "\n",
        "t = Test(1)\n",
        "\n",
        "t.__dict__"
      ],
      "metadata": {
        "colab": {
          "base_uri": "https://localhost:8080/"
        },
        "id": "p0O9lVCBPyBf",
        "outputId": "619759bc-179b-4c0f-f5b3-c56373ab280c"
      },
      "execution_count": null,
      "outputs": [
        {
          "output_type": "execute_result",
          "data": {
            "text/plain": [
              "{'testie': 1}"
            ]
          },
          "metadata": {},
          "execution_count": 2
        }
      ]
    },
    {
      "cell_type": "code",
      "source": [
        "class fruits:\n",
        "    def __init__(self, price):\n",
        "        self.price = price\n",
        "\n",
        "obj=fruits(50)\n",
        "obj.quantity=10\n",
        "obj.bags=2\n",
        "\n",
        "print(obj.quantity+len(obj.__dict__))"
      ],
      "metadata": {
        "id": "CHJGs9UK038_",
        "colab": {
          "base_uri": "https://localhost:8080/"
        },
        "outputId": "e8475e36-54f5-48a7-a3bc-b0acd5a606cf"
      },
      "execution_count": null,
      "outputs": [
        {
          "output_type": "stream",
          "name": "stdout",
          "text": [
            "13\n"
          ]
        }
      ]
    },
    {
      "cell_type": "code",
      "source": [
        "class Student:\n",
        "    def __init__(self,roll,marks):\n",
        "        self.roll = roll\n",
        "        self.marks=marks\n",
        "    def display(self):\n",
        "        print('Roll:', self.roll,'Marks:',self.marks, end=\" \")\n",
        "\n",
        "student1= Student(34,'A')\n",
        "student1.age=17\n",
        "print(student1.display(), 'Age:',student1.age)"
      ],
      "metadata": {
        "colab": {
          "base_uri": "https://localhost:8080/"
        },
        "id": "rl3kvBiQQU65",
        "outputId": "1fbd75e8-2c05-46b3-af79-79cbf67abff4"
      },
      "execution_count": null,
      "outputs": [
        {
          "output_type": "stream",
          "name": "stdout",
          "text": [
            "Roll: 34 Marks: A None Age: 17\n"
          ]
        }
      ]
    },
    {
      "cell_type": "code",
      "source": [
        "student1.display()"
      ],
      "metadata": {
        "colab": {
          "base_uri": "https://localhost:8080/"
        },
        "id": "mQG_Ri_xSEPa",
        "outputId": "451d7103-23db-486f-9d4f-5e6188617acd"
      },
      "execution_count": null,
      "outputs": [
        {
          "output_type": "stream",
          "name": "stdout",
          "text": [
            "Roll: 34 Marks: A "
          ]
        }
      ]
    },
    {
      "cell_type": "code",
      "source": [
        "class Player:\n",
        "  # class variables\n",
        "  club = 'United'\n",
        "  sport = 'Football'\n",
        "\n",
        "  def __init__(self, name):\n",
        "    # Instance variable\n",
        "    self.name = name\n",
        "\n",
        "  def show(self):\n",
        "    print('Name:', self.name, 'Club:', self.club, 'Sports:', self.sport, end=\" \")\n",
        "\n",
        "p1 = Player('Sanjay')\n",
        "p1.club = 'Real Madrid'\n",
        "p1.show()\n",
        "\n",
        "p2 = Player('Ravi')\n",
        "p2.sport = 'Tennis'\n",
        "p2.show()"
      ],
      "metadata": {
        "colab": {
          "base_uri": "https://localhost:8080/"
        },
        "id": "hm23byYaSO_Z",
        "outputId": "157ca467-72ba-4d22-9562-1169e6496bf2"
      },
      "execution_count": null,
      "outputs": [
        {
          "output_type": "stream",
          "name": "stdout",
          "text": [
            "Name: Sanjay Club: Real Madrid Sports: Football Name: Ravi Club: United Sports: Tennis "
          ]
        }
      ]
    },
    {
      "cell_type": "code",
      "source": [
        "class Test:\n",
        "    __private_parent = 2\n",
        "    _protected_parent = 1\n",
        "\n",
        "    def __init__(self, var):\n",
        "        self.var_p = var\n",
        "\n",
        "    def __str__(self):\n",
        "        return f\"private: {self.__private_parent}, protected: {self._protected_parent}\"\n",
        "\n",
        "class TestChild(Test):\n",
        "    __private_child = 4\n",
        "    _protected_child = 3\n",
        "\n",
        "    def __init__(self, var_p, var_c):\n",
        "        self.var_c = var_c\n",
        "        Test.__init__(self, var_p)\n",
        "\n",
        "    def __str__(self):\n",
        "        return f\"private: {self.__private_child}, protected: {self._protected_child}\"\n",
        "\n",
        "    def parent(self):\n",
        "        return print(f\"protected: {self._protected_parent}\") #private: {self.__private_parent},\n",
        "    \n",
        "    def print_parent(self):\n",
        "        return print(Test._Test__private_parent)\n",
        "\n",
        "t = Test(1)\n",
        "tc = TestChild(2, 3)\n",
        "\n",
        "print(t)\n",
        "print(tc)\n",
        "tc.parent()\n",
        "tc.print_parent()"
      ],
      "metadata": {
        "colab": {
          "base_uri": "https://localhost:8080/"
        },
        "id": "Fu1WTdYqTy14",
        "outputId": "a6580a2a-5977-4bbc-acff-af01ea2dc924"
      },
      "execution_count": null,
      "outputs": [
        {
          "output_type": "stream",
          "name": "stdout",
          "text": [
            "private: 2, protected: 1\n",
            "private: 4, protected: 3\n",
            "protected: 1\n",
            "2\n"
          ]
        }
      ]
    },
    {
      "cell_type": "code",
      "source": [
        "t.__dict__"
      ],
      "metadata": {
        "colab": {
          "base_uri": "https://localhost:8080/"
        },
        "id": "JDQFKQCBYJXL",
        "outputId": "6fb0de19-454d-4016-f32c-1ab9760d5740"
      },
      "execution_count": null,
      "outputs": [
        {
          "output_type": "execute_result",
          "data": {
            "text/plain": [
              "{'var_p': 1}"
            ]
          },
          "metadata": {},
          "execution_count": 30
        }
      ]
    },
    {
      "cell_type": "code",
      "source": [
        "tc.__dict__"
      ],
      "metadata": {
        "colab": {
          "base_uri": "https://localhost:8080/"
        },
        "id": "sjySuBFtbvUh",
        "outputId": "e8e775da-73c9-4915-914b-b0473bc317b9"
      },
      "execution_count": null,
      "outputs": [
        {
          "output_type": "execute_result",
          "data": {
            "text/plain": [
              "{'var_c': 3, 'var_p': 2}"
            ]
          },
          "metadata": {},
          "execution_count": 31
        }
      ]
    },
    {
      "cell_type": "code",
      "source": [
        "class A:\n",
        "   def one(self):\n",
        "       return self.two()\n",
        "   def two(self):\n",
        "       return 'A'\n",
        "class B(A):\n",
        "   def two(self):\n",
        "       return 'B'\n",
        "obj= B()\n",
        "print(A.two(obj))"
      ],
      "metadata": {
        "colab": {
          "base_uri": "https://localhost:8080/"
        },
        "id": "AMfOcP8vcBMZ",
        "outputId": "174be220-d753-4a93-9c82-157120992dab"
      },
      "execution_count": null,
      "outputs": [
        {
          "output_type": "stream",
          "name": "stdout",
          "text": [
            "A\n"
          ]
        }
      ]
    },
    {
      "cell_type": "code",
      "source": [
        "sum([True, False, True])"
      ],
      "metadata": {
        "colab": {
          "base_uri": "https://localhost:8080/"
        },
        "id": "7sMFWKY2c3e_",
        "outputId": "a35ea1fb-64a5-486a-82fc-fa5bb31c76bb"
      },
      "execution_count": null,
      "outputs": [
        {
          "output_type": "execute_result",
          "data": {
            "text/plain": [
              "2"
            ]
          },
          "metadata": {},
          "execution_count": 37
        }
      ]
    },
    {
      "cell_type": "code",
      "source": [
        "\"e\" not in \"aeiou\""
      ],
      "metadata": {
        "colab": {
          "base_uri": "https://localhost:8080/"
        },
        "id": "kVLFy2T6eSob",
        "outputId": "024f2da5-365a-424e-d545-7eeb3ae1abfa"
      },
      "execution_count": null,
      "outputs": [
        {
          "output_type": "execute_result",
          "data": {
            "text/plain": [
              "False"
            ]
          },
          "metadata": {},
          "execution_count": 41
        }
      ]
    },
    {
      "cell_type": "code",
      "source": [
        "class Fibonacci:\n",
        "    def __init__(self, a = 0, b = 1):\n",
        "        self.init_1 = a\n",
        "        self.init_2 = b\n",
        "        self.__a = a\n",
        "        self.__b = b\n",
        "\n",
        "    def __iter__(self):\n",
        "        self.__n = 0\n",
        "        return self\n",
        "\n",
        "    def __next__(self):\n",
        "        self.__a, self.__b = self.__b, (self.__a + self.__b)\n",
        "        self.__n += 1\n",
        "\n",
        "        if self.__n <= 1:\n",
        "            return (self.init_1, self.init_2), self.__b\n",
        "        else:\n",
        "            return self.__b\n"
      ],
      "metadata": {
        "id": "Bi_v3SSke2sR"
      },
      "execution_count": null,
      "outputs": []
    },
    {
      "cell_type": "code",
      "source": [
        "fib = Fibonacci()\n",
        "fib_iter = iter(fib)\n",
        "\n",
        "for i in range(10):\n",
        "    print(next(fib_iter))"
      ],
      "metadata": {
        "colab": {
          "base_uri": "https://localhost:8080/"
        },
        "id": "RDSPfH6b-Sr8",
        "outputId": "751887cd-cd0f-4aea-bd58-1a66f57e4abe"
      },
      "execution_count": null,
      "outputs": [
        {
          "output_type": "stream",
          "name": "stdout",
          "text": [
            "((0, 1), 1)\n",
            "2\n",
            "3\n",
            "5\n",
            "8\n",
            "13\n",
            "21\n",
            "34\n",
            "55\n",
            "89\n"
          ]
        }
      ]
    },
    {
      "cell_type": "code",
      "source": [
        "for i in range(10):\n",
        "    print(next(fib_iter))"
      ],
      "metadata": {
        "colab": {
          "base_uri": "https://localhost:8080/"
        },
        "id": "P6GAZrsQAh35",
        "outputId": "1ad3730c-ca35-42db-b94d-1609946c2bf5"
      },
      "execution_count": null,
      "outputs": [
        {
          "output_type": "stream",
          "name": "stdout",
          "text": [
            "144\n",
            "233\n",
            "377\n",
            "610\n",
            "987\n",
            "1597\n",
            "2584\n",
            "4181\n",
            "6765\n",
            "10946\n"
          ]
        }
      ]
    },
    {
      "cell_type": "code",
      "source": [
        "fib.n = 0\n",
        "\n",
        "for i in range(10):\n",
        "    print(next(fib_iter))"
      ],
      "metadata": {
        "colab": {
          "base_uri": "https://localhost:8080/"
        },
        "id": "oQwoQizoA4NK",
        "outputId": "7b4e1095-a8a4-4949-bba5-759451551964"
      },
      "execution_count": null,
      "outputs": [
        {
          "output_type": "stream",
          "name": "stdout",
          "text": [
            "17711\n",
            "28657\n",
            "46368\n",
            "75025\n",
            "121393\n",
            "196418\n",
            "317811\n",
            "514229\n",
            "832040\n",
            "1346269\n"
          ]
        }
      ]
    },
    {
      "cell_type": "code",
      "source": [
        "del fib.n"
      ],
      "metadata": {
        "id": "e7bMlSc1A7Jn"
      },
      "execution_count": null,
      "outputs": []
    },
    {
      "cell_type": "code",
      "source": [
        "fib.n"
      ],
      "metadata": {
        "colab": {
          "base_uri": "https://localhost:8080/",
          "height": 172
        },
        "id": "mYcmnZEtBJFB",
        "outputId": "9bab34f8-cddd-4302-c7a3-1d7111a68e65"
      },
      "execution_count": null,
      "outputs": [
        {
          "output_type": "error",
          "ename": "AttributeError",
          "evalue": "ignored",
          "traceback": [
            "\u001b[0;31m---------------------------------------------------------------------------\u001b[0m",
            "\u001b[0;31mAttributeError\u001b[0m                            Traceback (most recent call last)",
            "\u001b[0;32m<ipython-input-19-c511923116ed>\u001b[0m in \u001b[0;36m<module>\u001b[0;34m()\u001b[0m\n\u001b[0;32m----> 1\u001b[0;31m \u001b[0mfib\u001b[0m\u001b[0;34m.\u001b[0m\u001b[0mn\u001b[0m\u001b[0;34m\u001b[0m\u001b[0;34m\u001b[0m\u001b[0m\n\u001b[0m",
            "\u001b[0;31mAttributeError\u001b[0m: 'Fibonacci' object has no attribute 'n'"
          ]
        }
      ]
    },
    {
      "cell_type": "code",
      "source": [
        "a = range(1,10)\n",
        "\n",
        "next(a)"
      ],
      "metadata": {
        "colab": {
          "base_uri": "https://localhost:8080/",
          "height": 209
        },
        "id": "AUGVyyXaBKjF",
        "outputId": "1d2bf002-30c3-497e-fa0a-55e5dd289480"
      },
      "execution_count": null,
      "outputs": [
        {
          "output_type": "error",
          "ename": "TypeError",
          "evalue": "ignored",
          "traceback": [
            "\u001b[0;31m---------------------------------------------------------------------------\u001b[0m",
            "\u001b[0;31mTypeError\u001b[0m                                 Traceback (most recent call last)",
            "\u001b[0;32m<ipython-input-20-0a28eedd0ac7>\u001b[0m in \u001b[0;36m<module>\u001b[0;34m()\u001b[0m\n\u001b[1;32m      1\u001b[0m \u001b[0ma\u001b[0m \u001b[0;34m=\u001b[0m \u001b[0mrange\u001b[0m\u001b[0;34m(\u001b[0m\u001b[0;36m1\u001b[0m\u001b[0;34m,\u001b[0m\u001b[0;36m10\u001b[0m\u001b[0;34m)\u001b[0m\u001b[0;34m\u001b[0m\u001b[0;34m\u001b[0m\u001b[0m\n\u001b[1;32m      2\u001b[0m \u001b[0;34m\u001b[0m\u001b[0m\n\u001b[0;32m----> 3\u001b[0;31m \u001b[0mnext\u001b[0m\u001b[0;34m(\u001b[0m\u001b[0ma\u001b[0m\u001b[0;34m)\u001b[0m\u001b[0;34m\u001b[0m\u001b[0;34m\u001b[0m\u001b[0m\n\u001b[0m",
            "\u001b[0;31mTypeError\u001b[0m: 'range' object is not an iterator"
          ]
        }
      ]
    },
    {
      "cell_type": "code",
      "source": [
        ""
      ],
      "metadata": {
        "id": "pnQ8pQziCCsL"
      },
      "execution_count": null,
      "outputs": []
    }
  ]
}