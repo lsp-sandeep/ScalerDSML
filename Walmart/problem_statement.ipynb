{
 "cells": [
  {
   "cell_type": "markdown",
   "metadata": {},
   "source": [
    "# Walmart\n",
    "\n",
    "Walmart is an American multinational retail corporation that operates a chain of supercenters, discount departmental stores, and grocery stores from the United States. Walmart has more than 100 million customers worldwide."
   ]
  },
  {
   "cell_type": "markdown",
   "metadata": {},
   "source": [
    "## Problem Statement\n",
    "\n",
    "The Management team at Walmart Inc. wants to analyze the customer purchase behavior (specifically, purchase amount) against the customer’s gender and the various other factors to help the business make better decisions.\n",
    "\n",
    "They want to understand if the spending habits differ between male and female customers: Do women spend more on Black Friday than men? (Assume 50 million customers are male and 50 million are female)."
   ]
  },
  {
   "cell_type": "markdown",
   "metadata": {},
   "source": [
    "### Dataset Definition\n",
    "\n",
    "The company collected the transactional data of customers who purchased products from the Walmart Stores during Black Friday. The dataset has the following features:\n",
    "\n",
    "Dataset link: [Walmart_data.csv](https://d2beiqkhq929f0.cloudfront.net/public_assets/assets/000/001/293/original/walmart_data.csv?1641285094)\n",
    "\n",
    "| Column Name               | Description                           |\n",
    "| :----------------         | :------------------------------------ |\n",
    "| User_ID                   | User ID                               |\n",
    "| Product_ID                | Product ID                            |\n",
    "| Gender                    | Sex of User                           |\n",
    "| Age                       | Age in bins                           |\n",
    "| Occupation                | Occupation(Masked)                    |\n",
    "| City_Category             | Category of the City (A,B,C)          |\n",
    "| Stay_In_Current_City_Years| Number of years stay in current city  |\n",
    "| Marital_Status            | Marital Status                        |\n",
    "| ProductCategory           | Product Category (Masked)             |\n",
    "| Purchase                  | Purchase Amount                       |"
   ]
  },
  {
   "cell_type": "markdown",
   "metadata": {},
   "source": [
    "## What good looks like?\n",
    "\n",
    "1. Import the dataset and do usual data analysis steps like checking the structure & characteristics of the dataset.\n",
    "\n",
    "2. Detect Null values & Outliers (using boxplot, “describe” method by checking the difference between mean and median, isnull etc.)\n",
    "\n",
    "3. Do some data exploration steps like:\n",
    "   - Tracking the amount spent per transaction of all the 50 million female customers, and all the 50 million male customers, calculate the average, and conclude the results.\n",
    "   - Inference after computing the average female and male expenses.\n",
    "   - Use the sample average to find out an interval within which the population average will lie. Using the sample of female customers you will calculate the interval within which the average spending of 50 million male and female customers may lie.\n",
    "\n",
    "4. Use the Central limit theorem to compute the interval. Change the sample size to observe the distribution of the mean of the expenses by female and male customers.\n",
    "   - The interval that you calculated is called Confidence Interval. The width of the interval is mostly decided by the business: Typically 90%, 95%, or 99%. Play around with the width parameter and report the observations.\n",
    "\n",
    "5. Conclude the results and check if the confidence intervals of average male and female spends are overlapping or not overlapping. How can Walmart leverage this conclusion to make changes or improvements?\n",
    "\n",
    "6. Perform the same activity for Married vs Unmarried and Age\n",
    "   - For Age, you can try bins based on life stages: 0-17, 18-25, 26-35, 36-50, 51+ years.\n",
    "\n",
    "7. Give recommendations and action items to Walmart."
   ]
  },
  {
   "cell_type": "markdown",
   "metadata": {},
   "source": [
    "## Evaluation Criteria\n",
    "\n",
    "1. Defining Problem Statement and Analyzing Basic Metrics (10 Points)  \n",
    "   - Observations on shape of data, data types of all the attributes, conversion of categorical attributes to 'category' (if required), statistical summary  \n",
    "   - Non-Graphical Analysis: Value counts and unique attributes  \n",
    "   - Visual Analysis - Univariate & Bivariate  \n",
    "     - For continuous variable(s): Distplot, countplot, histogram for univariate analysis  \n",
    "     - For categorical variable(s): Boxplot  \n",
    "     - For correlation: Heatmaps, Pairplots  \n",
    "\n",
    "2. Missing Value & Outlier Detection (10 Points)  \n",
    "\n",
    "3. Business Insights based on Non-Graphical and Visual Analysis (10 Points)  \n",
    "   - Comments on the range of attributes  \n",
    "   - Comments on the distribution of the variables and relationship between them  \n",
    "   - Comments for each univariate and bivariate plot  \n",
    "\n",
    "4. Answering Questions (50 Points)  \n",
    "   - Are women spending more money per transaction than men? Why or Why not? (10 Points)  \n",
    "   - Confidence intervals and distribution of the mean of the expenses by female and male customers (10 Points)  \n",
    "   - Are confidence intervals of average male and female spending overlapping? How can Walmart leverage this conclusion to make changes or improvements? (10 Points)  \n",
    "   - Results when the same activity is performed for Married vs Unmarried (10 Points)  \n",
    "   - Results when the same activity is performed for Age (10 Points)  \n",
    "\n",
    "5. Final Insights (10 Points)  \n",
    "   - Illustrate the insights based on exploration and CLT  \n",
    "   - Comments on the distribution of the variables and relationship between them  \n",
    "   - Comments for each univariate and bivariate plots  \n",
    "   - Comments on different variables when generalizing it for Population  \n",
    "\n",
    "6. Recommendations (10 Points)  \n",
    "   - Actionable items for business  \n",
    "   - No technical jargon. No complications  \n",
    "   - Simple action items that everyone can understand  "
   ]
  }
 ],
 "metadata": {
  "kernelspec": {
   "display_name": "base",
   "language": "python",
   "name": "python3"
  },
  "language_info": {
   "name": "python",
   "version": "3.12.7"
  }
 },
 "nbformat": 4,
 "nbformat_minor": 2
}
