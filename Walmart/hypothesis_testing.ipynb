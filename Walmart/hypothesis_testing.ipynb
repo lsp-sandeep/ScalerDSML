{
 "cells": [
  {
   "cell_type": "markdown",
   "metadata": {},
   "source": [
    "## Hypothesis Testing"
   ]
  },
  {
   "cell_type": "markdown",
   "metadata": {},
   "source": [
    "## Import statements"
   ]
  },
  {
   "cell_type": "code",
   "execution_count": 1,
   "metadata": {},
   "outputs": [],
   "source": [
    "import pandas as pd\n",
    "import numpy as np\n",
    "import seaborn as sns\n",
    "import matplotlib.pyplot as plt\n",
    "import scipy.stats as st\n",
    "from statsmodels.stats.weightstats import ztest\n",
    "import statsmodels.api as sm\n",
    "import math as mt\n",
    "import random as rd\n",
    "import time as tm"
   ]
  },
  {
   "cell_type": "markdown",
   "metadata": {},
   "source": [
    "## Data Preperation"
   ]
  },
  {
   "cell_type": "code",
   "execution_count": 2,
   "metadata": {},
   "outputs": [
    {
     "data": {
      "text/html": [
       "<div>\n",
       "<style scoped>\n",
       "    .dataframe tbody tr th:only-of-type {\n",
       "        vertical-align: middle;\n",
       "    }\n",
       "\n",
       "    .dataframe tbody tr th {\n",
       "        vertical-align: top;\n",
       "    }\n",
       "\n",
       "    .dataframe thead th {\n",
       "        text-align: right;\n",
       "    }\n",
       "</style>\n",
       "<table border=\"1\" class=\"dataframe\">\n",
       "  <thead>\n",
       "    <tr style=\"text-align: right;\">\n",
       "      <th></th>\n",
       "      <th>Transaction_ID</th>\n",
       "      <th>User_ID</th>\n",
       "      <th>Gender</th>\n",
       "      <th>Age</th>\n",
       "      <th>City_Category</th>\n",
       "      <th>Stay_In_Current_City_Years</th>\n",
       "      <th>Marital_Status</th>\n",
       "      <th>Purchase</th>\n",
       "      <th>Purchase_Bucket</th>\n",
       "    </tr>\n",
       "  </thead>\n",
       "  <tbody>\n",
       "    <tr>\n",
       "      <th>0</th>\n",
       "      <td>0</td>\n",
       "      <td>1000001</td>\n",
       "      <td>F</td>\n",
       "      <td>0-17</td>\n",
       "      <td>A</td>\n",
       "      <td>2</td>\n",
       "      <td>Unmarried</td>\n",
       "      <td>8370</td>\n",
       "      <td>7500 - 10000</td>\n",
       "    </tr>\n",
       "    <tr>\n",
       "      <th>1</th>\n",
       "      <td>1</td>\n",
       "      <td>1000001</td>\n",
       "      <td>F</td>\n",
       "      <td>0-17</td>\n",
       "      <td>A</td>\n",
       "      <td>2</td>\n",
       "      <td>Unmarried</td>\n",
       "      <td>15200</td>\n",
       "      <td>15000 - 17500</td>\n",
       "    </tr>\n",
       "    <tr>\n",
       "      <th>2</th>\n",
       "      <td>2</td>\n",
       "      <td>1000001</td>\n",
       "      <td>F</td>\n",
       "      <td>0-17</td>\n",
       "      <td>A</td>\n",
       "      <td>2</td>\n",
       "      <td>Unmarried</td>\n",
       "      <td>1422</td>\n",
       "      <td>1000 - 2500</td>\n",
       "    </tr>\n",
       "    <tr>\n",
       "      <th>3</th>\n",
       "      <td>3</td>\n",
       "      <td>1000001</td>\n",
       "      <td>F</td>\n",
       "      <td>0-17</td>\n",
       "      <td>A</td>\n",
       "      <td>2</td>\n",
       "      <td>Unmarried</td>\n",
       "      <td>1057</td>\n",
       "      <td>1000 - 2500</td>\n",
       "    </tr>\n",
       "    <tr>\n",
       "      <th>4</th>\n",
       "      <td>4</td>\n",
       "      <td>1000002</td>\n",
       "      <td>M</td>\n",
       "      <td>55+</td>\n",
       "      <td>C</td>\n",
       "      <td>4+</td>\n",
       "      <td>Unmarried</td>\n",
       "      <td>7969</td>\n",
       "      <td>7500 - 10000</td>\n",
       "    </tr>\n",
       "  </tbody>\n",
       "</table>\n",
       "</div>"
      ],
      "text/plain": [
       "  Transaction_ID  User_ID Gender   Age City_Category  \\\n",
       "0              0  1000001      F  0-17             A   \n",
       "1              1  1000001      F  0-17             A   \n",
       "2              2  1000001      F  0-17             A   \n",
       "3              3  1000001      F  0-17             A   \n",
       "4              4  1000002      M   55+             C   \n",
       "\n",
       "  Stay_In_Current_City_Years Marital_Status  Purchase Purchase_Bucket  \n",
       "0                          2      Unmarried      8370    7500 - 10000  \n",
       "1                          2      Unmarried     15200   15000 - 17500  \n",
       "2                          2      Unmarried      1422     1000 - 2500  \n",
       "3                          2      Unmarried      1057     1000 - 2500  \n",
       "4                         4+      Unmarried      7969    7500 - 10000  "
      ]
     },
     "execution_count": 2,
     "metadata": {},
     "output_type": "execute_result"
    }
   ],
   "source": [
    "# Data Loading\n",
    "file_link = \"https://d2beiqkhq929f0.cloudfront.net/public_assets/assets/000/001/293/original/walmart_data.csv?1641285094\"\n",
    "raw_data = pd.read_csv(file_link)\n",
    "\n",
    "# Data Cleaning\n",
    "clean_data = raw_data.reset_index().copy()\n",
    "clean_data['User_ID'] = clean_data['User_ID'].astype('str')\n",
    "clean_data['Product_ID'] = clean_data['Product_ID'].astype('str')\n",
    "clean_data.rename(columns={'index': 'Transaction_ID'}, inplace=True, errors='ignore')\n",
    "clean_data['Transaction_ID'] = clean_data['Transaction_ID'].astype('str')\n",
    "columns_to_convert = {\n",
    "    'Gender', 'Age','Occupation',\n",
    "    'Marital_Status', 'Product_Category',\n",
    "    'City_Category', 'Stay_In_Current_City_Years'\n",
    "}\n",
    "\n",
    "for column in columns_to_convert:\n",
    "    if column in {'Marital_Status'}:\n",
    "        clean_data[column] = clean_data[column].apply(lambda x: 'Married' if x == 1 else 'Unmarried')\n",
    "    elif column in {'Product_Category', 'Occupation'}:\n",
    "        clean_data[column] = clean_data[column].apply(lambda x: f'{column}_{str(x)}')\n",
    "    clean_data[column] = clean_data[column].astype('category')\n",
    "\n",
    "# Data Preperation\n",
    "iqr = clean_data['Purchase'].quantile(0.75) - clean_data['Purchase'].quantile(0.25)\n",
    "lower_bound = clean_data['Purchase'].quantile(0.25) - 1.5 * iqr\n",
    "upper_bound = clean_data['Purchase'].quantile(0.75) + 1.5 * iqr\n",
    "\n",
    "analysis_data = (\n",
    "    clean_data\n",
    "    .drop(columns=['Occupation', 'Product_Category', 'Product_ID'])\n",
    "    )\n",
    "\n",
    "id_columns = ['User_ID', 'Transaction_ID']\n",
    "categorical_columns = analysis_data.select_dtypes(include='category').columns.tolist()\n",
    "numerical_columns = analysis_data.select_dtypes(include='number').columns.tolist()\n",
    "\n",
    "bins = [0, 1000, 2500, 5000, 7500, 10000, 12500, 15000, 17500, 20000, 22500, 25000]\n",
    "labels = [f'{bins[i]} - {bins[i+1]}' for i in range(len(bins)-1)]\n",
    "\n",
    "analysis_data['Purchase_Bucket'] = pd.cut(analysis_data['Purchase'], bins= bins, labels= labels, right= False)\n",
    "\n",
    "numerical_bucketed_columns = ['Purchase_Bucket']\n",
    "\n",
    "analysis_data.head()"
   ]
  },
  {
   "cell_type": "code",
   "execution_count": 3,
   "metadata": {},
   "outputs": [
    {
     "data": {
      "text/html": [
       "<div>\n",
       "<style scoped>\n",
       "    .dataframe tbody tr th:only-of-type {\n",
       "        vertical-align: middle;\n",
       "    }\n",
       "\n",
       "    .dataframe tbody tr th {\n",
       "        vertical-align: top;\n",
       "    }\n",
       "\n",
       "    .dataframe thead th {\n",
       "        text-align: right;\n",
       "    }\n",
       "</style>\n",
       "<table border=\"1\" class=\"dataframe\">\n",
       "  <thead>\n",
       "    <tr style=\"text-align: right;\">\n",
       "      <th></th>\n",
       "      <th>User_ID</th>\n",
       "      <th>Gender</th>\n",
       "      <th>Age</th>\n",
       "      <th>City_Category</th>\n",
       "      <th>Stay_In_Current_City_Years</th>\n",
       "      <th>Marital_Status</th>\n",
       "      <th># Transaction</th>\n",
       "      <th>$ Revenue</th>\n",
       "      <th>Avg. Revenue per Transaction</th>\n",
       "    </tr>\n",
       "  </thead>\n",
       "  <tbody>\n",
       "    <tr>\n",
       "      <th>0</th>\n",
       "      <td>1000001</td>\n",
       "      <td>F</td>\n",
       "      <td>0-17</td>\n",
       "      <td>A</td>\n",
       "      <td>2</td>\n",
       "      <td>Unmarried</td>\n",
       "      <td>35</td>\n",
       "      <td>334093</td>\n",
       "      <td>9545.514286</td>\n",
       "    </tr>\n",
       "    <tr>\n",
       "      <th>1</th>\n",
       "      <td>1000002</td>\n",
       "      <td>M</td>\n",
       "      <td>55+</td>\n",
       "      <td>C</td>\n",
       "      <td>4+</td>\n",
       "      <td>Unmarried</td>\n",
       "      <td>77</td>\n",
       "      <td>810472</td>\n",
       "      <td>10525.610390</td>\n",
       "    </tr>\n",
       "    <tr>\n",
       "      <th>2</th>\n",
       "      <td>1000003</td>\n",
       "      <td>M</td>\n",
       "      <td>26-35</td>\n",
       "      <td>A</td>\n",
       "      <td>3</td>\n",
       "      <td>Unmarried</td>\n",
       "      <td>29</td>\n",
       "      <td>341635</td>\n",
       "      <td>11780.517241</td>\n",
       "    </tr>\n",
       "    <tr>\n",
       "      <th>3</th>\n",
       "      <td>1000004</td>\n",
       "      <td>M</td>\n",
       "      <td>46-50</td>\n",
       "      <td>B</td>\n",
       "      <td>2</td>\n",
       "      <td>Married</td>\n",
       "      <td>14</td>\n",
       "      <td>206468</td>\n",
       "      <td>14747.714286</td>\n",
       "    </tr>\n",
       "    <tr>\n",
       "      <th>4</th>\n",
       "      <td>1000005</td>\n",
       "      <td>M</td>\n",
       "      <td>26-35</td>\n",
       "      <td>A</td>\n",
       "      <td>1</td>\n",
       "      <td>Married</td>\n",
       "      <td>106</td>\n",
       "      <td>821001</td>\n",
       "      <td>7745.292453</td>\n",
       "    </tr>\n",
       "  </tbody>\n",
       "</table>\n",
       "</div>"
      ],
      "text/plain": [
       "   User_ID Gender    Age City_Category Stay_In_Current_City_Years  \\\n",
       "0  1000001      F   0-17             A                          2   \n",
       "1  1000002      M    55+             C                         4+   \n",
       "2  1000003      M  26-35             A                          3   \n",
       "3  1000004      M  46-50             B                          2   \n",
       "4  1000005      M  26-35             A                          1   \n",
       "\n",
       "  Marital_Status  # Transaction  $ Revenue  Avg. Revenue per Transaction  \n",
       "0      Unmarried             35     334093                   9545.514286  \n",
       "1      Unmarried             77     810472                  10525.610390  \n",
       "2      Unmarried             29     341635                  11780.517241  \n",
       "3        Married             14     206468                  14747.714286  \n",
       "4        Married            106     821001                   7745.292453  "
      ]
     },
     "execution_count": 3,
     "metadata": {},
     "output_type": "execute_result"
    }
   ],
   "source": [
    "# Data Aggregation\n",
    "\n",
    "def get_size(collection):\n",
    "    if type(collection) in {str, int, float}:\n",
    "        return 1\n",
    "    elif type(collection) in {list, set, dict}:\n",
    "        n = 0\n",
    "        collections = collection.values() if type(collection) == dict else collection\n",
    "        for sub_collection in collections:\n",
    "            n += get_size(sub_collection)\n",
    "        return n\n",
    "    else:\n",
    "        return 0\n",
    "\n",
    "def remove_agg_prefixes(name, prefixes, trim= True):\n",
    "    for prefix in prefixes:\n",
    "        name = name.replace(prefix, '')\n",
    "    \n",
    "    name = name.strip()\n",
    "\n",
    "    return name\n",
    "\n",
    "\n",
    "def get_agg_data(data, groupby_coulmns, base_aggs, custom_aggs, include= 'custom', ret_agg_names= False):\n",
    "    base_agg_data = data.groupby(groupby_coulmns, observed= True).agg(**base_aggs)\n",
    "    base_agg_names = list(base_aggs.keys())\n",
    "    if include == 'base':\n",
    "        if ret_agg_names:\n",
    "            return base_agg_data.reset_index(), base_agg_names\n",
    "        return base_agg_data.reset_index()\n",
    "\n",
    "    custom_agg_names = []\n",
    "    agg_data = base_agg_data.copy()\n",
    "    for agg_type, agg_columns in custom_aggs.items():\n",
    "        if agg_type == '%':\n",
    "            for column in agg_columns:\n",
    "                new_column = remove_agg_prefixes(column, ['#', '$'])\n",
    "                agg_data[f'% {new_column}'] = agg_data[column] * 100 / agg_data[column].sum()\n",
    "                custom_agg_names.append(f'% {new_column}')\n",
    "        elif agg_type == 'Avg.':\n",
    "            for numerator, denominators in agg_columns.items():\n",
    "                new_numerator = remove_agg_prefixes(numerator, ['#', '$'])\n",
    "                for denominator in denominators:\n",
    "                    new_denominator = remove_agg_prefixes(denominator, ['#', '$'])\n",
    "                    agg_data[f'Avg. {new_numerator} per {new_denominator}'] = agg_data[numerator] / agg_data[denominator]\n",
    "                    custom_agg_names.append(f'Avg. {new_numerator} per {new_denominator}')\n",
    "    \n",
    "    if include == 'both':\n",
    "        if ret_agg_names:\n",
    "            return agg_data.reset_index(), base_agg_names + custom_agg_names\n",
    "        return agg_data.reset_index()\n",
    "\n",
    "    if ret_agg_names:\n",
    "        return agg_data.drop(columns= base_agg_data.columns.tolist()).reset_index(), custom_agg_names\n",
    "    return agg_data.drop(columns= base_agg_data.columns.tolist()).reset_index()\n",
    "\n",
    "user_base_aggs = {\n",
    "    '# Transaction': ('Transaction_ID', 'count'),\n",
    "    '$ Revenue': ('Purchase', 'sum')\n",
    "}\n",
    "\n",
    "user_custom_aggs = {\n",
    "    'Avg.': {\n",
    "        '$ Revenue': ['# Transaction']\n",
    "    }\n",
    "}\n",
    "\n",
    "user_agg_data, user_agg_columns = get_agg_data(analysis_data, ['User_ID'] + categorical_columns, user_base_aggs, user_custom_aggs, include= 'both', ret_agg_names= True)\n",
    "\n",
    "user_agg_data.head()"
   ]
  },
  {
   "cell_type": "markdown",
   "metadata": {},
   "source": [
    "**Test Hypothesis Framework**\n",
    "\n",
    "*Metric: Avg purchase amount per transaction*\n",
    "\n",
    "*Null Hypothesis: There is no significant difference between the variables*\n",
    "\n",
    "| Variable          | Variable Type | Cardinality   | Alternate Hypothesis       |\n",
    "| :---------------- | :------------ | :------------ | :------------------------- |\n",
    "| Gender            | Categorical   | 2             | Greater for Male           |\n",
    "| Marital_Status    | Categorical   | 2             | Greater for Unmarried      |\n",
    "| Age               | Categorical   | 6             | Greater for (26-35 / 18-45)|\n",
    "| City_Category     | Categorical   | 3             | Lesser for City C          |\n"
   ]
  },
  {
   "cell_type": "markdown",
   "metadata": {},
   "source": [
    "**Choice of Test Framework**\n",
    "\n",
    "```yaml\n",
    "Variable Type\n",
    "├── Numerical vs Categorical:\n",
    "│   ├── Cardinality = 2:\n",
    "│   |   ├── Normal: Yes → Two Sample T-Test Independent\n",
    "│   |   └── Normal: No → Two Sample KS-Test\n",
    "│   └── Cardinality > 2: No  → Outcome B\n",
    "│       ├── Normal and Homoscedastic: Yes → Two Sample ANOVA\n",
    "│       └── Normal and Homoscedastic: No → Kruskal-Wallis Test\n",
    "├── Categorical vs Categorical:\n",
    "└── Numerical vs Numerical:\n",
    "```"
   ]
  },
  {
   "cell_type": "markdown",
   "metadata": {},
   "source": [
    "## Gender\n",
    "\n",
    "*Metric: Avg purchase amount per transaction*\n",
    "\n",
    "*Null Hypothesis (H0): There is no significant difference between the male vs female customers*\n",
    "\n",
    "*Alternate Hypothesis(Ha): Male avg purchase amount per transaction is greater than female*\n"
   ]
  },
  {
   "cell_type": "code",
   "execution_count": 4,
   "metadata": {},
   "outputs": [
    {
     "name": "stdout",
     "output_type": "stream",
     "text": [
      "float64 category\n",
      "(5891,) 2\n"
     ]
    },
    {
     "data": {
      "text/plain": [
       "Gender\n",
       "M    4225\n",
       "F    1666\n",
       "Name: count, dtype: int64"
      ]
     },
     "execution_count": 4,
     "metadata": {},
     "output_type": "execute_result"
    }
   ],
   "source": [
    "# Checking for data types and cardinality and sample size\n",
    "\n",
    "print(user_agg_data['Avg. Revenue per Transaction'].dtype, user_agg_data['Gender'].dtype)\n",
    "\n",
    "print(user_agg_data['Avg. Revenue per Transaction'].shape, user_agg_data['Gender'].nunique())\n",
    "\n",
    "user_agg_data['Gender'].value_counts()"
   ]
  },
  {
   "cell_type": "markdown",
   "metadata": {},
   "source": [
    "*Sample size: 5891 (no. of customers)*\n",
    "\n",
    "*Data Types: Avg Revenue per Transaction is Numerical and Gender is categorical*\n",
    "\n",
    "*Cardinality: Gender has 2 values M (male: 4225) and F (female: 1666)*"
   ]
  },
  {
   "cell_type": "code",
   "execution_count": 5,
   "metadata": {},
   "outputs": [
    {
     "data": {
      "image/png": "[encoded data removed]",
      "text/plain": [
       "<Figure size 640x480 with 1 Axes>"
      ]
     },
     "metadata": {},
     "output_type": "display_data"
    },
    {
     "name": "stdout",
     "output_type": "stream",
     "text": [
      "The sample data not follow a normal distribution at 95% confidence level with ks_stat: 1.0, p_val: 0.0\n"
     ]
    }
   ],
   "source": [
    "# Checking for Normality of the metric using QQ plot and KS Test (one sample - theoretical normal)\n",
    "\n",
    "sm.qqplot(user_agg_data['Avg. Revenue per Transaction'], line= 's')\n",
    "plt.show()\n",
    "\n",
    "ks_stat, p_val = st.kstest(user_agg_data['Avg. Revenue per Transaction'], 'norm')\n",
    "\n",
    "alpha = 0.05\n",
    "if p_val > alpha:\n",
    "    print(f\"The sample data follows a normal distribution at {int((1 - alpha)*100)}% confidence level with ks_stat: {ks_stat}, p_val: {p_val}\")\n",
    "else:\n",
    "    print(f\"The sample data not follow a normal distribution at {int((1 - alpha)*100)}% confidence level with ks_stat: {ks_stat}, p_val: {p_val}\")"
   ]
  },
  {
   "cell_type": "markdown",
   "metadata": {},
   "source": [
    "### Observations:\n",
    "- The qq plot looks mostly linear with outliers towards the right, \n",
    "- The ks test shows that the sample is not following a normal distribution"
   ]
  },
  {
   "cell_type": "code",
   "execution_count": 6,
   "metadata": {},
   "outputs": [],
   "source": [
    "male_purchase_data = user_agg_data[user_agg_data['Gender'] == 'M']['Avg. Revenue per Transaction']\n",
    "female_purchase_data = user_agg_data[user_agg_data['Gender'] == 'F']['Avg. Revenue per Transaction']"
   ]
  },
  {
   "cell_type": "markdown",
   "metadata": {},
   "source": [
    "**Assumption: Average spending does not follow a normal distribution as per the ks test**"
   ]
  },
  {
   "cell_type": "markdown",
   "metadata": {},
   "source": [
    "**Checking for the null hypothesis using Two Sample KS Test with two tailed alternative hypothesis**\n"
   ]
  },
  {
   "cell_type": "code",
   "execution_count": 7,
   "metadata": {},
   "outputs": [
    {
     "name": "stdout",
     "output_type": "stream",
     "text": [
      "ks_stat: 0.219469, p_val: 0.000000\n",
      "There is a significant difference between Male and Female purchase distributions at 95% confidence level\n"
     ]
    }
   ],
   "source": [
    "ks_stat, p_val = st.kstest(male_purchase_data, female_purchase_data, alternative= 'two-sided')\n",
    "\n",
    "print(f\"ks_stat: {ks_stat:4f}, p_val: {p_val:4f}\")\n",
    "\n",
    "\n",
    "alpha = 0.05\n",
    "if p_val > alpha:\n",
    "    print(f\"There is not significant difference between Male and Female purchase distributions at {int((1 - alpha)*100)}% confidence level\")\n",
    "else:\n",
    "    print(f\"There is a significant difference between Male and Female purchase distributions at {int((1 - alpha)*100)}% confidence level\")"
   ]
  },
  {
   "cell_type": "markdown",
   "metadata": {},
   "source": [
    "### Observations:\n",
    "- The average spending amount **is** significantly different for male vs female customers"
   ]
  },
  {
   "cell_type": "markdown",
   "metadata": {},
   "source": [
    "**Assumption: Average spending follows almost normal distribution as per the qq plot, despite the ks test not showing significance**"
   ]
  },
  {
   "cell_type": "code",
   "execution_count": 8,
   "metadata": {},
   "outputs": [
    {
     "data": {
      "text/plain": [
       "(9806.867524226629, 8965.19846393646)"
      ]
     },
     "execution_count": 8,
     "metadata": {},
     "output_type": "execute_result"
    }
   ],
   "source": [
    "male_purchase_data.mean(), female_purchase_data.mean()"
   ]
  },
  {
   "cell_type": "markdown",
   "metadata": {},
   "source": [
    "**Checking for the null hypothesis using Two Sample T Test with left tailed alternative hypothesis (male spending is greater than female)**\n",
    "\n",
    "*Left tailed test because mean of avg purchase amount for male is higher than female*"
   ]
  },
  {
   "cell_type": "code",
   "execution_count": 9,
   "metadata": {},
   "outputs": [
    {
     "name": "stdout",
     "output_type": "stream",
     "text": [
      "t_stat: 15.710671, p_val: 0.000000\n",
      "Male avg purchase amount is significantly greater than Female at 95% confidence level\n"
     ]
    }
   ],
   "source": [
    "t_stat, p_val = st.ttest_ind(male_purchase_data, female_purchase_data, alternative= 'greater')\n",
    "\n",
    "print(f\"t_stat: {t_stat:4f}, p_val: {p_val:4f}\")\n",
    "\n",
    "\n",
    "alpha = 0.05\n",
    "if p_val > alpha:\n",
    "    print(f\"There is no significant difference between avg spending for Male and Female users at {int((1 - alpha)*100)}% confidence level\")\n",
    "else:\n",
    "    print(f\"Male avg purchase amount is significantly greater than Female at {int((1 - alpha)*100)}% confidence level\")"
   ]
  },
  {
   "cell_type": "markdown",
   "metadata": {},
   "source": [
    "### Observations:\n",
    "- The p value for the left tailed t-test is practically 0\n",
    "- Male avg purchase amount is significantly greater than Female at 95% confidence level"
   ]
  },
  {
   "cell_type": "markdown",
   "metadata": {},
   "source": [
    "**Calculating the confidence intervals for male and female avg purchase amount**"
   ]
  },
  {
   "cell_type": "code",
   "execution_count": 10,
   "metadata": {},
   "outputs": [
    {
     "name": "stdout",
     "output_type": "stream",
     "text": [
      "Male population avg purchase amount 95% confidence interval: 9749.383406 - 9849.087789\n",
      "Female population avg purchase amount 95% confidence interval: 8883.296988 - 9025.352504\n"
     ]
    }
   ],
   "source": [
    "male_purchase_size, male_purchase_mean, male_purchase_std = male_purchase_data.shape[0], male_purchase_data.mean(), male_purchase_data.std()\n",
    "female_purchase_size, female_purchase_mean, female_purchase_std = female_purchase_data.shape[0], female_purchase_data.mean(), female_purchase_data.std()\n",
    "\n",
    "male_purchase_se, female_purchase_se = male_purchase_std / mt.sqrt(male_purchase_size), female_purchase_std / mt.sqrt(female_purchase_size)\n",
    "\n",
    "width = 0.95\n",
    "\n",
    "lower_width, upper_width = (1 - width)/2, width - ((1-width)/2)\n",
    "male_purchase_lower, male_purchase_upper = male_purchase_mean + (st.norm.ppf(lower_width) * male_purchase_se), male_purchase_mean + (st.norm.ppf(upper_width) * male_purchase_se)\n",
    "female_purchase_lower, female_purchase_upper = female_purchase_mean + (st.norm.ppf(lower_width) * female_purchase_se), female_purchase_mean + (st.norm.ppf(upper_width) * female_purchase_se)\n",
    "\n",
    "print(f\"Male population avg purchase amount {int(width*100)}% confidence interval: {male_purchase_lower:2f} - {male_purchase_upper:2f}\")\n",
    "print(f\"Female population avg purchase amount {int(width*100)}% confidence interval: {female_purchase_lower:2f} - {female_purchase_upper:2f}\")"
   ]
  },
  {
   "cell_type": "markdown",
   "metadata": {},
   "source": [
    "### Observations:\n",
    "\n",
    "- There is no overlap between male and female avg purchase amount for the population at 95% confidence interval"
   ]
  },
  {
   "cell_type": "markdown",
   "metadata": {},
   "source": [
    "**Validating the overlap of confidence intervals for male and female avg purchase amount at different widths and sample sizes**"
   ]
  },
  {
   "cell_type": "code",
   "execution_count": 11,
   "metadata": {},
   "outputs": [],
   "source": [
    "def get_confidence_interval(data, sample_pct, width):\n",
    "    if sample_pct < 1:\n",
    "        sample_data = data.sample(frac= sample_pct)\n",
    "    else:\n",
    "        sample_data = data\n",
    "\n",
    "    sample_size, sample_mean, sample_std = sample_data.shape[0], sample_data.mean(), sample_data.std()\n",
    "\n",
    "    sample_se = sample_std / mt.sqrt(sample_size)\n",
    "\n",
    "    lower_width, upper_width = (1 - width)/2, width - ((1-width)/2)\n",
    "    sample_lower, sample_upper = (\n",
    "        sample_mean + (st.norm.ppf(lower_width) * sample_se),\n",
    "        sample_mean + (st.norm.ppf(upper_width) * sample_se)\n",
    "        )\n",
    "\n",
    "    return [sample_lower, sample_upper]\n",
    "\n",
    "def check_overlap(left_interval, right_interval):\n",
    "    if len(left_interval) != 2 or len(right_interval) != 2:\n",
    "        return 'Invalid inteval size'\n",
    "    \n",
    "    if (left_interval[0] > left_interval[1]) or (right_interval[0] > right_interval[1]):\n",
    "        return 'Invalid interval order'\n",
    "    \n",
    "    if left_interval[1] < right_interval[0] or right_interval[1] < left_interval[0]:\n",
    "        return 'No Overlap'\n",
    "    \n",
    "    return 'Overlap'"
   ]
  },
  {
   "cell_type": "code",
   "execution_count": 12,
   "metadata": {},
   "outputs": [
    {
     "data": {
      "text/html": [
       "<div>\n",
       "<style scoped>\n",
       "    .dataframe tbody tr th:only-of-type {\n",
       "        vertical-align: middle;\n",
       "    }\n",
       "\n",
       "    .dataframe tbody tr th {\n",
       "        vertical-align: top;\n",
       "    }\n",
       "\n",
       "    .dataframe thead th {\n",
       "        text-align: right;\n",
       "    }\n",
       "</style>\n",
       "<table border=\"1\" class=\"dataframe\">\n",
       "  <thead>\n",
       "    <tr style=\"text-align: right;\">\n",
       "      <th></th>\n",
       "      <th>width</th>\n",
       "      <th>sample_pct</th>\n",
       "      <th>female_interval</th>\n",
       "      <th>female_interval_range</th>\n",
       "      <th>male_interval</th>\n",
       "      <th>male_interval_range</th>\n",
       "      <th>overlap_status</th>\n",
       "    </tr>\n",
       "  </thead>\n",
       "  <tbody>\n",
       "    <tr>\n",
       "      <th>0</th>\n",
       "      <td>0.90</td>\n",
       "      <td>0.10</td>\n",
       "      <td>[8804.907009, 9220.190609]</td>\n",
       "      <td>415.283600</td>\n",
       "      <td>[9569.262769, 9807.145320]</td>\n",
       "      <td>237.882550</td>\n",
       "      <td>No Overlap</td>\n",
       "    </tr>\n",
       "    <tr>\n",
       "      <th>1</th>\n",
       "      <td>0.90</td>\n",
       "      <td>0.25</td>\n",
       "      <td>[8875.329007, 9098.317863]</td>\n",
       "      <td>222.988856</td>\n",
       "      <td>[9729.128168, 9890.167252]</td>\n",
       "      <td>161.039085</td>\n",
       "      <td>No Overlap</td>\n",
       "    </tr>\n",
       "    <tr>\n",
       "      <th>2</th>\n",
       "      <td>0.90</td>\n",
       "      <td>0.50</td>\n",
       "      <td>[8853.791444, 9013.630072]</td>\n",
       "      <td>159.838628</td>\n",
       "      <td>[9765.959955, 9880.131342]</td>\n",
       "      <td>114.171386</td>\n",
       "      <td>No Overlap</td>\n",
       "    </tr>\n",
       "    <tr>\n",
       "      <th>3</th>\n",
       "      <td>0.90</td>\n",
       "      <td>0.75</td>\n",
       "      <td>[8886.452782, 9015.658712]</td>\n",
       "      <td>129.205929</td>\n",
       "      <td>[9735.447577, 9825.299032]</td>\n",
       "      <td>89.851455</td>\n",
       "      <td>No Overlap</td>\n",
       "    </tr>\n",
       "    <tr>\n",
       "      <th>4</th>\n",
       "      <td>0.90</td>\n",
       "      <td>0.90</td>\n",
       "      <td>[8886.035966, 9003.847856]</td>\n",
       "      <td>117.811890</td>\n",
       "      <td>[9746.902310, 9830.115764]</td>\n",
       "      <td>83.213453</td>\n",
       "      <td>No Overlap</td>\n",
       "    </tr>\n",
       "    <tr>\n",
       "      <th>5</th>\n",
       "      <td>0.95</td>\n",
       "      <td>0.10</td>\n",
       "      <td>[8646.463641, 9044.332729]</td>\n",
       "      <td>397.869088</td>\n",
       "      <td>[9636.755571, 9958.400144]</td>\n",
       "      <td>321.644573</td>\n",
       "      <td>No Overlap</td>\n",
       "    </tr>\n",
       "    <tr>\n",
       "      <th>6</th>\n",
       "      <td>0.95</td>\n",
       "      <td>0.25</td>\n",
       "      <td>[8799.715798, 9070.198906]</td>\n",
       "      <td>270.483107</td>\n",
       "      <td>[9762.283417, 9965.576616]</td>\n",
       "      <td>203.293199</td>\n",
       "      <td>No Overlap</td>\n",
       "    </tr>\n",
       "    <tr>\n",
       "      <th>7</th>\n",
       "      <td>0.95</td>\n",
       "      <td>0.50</td>\n",
       "      <td>[8881.958696, 9088.894291]</td>\n",
       "      <td>206.935596</td>\n",
       "      <td>[9787.807214, 9933.137196]</td>\n",
       "      <td>145.329982</td>\n",
       "      <td>No Overlap</td>\n",
       "    </tr>\n",
       "    <tr>\n",
       "      <th>8</th>\n",
       "      <td>0.95</td>\n",
       "      <td>0.75</td>\n",
       "      <td>[8853.883188, 9015.853136]</td>\n",
       "      <td>161.969948</td>\n",
       "      <td>[9705.569383, 9821.960628]</td>\n",
       "      <td>116.391245</td>\n",
       "      <td>No Overlap</td>\n",
       "    </tr>\n",
       "    <tr>\n",
       "      <th>9</th>\n",
       "      <td>0.95</td>\n",
       "      <td>0.90</td>\n",
       "      <td>[8879.264113, 9028.475689]</td>\n",
       "      <td>149.211577</td>\n",
       "      <td>[9736.319618, 9841.515096]</td>\n",
       "      <td>105.195478</td>\n",
       "      <td>No Overlap</td>\n",
       "    </tr>\n",
       "    <tr>\n",
       "      <th>10</th>\n",
       "      <td>0.99</td>\n",
       "      <td>0.10</td>\n",
       "      <td>[8560.466542, 9167.312681]</td>\n",
       "      <td>606.846139</td>\n",
       "      <td>[9507.463193, 9931.716798]</td>\n",
       "      <td>424.253605</td>\n",
       "      <td>No Overlap</td>\n",
       "    </tr>\n",
       "    <tr>\n",
       "      <th>11</th>\n",
       "      <td>0.99</td>\n",
       "      <td>0.25</td>\n",
       "      <td>[8705.187502, 9080.892940]</td>\n",
       "      <td>375.705438</td>\n",
       "      <td>[9700.549885, 9976.376164]</td>\n",
       "      <td>275.826280</td>\n",
       "      <td>No Overlap</td>\n",
       "    </tr>\n",
       "    <tr>\n",
       "      <th>12</th>\n",
       "      <td>0.99</td>\n",
       "      <td>0.50</td>\n",
       "      <td>[8815.999653, 9096.887522]</td>\n",
       "      <td>280.887869</td>\n",
       "      <td>[9783.541621, 9981.686283]</td>\n",
       "      <td>198.144662</td>\n",
       "      <td>No Overlap</td>\n",
       "    </tr>\n",
       "    <tr>\n",
       "      <th>13</th>\n",
       "      <td>0.99</td>\n",
       "      <td>0.75</td>\n",
       "      <td>[8849.230401, 9078.002468]</td>\n",
       "      <td>228.772067</td>\n",
       "      <td>[9728.796958, 9888.220183]</td>\n",
       "      <td>159.423226</td>\n",
       "      <td>No Overlap</td>\n",
       "    </tr>\n",
       "    <tr>\n",
       "      <th>14</th>\n",
       "      <td>0.99</td>\n",
       "      <td>0.90</td>\n",
       "      <td>[8871.237869, 9081.972736]</td>\n",
       "      <td>210.734867</td>\n",
       "      <td>[9711.962848, 9858.833694]</td>\n",
       "      <td>146.870846</td>\n",
       "      <td>No Overlap</td>\n",
       "    </tr>\n",
       "  </tbody>\n",
       "</table>\n",
       "</div>"
      ],
      "text/plain": [
       "    width  sample_pct             female_interval  female_interval_range  \\\n",
       "0    0.90        0.10  [8804.907009, 9220.190609]             415.283600   \n",
       "1    0.90        0.25  [8875.329007, 9098.317863]             222.988856   \n",
       "2    0.90        0.50  [8853.791444, 9013.630072]             159.838628   \n",
       "3    0.90        0.75  [8886.452782, 9015.658712]             129.205929   \n",
       "4    0.90        0.90  [8886.035966, 9003.847856]             117.811890   \n",
       "5    0.95        0.10  [8646.463641, 9044.332729]             397.869088   \n",
       "6    0.95        0.25  [8799.715798, 9070.198906]             270.483107   \n",
       "7    0.95        0.50  [8881.958696, 9088.894291]             206.935596   \n",
       "8    0.95        0.75  [8853.883188, 9015.853136]             161.969948   \n",
       "9    0.95        0.90  [8879.264113, 9028.475689]             149.211577   \n",
       "10   0.99        0.10  [8560.466542, 9167.312681]             606.846139   \n",
       "11   0.99        0.25  [8705.187502, 9080.892940]             375.705438   \n",
       "12   0.99        0.50  [8815.999653, 9096.887522]             280.887869   \n",
       "13   0.99        0.75  [8849.230401, 9078.002468]             228.772067   \n",
       "14   0.99        0.90  [8871.237869, 9081.972736]             210.734867   \n",
       "\n",
       "                 male_interval  male_interval_range overlap_status  \n",
       "0   [9569.262769, 9807.145320]           237.882550     No Overlap  \n",
       "1   [9729.128168, 9890.167252]           161.039085     No Overlap  \n",
       "2   [9765.959955, 9880.131342]           114.171386     No Overlap  \n",
       "3   [9735.447577, 9825.299032]            89.851455     No Overlap  \n",
       "4   [9746.902310, 9830.115764]            83.213453     No Overlap  \n",
       "5   [9636.755571, 9958.400144]           321.644573     No Overlap  \n",
       "6   [9762.283417, 9965.576616]           203.293199     No Overlap  \n",
       "7   [9787.807214, 9933.137196]           145.329982     No Overlap  \n",
       "8   [9705.569383, 9821.960628]           116.391245     No Overlap  \n",
       "9   [9736.319618, 9841.515096]           105.195478     No Overlap  \n",
       "10  [9507.463193, 9931.716798]           424.253605     No Overlap  \n",
       "11  [9700.549885, 9976.376164]           275.826280     No Overlap  \n",
       "12  [9783.541621, 9981.686283]           198.144662     No Overlap  \n",
       "13  [9728.796958, 9888.220183]           159.423226     No Overlap  \n",
       "14  [9711.962848, 9858.833694]           146.870846     No Overlap  "
      ]
     },
     "execution_count": 12,
     "metadata": {},
     "output_type": "execute_result"
    }
   ],
   "source": [
    "params = {\n",
    "    'width': [0.90, 0.95, 0.99],\n",
    "    'sample_pct': [0.10, 0.25, 0.50, 0.75, 0.90]\n",
    "}\n",
    "\n",
    "confidence_intervals_data = pd.DataFrame()\n",
    "\n",
    "for w in params['width']:\n",
    "    for pct in params['sample_pct']:\n",
    "        male_confidence_interval = get_confidence_interval(male_purchase_data, sample_pct= pct, width= w)\n",
    "        female_confidence_interval = get_confidence_interval(female_purchase_data, sample_pct= pct, width= w)\n",
    "\n",
    "        current_confidence_intervals = pd.DataFrame(\n",
    "            {\n",
    "                'width': w, 'sample_pct': pct,\n",
    "                'female_interval': f'[{female_confidence_interval[0]:2f}, {female_confidence_interval[1]:2f}]',\n",
    "                'female_interval_range': female_confidence_interval[1] - female_confidence_interval[0],\n",
    "                'male_interval': f'[{male_confidence_interval[0]:2f}, {male_confidence_interval[1]:2f}]',\n",
    "                'male_interval_range': male_confidence_interval[1] - male_confidence_interval[0],\n",
    "                'overlap_status': check_overlap(male_confidence_interval, female_confidence_interval)\n",
    "            },\n",
    "            index= [0]\n",
    "        )\n",
    "\n",
    "        confidence_intervals_data = (\n",
    "            pd.concat([confidence_intervals_data, current_confidence_intervals], ignore_index= True)\n",
    "        )\n",
    "\n",
    "confidence_intervals_data"
   ]
  },
  {
   "cell_type": "markdown",
   "metadata": {},
   "source": [
    "### Observations:\n",
    "\n",
    "- The confidence interval range increases as the sample size decreases and also as the width increases\n",
    "- There is no overlap at different combinations of width and sample sizes\n",
    "- Hence, it can be concluded that male avg spend amount is significantly higher than female"
   ]
  },
  {
   "cell_type": "markdown",
   "metadata": {},
   "source": [
    "## Marital Status\n",
    "\n",
    "*Metric: Avg purchase amount per transaction*\n",
    "\n",
    "*Null Hypothesis (H0): There is no significant difference between the married vs unmarried customers*\n",
    "\n",
    "*Alternate Hypothesis(Ha): Avg purchase amount per transaction is greater for Married customers than Unmarried*\n"
   ]
  },
  {
   "cell_type": "code",
   "execution_count": 13,
   "metadata": {},
   "outputs": [
    {
     "name": "stdout",
     "output_type": "stream",
     "text": [
      "float64 category\n",
      "(5891,) 2\n"
     ]
    },
    {
     "data": {
      "text/plain": [
       "Marital_Status\n",
       "Unmarried    3417\n",
       "Married      2474\n",
       "Name: count, dtype: int64"
      ]
     },
     "execution_count": 13,
     "metadata": {},
     "output_type": "execute_result"
    }
   ],
   "source": [
    "# Checking for data types and cardinality and sample size\n",
    "\n",
    "print(user_agg_data['Avg. Revenue per Transaction'].dtype, user_agg_data['Marital_Status'].dtype)\n",
    "\n",
    "print(user_agg_data['Avg. Revenue per Transaction'].shape, user_agg_data['Marital_Status'].nunique())\n",
    "\n",
    "user_agg_data['Marital_Status'].value_counts()"
   ]
  },
  {
   "cell_type": "markdown",
   "metadata": {},
   "source": [
    "*Sample size: 5891 (no. of customers)*\n",
    "\n",
    "*Data Types: Avg Revenue per Transaction is Numerical and Marital Status is categorical*\n",
    "\n",
    "*Cardinality: Gender has 2 values Unmarried (3417) and Married (2474)*"
   ]
  },
  {
   "cell_type": "code",
   "execution_count": 14,
   "metadata": {},
   "outputs": [],
   "source": [
    "married_purchase_data = user_agg_data[user_agg_data['Marital_Status'] == 'Married']['Avg. Revenue per Transaction']\n",
    "unmarried_purchase_data = user_agg_data[user_agg_data['Marital_Status'] == 'Unmarried']['Avg. Revenue per Transaction']"
   ]
  },
  {
   "cell_type": "markdown",
   "metadata": {},
   "source": [
    "**Assumption: Average spending does not follow a normal distribution as per the ks test**"
   ]
  },
  {
   "cell_type": "markdown",
   "metadata": {},
   "source": [
    "**Checking for the null hypothesis using Two Sample KS Test with two tailed alternative hypothesis**\n"
   ]
  },
  {
   "cell_type": "code",
   "execution_count": 15,
   "metadata": {},
   "outputs": [
    {
     "name": "stdout",
     "output_type": "stream",
     "text": [
      "ks_stat: 0.023913, p_val: 0.377029\n",
      "There is no significant difference between Unmarried and Married customer purchase distributions at 95% confidence level\n"
     ]
    }
   ],
   "source": [
    "ks_stat, p_val = st.kstest(married_purchase_data, unmarried_purchase_data, alternative= 'two-sided')\n",
    "\n",
    "print(f\"ks_stat: {ks_stat:4f}, p_val: {p_val:4f}\")\n",
    "\n",
    "\n",
    "alpha = 0.05\n",
    "if p_val > alpha:\n",
    "    print(f\"There is no significant difference between Unmarried and Married customer purchase distributions at {int((1 - alpha)*100)}% confidence level\")\n",
    "else:\n",
    "    print(f\"There is a significant difference between Unmarried and Married customer purchase distributions at {int((1 - alpha)*100)}% confidence level\")"
   ]
  },
  {
   "cell_type": "markdown",
   "metadata": {},
   "source": [
    "### Observations:\n",
    "- The average spending amount **is not** significantly different for married vs unmarried customers"
   ]
  },
  {
   "cell_type": "markdown",
   "metadata": {},
   "source": [
    "**Assumption: Average spending follows almost normal distribution as per the qq plot, despite the ks test showing otherwise**"
   ]
  },
  {
   "cell_type": "code",
   "execution_count": 16,
   "metadata": {},
   "outputs": [
    {
     "data": {
      "text/plain": [
       "(9574.962299031744, 9564.407141636266)"
      ]
     },
     "execution_count": 16,
     "metadata": {},
     "output_type": "execute_result"
    }
   ],
   "source": [
    "married_purchase_data.mean(), unmarried_purchase_data.mean()"
   ]
  },
  {
   "cell_type": "markdown",
   "metadata": {},
   "source": [
    "**Checking for the null hypothesis using Two Sample T Test with left tailed alternative hypothesis (married spending is greater than unmarried)**\n",
    "\n",
    "*Left tailed test because mean of avg purchase amount for married is higher than unmarried*"
   ]
  },
  {
   "cell_type": "code",
   "execution_count": 17,
   "metadata": {},
   "outputs": [
    {
     "name": "stdout",
     "output_type": "stream",
     "text": [
      "t_stat: 0.211532, p_val: 0.416240\n",
      "There is no significant difference between avg spending for married and unmarried users at 95% confidence level\n"
     ]
    }
   ],
   "source": [
    "t_stat, p_val = st.ttest_ind(married_purchase_data, unmarried_purchase_data, alternative= 'greater')\n",
    "\n",
    "print(f\"t_stat: {t_stat:4f}, p_val: {p_val:4f}\")\n",
    "\n",
    "\n",
    "alpha = 0.05\n",
    "if p_val > alpha:\n",
    "    print(f\"There is no significant difference between avg spending for married and unmarried users at {int((1 - alpha)*100)}% confidence level\")\n",
    "else:\n",
    "    print(f\"Married customer avg purchase amount is significantly greater than Unmarried customers at {int((1 - alpha)*100)}% confidence level\")"
   ]
  },
  {
   "cell_type": "markdown",
   "metadata": {},
   "source": [
    "### Observations:\n",
    "- There is no significant difference between avg spending between married and unmarried customers"
   ]
  },
  {
   "cell_type": "markdown",
   "metadata": {},
   "source": [
    "**Calculating the confidence intervals for Married and Unmarried avg purchase amount**"
   ]
  },
  {
   "cell_type": "code",
   "execution_count": 18,
   "metadata": {},
   "outputs": [
    {
     "name": "stdout",
     "output_type": "stream",
     "text": [
      "Married population avg purchase amount 95% confidence interval: 9499.780970 - 9630.180604\n",
      "Unmarried population avg purchase amount 95% confidence interval: 9501.461343 - 9610.638837\n"
     ]
    }
   ],
   "source": [
    "married_purchase_size, married_purchase_mean, married_purchase_std = married_purchase_data.shape[0], married_purchase_data.mean(), married_purchase_data.std()\n",
    "unmarried_purchase_size, unmarried_purchase_mean, unmarried_purchase_std = unmarried_purchase_data.shape[0], unmarried_purchase_data.mean(), unmarried_purchase_data.std()\n",
    "\n",
    "married_purchase_se, unmarried_purchase_se = married_purchase_std / mt.sqrt(married_purchase_size), unmarried_purchase_std / mt.sqrt(unmarried_purchase_size)\n",
    "\n",
    "width = 0.95\n",
    "\n",
    "lower_width, upper_width = (1 - width)/2, width - ((1-width)/2)\n",
    "married_purchase_lower, married_purchase_upper = married_purchase_mean + (st.norm.ppf(lower_width) * married_purchase_se), married_purchase_mean + (st.norm.ppf(upper_width) * married_purchase_se)\n",
    "unmarried_purchase_lower, unmarried_purchase_upper = unmarried_purchase_mean + (st.norm.ppf(lower_width) * unmarried_purchase_se), unmarried_purchase_mean + (st.norm.ppf(upper_width) * unmarried_purchase_se)\n",
    "\n",
    "print(f\"Married population avg purchase amount {int(width*100)}% confidence interval: {married_purchase_lower:2f} - {married_purchase_upper:2f}\")\n",
    "print(f\"Unmarried population avg purchase amount {int(width*100)}% confidence interval: {unmarried_purchase_lower:2f} - {unmarried_purchase_upper:2f}\")"
   ]
  },
  {
   "cell_type": "markdown",
   "metadata": {},
   "source": [
    "### Observations:\n",
    "\n",
    "- There is a full overlap of intervals between married and unmarried avg purchase amount for the population at 95% confidence interval\n",
    "- The interval for unmarried customers is contained within the married population interval"
   ]
  },
  {
   "cell_type": "markdown",
   "metadata": {},
   "source": [
    "**Validating the overlap of confidence intervals for married and unmarried avg purchase amount at different widths and sample sizes**"
   ]
  },
  {
   "cell_type": "code",
   "execution_count": 19,
   "metadata": {},
   "outputs": [
    {
     "data": {
      "text/html": [
       "<div>\n",
       "<style scoped>\n",
       "    .dataframe tbody tr th:only-of-type {\n",
       "        vertical-align: middle;\n",
       "    }\n",
       "\n",
       "    .dataframe tbody tr th {\n",
       "        vertical-align: top;\n",
       "    }\n",
       "\n",
       "    .dataframe thead th {\n",
       "        text-align: right;\n",
       "    }\n",
       "</style>\n",
       "<table border=\"1\" class=\"dataframe\">\n",
       "  <thead>\n",
       "    <tr style=\"text-align: right;\">\n",
       "      <th></th>\n",
       "      <th>width</th>\n",
       "      <th>sample_pct</th>\n",
       "      <th>unmarried_interval</th>\n",
       "      <th>unmarried_interval_range</th>\n",
       "      <th>married_interval</th>\n",
       "      <th>married_interval_range</th>\n",
       "      <th>overlap_status</th>\n",
       "    </tr>\n",
       "  </thead>\n",
       "  <tbody>\n",
       "    <tr>\n",
       "      <th>0</th>\n",
       "      <td>0.90</td>\n",
       "      <td>0.10</td>\n",
       "      <td>[9359.934639, 9627.385161]</td>\n",
       "      <td>267.450522</td>\n",
       "      <td>[9218.182857, 9539.812173]</td>\n",
       "      <td>321.629316</td>\n",
       "      <td>Overlap</td>\n",
       "    </tr>\n",
       "    <tr>\n",
       "      <th>1</th>\n",
       "      <td>0.90</td>\n",
       "      <td>0.25</td>\n",
       "      <td>[9496.098786, 9665.244773]</td>\n",
       "      <td>169.145987</td>\n",
       "      <td>[9435.000086, 9637.661811]</td>\n",
       "      <td>202.661725</td>\n",
       "      <td>Overlap</td>\n",
       "    </tr>\n",
       "    <tr>\n",
       "      <th>2</th>\n",
       "      <td>0.90</td>\n",
       "      <td>0.50</td>\n",
       "      <td>[9489.798788, 9609.311624]</td>\n",
       "      <td>119.512835</td>\n",
       "      <td>[9476.838928, 9625.765786]</td>\n",
       "      <td>148.926858</td>\n",
       "      <td>Overlap</td>\n",
       "    </tr>\n",
       "    <tr>\n",
       "      <th>3</th>\n",
       "      <td>0.90</td>\n",
       "      <td>0.75</td>\n",
       "      <td>[9519.439136, 9619.900395]</td>\n",
       "      <td>100.461260</td>\n",
       "      <td>[9514.329363, 9632.670637]</td>\n",
       "      <td>118.341274</td>\n",
       "      <td>Overlap</td>\n",
       "    </tr>\n",
       "    <tr>\n",
       "      <th>4</th>\n",
       "      <td>0.90</td>\n",
       "      <td>0.90</td>\n",
       "      <td>[9510.325268, 9601.786024]</td>\n",
       "      <td>91.460756</td>\n",
       "      <td>[9507.152954, 9614.193716]</td>\n",
       "      <td>107.040762</td>\n",
       "      <td>Overlap</td>\n",
       "    </tr>\n",
       "    <tr>\n",
       "      <th>5</th>\n",
       "      <td>0.95</td>\n",
       "      <td>0.10</td>\n",
       "      <td>[9415.051913, 9767.251859]</td>\n",
       "      <td>352.199946</td>\n",
       "      <td>[9245.564617, 9626.163466]</td>\n",
       "      <td>380.598850</td>\n",
       "      <td>Overlap</td>\n",
       "    </tr>\n",
       "    <tr>\n",
       "      <th>6</th>\n",
       "      <td>0.95</td>\n",
       "      <td>0.25</td>\n",
       "      <td>[9340.797853, 9556.113517]</td>\n",
       "      <td>215.315664</td>\n",
       "      <td>[9438.619218, 9710.687898]</td>\n",
       "      <td>272.068680</td>\n",
       "      <td>Overlap</td>\n",
       "    </tr>\n",
       "    <tr>\n",
       "      <th>7</th>\n",
       "      <td>0.95</td>\n",
       "      <td>0.50</td>\n",
       "      <td>[9478.670933, 9632.801642]</td>\n",
       "      <td>154.130708</td>\n",
       "      <td>[9437.131484, 9618.865893]</td>\n",
       "      <td>181.734409</td>\n",
       "      <td>Overlap</td>\n",
       "    </tr>\n",
       "    <tr>\n",
       "      <th>8</th>\n",
       "      <td>0.95</td>\n",
       "      <td>0.75</td>\n",
       "      <td>[9483.553631, 9607.553423]</td>\n",
       "      <td>123.999792</td>\n",
       "      <td>[9493.533741, 9645.232422]</td>\n",
       "      <td>151.698682</td>\n",
       "      <td>Overlap</td>\n",
       "    </tr>\n",
       "    <tr>\n",
       "      <th>9</th>\n",
       "      <td>0.95</td>\n",
       "      <td>0.90</td>\n",
       "      <td>[9511.478495, 9626.722359]</td>\n",
       "      <td>115.243864</td>\n",
       "      <td>[9513.466129, 9649.994486]</td>\n",
       "      <td>136.528357</td>\n",
       "      <td>Overlap</td>\n",
       "    </tr>\n",
       "    <tr>\n",
       "      <th>10</th>\n",
       "      <td>0.99</td>\n",
       "      <td>0.10</td>\n",
       "      <td>[9418.948256, 9948.477045]</td>\n",
       "      <td>529.528789</td>\n",
       "      <td>[9163.404734, 9729.942734]</td>\n",
       "      <td>566.538001</td>\n",
       "      <td>Overlap</td>\n",
       "    </tr>\n",
       "    <tr>\n",
       "      <th>11</th>\n",
       "      <td>0.99</td>\n",
       "      <td>0.25</td>\n",
       "      <td>[9343.708895, 9649.147121]</td>\n",
       "      <td>305.438226</td>\n",
       "      <td>[9340.245422, 9693.564004]</td>\n",
       "      <td>353.318582</td>\n",
       "      <td>Overlap</td>\n",
       "    </tr>\n",
       "    <tr>\n",
       "      <th>12</th>\n",
       "      <td>0.99</td>\n",
       "      <td>0.50</td>\n",
       "      <td>[9479.954941, 9697.615416]</td>\n",
       "      <td>217.660476</td>\n",
       "      <td>[9498.181072, 9758.024788]</td>\n",
       "      <td>259.843716</td>\n",
       "      <td>Overlap</td>\n",
       "    </tr>\n",
       "    <tr>\n",
       "      <th>13</th>\n",
       "      <td>0.99</td>\n",
       "      <td>0.75</td>\n",
       "      <td>[9471.118348, 9648.054870]</td>\n",
       "      <td>176.936522</td>\n",
       "      <td>[9493.098178, 9699.147086]</td>\n",
       "      <td>206.048908</td>\n",
       "      <td>Overlap</td>\n",
       "    </tr>\n",
       "    <tr>\n",
       "      <th>14</th>\n",
       "      <td>0.99</td>\n",
       "      <td>0.90</td>\n",
       "      <td>[9478.653019, 9638.941955]</td>\n",
       "      <td>160.288935</td>\n",
       "      <td>[9481.854440, 9673.407650]</td>\n",
       "      <td>191.553210</td>\n",
       "      <td>Overlap</td>\n",
       "    </tr>\n",
       "  </tbody>\n",
       "</table>\n",
       "</div>"
      ],
      "text/plain": [
       "    width  sample_pct          unmarried_interval  unmarried_interval_range  \\\n",
       "0    0.90        0.10  [9359.934639, 9627.385161]                267.450522   \n",
       "1    0.90        0.25  [9496.098786, 9665.244773]                169.145987   \n",
       "2    0.90        0.50  [9489.798788, 9609.311624]                119.512835   \n",
       "3    0.90        0.75  [9519.439136, 9619.900395]                100.461260   \n",
       "4    0.90        0.90  [9510.325268, 9601.786024]                 91.460756   \n",
       "5    0.95        0.10  [9415.051913, 9767.251859]                352.199946   \n",
       "6    0.95        0.25  [9340.797853, 9556.113517]                215.315664   \n",
       "7    0.95        0.50  [9478.670933, 9632.801642]                154.130708   \n",
       "8    0.95        0.75  [9483.553631, 9607.553423]                123.999792   \n",
       "9    0.95        0.90  [9511.478495, 9626.722359]                115.243864   \n",
       "10   0.99        0.10  [9418.948256, 9948.477045]                529.528789   \n",
       "11   0.99        0.25  [9343.708895, 9649.147121]                305.438226   \n",
       "12   0.99        0.50  [9479.954941, 9697.615416]                217.660476   \n",
       "13   0.99        0.75  [9471.118348, 9648.054870]                176.936522   \n",
       "14   0.99        0.90  [9478.653019, 9638.941955]                160.288935   \n",
       "\n",
       "              married_interval  married_interval_range overlap_status  \n",
       "0   [9218.182857, 9539.812173]              321.629316        Overlap  \n",
       "1   [9435.000086, 9637.661811]              202.661725        Overlap  \n",
       "2   [9476.838928, 9625.765786]              148.926858        Overlap  \n",
       "3   [9514.329363, 9632.670637]              118.341274        Overlap  \n",
       "4   [9507.152954, 9614.193716]              107.040762        Overlap  \n",
       "5   [9245.564617, 9626.163466]              380.598850        Overlap  \n",
       "6   [9438.619218, 9710.687898]              272.068680        Overlap  \n",
       "7   [9437.131484, 9618.865893]              181.734409        Overlap  \n",
       "8   [9493.533741, 9645.232422]              151.698682        Overlap  \n",
       "9   [9513.466129, 9649.994486]              136.528357        Overlap  \n",
       "10  [9163.404734, 9729.942734]              566.538001        Overlap  \n",
       "11  [9340.245422, 9693.564004]              353.318582        Overlap  \n",
       "12  [9498.181072, 9758.024788]              259.843716        Overlap  \n",
       "13  [9493.098178, 9699.147086]              206.048908        Overlap  \n",
       "14  [9481.854440, 9673.407650]              191.553210        Overlap  "
      ]
     },
     "execution_count": 19,
     "metadata": {},
     "output_type": "execute_result"
    }
   ],
   "source": [
    "params = {\n",
    "    'width': [0.90, 0.95, 0.99],\n",
    "    'sample_pct': [0.10, 0.25, 0.50, 0.75, 0.90]\n",
    "}\n",
    "\n",
    "confidence_intervals_data = pd.DataFrame()\n",
    "\n",
    "for w in params['width']:\n",
    "    for pct in params['sample_pct']:\n",
    "        married_confidence_interval = get_confidence_interval(married_purchase_data, sample_pct= pct, width= w)\n",
    "        unmarried_confidence_interval = get_confidence_interval(unmarried_purchase_data, sample_pct= pct, width= w)\n",
    "\n",
    "        current_confidence_intervals = pd.DataFrame(\n",
    "            {\n",
    "                'width': w, 'sample_pct': pct,\n",
    "                'unmarried_interval': f'[{unmarried_confidence_interval[0]:2f}, {unmarried_confidence_interval[1]:2f}]',\n",
    "                # 'unmarried_interval_lower': unmarried_confidence_interval[0],\n",
    "                # 'unmarried_interval_upper': unmarried_confidence_interval[1],\n",
    "                'unmarried_interval_range': unmarried_confidence_interval[1] - unmarried_confidence_interval[0],\n",
    "                'married_interval': f'[{married_confidence_interval[0]:2f}, {married_confidence_interval[1]:2f}]',\n",
    "                # 'married_interval_lower': married_confidence_interval[0],\n",
    "                # 'married_interval_upper': married_confidence_interval[1],\n",
    "                'married_interval_range': married_confidence_interval[1] - married_confidence_interval[0],\n",
    "                'overlap_status': check_overlap(married_confidence_interval, unmarried_confidence_interval)\n",
    "            },\n",
    "            index= [0]\n",
    "        )\n",
    "\n",
    "        confidence_intervals_data = (\n",
    "            pd.concat([confidence_intervals_data, current_confidence_intervals], ignore_index= True)\n",
    "        )\n",
    "\n",
    "confidence_intervals_data"
   ]
  },
  {
   "cell_type": "markdown",
   "metadata": {},
   "source": [
    "### Observations:\n",
    "\n",
    "- The confidence interval range increases as the sample size decreases and also as the width increases\n",
    "- There is a significant overlap at different combinations of width and sample sizes between confidence intervals of married and unmarried customers\n",
    "- Hence, it can be concluded that there is **no significant** difference between avg spend amount for married vs unmarried customers"
   ]
  },
  {
   "cell_type": "markdown",
   "metadata": {},
   "source": [
    "## Age\n",
    "\n",
    "*Metric: Avg purchase amount per transaction*\n",
    "\n",
    "*Null Hypothesis (H0): There is no significant difference across age groups*\n",
    "\n",
    "*Alternate Hypothesis(Ha): Avg purchase amount is significantly different across age groups*\n"
   ]
  },
  {
   "cell_type": "code",
   "execution_count": 20,
   "metadata": {},
   "outputs": [
    {
     "name": "stdout",
     "output_type": "stream",
     "text": [
      "float64 category\n",
      "(5891,) 7\n"
     ]
    },
    {
     "data": {
      "text/plain": [
       "Age\n",
       "26-35    2053\n",
       "36-45    1167\n",
       "18-25    1069\n",
       "46-50     531\n",
       "51-55     481\n",
       "55+       372\n",
       "0-17      218\n",
       "Name: count, dtype: int64"
      ]
     },
     "execution_count": 20,
     "metadata": {},
     "output_type": "execute_result"
    }
   ],
   "source": [
    "# Checking for data types and cardinality and sample size\n",
    "\n",
    "print(user_agg_data['Avg. Revenue per Transaction'].dtype, user_agg_data['Age'].dtype)\n",
    "\n",
    "print(user_agg_data['Avg. Revenue per Transaction'].shape, user_agg_data['Age'].nunique())\n",
    "\n",
    "user_agg_data['Age'].value_counts()"
   ]
  },
  {
   "cell_type": "markdown",
   "metadata": {},
   "source": [
    "### Next Steps\n",
    "- For simplicity and actionable result, 36-45, 46-50 can be grouped together"
   ]
  },
  {
   "cell_type": "code",
   "execution_count": 21,
   "metadata": {},
   "outputs": [
    {
     "name": "stdout",
     "output_type": "stream",
     "text": [
      "float64 category\n",
      "(5891,) 5\n"
     ]
    },
    {
     "data": {
      "text/plain": [
       "Age_Group\n",
       "26-35    2053\n",
       "36-50    1698\n",
       "18-25    1069\n",
       "50+       853\n",
       "0-17      218\n",
       "Name: count, dtype: int64"
      ]
     },
     "execution_count": 21,
     "metadata": {},
     "output_type": "execute_result"
    }
   ],
   "source": [
    "age_group_mapping = {\n",
    "    '0-17': '0-17',\n",
    "    '18-25': '18-25',\n",
    "    '26-35': '26-35',\n",
    "    '36-45': '36-50',\n",
    "    '46-50': '36-50',\n",
    "    '51-55': '50+',\n",
    "    '55+': '50+'\n",
    "}\n",
    "\n",
    "user_agg_data['Age_Group'] = user_agg_data['Age'].map(age_group_mapping).astype('category')\n",
    "\n",
    "# Checking for data types and cardinality and sample size\n",
    "\n",
    "print(user_agg_data['Avg. Revenue per Transaction'].dtype, user_agg_data['Age_Group'].dtype)\n",
    "\n",
    "print(user_agg_data['Avg. Revenue per Transaction'].shape, user_agg_data['Age_Group'].nunique())\n",
    "\n",
    "user_agg_data['Age_Group'].value_counts()"
   ]
  },
  {
   "cell_type": "code",
   "execution_count": null,
   "metadata": {},
   "outputs": [
    {
     "data": {
      "image/png": "[encoded data removed]",
      "text/plain": [
       "<Figure size 640x480 with 1 Axes>"
      ]
     },
     "metadata": {},
     "output_type": "display_data"
    }
   ],
   "source": [
    "ax = sns.barplot(data= user_agg_data, x= 'Age_Group', y= 'Avg. Revenue per Transaction')\n",
    "\n",
    "ax.bar_label(ax.containers[0])\n",
    "plt.show()"
   ]
  },
  {
   "cell_type": "markdown",
   "metadata": {},
   "source": [
    "*Sample size: 5891 (no. of customers)*\n",
    "\n",
    "*Data Types: Avg Revenue per Transaction is Numerical and Age is categorical*\n",
    "\n",
    "*Cardinality: Age has 4 values 0-25, 26-35, 36-45, 46+*"
   ]
  },
  {
   "cell_type": "code",
   "execution_count": null,
   "metadata": {},
   "outputs": [],
   "source": [
    "age_0_17_purchase_data = user_agg_data[user_agg_data['Age_Group'] == '0-17']['Avg. Revenue per Transaction']\n",
    "age_18_25_purchase_data = user_agg_data[user_agg_data['Age_Group'] == '18-25']['Avg. Revenue per Transaction']\n",
    "age_26_35_purchase_data = user_agg_data[user_agg_data['Age_Group'] == '26-35']['Avg. Revenue per Transaction']\n",
    "age_36_50_purchase_data = user_agg_data[user_agg_data['Age_Group'] == '36-50']['Avg. Revenue per Transaction']\n",
    "age_50P_purchase_data = user_agg_data[user_agg_data['Age_Group'] == '50+']['Avg. Revenue per Transaction']\n",
    "\n",
    "age_group_purchase_data_dict = {\n",
    "    '0-17'  : age_0_17_purchase_data,\n",
    "    '18-25'  : age_18_25_purchase_data,\n",
    "    '26-35' : age_26_35_purchase_data,\n",
    "    '36-50' : age_36_50_purchase_data,\n",
    "    '50+'   : age_50P_purchase_data\n",
    "}\n"
   ]
  },
  {
   "cell_type": "markdown",
   "metadata": {},
   "source": [
    "**Assumption: Average spending does not follow a normal distribution as per the ks test**"
   ]
  },
  {
   "cell_type": "markdown",
   "metadata": {},
   "source": [
    "**Checking for the null hypothesis using Kruskal Wallis Test with two tailed alternative hypothesis**\n"
   ]
  },
  {
   "cell_type": "code",
   "execution_count": null,
   "metadata": {},
   "outputs": [
    {
     "name": "stdout",
     "output_type": "stream",
     "text": [
      "ks_stat: 27.391812, p_val: 0.000017\n",
      "There is a significant difference in median of age purchase amount between age groups at 95% confidence level\n"
     ]
    }
   ],
   "source": [
    "ks_stat, p_val = st.kruskal(age_0_17_purchase_data, age_18_25_purchase_data, age_26_35_purchase_data, age_36_50_purchase_data, age_50P_purchase_data)\n",
    "\n",
    "print(f\"ks_stat: {ks_stat:4f}, p_val: {p_val:4f}\")\n",
    "\n",
    "\n",
    "alpha = 0.05\n",
    "if p_val > alpha:\n",
    "    print(f\"There is no significant difference in median of avg purchase amount between age groups at {int((1 - alpha)*100)}% confidence level\")\n",
    "else:\n",
    "    print(f\"There is a significant difference in median of avg purchase amount between age groups at {int((1 - alpha)*100)}% confidence level\")"
   ]
  },
  {
   "cell_type": "markdown",
   "metadata": {},
   "source": [
    "### Observations:\n",
    "- The median of average spending amount **is significantly different** between age groups of customers"
   ]
  },
  {
   "cell_type": "markdown",
   "metadata": {},
   "source": [
    "**Assumption: Average spending follows almost normal distribution as per the qq plot, despite the ks test showing otherwise**"
   ]
  },
  {
   "cell_type": "markdown",
   "metadata": {},
   "source": [
    "**Checking for homoscedasticity using Levene's test for applying ANOVA Test**"
   ]
  },
  {
   "cell_type": "code",
   "execution_count": 26,
   "metadata": {},
   "outputs": [
    {
     "name": "stdout",
     "output_type": "stream",
     "text": [
      "l_stat: 2.761620, p_val: 0.026140\n",
      "There is a significant difference variances of avg spending between age groups at 95% confidence level\n"
     ]
    }
   ],
   "source": [
    "l_stat, p_val = st.levene(age_0_17_purchase_data, age_18_25_purchase_data, age_26_35_purchase_data, age_36_50_purchase_data, age_50P_purchase_data)\n",
    "\n",
    "print(f\"l_stat: {l_stat:4f}, p_val: {p_val:4f}\")\n",
    "\n",
    "\n",
    "alpha = 0.05\n",
    "if p_val > alpha:\n",
    "    print(f\"There is no significant difference variances of avg spending between age groups at {int((1 - alpha)*100)}% confidence level\")\n",
    "else:\n",
    "    print(f\"There is a significant difference variances of avg spending between age groups at {int((1 - alpha)*100)}% confidence level\")"
   ]
  },
  {
   "cell_type": "markdown",
   "metadata": {},
   "source": [
    "### Observation:\n",
    "- There is a significant difference in variances across age groups at 95% confidence level\n",
    "- The result would change to having equal variance at 99% confidence level\n",
    "- Perform ANOVA nevertheless based on 99% confidence result to make sure again that there is no difference"
   ]
  },
  {
   "cell_type": "markdown",
   "metadata": {},
   "source": [
    "**Checking for the null hypothesis using ANOVA Test**"
   ]
  },
  {
   "cell_type": "code",
   "execution_count": 27,
   "metadata": {},
   "outputs": [
    {
     "name": "stdout",
     "output_type": "stream",
     "text": [
      "f_stat: 6.458619, p_val: 0.000035\n",
      "There is a significant difference between avg spending between age groups of customers at 95% confidence level\n"
     ]
    }
   ],
   "source": [
    "f_stat, p_val = st.f_oneway(age_0_17_purchase_data, age_18_25_purchase_data, age_26_35_purchase_data, age_36_50_purchase_data, age_50P_purchase_data)\n",
    "\n",
    "print(f\"f_stat: {f_stat:4f}, p_val: {p_val:4f}\")\n",
    "\n",
    "\n",
    "alpha = 0.05\n",
    "if p_val > alpha:\n",
    "    print(f\"There is no significant difference between avg spending between age groups of customers at {int((1 - alpha)*100)}% confidence level\")\n",
    "else:\n",
    "    print(f\"There is a significant difference between avg spending between age groups of customers at {int((1 - alpha)*100)}% confidence level\")"
   ]
  },
  {
   "cell_type": "markdown",
   "metadata": {},
   "source": [
    "### Observations:\n",
    "- ANOVA: There is a significant difference between avg spending between age groups of customers\n",
    "- Kruskal Wallis: ANOVA: There is a significant difference between avg spending between age groups of customers\n",
    "- Both the tests result in the same conclusion that the average spending behaviour is different across age groups"
   ]
  },
  {
   "cell_type": "markdown",
   "metadata": {},
   "source": [
    "### Next Steps:\n",
    "\n",
    "- Apply ttest for all combinations to identify similar and significantly different groups\n",
    "- Merge the subsequent groups that are not significantly different\n",
    "- Compare the confidence intervals of the final groups and check for overlaps"
   ]
  },
  {
   "cell_type": "code",
   "execution_count": 28,
   "metadata": {},
   "outputs": [],
   "source": [
    "def get_ttest_result(left_data, right_data, alpha):\n",
    "    \n",
    "    two_tailed_t_stat, two_tailed_p_val = st.ttest_ind(left_data, right_data, alternative= 'two-sided')\n",
    "\n",
    "    two_tailed_result = 'same' if two_tailed_p_val > alpha else 'different'\n",
    "\n",
    "    alternative = 'less' if left_data.mean() < right_data.mean() else 'greater'\n",
    "\n",
    "    one_tailed_t_stat, one_tailed_p_val = st.ttest_ind(left_data, right_data, alternative= alternative)\n",
    "\n",
    "    one_tailed_result = 'same' if one_tailed_p_val > alpha else alternative\n",
    "\n",
    "    result = {\n",
    "        'two_tailed_p_val'  : round(two_tailed_p_val, 5),\n",
    "        'two_tailed_result' : two_tailed_result,\n",
    "        'one_tailed_p_val'  : round(one_tailed_p_val, 5),\n",
    "        'one_tailed_result' : one_tailed_result\n",
    "    }\n",
    "\n",
    "    return result"
   ]
  },
  {
   "cell_type": "markdown",
   "metadata": {},
   "source": [
    "**Calculating the ttest results and confidence intervals of avg purchase amount for all combinations of age groups**"
   ]
  },
  {
   "cell_type": "code",
   "execution_count": 29,
   "metadata": {},
   "outputs": [
    {
     "data": {
      "text/html": [
       "<div>\n",
       "<style scoped>\n",
       "    .dataframe tbody tr th:only-of-type {\n",
       "        vertical-align: middle;\n",
       "    }\n",
       "\n",
       "    .dataframe tbody tr th {\n",
       "        vertical-align: top;\n",
       "    }\n",
       "\n",
       "    .dataframe thead th {\n",
       "        text-align: right;\n",
       "    }\n",
       "</style>\n",
       "<table border=\"1\" class=\"dataframe\">\n",
       "  <thead>\n",
       "    <tr style=\"text-align: right;\">\n",
       "      <th></th>\n",
       "      <th>left_age_group</th>\n",
       "      <th>right_age_group</th>\n",
       "      <th>two_tailed_p_val</th>\n",
       "      <th>two_tailed_result</th>\n",
       "      <th>one_tailed_p_val</th>\n",
       "      <th>one_tailed_result</th>\n",
       "      <th>left_interval</th>\n",
       "      <th>right_interval</th>\n",
       "      <th>overlap_status</th>\n",
       "    </tr>\n",
       "  </thead>\n",
       "  <tbody>\n",
       "    <tr>\n",
       "      <th>0</th>\n",
       "      <td>0-17</td>\n",
       "      <td>18-25</td>\n",
       "      <td>0.00034</td>\n",
       "      <td>different</td>\n",
       "      <td>0.00017</td>\n",
       "      <td>less</td>\n",
       "      <td>[8729.913649, 9174.639404]</td>\n",
       "      <td>[9396.177701, 9603.375240]</td>\n",
       "      <td>No Overlap</td>\n",
       "    </tr>\n",
       "    <tr>\n",
       "      <th>1</th>\n",
       "      <td>0-17</td>\n",
       "      <td>26-35</td>\n",
       "      <td>0.00000</td>\n",
       "      <td>different</td>\n",
       "      <td>0.00000</td>\n",
       "      <td>less</td>\n",
       "      <td>[8729.913649, 9174.639404]</td>\n",
       "      <td>[9528.202654, 9665.094255]</td>\n",
       "      <td>No Overlap</td>\n",
       "    </tr>\n",
       "    <tr>\n",
       "      <th>2</th>\n",
       "      <td>0-17</td>\n",
       "      <td>36-45</td>\n",
       "      <td>0.00000</td>\n",
       "      <td>different</td>\n",
       "      <td>0.00000</td>\n",
       "      <td>less</td>\n",
       "      <td>[8729.913649, 9174.639404]</td>\n",
       "      <td>[9560.901632, 9713.330298]</td>\n",
       "      <td>No Overlap</td>\n",
       "    </tr>\n",
       "    <tr>\n",
       "      <th>3</th>\n",
       "      <td>0-17</td>\n",
       "      <td>45+</td>\n",
       "      <td>0.00024</td>\n",
       "      <td>different</td>\n",
       "      <td>0.00012</td>\n",
       "      <td>less</td>\n",
       "      <td>[8729.913649, 9174.639404]</td>\n",
       "      <td>[9401.542800, 9629.729789]</td>\n",
       "      <td>No Overlap</td>\n",
       "    </tr>\n",
       "    <tr>\n",
       "      <th>4</th>\n",
       "      <td>18-25</td>\n",
       "      <td>26-35</td>\n",
       "      <td>0.19796</td>\n",
       "      <td>same</td>\n",
       "      <td>0.09898</td>\n",
       "      <td>same</td>\n",
       "      <td>[9396.177701, 9603.375240]</td>\n",
       "      <td>[9528.202654, 9665.094255]</td>\n",
       "      <td>Overlap</td>\n",
       "    </tr>\n",
       "    <tr>\n",
       "      <th>5</th>\n",
       "      <td>18-25</td>\n",
       "      <td>36-45</td>\n",
       "      <td>0.07354</td>\n",
       "      <td>same</td>\n",
       "      <td>0.03677</td>\n",
       "      <td>less</td>\n",
       "      <td>[9396.177701, 9603.375240]</td>\n",
       "      <td>[9560.901632, 9713.330298]</td>\n",
       "      <td>Overlap</td>\n",
       "    </tr>\n",
       "    <tr>\n",
       "      <th>6</th>\n",
       "      <td>18-25</td>\n",
       "      <td>45+</td>\n",
       "      <td>0.84753</td>\n",
       "      <td>same</td>\n",
       "      <td>0.42377</td>\n",
       "      <td>same</td>\n",
       "      <td>[9396.177701, 9603.375240]</td>\n",
       "      <td>[9401.542800, 9629.729789]</td>\n",
       "      <td>Overlap</td>\n",
       "    </tr>\n",
       "    <tr>\n",
       "      <th>7</th>\n",
       "      <td>26-35</td>\n",
       "      <td>36-45</td>\n",
       "      <td>0.48896</td>\n",
       "      <td>same</td>\n",
       "      <td>0.24448</td>\n",
       "      <td>same</td>\n",
       "      <td>[9528.202654, 9665.094255]</td>\n",
       "      <td>[9560.901632, 9713.330298]</td>\n",
       "      <td>Overlap</td>\n",
       "    </tr>\n",
       "    <tr>\n",
       "      <th>8</th>\n",
       "      <td>26-35</td>\n",
       "      <td>45+</td>\n",
       "      <td>0.33008</td>\n",
       "      <td>same</td>\n",
       "      <td>0.16504</td>\n",
       "      <td>same</td>\n",
       "      <td>[9528.202654, 9665.094255]</td>\n",
       "      <td>[9401.542800, 9629.729789]</td>\n",
       "      <td>Overlap</td>\n",
       "    </tr>\n",
       "    <tr>\n",
       "      <th>9</th>\n",
       "      <td>36-45</td>\n",
       "      <td>45+</td>\n",
       "      <td>0.14401</td>\n",
       "      <td>same</td>\n",
       "      <td>0.07201</td>\n",
       "      <td>same</td>\n",
       "      <td>[9560.901632, 9713.330298]</td>\n",
       "      <td>[9401.542800, 9629.729789]</td>\n",
       "      <td>Overlap</td>\n",
       "    </tr>\n",
       "  </tbody>\n",
       "</table>\n",
       "</div>"
      ],
      "text/plain": [
       "  left_age_group right_age_group  two_tailed_p_val two_tailed_result  \\\n",
       "0           0-17           18-25           0.00034         different   \n",
       "1           0-17           26-35           0.00000         different   \n",
       "2           0-17           36-45           0.00000         different   \n",
       "3           0-17             45+           0.00024         different   \n",
       "4          18-25           26-35           0.19796              same   \n",
       "5          18-25           36-45           0.07354              same   \n",
       "6          18-25             45+           0.84753              same   \n",
       "7          26-35           36-45           0.48896              same   \n",
       "8          26-35             45+           0.33008              same   \n",
       "9          36-45             45+           0.14401              same   \n",
       "\n",
       "   one_tailed_p_val one_tailed_result               left_interval  \\\n",
       "0           0.00017              less  [8729.913649, 9174.639404]   \n",
       "1           0.00000              less  [8729.913649, 9174.639404]   \n",
       "2           0.00000              less  [8729.913649, 9174.639404]   \n",
       "3           0.00012              less  [8729.913649, 9174.639404]   \n",
       "4           0.09898              same  [9396.177701, 9603.375240]   \n",
       "5           0.03677              less  [9396.177701, 9603.375240]   \n",
       "6           0.42377              same  [9396.177701, 9603.375240]   \n",
       "7           0.24448              same  [9528.202654, 9665.094255]   \n",
       "8           0.16504              same  [9528.202654, 9665.094255]   \n",
       "9           0.07201              same  [9560.901632, 9713.330298]   \n",
       "\n",
       "               right_interval overlap_status  \n",
       "0  [9396.177701, 9603.375240]     No Overlap  \n",
       "1  [9528.202654, 9665.094255]     No Overlap  \n",
       "2  [9560.901632, 9713.330298]     No Overlap  \n",
       "3  [9401.542800, 9629.729789]     No Overlap  \n",
       "4  [9528.202654, 9665.094255]        Overlap  \n",
       "5  [9560.901632, 9713.330298]        Overlap  \n",
       "6  [9401.542800, 9629.729789]        Overlap  \n",
       "7  [9560.901632, 9713.330298]        Overlap  \n",
       "8  [9401.542800, 9629.729789]        Overlap  \n",
       "9  [9401.542800, 9629.729789]        Overlap  "
      ]
     },
     "execution_count": 29,
     "metadata": {},
     "output_type": "execute_result"
    }
   ],
   "source": [
    "age_group_names = list(age_group_purchase_data_dict.keys())\n",
    "age_group_ttest_results_data = pd.DataFrame()\n",
    "alpha= 0.05; width = 1 - alpha\n",
    "\n",
    "for i in range(len(age_group_names)):\n",
    "    for j in range(i + 1, len(age_group_names)):\n",
    "\n",
    "        result = dict()\n",
    "        result['left_age_group'], result['right_age_group'] = age_group_names[i], age_group_names[j]\n",
    "        result.update(\n",
    "            get_ttest_result(\n",
    "                age_group_purchase_data_dict[age_group_names[i]],\n",
    "                age_group_purchase_data_dict[age_group_names[j]],\n",
    "                alpha\n",
    "            )\n",
    "        )\n",
    "        left_confidence_interval = get_confidence_interval(\n",
    "            age_group_purchase_data_dict[age_group_names[i]], sample_pct= 1, width= 1 - alpha\n",
    "            )\n",
    "        right_confidence_interval = get_confidence_interval(\n",
    "            age_group_purchase_data_dict[age_group_names[j]], sample_pct= 1, width= 1 - alpha\n",
    "            )\n",
    "\n",
    "        result.update(\n",
    "            {\n",
    "                'left_interval': f'[{left_confidence_interval[0]:2f}, {left_confidence_interval[1]:2f}]',\n",
    "                'right_interval': f'[{right_confidence_interval[0]:2f}, {right_confidence_interval[1]:2f}]',\n",
    "                'overlap_status': check_overlap(left_confidence_interval, right_confidence_interval)\n",
    "            }\n",
    "        )\n",
    "        result_data = pd.DataFrame(\n",
    "            data= result, index= [0]\n",
    "        )\n",
    "        \n",
    "        age_group_ttest_results_data = pd.concat([age_group_ttest_results_data, result_data], ignore_index= True)\n",
    "\n",
    "age_group_ttest_results_data"
   ]
  },
  {
   "cell_type": "markdown",
   "metadata": {},
   "source": [
    "### Observations:\n",
    "\n",
    "- The avg purchase amount of 0-17 age group is significantly lesses from other groups and 55+ age group is significantly greater than other most of other groups\n",
    "- A final grouping of 0-17, 18-55, 55+ will be useful for further analysis and actionable insights"
   ]
  },
  {
   "cell_type": "code",
   "execution_count": 30,
   "metadata": {},
   "outputs": [],
   "source": [
    "age_group_final_mapping = {\n",
    "    '0-17': '0-17',\n",
    "    '18-25': '18+',\n",
    "    '26-35': '18+',\n",
    "    '36-45': '18+',\n",
    "    '46-50': '18+',\n",
    "    '51-55': '18+',\n",
    "    '55+': '18+'\n",
    "}\n",
    "\n",
    "user_agg_data['Age_Group_Final'] = user_agg_data['Age'].map(age_group_final_mapping).astype('category')\n"
   ]
  },
  {
   "cell_type": "code",
   "execution_count": 31,
   "metadata": {},
   "outputs": [
    {
     "data": {
      "image/png": "[encoded data removed]",
      "text/plain": [
       "<Figure size 640x480 with 1 Axes>"
      ]
     },
     "metadata": {},
     "output_type": "display_data"
    }
   ],
   "source": [
    "ax = sns.barplot(data= user_agg_data, x= 'Age_Group_Final', y= 'Avg. Revenue per Transaction')\n",
    "\n",
    "ax.bar_label(ax.containers[0])\n",
    "plt.show()"
   ]
  },
  {
   "cell_type": "markdown",
   "metadata": {},
   "source": [
    "**Validating the overlap of confidence intervals for age <18 and 18+ avg purchase amount at different widths and sample sizes**"
   ]
  },
  {
   "cell_type": "code",
   "execution_count": null,
   "metadata": {},
   "outputs": [],
   "source": [
    "age_final_L17_purchase_data = user_agg_data[user_agg_data['Age_Group_Final'] == '0-17']['Avg. Revenue per Transaction']\n",
    "age_final_18P_purchase_data = user_agg_data[user_agg_data['Age_Group_Final'] == '18+']['Avg. Revenue per Transaction']"
   ]
  },
  {
   "cell_type": "code",
   "execution_count": 37,
   "metadata": {},
   "outputs": [
    {
     "data": {
      "text/html": [
       "<div>\n",
       "<style scoped>\n",
       "    .dataframe tbody tr th:only-of-type {\n",
       "        vertical-align: middle;\n",
       "    }\n",
       "\n",
       "    .dataframe tbody tr th {\n",
       "        vertical-align: top;\n",
       "    }\n",
       "\n",
       "    .dataframe thead th {\n",
       "        text-align: right;\n",
       "    }\n",
       "</style>\n",
       "<table border=\"1\" class=\"dataframe\">\n",
       "  <thead>\n",
       "    <tr style=\"text-align: right;\">\n",
       "      <th></th>\n",
       "      <th>width</th>\n",
       "      <th>sample_pct</th>\n",
       "      <th>age_L17_interval</th>\n",
       "      <th>age_L17_interval_range</th>\n",
       "      <th>age_18P_interval</th>\n",
       "      <th>age_18P_interval_range</th>\n",
       "      <th>overlap_status</th>\n",
       "    </tr>\n",
       "  </thead>\n",
       "  <tbody>\n",
       "    <tr>\n",
       "      <th>0</th>\n",
       "      <td>0.90</td>\n",
       "      <td>0.1</td>\n",
       "      <td>[8419.325021, 9392.806709]</td>\n",
       "      <td>973.481688</td>\n",
       "      <td>[9530.100690, 9744.152522]</td>\n",
       "      <td>214.051832</td>\n",
       "      <td>No Overlap</td>\n",
       "    </tr>\n",
       "    <tr>\n",
       "      <th>1</th>\n",
       "      <td>0.90</td>\n",
       "      <td>0.5</td>\n",
       "      <td>[8640.577110, 9127.100206]</td>\n",
       "      <td>486.523096</td>\n",
       "      <td>[9550.995462, 9646.427339]</td>\n",
       "      <td>95.431877</td>\n",
       "      <td>No Overlap</td>\n",
       "    </tr>\n",
       "    <tr>\n",
       "      <th>2</th>\n",
       "      <td>0.90</td>\n",
       "      <td>0.9</td>\n",
       "      <td>[8735.044015, 9096.023029]</td>\n",
       "      <td>360.979013</td>\n",
       "      <td>[9530.811899, 9601.169356]</td>\n",
       "      <td>70.357457</td>\n",
       "      <td>No Overlap</td>\n",
       "    </tr>\n",
       "    <tr>\n",
       "      <th>3</th>\n",
       "      <td>0.95</td>\n",
       "      <td>0.1</td>\n",
       "      <td>[7812.532773, 9052.009306]</td>\n",
       "      <td>1239.476532</td>\n",
       "      <td>[9547.768661, 9828.257081]</td>\n",
       "      <td>280.488420</td>\n",
       "      <td>No Overlap</td>\n",
       "    </tr>\n",
       "    <tr>\n",
       "      <th>4</th>\n",
       "      <td>0.95</td>\n",
       "      <td>0.5</td>\n",
       "      <td>[8811.598686, 9409.369620]</td>\n",
       "      <td>597.770934</td>\n",
       "      <td>[9521.661878, 9642.980009]</td>\n",
       "      <td>121.318131</td>\n",
       "      <td>No Overlap</td>\n",
       "    </tr>\n",
       "    <tr>\n",
       "      <th>5</th>\n",
       "      <td>0.95</td>\n",
       "      <td>0.9</td>\n",
       "      <td>[8673.528214, 9131.893329]</td>\n",
       "      <td>458.365115</td>\n",
       "      <td>[9535.948529, 9626.153802]</td>\n",
       "      <td>90.205273</td>\n",
       "      <td>No Overlap</td>\n",
       "    </tr>\n",
       "    <tr>\n",
       "      <th>6</th>\n",
       "      <td>0.99</td>\n",
       "      <td>0.1</td>\n",
       "      <td>[7491.635811, 9785.866647]</td>\n",
       "      <td>2294.230836</td>\n",
       "      <td>[9415.345947, 9809.750464]</td>\n",
       "      <td>394.404517</td>\n",
       "      <td>Overlap</td>\n",
       "    </tr>\n",
       "    <tr>\n",
       "      <th>7</th>\n",
       "      <td>0.99</td>\n",
       "      <td>0.5</td>\n",
       "      <td>[8481.678334, 9414.700810]</td>\n",
       "      <td>933.022476</td>\n",
       "      <td>[9514.894254, 9682.041839]</td>\n",
       "      <td>167.147584</td>\n",
       "      <td>No Overlap</td>\n",
       "    </tr>\n",
       "    <tr>\n",
       "      <th>8</th>\n",
       "      <td>0.99</td>\n",
       "      <td>0.9</td>\n",
       "      <td>[8662.835624, 9322.980045]</td>\n",
       "      <td>660.144421</td>\n",
       "      <td>[9513.446441, 9638.196249]</td>\n",
       "      <td>124.749808</td>\n",
       "      <td>No Overlap</td>\n",
       "    </tr>\n",
       "  </tbody>\n",
       "</table>\n",
       "</div>"
      ],
      "text/plain": [
       "   width  sample_pct            age_L17_interval  age_L17_interval_range  \\\n",
       "0   0.90         0.1  [8419.325021, 9392.806709]              973.481688   \n",
       "1   0.90         0.5  [8640.577110, 9127.100206]              486.523096   \n",
       "2   0.90         0.9  [8735.044015, 9096.023029]              360.979013   \n",
       "3   0.95         0.1  [7812.532773, 9052.009306]             1239.476532   \n",
       "4   0.95         0.5  [8811.598686, 9409.369620]              597.770934   \n",
       "5   0.95         0.9  [8673.528214, 9131.893329]              458.365115   \n",
       "6   0.99         0.1  [7491.635811, 9785.866647]             2294.230836   \n",
       "7   0.99         0.5  [8481.678334, 9414.700810]              933.022476   \n",
       "8   0.99         0.9  [8662.835624, 9322.980045]              660.144421   \n",
       "\n",
       "             age_18P_interval  age_18P_interval_range overlap_status  \n",
       "0  [9530.100690, 9744.152522]              214.051832     No Overlap  \n",
       "1  [9550.995462, 9646.427339]               95.431877     No Overlap  \n",
       "2  [9530.811899, 9601.169356]               70.357457     No Overlap  \n",
       "3  [9547.768661, 9828.257081]              280.488420     No Overlap  \n",
       "4  [9521.661878, 9642.980009]              121.318131     No Overlap  \n",
       "5  [9535.948529, 9626.153802]               90.205273     No Overlap  \n",
       "6  [9415.345947, 9809.750464]              394.404517        Overlap  \n",
       "7  [9514.894254, 9682.041839]              167.147584     No Overlap  \n",
       "8  [9513.446441, 9638.196249]              124.749808     No Overlap  "
      ]
     },
     "execution_count": 37,
     "metadata": {},
     "output_type": "execute_result"
    }
   ],
   "source": [
    "params = {\n",
    "    'width': [0.90, 0.95, 0.99],\n",
    "    'sample_pct': [0.10, 0.50, 0.90]\n",
    "}\n",
    "\n",
    "confidence_intervals_data = pd.DataFrame()\n",
    "\n",
    "for w in params['width']:\n",
    "    for pct in params['sample_pct']:\n",
    "        age_final_L17_confidence_interval = get_confidence_interval(age_final_L17_purchase_data, sample_pct= pct, width= w)\n",
    "        age_final_18P_confidence_interval = get_confidence_interval(age_final_18P_purchase_data, sample_pct= pct, width= w)\n",
    "\n",
    "        current_confidence_intervals = pd.DataFrame(\n",
    "            {\n",
    "                'width': w, 'sample_pct': pct,\n",
    "                'age_L17_interval': f'[{age_final_L17_confidence_interval[0]:2f}, {age_final_L17_confidence_interval[1]:2f}]',\n",
    "                'age_L17_interval_range': age_final_L17_confidence_interval[1] - age_final_L17_confidence_interval[0],\n",
    "                'age_18P_interval': f'[{age_final_18P_confidence_interval[0]:2f}, {age_final_18P_confidence_interval[1]:2f}]',\n",
    "                'age_18P_interval_range': age_final_18P_confidence_interval[1] - age_final_18P_confidence_interval[0],\n",
    "                'overlap_status': check_overlap(age_final_18P_confidence_interval, age_final_L17_confidence_interval)\n",
    "            },\n",
    "            index= [0]\n",
    "        )\n",
    "\n",
    "        confidence_intervals_data = (\n",
    "            pd.concat([confidence_intervals_data, current_confidence_intervals], ignore_index= True)\n",
    "        )\n",
    "\n",
    "confidence_intervals_data"
   ]
  },
  {
   "cell_type": "markdown",
   "metadata": {},
   "source": [
    "### Observations:\n",
    "\n",
    "- There is no overlap at most of the combinations of width and sample sizes between confidence intervals of age <17 and 18+ customers, except for 99% width and 10% sample pct\n",
    "- Hence, it can be concluded that there **is a significant difference** between avg spend amount for age <17 vs 18+ customers"
   ]
  },
  {
   "cell_type": "markdown",
   "metadata": {},
   "source": [
    "## City Category\n",
    "\n",
    "*Metric: Avg purchase amount per transaction*\n",
    "\n",
    "*Null Hypothesis (H0): There is no significant difference across city categories*\n",
    "\n",
    "*Alternate Hypothesis(Ha): Avg purchase amount is significantly different across city categories*\n"
   ]
  },
  {
   "cell_type": "code",
   "execution_count": 39,
   "metadata": {},
   "outputs": [
    {
     "name": "stdout",
     "output_type": "stream",
     "text": [
      "float64 category\n",
      "(5891,) 3\n"
     ]
    },
    {
     "data": {
      "text/plain": [
       "City_Category\n",
       "C    3139\n",
       "B    1707\n",
       "A    1045\n",
       "Name: count, dtype: int64"
      ]
     },
     "execution_count": 39,
     "metadata": {},
     "output_type": "execute_result"
    }
   ],
   "source": [
    "# Checking for data types and cardinality and sample size\n",
    "\n",
    "print(user_agg_data['Avg. Revenue per Transaction'].dtype, user_agg_data['City_Category'].dtype)\n",
    "\n",
    "print(user_agg_data['Avg. Revenue per Transaction'].shape, user_agg_data['City_Category'].nunique())\n",
    "\n",
    "user_agg_data['City_Category'].value_counts()"
   ]
  },
  {
   "cell_type": "code",
   "execution_count": 40,
   "metadata": {},
   "outputs": [
    {
     "data": {
      "image/png": "[encoded data removed]",
      "text/plain": [
       "<Figure size 640x480 with 1 Axes>"
      ]
     },
     "metadata": {},
     "output_type": "display_data"
    }
   ],
   "source": [
    "ax = sns.barplot(data= user_agg_data, x= 'City_Category', y= 'Avg. Revenue per Transaction')\n",
    "\n",
    "ax.bar_label(ax.containers[0])\n",
    "plt.show()"
   ]
  },
  {
   "cell_type": "markdown",
   "metadata": {},
   "source": [
    "*Sample size: 5891 (no. of customers)*\n",
    "\n",
    "*Data Types: Avg Revenue per Transaction is Numerical and City Category is categorical*\n",
    "\n",
    "*Cardinality: City Category has 3 values A, B, C*"
   ]
  },
  {
   "cell_type": "code",
   "execution_count": 50,
   "metadata": {},
   "outputs": [],
   "source": [
    "city_A_purchase_data = user_agg_data[user_agg_data['City_Category'] == 'A']['Avg. Revenue per Transaction']\n",
    "city_B_purchase_data = user_agg_data[user_agg_data['City_Category'] == 'B']['Avg. Revenue per Transaction']\n",
    "city_C_purchase_data = user_agg_data[user_agg_data['City_Category'] == 'C']['Avg. Revenue per Transaction']\n",
    "\n",
    "city_category_purchase_data_dict = {\n",
    "    'A' : city_A_purchase_data,\n",
    "    'B' : city_B_purchase_data,\n",
    "    'C' : city_C_purchase_data,\n",
    "}\n"
   ]
  },
  {
   "cell_type": "markdown",
   "metadata": {},
   "source": [
    "**Assumption: Average spending does not follow a normal distribution (as per the ks test)**"
   ]
  },
  {
   "cell_type": "markdown",
   "metadata": {},
   "source": [
    "**Checking for the null hypothesis using Kruskal Wallis Test with two tailed alternative hypothesis**\n"
   ]
  },
  {
   "cell_type": "code",
   "execution_count": null,
   "metadata": {},
   "outputs": [
    {
     "name": "stdout",
     "output_type": "stream",
     "text": [
      "ks_stat: 32.399297, p_val: 0.000000\n",
      "There is a significant difference in median of age purchase amount between age groups at 95% confidence level\n"
     ]
    }
   ],
   "source": [
    "ks_stat, p_val = st.kruskal(city_A_purchase_data, city_B_purchase_data, city_C_purchase_data)\n",
    "\n",
    "print(f\"ks_stat: {ks_stat:4f}, p_val: {p_val:4f}\")\n",
    "\n",
    "\n",
    "alpha = 0.05\n",
    "if p_val > alpha:\n",
    "    print(f\"There is no significant difference in median of avg purchase amount between city categories at {int((1 - alpha)*100)}% confidence level\")\n",
    "else:\n",
    "    print(f\"There is a significant difference in median of avg purchase amount between city categories at {int((1 - alpha)*100)}% confidence level\")"
   ]
  },
  {
   "cell_type": "markdown",
   "metadata": {},
   "source": [
    "### Observations:\n",
    "- The median of average spending amount **is significantly different** between city categories of customers"
   ]
  },
  {
   "cell_type": "markdown",
   "metadata": {},
   "source": [
    "**Assumption: Average spending follows almost normal distribution as per the qq plot, despite the ks test showing otherwise**"
   ]
  },
  {
   "cell_type": "markdown",
   "metadata": {},
   "source": [
    "**Checking for homoscedasticity using Levene's test for applying ANOVA Test**"
   ]
  },
  {
   "cell_type": "code",
   "execution_count": 46,
   "metadata": {},
   "outputs": [
    {
     "name": "stdout",
     "output_type": "stream",
     "text": [
      "l_stat: 16.735004, p_val: 0.000000\n",
      "There is a significant difference variances of avg spending between city categories at 95% confidence level\n"
     ]
    }
   ],
   "source": [
    "l_stat, p_val = st.levene(city_A_purchase_data, city_B_purchase_data, city_C_purchase_data)\n",
    "\n",
    "print(f\"l_stat: {l_stat:4f}, p_val: {p_val:4f}\")\n",
    "\n",
    "\n",
    "alpha = 0.05\n",
    "if p_val > alpha:\n",
    "    print(f\"There is no significant difference variances of avg spending between city categories at {int((1 - alpha)*100)}% confidence level\")\n",
    "else:\n",
    "    print(f\"There is a significant difference variances of avg spending between city categories at {int((1 - alpha)*100)}% confidence level\")"
   ]
  },
  {
   "cell_type": "markdown",
   "metadata": {},
   "source": [
    "### Observation:\n",
    "- There is a significant difference in variances across city categories at 95% confidence level\n",
    "- Hence, ANOVA test can not be applied in this scenario"
   ]
  },
  {
   "cell_type": "markdown",
   "metadata": {},
   "source": [
    "### Observations:\n",
    "- Kruskal Wallis: ANOVA: There is a significant difference between avg spending between city groups of customers"
   ]
  },
  {
   "cell_type": "markdown",
   "metadata": {},
   "source": [
    "### Next Steps:\n",
    "\n",
    "- Apply ttest for all combinations to identify similar and significantly different groups\n",
    "- Merge the subsequent groups that are not significantly different\n",
    "- Compare the confidence intervals of the final groups and check for overlaps"
   ]
  },
  {
   "cell_type": "markdown",
   "metadata": {},
   "source": [
    "**Calculating the ttest results and confidence intervals of avg purchase amount for all combinations of age groups**"
   ]
  },
  {
   "cell_type": "code",
   "execution_count": 51,
   "metadata": {},
   "outputs": [
    {
     "data": {
      "text/html": [
       "<div>\n",
       "<style scoped>\n",
       "    .dataframe tbody tr th:only-of-type {\n",
       "        vertical-align: middle;\n",
       "    }\n",
       "\n",
       "    .dataframe tbody tr th {\n",
       "        vertical-align: top;\n",
       "    }\n",
       "\n",
       "    .dataframe thead th {\n",
       "        text-align: right;\n",
       "    }\n",
       "</style>\n",
       "<table border=\"1\" class=\"dataframe\">\n",
       "  <thead>\n",
       "    <tr style=\"text-align: right;\">\n",
       "      <th></th>\n",
       "      <th>left_city_category</th>\n",
       "      <th>right_city_category</th>\n",
       "      <th>two_tailed_p_val</th>\n",
       "      <th>two_tailed_result</th>\n",
       "      <th>one_tailed_p_val</th>\n",
       "      <th>one_tailed_result</th>\n",
       "      <th>left_interval</th>\n",
       "      <th>right_interval</th>\n",
       "      <th>overlap_status</th>\n",
       "    </tr>\n",
       "  </thead>\n",
       "  <tbody>\n",
       "    <tr>\n",
       "      <th>0</th>\n",
       "      <td>C</td>\n",
       "      <td>A</td>\n",
       "      <td>0.00000</td>\n",
       "      <td>different</td>\n",
       "      <td>0.00000</td>\n",
       "      <td>greater</td>\n",
       "      <td>[9631.341935, 9751.015584]</td>\n",
       "      <td>[9254.039063, 9445.625139]</td>\n",
       "      <td>No Overlap</td>\n",
       "    </tr>\n",
       "    <tr>\n",
       "      <th>1</th>\n",
       "      <td>C</td>\n",
       "      <td>B</td>\n",
       "      <td>0.00001</td>\n",
       "      <td>different</td>\n",
       "      <td>0.00001</td>\n",
       "      <td>greater</td>\n",
       "      <td>[9631.341935, 9751.015584]</td>\n",
       "      <td>[9368.916691, 9513.232904]</td>\n",
       "      <td>No Overlap</td>\n",
       "    </tr>\n",
       "    <tr>\n",
       "      <th>2</th>\n",
       "      <td>A</td>\n",
       "      <td>B</td>\n",
       "      <td>0.21021</td>\n",
       "      <td>same</td>\n",
       "      <td>0.10510</td>\n",
       "      <td>same</td>\n",
       "      <td>[9254.039063, 9445.625139]</td>\n",
       "      <td>[9368.916691, 9513.232904]</td>\n",
       "      <td>Overlap</td>\n",
       "    </tr>\n",
       "  </tbody>\n",
       "</table>\n",
       "</div>"
      ],
      "text/plain": [
       "  left_city_category right_city_category  two_tailed_p_val two_tailed_result  \\\n",
       "0                  C                   A           0.00000         different   \n",
       "1                  C                   B           0.00001         different   \n",
       "2                  A                   B           0.21021              same   \n",
       "\n",
       "   one_tailed_p_val one_tailed_result               left_interval  \\\n",
       "0           0.00000           greater  [9631.341935, 9751.015584]   \n",
       "1           0.00001           greater  [9631.341935, 9751.015584]   \n",
       "2           0.10510              same  [9254.039063, 9445.625139]   \n",
       "\n",
       "               right_interval overlap_status  \n",
       "0  [9254.039063, 9445.625139]     No Overlap  \n",
       "1  [9368.916691, 9513.232904]     No Overlap  \n",
       "2  [9368.916691, 9513.232904]        Overlap  "
      ]
     },
     "execution_count": 51,
     "metadata": {},
     "output_type": "execute_result"
    }
   ],
   "source": [
    "city_category_names = ['C', 'A', 'B']#list(city_category_purchase_data_dict.keys())\n",
    "city_category_ttest_results_data = pd.DataFrame()\n",
    "alpha= 0.05; width = 1 - alpha\n",
    "\n",
    "for i in range(len(city_category_names)):\n",
    "    for j in range(i + 1, len(city_category_names)):\n",
    "\n",
    "        result = dict()\n",
    "        result['left_city_category'], result['right_city_category'] = city_category_names[i], city_category_names[j]\n",
    "        result.update(\n",
    "            get_ttest_result(\n",
    "                city_category_purchase_data_dict[city_category_names[i]],\n",
    "                city_category_purchase_data_dict[city_category_names[j]],\n",
    "                alpha\n",
    "            )\n",
    "        )\n",
    "        left_confidence_interval = get_confidence_interval(\n",
    "            city_category_purchase_data_dict[city_category_names[i]], sample_pct= 1, width= 1 - alpha\n",
    "            )\n",
    "        right_confidence_interval = get_confidence_interval(\n",
    "            city_category_purchase_data_dict[city_category_names[j]], sample_pct= 1, width= 1 - alpha\n",
    "            )\n",
    "\n",
    "        result.update(\n",
    "            {\n",
    "                'left_interval': f'[{left_confidence_interval[0]:2f}, {left_confidence_interval[1]:2f}]',\n",
    "                'right_interval': f'[{right_confidence_interval[0]:2f}, {right_confidence_interval[1]:2f}]',\n",
    "                'overlap_status': check_overlap(left_confidence_interval, right_confidence_interval)\n",
    "            }\n",
    "        )\n",
    "        result_data = pd.DataFrame(\n",
    "            data= result, index= [0]\n",
    "        )\n",
    "        \n",
    "        city_category_ttest_results_data = pd.concat([city_category_ttest_results_data, result_data], ignore_index= True)\n",
    "\n",
    "city_category_ttest_results_data"
   ]
  },
  {
   "cell_type": "markdown",
   "metadata": {},
   "source": [
    "### Observations:\n",
    "\n",
    "- The avg purchase amount of city C is significantly greater that other groups\n",
    "- The avg purchase amount of city A and B are same"
   ]
  },
  {
   "cell_type": "code",
   "execution_count": 55,
   "metadata": {},
   "outputs": [],
   "source": [
    "city_category_final_mapping = {\n",
    "    'A': 'AB',\n",
    "    'B': 'AB',\n",
    "    'C': 'C',\n",
    "}\n",
    "\n",
    "user_agg_data['City_Category_Final'] = user_agg_data['City_Category'].map(city_category_final_mapping).astype('category')\n"
   ]
  },
  {
   "cell_type": "code",
   "execution_count": 56,
   "metadata": {},
   "outputs": [
    {
     "data": {
      "image/png": "[encoded data removed]",
      "text/plain": [
       "<Figure size 640x480 with 1 Axes>"
      ]
     },
     "metadata": {},
     "output_type": "display_data"
    }
   ],
   "source": [
    "ax = sns.barplot(data= user_agg_data, x= 'City_Category_Final', y= 'Avg. Revenue per Transaction')\n",
    "\n",
    "ax.bar_label(ax.containers[0])\n",
    "plt.show()"
   ]
  },
  {
   "cell_type": "markdown",
   "metadata": {},
   "source": [
    "**Validating the overlap of confidence intervals for age <18 and 18+ avg purchase amount at different widths and sample sizes**"
   ]
  },
  {
   "cell_type": "code",
   "execution_count": 57,
   "metadata": {},
   "outputs": [],
   "source": [
    "city_category_final_AB_purchase_data = user_agg_data[user_agg_data['City_Category_Final'] == 'AB']['Avg. Revenue per Transaction']\n",
    "city_category_final_C_purchase_data = user_agg_data[user_agg_data['City_Category_Final'] == 'C']['Avg. Revenue per Transaction']"
   ]
  },
  {
   "cell_type": "code",
   "execution_count": 59,
   "metadata": {},
   "outputs": [
    {
     "data": {
      "text/html": [
       "<div>\n",
       "<style scoped>\n",
       "    .dataframe tbody tr th:only-of-type {\n",
       "        vertical-align: middle;\n",
       "    }\n",
       "\n",
       "    .dataframe tbody tr th {\n",
       "        vertical-align: top;\n",
       "    }\n",
       "\n",
       "    .dataframe thead th {\n",
       "        text-align: right;\n",
       "    }\n",
       "</style>\n",
       "<table border=\"1\" class=\"dataframe\">\n",
       "  <thead>\n",
       "    <tr style=\"text-align: right;\">\n",
       "      <th></th>\n",
       "      <th>width</th>\n",
       "      <th>sample_pct</th>\n",
       "      <th>city_AB_interval</th>\n",
       "      <th>city_AB_interval_range</th>\n",
       "      <th>city_C_interval</th>\n",
       "      <th>city_C_interval_range</th>\n",
       "      <th>overlap_status</th>\n",
       "    </tr>\n",
       "  </thead>\n",
       "  <tbody>\n",
       "    <tr>\n",
       "      <th>0</th>\n",
       "      <td>0.90</td>\n",
       "      <td>0.1</td>\n",
       "      <td>[9152.706102, 9440.603079]</td>\n",
       "      <td>287.896977</td>\n",
       "      <td>[9732.176683, 10057.454903]</td>\n",
       "      <td>325.278220</td>\n",
       "      <td>No Overlap</td>\n",
       "    </tr>\n",
       "    <tr>\n",
       "      <th>1</th>\n",
       "      <td>0.90</td>\n",
       "      <td>0.5</td>\n",
       "      <td>[9308.792947, 9434.151773]</td>\n",
       "      <td>125.358826</td>\n",
       "      <td>[9638.804899, 9772.252475]</td>\n",
       "      <td>133.447576</td>\n",
       "      <td>No Overlap</td>\n",
       "    </tr>\n",
       "    <tr>\n",
       "      <th>2</th>\n",
       "      <td>0.90</td>\n",
       "      <td>0.9</td>\n",
       "      <td>[9373.249038, 9468.661824]</td>\n",
       "      <td>95.412786</td>\n",
       "      <td>[9633.656394, 9733.122233]</td>\n",
       "      <td>99.465838</td>\n",
       "      <td>No Overlap</td>\n",
       "    </tr>\n",
       "    <tr>\n",
       "      <th>3</th>\n",
       "      <td>0.95</td>\n",
       "      <td>0.1</td>\n",
       "      <td>[9177.418886, 9551.417425]</td>\n",
       "      <td>373.998539</td>\n",
       "      <td>[9355.119244, 9725.818753]</td>\n",
       "      <td>370.699509</td>\n",
       "      <td>Overlap</td>\n",
       "    </tr>\n",
       "    <tr>\n",
       "      <th>4</th>\n",
       "      <td>0.95</td>\n",
       "      <td>0.5</td>\n",
       "      <td>[9325.448516, 9487.679868]</td>\n",
       "      <td>162.231352</td>\n",
       "      <td>[9630.199107, 9797.270178]</td>\n",
       "      <td>167.071072</td>\n",
       "      <td>No Overlap</td>\n",
       "    </tr>\n",
       "    <tr>\n",
       "      <th>5</th>\n",
       "      <td>0.95</td>\n",
       "      <td>0.9</td>\n",
       "      <td>[9334.127375, 9454.894350]</td>\n",
       "      <td>120.766975</td>\n",
       "      <td>[9632.088664, 9759.210784]</td>\n",
       "      <td>127.122120</td>\n",
       "      <td>No Overlap</td>\n",
       "    </tr>\n",
       "    <tr>\n",
       "      <th>6</th>\n",
       "      <td>0.99</td>\n",
       "      <td>0.1</td>\n",
       "      <td>[9035.578078, 9508.051996]</td>\n",
       "      <td>472.473917</td>\n",
       "      <td>[9471.794814, 9995.552405]</td>\n",
       "      <td>523.757590</td>\n",
       "      <td>Overlap</td>\n",
       "    </tr>\n",
       "    <tr>\n",
       "      <th>7</th>\n",
       "      <td>0.99</td>\n",
       "      <td>0.5</td>\n",
       "      <td>[9294.723457, 9524.847953]</td>\n",
       "      <td>230.124497</td>\n",
       "      <td>[9574.328269, 9812.853969]</td>\n",
       "      <td>238.525700</td>\n",
       "      <td>No Overlap</td>\n",
       "    </tr>\n",
       "    <tr>\n",
       "      <th>8</th>\n",
       "      <td>0.99</td>\n",
       "      <td>0.9</td>\n",
       "      <td>[9331.985408, 9503.402776]</td>\n",
       "      <td>171.417368</td>\n",
       "      <td>[9613.430505, 9788.979427]</td>\n",
       "      <td>175.548923</td>\n",
       "      <td>No Overlap</td>\n",
       "    </tr>\n",
       "  </tbody>\n",
       "</table>\n",
       "</div>"
      ],
      "text/plain": [
       "   width  sample_pct            city_AB_interval  city_AB_interval_range  \\\n",
       "0   0.90         0.1  [9152.706102, 9440.603079]              287.896977   \n",
       "1   0.90         0.5  [9308.792947, 9434.151773]              125.358826   \n",
       "2   0.90         0.9  [9373.249038, 9468.661824]               95.412786   \n",
       "3   0.95         0.1  [9177.418886, 9551.417425]              373.998539   \n",
       "4   0.95         0.5  [9325.448516, 9487.679868]              162.231352   \n",
       "5   0.95         0.9  [9334.127375, 9454.894350]              120.766975   \n",
       "6   0.99         0.1  [9035.578078, 9508.051996]              472.473917   \n",
       "7   0.99         0.5  [9294.723457, 9524.847953]              230.124497   \n",
       "8   0.99         0.9  [9331.985408, 9503.402776]              171.417368   \n",
       "\n",
       "               city_C_interval  city_C_interval_range overlap_status  \n",
       "0  [9732.176683, 10057.454903]             325.278220     No Overlap  \n",
       "1   [9638.804899, 9772.252475]             133.447576     No Overlap  \n",
       "2   [9633.656394, 9733.122233]              99.465838     No Overlap  \n",
       "3   [9355.119244, 9725.818753]             370.699509        Overlap  \n",
       "4   [9630.199107, 9797.270178]             167.071072     No Overlap  \n",
       "5   [9632.088664, 9759.210784]             127.122120     No Overlap  \n",
       "6   [9471.794814, 9995.552405]             523.757590        Overlap  \n",
       "7   [9574.328269, 9812.853969]             238.525700     No Overlap  \n",
       "8   [9613.430505, 9788.979427]             175.548923     No Overlap  "
      ]
     },
     "execution_count": 59,
     "metadata": {},
     "output_type": "execute_result"
    }
   ],
   "source": [
    "params = {\n",
    "    'width': [0.90, 0.95, 0.99],\n",
    "    'sample_pct': [0.10, 0.50, 0.90]\n",
    "}\n",
    "\n",
    "confidence_intervals_data = pd.DataFrame()\n",
    "\n",
    "for w in params['width']:\n",
    "    for pct in params['sample_pct']:\n",
    "        city_category_final_AB_confidence_interval = get_confidence_interval(city_category_final_AB_purchase_data, sample_pct= pct, width= w)\n",
    "        city_category_final_C_confidence_interval = get_confidence_interval(city_category_final_C_purchase_data, sample_pct= pct, width= w)\n",
    "\n",
    "        current_confidence_intervals = pd.DataFrame(\n",
    "            {\n",
    "                'width': w, 'sample_pct': pct,\n",
    "                'city_AB_interval': f'[{city_category_final_AB_confidence_interval[0]:2f}, {city_category_final_AB_confidence_interval[1]:2f}]',\n",
    "                'city_AB_interval_range': city_category_final_AB_confidence_interval[1] - city_category_final_AB_confidence_interval[0],\n",
    "                'city_C_interval': f'[{city_category_final_C_confidence_interval[0]:2f}, {city_category_final_C_confidence_interval[1]:2f}]',\n",
    "                'city_C_interval_range': city_category_final_C_confidence_interval[1] - city_category_final_C_confidence_interval[0],\n",
    "                'overlap_status': check_overlap(city_category_final_C_confidence_interval, city_category_final_AB_confidence_interval)\n",
    "            },\n",
    "            index= [0]\n",
    "        )\n",
    "\n",
    "        confidence_intervals_data = (\n",
    "            pd.concat([confidence_intervals_data, current_confidence_intervals], ignore_index= True)\n",
    "        )\n",
    "\n",
    "confidence_intervals_data"
   ]
  },
  {
   "cell_type": "markdown",
   "metadata": {},
   "source": [
    "### Observations:\n",
    "\n",
    "- There is no overlap at most of the combinations of width and sample sizes between confidence intervals of city category AB vs city C customers, except for 10% sample pct at 95% and 99% confidence intervals\n",
    "- Hence, it can be concluded that there **is a significant difference** between avg spend amount for city category AB vs city C customers"
   ]
  },
  {
   "cell_type": "code",
   "execution_count": null,
   "metadata": {},
   "outputs": [],
   "source": []
  }
 ],
 "metadata": {
  "kernelspec": {
   "display_name": "Python 3",
   "language": "python",
   "name": "python3"
  },
  "language_info": {
   "codemirror_mode": {
    "name": "ipython",
    "version": 3
   },
   "file_extension": ".py",
   "mimetype": "text/x-python",
   "name": "python",
   "nbconvert_exporter": "python",
   "pygments_lexer": "ipython3",
   "version": "3.12.7"
  }
 },
 "nbformat": 4,
 "nbformat_minor": 2
}
