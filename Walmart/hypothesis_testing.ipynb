{
 "cells": [
  {
   "cell_type": "markdown",
   "metadata": {},
   "source": [
    "## Hypothesis Testing"
   ]
  },
  {
   "cell_type": "markdown",
   "metadata": {},
   "source": [
    "## Import statements"
   ]
  },
  {
   "cell_type": "code",
   "execution_count": 228,
   "metadata": {},
   "outputs": [],
   "source": [
    "import pandas as pd\n",
    "import numpy as np\n",
    "import seaborn as sns\n",
    "import matplotlib.pyplot as plt\n",
    "import scipy.stats as st\n",
    "from statsmodels.stats.weightstats import ztest\n",
    "import statsmodels.api as sm\n",
    "import math as mt\n",
    "import random as rd\n",
    "import time as tm"
   ]
  },
  {
   "cell_type": "markdown",
   "metadata": {},
   "source": [
    "## Data Preperation"
   ]
  },
  {
   "cell_type": "code",
   "execution_count": 229,
   "metadata": {},
   "outputs": [
    {
     "data": {
      "text/html": [
       "<div>\n",
       "<style scoped>\n",
       "    .dataframe tbody tr th:only-of-type {\n",
       "        vertical-align: middle;\n",
       "    }\n",
       "\n",
       "    .dataframe tbody tr th {\n",
       "        vertical-align: top;\n",
       "    }\n",
       "\n",
       "    .dataframe thead th {\n",
       "        text-align: right;\n",
       "    }\n",
       "</style>\n",
       "<table border=\"1\" class=\"dataframe\">\n",
       "  <thead>\n",
       "    <tr style=\"text-align: right;\">\n",
       "      <th></th>\n",
       "      <th>Transaction_ID</th>\n",
       "      <th>User_ID</th>\n",
       "      <th>Gender</th>\n",
       "      <th>Age</th>\n",
       "      <th>City_Category</th>\n",
       "      <th>Stay_In_Current_City_Years</th>\n",
       "      <th>Marital_Status</th>\n",
       "      <th>Purchase</th>\n",
       "      <th>Purchase_Bucket</th>\n",
       "    </tr>\n",
       "  </thead>\n",
       "  <tbody>\n",
       "    <tr>\n",
       "      <th>0</th>\n",
       "      <td>0</td>\n",
       "      <td>1000001</td>\n",
       "      <td>F</td>\n",
       "      <td>0-17</td>\n",
       "      <td>A</td>\n",
       "      <td>2</td>\n",
       "      <td>Unmarried</td>\n",
       "      <td>8370</td>\n",
       "      <td>7500 - 10000</td>\n",
       "    </tr>\n",
       "    <tr>\n",
       "      <th>1</th>\n",
       "      <td>1</td>\n",
       "      <td>1000001</td>\n",
       "      <td>F</td>\n",
       "      <td>0-17</td>\n",
       "      <td>A</td>\n",
       "      <td>2</td>\n",
       "      <td>Unmarried</td>\n",
       "      <td>15200</td>\n",
       "      <td>15000 - 17500</td>\n",
       "    </tr>\n",
       "    <tr>\n",
       "      <th>2</th>\n",
       "      <td>2</td>\n",
       "      <td>1000001</td>\n",
       "      <td>F</td>\n",
       "      <td>0-17</td>\n",
       "      <td>A</td>\n",
       "      <td>2</td>\n",
       "      <td>Unmarried</td>\n",
       "      <td>1422</td>\n",
       "      <td>1000 - 2500</td>\n",
       "    </tr>\n",
       "    <tr>\n",
       "      <th>3</th>\n",
       "      <td>3</td>\n",
       "      <td>1000001</td>\n",
       "      <td>F</td>\n",
       "      <td>0-17</td>\n",
       "      <td>A</td>\n",
       "      <td>2</td>\n",
       "      <td>Unmarried</td>\n",
       "      <td>1057</td>\n",
       "      <td>1000 - 2500</td>\n",
       "    </tr>\n",
       "    <tr>\n",
       "      <th>4</th>\n",
       "      <td>4</td>\n",
       "      <td>1000002</td>\n",
       "      <td>M</td>\n",
       "      <td>55+</td>\n",
       "      <td>C</td>\n",
       "      <td>4+</td>\n",
       "      <td>Unmarried</td>\n",
       "      <td>7969</td>\n",
       "      <td>7500 - 10000</td>\n",
       "    </tr>\n",
       "  </tbody>\n",
       "</table>\n",
       "</div>"
      ],
      "text/plain": [
       "  Transaction_ID  User_ID Gender   Age City_Category  \\\n",
       "0              0  1000001      F  0-17             A   \n",
       "1              1  1000001      F  0-17             A   \n",
       "2              2  1000001      F  0-17             A   \n",
       "3              3  1000001      F  0-17             A   \n",
       "4              4  1000002      M   55+             C   \n",
       "\n",
       "  Stay_In_Current_City_Years Marital_Status  Purchase Purchase_Bucket  \n",
       "0                          2      Unmarried      8370    7500 - 10000  \n",
       "1                          2      Unmarried     15200   15000 - 17500  \n",
       "2                          2      Unmarried      1422     1000 - 2500  \n",
       "3                          2      Unmarried      1057     1000 - 2500  \n",
       "4                         4+      Unmarried      7969    7500 - 10000  "
      ]
     },
     "execution_count": 229,
     "metadata": {},
     "output_type": "execute_result"
    }
   ],
   "source": [
    "# Data Loading\n",
    "file_link = \"https://d2beiqkhq929f0.cloudfront.net/public_assets/assets/000/001/293/original/walmart_data.csv?1641285094\"\n",
    "raw_data = pd.read_csv(file_link)\n",
    "\n",
    "# Data Cleaning\n",
    "clean_data = raw_data.reset_index().copy()\n",
    "clean_data['User_ID'] = clean_data['User_ID'].astype('str')\n",
    "clean_data['Product_ID'] = clean_data['Product_ID'].astype('str')\n",
    "clean_data.rename(columns={'index': 'Transaction_ID'}, inplace=True, errors='ignore')\n",
    "clean_data['Transaction_ID'] = clean_data['Transaction_ID'].astype('str')\n",
    "columns_to_convert = {\n",
    "    'Gender', 'Age','Occupation',\n",
    "    'Marital_Status', 'Product_Category',\n",
    "    'City_Category', 'Stay_In_Current_City_Years'\n",
    "}\n",
    "\n",
    "for column in columns_to_convert:\n",
    "    if column in {'Marital_Status'}:\n",
    "        clean_data[column] = clean_data[column].apply(lambda x: 'Married' if x == 1 else 'Unmarried')\n",
    "    elif column in {'Product_Category', 'Occupation'}:\n",
    "        clean_data[column] = clean_data[column].apply(lambda x: f'{column}_{str(x)}')\n",
    "    clean_data[column] = clean_data[column].astype('category')\n",
    "\n",
    "# Data Preperation\n",
    "iqr = clean_data['Purchase'].quantile(0.75) - clean_data['Purchase'].quantile(0.25)\n",
    "lower_bound = clean_data['Purchase'].quantile(0.25) - 1.5 * iqr\n",
    "upper_bound = clean_data['Purchase'].quantile(0.75) + 1.5 * iqr\n",
    "\n",
    "analysis_data = (\n",
    "    clean_data\n",
    "    .drop(columns=['Occupation', 'Product_Category', 'Product_ID'])\n",
    "    )\n",
    "\n",
    "id_columns = ['User_ID', 'Transaction_ID']\n",
    "categorical_columns = analysis_data.select_dtypes(include='category').columns.tolist()\n",
    "numerical_columns = analysis_data.select_dtypes(include='number').columns.tolist()\n",
    "\n",
    "bins = [0, 1000, 2500, 5000, 7500, 10000, 12500, 15000, 17500, 20000, 22500, 25000]\n",
    "labels = [f'{bins[i]} - {bins[i+1]}' for i in range(len(bins)-1)]\n",
    "\n",
    "analysis_data['Purchase_Bucket'] = pd.cut(analysis_data['Purchase'], bins= bins, labels= labels, right= False)\n",
    "\n",
    "numerical_bucketed_columns = ['Purchase_Bucket']\n",
    "\n",
    "analysis_data.head()"
   ]
  },
  {
   "cell_type": "code",
   "execution_count": 230,
   "metadata": {},
   "outputs": [
    {
     "data": {
      "text/html": [
       "<div>\n",
       "<style scoped>\n",
       "    .dataframe tbody tr th:only-of-type {\n",
       "        vertical-align: middle;\n",
       "    }\n",
       "\n",
       "    .dataframe tbody tr th {\n",
       "        vertical-align: top;\n",
       "    }\n",
       "\n",
       "    .dataframe thead th {\n",
       "        text-align: right;\n",
       "    }\n",
       "</style>\n",
       "<table border=\"1\" class=\"dataframe\">\n",
       "  <thead>\n",
       "    <tr style=\"text-align: right;\">\n",
       "      <th></th>\n",
       "      <th>User_ID</th>\n",
       "      <th>Gender</th>\n",
       "      <th>Age</th>\n",
       "      <th>City_Category</th>\n",
       "      <th>Stay_In_Current_City_Years</th>\n",
       "      <th>Marital_Status</th>\n",
       "      <th># Transaction</th>\n",
       "      <th>$ Revenue</th>\n",
       "      <th>Avg. Revenue per Transaction</th>\n",
       "    </tr>\n",
       "  </thead>\n",
       "  <tbody>\n",
       "    <tr>\n",
       "      <th>0</th>\n",
       "      <td>1000001</td>\n",
       "      <td>F</td>\n",
       "      <td>0-17</td>\n",
       "      <td>A</td>\n",
       "      <td>2</td>\n",
       "      <td>Unmarried</td>\n",
       "      <td>35</td>\n",
       "      <td>334093</td>\n",
       "      <td>9545.514286</td>\n",
       "    </tr>\n",
       "    <tr>\n",
       "      <th>1</th>\n",
       "      <td>1000002</td>\n",
       "      <td>M</td>\n",
       "      <td>55+</td>\n",
       "      <td>C</td>\n",
       "      <td>4+</td>\n",
       "      <td>Unmarried</td>\n",
       "      <td>77</td>\n",
       "      <td>810472</td>\n",
       "      <td>10525.610390</td>\n",
       "    </tr>\n",
       "    <tr>\n",
       "      <th>2</th>\n",
       "      <td>1000003</td>\n",
       "      <td>M</td>\n",
       "      <td>26-35</td>\n",
       "      <td>A</td>\n",
       "      <td>3</td>\n",
       "      <td>Unmarried</td>\n",
       "      <td>29</td>\n",
       "      <td>341635</td>\n",
       "      <td>11780.517241</td>\n",
       "    </tr>\n",
       "    <tr>\n",
       "      <th>3</th>\n",
       "      <td>1000004</td>\n",
       "      <td>M</td>\n",
       "      <td>46-50</td>\n",
       "      <td>B</td>\n",
       "      <td>2</td>\n",
       "      <td>Married</td>\n",
       "      <td>14</td>\n",
       "      <td>206468</td>\n",
       "      <td>14747.714286</td>\n",
       "    </tr>\n",
       "    <tr>\n",
       "      <th>4</th>\n",
       "      <td>1000005</td>\n",
       "      <td>M</td>\n",
       "      <td>26-35</td>\n",
       "      <td>A</td>\n",
       "      <td>1</td>\n",
       "      <td>Married</td>\n",
       "      <td>106</td>\n",
       "      <td>821001</td>\n",
       "      <td>7745.292453</td>\n",
       "    </tr>\n",
       "  </tbody>\n",
       "</table>\n",
       "</div>"
      ],
      "text/plain": [
       "   User_ID Gender    Age City_Category Stay_In_Current_City_Years  \\\n",
       "0  1000001      F   0-17             A                          2   \n",
       "1  1000002      M    55+             C                         4+   \n",
       "2  1000003      M  26-35             A                          3   \n",
       "3  1000004      M  46-50             B                          2   \n",
       "4  1000005      M  26-35             A                          1   \n",
       "\n",
       "  Marital_Status  # Transaction  $ Revenue  Avg. Revenue per Transaction  \n",
       "0      Unmarried             35     334093                   9545.514286  \n",
       "1      Unmarried             77     810472                  10525.610390  \n",
       "2      Unmarried             29     341635                  11780.517241  \n",
       "3        Married             14     206468                  14747.714286  \n",
       "4        Married            106     821001                   7745.292453  "
      ]
     },
     "execution_count": 230,
     "metadata": {},
     "output_type": "execute_result"
    }
   ],
   "source": [
    "# Data Aggregation\n",
    "\n",
    "def get_size(collection):\n",
    "    if type(collection) in {str, int, float}:\n",
    "        return 1\n",
    "    elif type(collection) in {list, set, dict}:\n",
    "        n = 0\n",
    "        collections = collection.values() if type(collection) == dict else collection\n",
    "        for sub_collection in collections:\n",
    "            n += get_size(sub_collection)\n",
    "        return n\n",
    "    else:\n",
    "        return 0\n",
    "\n",
    "def remove_agg_prefixes(name, prefixes, trim= True):\n",
    "    for prefix in prefixes:\n",
    "        name = name.replace(prefix, '')\n",
    "    \n",
    "    name = name.strip()\n",
    "\n",
    "    return name\n",
    "\n",
    "\n",
    "def get_agg_data(data, groupby_coulmns, base_aggs, custom_aggs, include= 'custom', ret_agg_names= False):\n",
    "    base_agg_data = data.groupby(groupby_coulmns, observed= True).agg(**base_aggs)\n",
    "    base_agg_names = list(base_aggs.keys())\n",
    "    if include == 'base':\n",
    "        if ret_agg_names:\n",
    "            return base_agg_data.reset_index(), base_agg_names\n",
    "        return base_agg_data.reset_index()\n",
    "\n",
    "    custom_agg_names = []\n",
    "    agg_data = base_agg_data.copy()\n",
    "    for agg_type, agg_columns in custom_aggs.items():\n",
    "        if agg_type == '%':\n",
    "            for column in agg_columns:\n",
    "                new_column = remove_agg_prefixes(column, ['#', '$'])\n",
    "                agg_data[f'% {new_column}'] = agg_data[column] * 100 / agg_data[column].sum()\n",
    "                custom_agg_names.append(f'% {new_column}')\n",
    "        elif agg_type == 'Avg.':\n",
    "            for numerator, denominators in agg_columns.items():\n",
    "                new_numerator = remove_agg_prefixes(numerator, ['#', '$'])\n",
    "                for denominator in denominators:\n",
    "                    new_denominator = remove_agg_prefixes(denominator, ['#', '$'])\n",
    "                    agg_data[f'Avg. {new_numerator} per {new_denominator}'] = agg_data[numerator] / agg_data[denominator]\n",
    "                    custom_agg_names.append(f'Avg. {new_numerator} per {new_denominator}')\n",
    "    \n",
    "    if include == 'both':\n",
    "        if ret_agg_names:\n",
    "            return agg_data.reset_index(), base_agg_names + custom_agg_names\n",
    "        return agg_data.reset_index()\n",
    "\n",
    "    if ret_agg_names:\n",
    "        return agg_data.drop(columns= base_agg_data.columns.tolist()).reset_index(), custom_agg_names\n",
    "    return agg_data.drop(columns= base_agg_data.columns.tolist()).reset_index()\n",
    "\n",
    "user_base_aggs = {\n",
    "    '# Transaction': ('Transaction_ID', 'count'),\n",
    "    '$ Revenue': ('Purchase', 'sum')\n",
    "}\n",
    "\n",
    "user_custom_aggs = {\n",
    "    'Avg.': {\n",
    "        '$ Revenue': ['# Transaction']\n",
    "    }\n",
    "}\n",
    "\n",
    "user_agg_data, user_agg_columns = get_agg_data(analysis_data, ['User_ID'] + categorical_columns, user_base_aggs, user_custom_aggs, include= 'both', ret_agg_names= True)\n",
    "\n",
    "user_agg_data.head()"
   ]
  },
  {
   "cell_type": "markdown",
   "metadata": {},
   "source": [
    "**Test Hypothesis Framework**\n",
    "\n",
    "*Metric: Avg purchase amount per transaction*\n",
    "\n",
    "*Null Hypothesis: There is no significant difference between the variables*\n",
    "\n",
    "| Variable          | Variable Type | Cardinality   | Alternate Hypothesis       |\n",
    "| :---------------- | :------------ | :------------ | :------------------------- |\n",
    "| Gender            | Categorical   | 2             | Greater for Male           |\n",
    "| Marital_Status    | Categorical   | 2             | Greater for Unmarried      |\n",
    "| Age               | Categorical   | 6             | Greater for (26-35 / 18-45)|\n",
    "| City_Category     | Categorical   | 3             | Lesser for City C          |\n"
   ]
  },
  {
   "cell_type": "markdown",
   "metadata": {},
   "source": [
    "**Choice of Test Framework**\n",
    "\n",
    "```yaml\n",
    "Variable Type\n",
    "├── Numerical vs Categorical:\n",
    "│   ├── Cardinality = 2:\n",
    "│   |   ├── Normal: Yes → Two Sample T-Test Independent\n",
    "│   |   └── Normal: No → Two Sample KS-Test\n",
    "│   └── Cardinality > 2: No  → Outcome B\n",
    "│       ├── Normal and Homoscedastic: Yes → Two Sample ANOVA\n",
    "│       └── Normal and Homoscedastic: No → Kruskal-Wallis Test\n",
    "├── Categorical vs Categorical:\n",
    "└── Numerical vs Numerical:\n",
    "```"
   ]
  },
  {
   "cell_type": "markdown",
   "metadata": {},
   "source": [
    "## Gender\n",
    "\n",
    "*Metric: Avg purchase amount per transaction*\n",
    "\n",
    "*Null Hypothesis (H0): There is no significant difference between the male vs female customers*\n",
    "\n",
    "*Alternate Hypothesis(Ha): Male avg purchase amount per transaction is greater than female*\n"
   ]
  },
  {
   "cell_type": "code",
   "execution_count": 231,
   "metadata": {},
   "outputs": [
    {
     "name": "stdout",
     "output_type": "stream",
     "text": [
      "float64 category\n",
      "(5891,) 2\n"
     ]
    },
    {
     "data": {
      "text/plain": [
       "Gender\n",
       "M    4225\n",
       "F    1666\n",
       "Name: count, dtype: int64"
      ]
     },
     "execution_count": 231,
     "metadata": {},
     "output_type": "execute_result"
    }
   ],
   "source": [
    "# Checking for data types and cardinality and sample size\n",
    "\n",
    "print(user_agg_data['Avg. Revenue per Transaction'].dtype, user_agg_data['Gender'].dtype)\n",
    "\n",
    "print(user_agg_data['Avg. Revenue per Transaction'].shape, user_agg_data['Gender'].nunique())\n",
    "\n",
    "user_agg_data['Gender'].value_counts()"
   ]
  },
  {
   "cell_type": "markdown",
   "metadata": {},
   "source": [
    "*Sample size: 5891 (no. of customers)*\n",
    "\n",
    "*Data Types: Avg Revenue per Transaction is Numerical and Gender is categorical*\n",
    "\n",
    "*Cardinality: Gender has 2 values M (male: 4225) and F (female: 1666)*"
   ]
  },
  {
   "cell_type": "code",
   "execution_count": 232,
   "metadata": {},
   "outputs": [
    {
     "data": {
      "image/png": "[encoded data removed]",
      "text/plain": [
       "<Figure size 640x480 with 1 Axes>"
      ]
     },
     "metadata": {},
     "output_type": "display_data"
    },
    {
     "name": "stdout",
     "output_type": "stream",
     "text": [
      "The sample data not follow a normal distribution at 95% confidence level with ks_stat: 1.0, p_val: 0.0\n"
     ]
    }
   ],
   "source": [
    "# Checking for Normality of the metric using QQ plot and KS Test (one sample - theoretical normal)\n",
    "\n",
    "sm.qqplot(user_agg_data['Avg. Revenue per Transaction'], line= 's')\n",
    "plt.show()\n",
    "\n",
    "ks_stat, p_val = st.kstest(user_agg_data['Avg. Revenue per Transaction'], 'norm')\n",
    "\n",
    "alpha = 0.05\n",
    "if p_val > alpha:\n",
    "    print(f\"The sample data follows a normal distribution at {int((1 - alpha)*100)}% confidence level with ks_stat: {ks_stat}, p_val: {p_val}\")\n",
    "else:\n",
    "    print(f\"The sample data not follow a normal distribution at {int((1 - alpha)*100)}% confidence level with ks_stat: {ks_stat}, p_val: {p_val}\")"
   ]
  },
  {
   "cell_type": "markdown",
   "metadata": {},
   "source": [
    "### Observations:\n",
    "- The qq plot looks mostly linear with outliers towards the right, \n",
    "- The ks test shows that the sample is not following a normal distribution"
   ]
  },
  {
   "cell_type": "code",
   "execution_count": 233,
   "metadata": {},
   "outputs": [],
   "source": [
    "male_purchase_data = user_agg_data[user_agg_data['Gender'] == 'M']['Avg. Revenue per Transaction']\n",
    "female_purchase_data = user_agg_data[user_agg_data['Gender'] == 'F']['Avg. Revenue per Transaction']"
   ]
  },
  {
   "cell_type": "markdown",
   "metadata": {},
   "source": [
    "**Assumption: Average spending does not follow a normal distribution as per the ks test**"
   ]
  },
  {
   "cell_type": "markdown",
   "metadata": {},
   "source": [
    "**Checking for the null hypothesis using Two Sample KS Test with two tailed alternative hypothesis**\n"
   ]
  },
  {
   "cell_type": "code",
   "execution_count": 234,
   "metadata": {},
   "outputs": [
    {
     "name": "stdout",
     "output_type": "stream",
     "text": [
      "ks_stat: 0.219469, p_val: 0.000000\n",
      "There is a significant difference between Male and Female purchase distributions at 95% confidence level\n"
     ]
    }
   ],
   "source": [
    "ks_stat, p_val = st.kstest(male_purchase_data, female_purchase_data, alternative= 'two-sided')\n",
    "\n",
    "print(f\"ks_stat: {ks_stat:4f}, p_val: {p_val:4f}\")\n",
    "\n",
    "\n",
    "alpha = 0.05\n",
    "if p_val > alpha:\n",
    "    print(f\"There is not significant difference between Male and Female purchase distributions at {int((1 - alpha)*100)}% confidence level\")\n",
    "else:\n",
    "    print(f\"There is a significant difference between Male and Female purchase distributions at {int((1 - alpha)*100)}% confidence level\")"
   ]
  },
  {
   "cell_type": "markdown",
   "metadata": {},
   "source": [
    "### Observations:\n",
    "- The average spending amount **is significantly different** for male vs female customers"
   ]
  },
  {
   "cell_type": "markdown",
   "metadata": {},
   "source": [
    "**Assumption: Average spending follows almost normal distribution as per the qq plot, despite the ks test not showing significance**"
   ]
  },
  {
   "cell_type": "code",
   "execution_count": 235,
   "metadata": {},
   "outputs": [
    {
     "data": {
      "text/plain": [
       "(9806.867524226629, 8965.19846393646)"
      ]
     },
     "execution_count": 235,
     "metadata": {},
     "output_type": "execute_result"
    }
   ],
   "source": [
    "male_purchase_data.mean(), female_purchase_data.mean()"
   ]
  },
  {
   "cell_type": "markdown",
   "metadata": {},
   "source": [
    "**Checking for the null hypothesis using Two Sample T Test with left tailed alternative hypothesis (male spending is greater than female)**\n",
    "\n",
    "*Left tailed test because mean of avg purchase amount for male is higher than female*"
   ]
  },
  {
   "cell_type": "code",
   "execution_count": 236,
   "metadata": {},
   "outputs": [
    {
     "name": "stdout",
     "output_type": "stream",
     "text": [
      "t_stat: 15.710671, p_val: 0.000000\n",
      "Male avg purchase amount is significantly greater than Female at 95% confidence level\n"
     ]
    }
   ],
   "source": [
    "t_stat, p_val = st.ttest_ind(male_purchase_data, female_purchase_data, alternative= 'greater')\n",
    "\n",
    "print(f\"t_stat: {t_stat:4f}, p_val: {p_val:4f}\")\n",
    "\n",
    "\n",
    "alpha = 0.05\n",
    "if p_val > alpha:\n",
    "    print(f\"There is no significant difference between avg spending for Male and Female users at {int((1 - alpha)*100)}% confidence level\")\n",
    "else:\n",
    "    print(f\"Male avg purchase amount is significantly greater than Female at {int((1 - alpha)*100)}% confidence level\")"
   ]
  },
  {
   "cell_type": "markdown",
   "metadata": {},
   "source": [
    "### Observations:\n",
    "- Male avg purchase amount is significantly greater than Female as per the left tailed t-test at 95% confidence level"
   ]
  },
  {
   "cell_type": "markdown",
   "metadata": {},
   "source": [
    "**Calculating the confidence intervals for male and female avg purchase amount**"
   ]
  },
  {
   "cell_type": "code",
   "execution_count": 237,
   "metadata": {},
   "outputs": [
    {
     "name": "stdout",
     "output_type": "stream",
     "text": [
      "Male population avg purchase amount 95% confidence interval: 9749.383406 - 9849.087789\n",
      "Female population avg purchase amount 95% confidence interval: 8883.296988 - 9025.352504\n"
     ]
    }
   ],
   "source": [
    "male_purchase_size, male_purchase_mean, male_purchase_std = male_purchase_data.shape[0], male_purchase_data.mean(), male_purchase_data.std()\n",
    "female_purchase_size, female_purchase_mean, female_purchase_std = female_purchase_data.shape[0], female_purchase_data.mean(), female_purchase_data.std()\n",
    "\n",
    "male_purchase_se, female_purchase_se = male_purchase_std / mt.sqrt(male_purchase_size), female_purchase_std / mt.sqrt(female_purchase_size)\n",
    "\n",
    "width = 0.95\n",
    "\n",
    "lower_width, upper_width = (1 - width)/2, width - ((1-width)/2)\n",
    "male_purchase_lower, male_purchase_upper = male_purchase_mean + (st.norm.ppf(lower_width) * male_purchase_se), male_purchase_mean + (st.norm.ppf(upper_width) * male_purchase_se)\n",
    "female_purchase_lower, female_purchase_upper = female_purchase_mean + (st.norm.ppf(lower_width) * female_purchase_se), female_purchase_mean + (st.norm.ppf(upper_width) * female_purchase_se)\n",
    "\n",
    "print(f\"Male population avg purchase amount {int(width*100)}% confidence interval: {male_purchase_lower:2f} - {male_purchase_upper:2f}\")\n",
    "print(f\"Female population avg purchase amount {int(width*100)}% confidence interval: {female_purchase_lower:2f} - {female_purchase_upper:2f}\")"
   ]
  },
  {
   "cell_type": "markdown",
   "metadata": {},
   "source": [
    "### Observations:\n",
    "\n",
    "- There is no overlap between male (9749.4 - 9849.1) and female (8883.3 - 9025.3) avg purchase amount for the population at 95% confidence interval"
   ]
  },
  {
   "cell_type": "markdown",
   "metadata": {},
   "source": [
    "**Validating the overlap of confidence intervals for male and female avg purchase amount at different widths and sample sizes**"
   ]
  },
  {
   "cell_type": "code",
   "execution_count": 238,
   "metadata": {},
   "outputs": [],
   "source": [
    "def get_confidence_interval(data, sample_pct, width):\n",
    "    if sample_pct < 1:\n",
    "        sample_data = data.sample(frac= sample_pct)\n",
    "    else:\n",
    "        sample_data = data\n",
    "\n",
    "    sample_size, sample_mean, sample_std = sample_data.shape[0], sample_data.mean(), sample_data.std()\n",
    "\n",
    "    sample_se = sample_std / mt.sqrt(sample_size)\n",
    "\n",
    "    lower_width, upper_width = (1 - width)/2, width - ((1-width)/2)\n",
    "    sample_lower, sample_upper = (\n",
    "        sample_mean + (st.norm.ppf(lower_width) * sample_se),\n",
    "        sample_mean + (st.norm.ppf(upper_width) * sample_se)\n",
    "        )\n",
    "\n",
    "    return [sample_lower, sample_upper]\n",
    "\n",
    "def check_overlap(left_interval, right_interval):\n",
    "    if len(left_interval) != 2 or len(right_interval) != 2:\n",
    "        return 'Invalid inteval size'\n",
    "    \n",
    "    if (left_interval[0] > left_interval[1]) or (right_interval[0] > right_interval[1]):\n",
    "        return 'Invalid interval order'\n",
    "    \n",
    "    if left_interval[1] < right_interval[0] or right_interval[1] < left_interval[0]:\n",
    "        return 'No Overlap'\n",
    "    \n",
    "    return 'Overlap'"
   ]
  },
  {
   "cell_type": "code",
   "execution_count": 239,
   "metadata": {},
   "outputs": [
    {
     "data": {
      "text/html": [
       "<div>\n",
       "<style scoped>\n",
       "    .dataframe tbody tr th:only-of-type {\n",
       "        vertical-align: middle;\n",
       "    }\n",
       "\n",
       "    .dataframe tbody tr th {\n",
       "        vertical-align: top;\n",
       "    }\n",
       "\n",
       "    .dataframe thead th {\n",
       "        text-align: right;\n",
       "    }\n",
       "</style>\n",
       "<table border=\"1\" class=\"dataframe\">\n",
       "  <thead>\n",
       "    <tr style=\"text-align: right;\">\n",
       "      <th></th>\n",
       "      <th>width</th>\n",
       "      <th>sample_pct</th>\n",
       "      <th>female_interval</th>\n",
       "      <th>female_interval_range</th>\n",
       "      <th>male_interval</th>\n",
       "      <th>male_interval_range</th>\n",
       "      <th>overlap_status</th>\n",
       "    </tr>\n",
       "  </thead>\n",
       "  <tbody>\n",
       "    <tr>\n",
       "      <th>0</th>\n",
       "      <td>0.90</td>\n",
       "      <td>0.10</td>\n",
       "      <td>[8647.468020, 8994.012280]</td>\n",
       "      <td>346.544260</td>\n",
       "      <td>[9542.189623, 9794.636555]</td>\n",
       "      <td>252.446932</td>\n",
       "      <td>No Overlap</td>\n",
       "    </tr>\n",
       "    <tr>\n",
       "      <th>1</th>\n",
       "      <td>0.90</td>\n",
       "      <td>0.25</td>\n",
       "      <td>[8920.965302, 9150.820886]</td>\n",
       "      <td>229.855584</td>\n",
       "      <td>[9701.903459, 9857.867370]</td>\n",
       "      <td>155.963911</td>\n",
       "      <td>No Overlap</td>\n",
       "    </tr>\n",
       "    <tr>\n",
       "      <th>2</th>\n",
       "      <td>0.90</td>\n",
       "      <td>0.50</td>\n",
       "      <td>[8792.946236, 8950.332967]</td>\n",
       "      <td>157.386731</td>\n",
       "      <td>[9773.049416, 9885.833321]</td>\n",
       "      <td>112.783905</td>\n",
       "      <td>No Overlap</td>\n",
       "    </tr>\n",
       "    <tr>\n",
       "      <th>3</th>\n",
       "      <td>0.90</td>\n",
       "      <td>0.75</td>\n",
       "      <td>[8882.082229, 9014.193469]</td>\n",
       "      <td>132.111240</td>\n",
       "      <td>[9722.305494, 9814.338707]</td>\n",
       "      <td>92.033213</td>\n",
       "      <td>No Overlap</td>\n",
       "    </tr>\n",
       "    <tr>\n",
       "      <th>4</th>\n",
       "      <td>0.90</td>\n",
       "      <td>0.90</td>\n",
       "      <td>[8867.108260, 8983.951388]</td>\n",
       "      <td>116.843128</td>\n",
       "      <td>[9777.862598, 9860.821258]</td>\n",
       "      <td>82.958660</td>\n",
       "      <td>No Overlap</td>\n",
       "    </tr>\n",
       "    <tr>\n",
       "      <th>5</th>\n",
       "      <td>0.95</td>\n",
       "      <td>0.10</td>\n",
       "      <td>[8585.718804, 9030.214972]</td>\n",
       "      <td>444.496168</td>\n",
       "      <td>[9608.869028, 9921.376261]</td>\n",
       "      <td>312.507233</td>\n",
       "      <td>No Overlap</td>\n",
       "    </tr>\n",
       "    <tr>\n",
       "      <th>6</th>\n",
       "      <td>0.95</td>\n",
       "      <td>0.25</td>\n",
       "      <td>[8758.716601, 9042.123547]</td>\n",
       "      <td>283.406946</td>\n",
       "      <td>[9661.472124, 9854.140279]</td>\n",
       "      <td>192.668154</td>\n",
       "      <td>No Overlap</td>\n",
       "    </tr>\n",
       "    <tr>\n",
       "      <th>7</th>\n",
       "      <td>0.95</td>\n",
       "      <td>0.50</td>\n",
       "      <td>[8795.660381, 8995.740164]</td>\n",
       "      <td>200.079782</td>\n",
       "      <td>[9705.943246, 9847.778509]</td>\n",
       "      <td>141.835263</td>\n",
       "      <td>No Overlap</td>\n",
       "    </tr>\n",
       "    <tr>\n",
       "      <th>8</th>\n",
       "      <td>0.95</td>\n",
       "      <td>0.75</td>\n",
       "      <td>[8874.324352, 9036.269309]</td>\n",
       "      <td>161.944957</td>\n",
       "      <td>[9758.463250, 9873.569937]</td>\n",
       "      <td>115.106687</td>\n",
       "      <td>No Overlap</td>\n",
       "    </tr>\n",
       "    <tr>\n",
       "      <th>9</th>\n",
       "      <td>0.95</td>\n",
       "      <td>0.90</td>\n",
       "      <td>[8896.957107, 9047.661243]</td>\n",
       "      <td>150.704136</td>\n",
       "      <td>[9741.637269, 9846.918630]</td>\n",
       "      <td>105.281361</td>\n",
       "      <td>No Overlap</td>\n",
       "    </tr>\n",
       "    <tr>\n",
       "      <th>10</th>\n",
       "      <td>0.99</td>\n",
       "      <td>0.10</td>\n",
       "      <td>[8880.536779, 9498.972138]</td>\n",
       "      <td>618.435359</td>\n",
       "      <td>[9486.254550, 9921.113770]</td>\n",
       "      <td>434.859220</td>\n",
       "      <td>Overlap</td>\n",
       "    </tr>\n",
       "    <tr>\n",
       "      <th>11</th>\n",
       "      <td>0.99</td>\n",
       "      <td>0.25</td>\n",
       "      <td>[8682.002085, 9063.624367]</td>\n",
       "      <td>381.622282</td>\n",
       "      <td>[9639.317577, 9922.502641]</td>\n",
       "      <td>283.185064</td>\n",
       "      <td>No Overlap</td>\n",
       "    </tr>\n",
       "    <tr>\n",
       "      <th>12</th>\n",
       "      <td>0.99</td>\n",
       "      <td>0.50</td>\n",
       "      <td>[8920.609702, 9213.483866]</td>\n",
       "      <td>292.874164</td>\n",
       "      <td>[9740.129105, 9937.818694]</td>\n",
       "      <td>197.689589</td>\n",
       "      <td>No Overlap</td>\n",
       "    </tr>\n",
       "    <tr>\n",
       "      <th>13</th>\n",
       "      <td>0.99</td>\n",
       "      <td>0.75</td>\n",
       "      <td>[8873.823194, 9106.498282]</td>\n",
       "      <td>232.675088</td>\n",
       "      <td>[9728.289677, 9889.521837]</td>\n",
       "      <td>161.232160</td>\n",
       "      <td>No Overlap</td>\n",
       "    </tr>\n",
       "    <tr>\n",
       "      <th>14</th>\n",
       "      <td>0.99</td>\n",
       "      <td>0.90</td>\n",
       "      <td>[8859.732715, 9068.173353]</td>\n",
       "      <td>208.440638</td>\n",
       "      <td>[9718.177802, 9864.751532]</td>\n",
       "      <td>146.573730</td>\n",
       "      <td>No Overlap</td>\n",
       "    </tr>\n",
       "  </tbody>\n",
       "</table>\n",
       "</div>"
      ],
      "text/plain": [
       "    width  sample_pct             female_interval  female_interval_range  \\\n",
       "0    0.90        0.10  [8647.468020, 8994.012280]             346.544260   \n",
       "1    0.90        0.25  [8920.965302, 9150.820886]             229.855584   \n",
       "2    0.90        0.50  [8792.946236, 8950.332967]             157.386731   \n",
       "3    0.90        0.75  [8882.082229, 9014.193469]             132.111240   \n",
       "4    0.90        0.90  [8867.108260, 8983.951388]             116.843128   \n",
       "5    0.95        0.10  [8585.718804, 9030.214972]             444.496168   \n",
       "6    0.95        0.25  [8758.716601, 9042.123547]             283.406946   \n",
       "7    0.95        0.50  [8795.660381, 8995.740164]             200.079782   \n",
       "8    0.95        0.75  [8874.324352, 9036.269309]             161.944957   \n",
       "9    0.95        0.90  [8896.957107, 9047.661243]             150.704136   \n",
       "10   0.99        0.10  [8880.536779, 9498.972138]             618.435359   \n",
       "11   0.99        0.25  [8682.002085, 9063.624367]             381.622282   \n",
       "12   0.99        0.50  [8920.609702, 9213.483866]             292.874164   \n",
       "13   0.99        0.75  [8873.823194, 9106.498282]             232.675088   \n",
       "14   0.99        0.90  [8859.732715, 9068.173353]             208.440638   \n",
       "\n",
       "                 male_interval  male_interval_range overlap_status  \n",
       "0   [9542.189623, 9794.636555]           252.446932     No Overlap  \n",
       "1   [9701.903459, 9857.867370]           155.963911     No Overlap  \n",
       "2   [9773.049416, 9885.833321]           112.783905     No Overlap  \n",
       "3   [9722.305494, 9814.338707]            92.033213     No Overlap  \n",
       "4   [9777.862598, 9860.821258]            82.958660     No Overlap  \n",
       "5   [9608.869028, 9921.376261]           312.507233     No Overlap  \n",
       "6   [9661.472124, 9854.140279]           192.668154     No Overlap  \n",
       "7   [9705.943246, 9847.778509]           141.835263     No Overlap  \n",
       "8   [9758.463250, 9873.569937]           115.106687     No Overlap  \n",
       "9   [9741.637269, 9846.918630]           105.281361     No Overlap  \n",
       "10  [9486.254550, 9921.113770]           434.859220        Overlap  \n",
       "11  [9639.317577, 9922.502641]           283.185064     No Overlap  \n",
       "12  [9740.129105, 9937.818694]           197.689589     No Overlap  \n",
       "13  [9728.289677, 9889.521837]           161.232160     No Overlap  \n",
       "14  [9718.177802, 9864.751532]           146.573730     No Overlap  "
      ]
     },
     "execution_count": 239,
     "metadata": {},
     "output_type": "execute_result"
    }
   ],
   "source": [
    "params = {\n",
    "    'width': [0.90, 0.95, 0.99],\n",
    "    'sample_pct': [0.10, 0.25, 0.50, 0.75, 0.90]\n",
    "}\n",
    "\n",
    "confidence_intervals_data = pd.DataFrame()\n",
    "\n",
    "for w in params['width']:\n",
    "    for pct in params['sample_pct']:\n",
    "        male_confidence_interval = get_confidence_interval(male_purchase_data, sample_pct= pct, width= w)\n",
    "        female_confidence_interval = get_confidence_interval(female_purchase_data, sample_pct= pct, width= w)\n",
    "\n",
    "        current_confidence_intervals = pd.DataFrame(\n",
    "            {\n",
    "                'width': w, 'sample_pct': pct,\n",
    "                'female_interval': f'[{female_confidence_interval[0]:2f}, {female_confidence_interval[1]:2f}]',\n",
    "                'female_interval_range': female_confidence_interval[1] - female_confidence_interval[0],\n",
    "                'male_interval': f'[{male_confidence_interval[0]:2f}, {male_confidence_interval[1]:2f}]',\n",
    "                'male_interval_range': male_confidence_interval[1] - male_confidence_interval[0],\n",
    "                'overlap_status': check_overlap(male_confidence_interval, female_confidence_interval)\n",
    "            },\n",
    "            index= [0]\n",
    "        )\n",
    "\n",
    "        confidence_intervals_data = (\n",
    "            pd.concat([confidence_intervals_data, current_confidence_intervals], ignore_index= True)\n",
    "        )\n",
    "\n",
    "confidence_intervals_data"
   ]
  },
  {
   "cell_type": "markdown",
   "metadata": {},
   "source": [
    "### Observations:\n",
    "\n",
    "- The confidence interval range increases as the sample size decreases and also as the width increases\n",
    "- There is no overlap at different combinations of width and sample sizes\n",
    "- Hence, it can be concluded that male avg spend amount is significantly higher than female"
   ]
  },
  {
   "cell_type": "markdown",
   "metadata": {},
   "source": [
    "## Marital Status\n",
    "\n",
    "*Metric: Avg purchase amount per transaction*\n",
    "\n",
    "*Null Hypothesis (H0): There is no significant difference between the married vs unmarried customers*\n",
    "\n",
    "*Alternate Hypothesis(Ha): Avg purchase amount per transaction is greater for Married customers than Unmarried*\n"
   ]
  },
  {
   "cell_type": "code",
   "execution_count": 240,
   "metadata": {},
   "outputs": [
    {
     "name": "stdout",
     "output_type": "stream",
     "text": [
      "float64 category\n",
      "(5891,) 2\n"
     ]
    },
    {
     "data": {
      "text/plain": [
       "Marital_Status\n",
       "Unmarried    3417\n",
       "Married      2474\n",
       "Name: count, dtype: int64"
      ]
     },
     "execution_count": 240,
     "metadata": {},
     "output_type": "execute_result"
    }
   ],
   "source": [
    "# Checking for data types and cardinality and sample size\n",
    "\n",
    "print(user_agg_data['Avg. Revenue per Transaction'].dtype, user_agg_data['Marital_Status'].dtype)\n",
    "\n",
    "print(user_agg_data['Avg. Revenue per Transaction'].shape, user_agg_data['Marital_Status'].nunique())\n",
    "\n",
    "user_agg_data['Marital_Status'].value_counts()"
   ]
  },
  {
   "cell_type": "markdown",
   "metadata": {},
   "source": [
    "*Sample size: 5891 (no. of customers)*\n",
    "\n",
    "*Data Types: Avg Revenue per Transaction is Numerical and Marital Status is categorical*\n",
    "\n",
    "*Cardinality: Gender has 2 values Unmarried (3417) and Married (2474)*"
   ]
  },
  {
   "cell_type": "code",
   "execution_count": 241,
   "metadata": {},
   "outputs": [],
   "source": [
    "married_purchase_data = user_agg_data[user_agg_data['Marital_Status'] == 'Married']['Avg. Revenue per Transaction']\n",
    "unmarried_purchase_data = user_agg_data[user_agg_data['Marital_Status'] == 'Unmarried']['Avg. Revenue per Transaction']"
   ]
  },
  {
   "cell_type": "markdown",
   "metadata": {},
   "source": [
    "**Assumption: Average spending does not follow a normal distribution as per the ks test**"
   ]
  },
  {
   "cell_type": "markdown",
   "metadata": {},
   "source": [
    "**Checking for the null hypothesis using Two Sample KS Test with two tailed alternative hypothesis**\n"
   ]
  },
  {
   "cell_type": "code",
   "execution_count": 242,
   "metadata": {},
   "outputs": [
    {
     "name": "stdout",
     "output_type": "stream",
     "text": [
      "ks_stat: 0.023913, p_val: 0.377029\n",
      "There is no significant difference between Unmarried and Married customer purchase distributions at 95% confidence level\n"
     ]
    }
   ],
   "source": [
    "ks_stat, p_val = st.kstest(married_purchase_data, unmarried_purchase_data, alternative= 'two-sided')\n",
    "\n",
    "print(f\"ks_stat: {ks_stat:4f}, p_val: {p_val:4f}\")\n",
    "\n",
    "\n",
    "alpha = 0.05\n",
    "if p_val > alpha:\n",
    "    print(f\"There is no significant difference between Unmarried and Married customer purchase distributions at {int((1 - alpha)*100)}% confidence level\")\n",
    "else:\n",
    "    print(f\"There is a significant difference between Unmarried and Married customer purchase distributions at {int((1 - alpha)*100)}% confidence level\")"
   ]
  },
  {
   "cell_type": "markdown",
   "metadata": {},
   "source": [
    "### Observations:\n",
    "- The average spending amount **is not significantly different** for married vs unmarried customers"
   ]
  },
  {
   "cell_type": "markdown",
   "metadata": {},
   "source": [
    "**Assumption: Average spending follows almost normal distribution as per the qq plot, despite the ks test showing otherwise**"
   ]
  },
  {
   "cell_type": "code",
   "execution_count": 243,
   "metadata": {},
   "outputs": [
    {
     "data": {
      "text/plain": [
       "(9574.962299031744, 9564.407141636266)"
      ]
     },
     "execution_count": 243,
     "metadata": {},
     "output_type": "execute_result"
    }
   ],
   "source": [
    "married_purchase_data.mean(), unmarried_purchase_data.mean()"
   ]
  },
  {
   "cell_type": "markdown",
   "metadata": {},
   "source": [
    "**Checking for the null hypothesis using Two Sample T Test with left tailed alternative hypothesis (married spending is greater than unmarried)**\n",
    "\n",
    "*Left tailed test because mean of avg purchase amount for married is higher than unmarried*"
   ]
  },
  {
   "cell_type": "code",
   "execution_count": 244,
   "metadata": {},
   "outputs": [
    {
     "name": "stdout",
     "output_type": "stream",
     "text": [
      "t_stat: 0.211532, p_val: 0.416240\n",
      "There is no significant difference between avg spending for married and unmarried users at 95% confidence level\n"
     ]
    }
   ],
   "source": [
    "t_stat, p_val = st.ttest_ind(married_purchase_data, unmarried_purchase_data, alternative= 'greater')\n",
    "\n",
    "print(f\"t_stat: {t_stat:4f}, p_val: {p_val:4f}\")\n",
    "\n",
    "\n",
    "alpha = 0.05\n",
    "if p_val > alpha:\n",
    "    print(f\"There is no significant difference between avg spending for married and unmarried users at {int((1 - alpha)*100)}% confidence level\")\n",
    "else:\n",
    "    print(f\"Married customer avg purchase amount is significantly greater than Unmarried customers at {int((1 - alpha)*100)}% confidence level\")"
   ]
  },
  {
   "cell_type": "markdown",
   "metadata": {},
   "source": [
    "### Observations:\n",
    "- There is no significant difference between avg spending between married and unmarried customers"
   ]
  },
  {
   "cell_type": "markdown",
   "metadata": {},
   "source": [
    "**Calculating the confidence intervals for Married and Unmarried avg purchase amount**"
   ]
  },
  {
   "cell_type": "code",
   "execution_count": 245,
   "metadata": {},
   "outputs": [
    {
     "name": "stdout",
     "output_type": "stream",
     "text": [
      "Married population avg purchase amount 95% confidence interval: 9499.780970 - 9630.180604\n",
      "Unmarried population avg purchase amount 95% confidence interval: 9501.461343 - 9610.638837\n"
     ]
    }
   ],
   "source": [
    "married_purchase_size, married_purchase_mean, married_purchase_std = married_purchase_data.shape[0], married_purchase_data.mean(), married_purchase_data.std()\n",
    "unmarried_purchase_size, unmarried_purchase_mean, unmarried_purchase_std = unmarried_purchase_data.shape[0], unmarried_purchase_data.mean(), unmarried_purchase_data.std()\n",
    "\n",
    "married_purchase_se, unmarried_purchase_se = married_purchase_std / mt.sqrt(married_purchase_size), unmarried_purchase_std / mt.sqrt(unmarried_purchase_size)\n",
    "\n",
    "width = 0.95\n",
    "\n",
    "lower_width, upper_width = (1 - width)/2, width - ((1-width)/2)\n",
    "married_purchase_lower, married_purchase_upper = married_purchase_mean + (st.norm.ppf(lower_width) * married_purchase_se), married_purchase_mean + (st.norm.ppf(upper_width) * married_purchase_se)\n",
    "unmarried_purchase_lower, unmarried_purchase_upper = unmarried_purchase_mean + (st.norm.ppf(lower_width) * unmarried_purchase_se), unmarried_purchase_mean + (st.norm.ppf(upper_width) * unmarried_purchase_se)\n",
    "\n",
    "print(f\"Married population avg purchase amount {int(width*100)}% confidence interval: {married_purchase_lower:2f} - {married_purchase_upper:2f}\")\n",
    "print(f\"Unmarried population avg purchase amount {int(width*100)}% confidence interval: {unmarried_purchase_lower:2f} - {unmarried_purchase_upper:2f}\")"
   ]
  },
  {
   "cell_type": "markdown",
   "metadata": {},
   "source": [
    "### Observations:\n",
    "\n",
    "- There is a full overlap of intervals between married and unmarried avg purchase amount for the population at 95% confidence interval\n",
    "- The interval for unmarried customers is contained within the married population interval"
   ]
  },
  {
   "cell_type": "markdown",
   "metadata": {},
   "source": [
    "**Validating the overlap of confidence intervals for married and unmarried avg purchase amount at different widths and sample sizes**"
   ]
  },
  {
   "cell_type": "code",
   "execution_count": 246,
   "metadata": {},
   "outputs": [
    {
     "data": {
      "text/html": [
       "<div>\n",
       "<style scoped>\n",
       "    .dataframe tbody tr th:only-of-type {\n",
       "        vertical-align: middle;\n",
       "    }\n",
       "\n",
       "    .dataframe tbody tr th {\n",
       "        vertical-align: top;\n",
       "    }\n",
       "\n",
       "    .dataframe thead th {\n",
       "        text-align: right;\n",
       "    }\n",
       "</style>\n",
       "<table border=\"1\" class=\"dataframe\">\n",
       "  <thead>\n",
       "    <tr style=\"text-align: right;\">\n",
       "      <th></th>\n",
       "      <th>width</th>\n",
       "      <th>sample_pct</th>\n",
       "      <th>unmarried_interval</th>\n",
       "      <th>unmarried_interval_range</th>\n",
       "      <th>married_interval</th>\n",
       "      <th>married_interval_range</th>\n",
       "      <th>overlap_status</th>\n",
       "    </tr>\n",
       "  </thead>\n",
       "  <tbody>\n",
       "    <tr>\n",
       "      <th>0</th>\n",
       "      <td>0.90</td>\n",
       "      <td>0.10</td>\n",
       "      <td>[9351.688895, 9615.144431]</td>\n",
       "      <td>263.455536</td>\n",
       "      <td>[9114.831019, 9433.882535]</td>\n",
       "      <td>319.051516</td>\n",
       "      <td>Overlap</td>\n",
       "    </tr>\n",
       "    <tr>\n",
       "      <th>1</th>\n",
       "      <td>0.90</td>\n",
       "      <td>0.25</td>\n",
       "      <td>[9397.728681, 9565.151838]</td>\n",
       "      <td>167.423157</td>\n",
       "      <td>[9359.752374, 9554.823889]</td>\n",
       "      <td>195.071516</td>\n",
       "      <td>Overlap</td>\n",
       "    </tr>\n",
       "    <tr>\n",
       "      <th>2</th>\n",
       "      <td>0.90</td>\n",
       "      <td>0.50</td>\n",
       "      <td>[9556.275944, 9680.212424]</td>\n",
       "      <td>123.936480</td>\n",
       "      <td>[9519.246347, 9666.986987]</td>\n",
       "      <td>147.740640</td>\n",
       "      <td>Overlap</td>\n",
       "    </tr>\n",
       "    <tr>\n",
       "      <th>3</th>\n",
       "      <td>0.90</td>\n",
       "      <td>0.75</td>\n",
       "      <td>[9495.839964, 9595.541372]</td>\n",
       "      <td>99.701408</td>\n",
       "      <td>[9489.049390, 9606.937250]</td>\n",
       "      <td>117.887860</td>\n",
       "      <td>Overlap</td>\n",
       "    </tr>\n",
       "    <tr>\n",
       "      <th>4</th>\n",
       "      <td>0.90</td>\n",
       "      <td>0.90</td>\n",
       "      <td>[9503.567304, 9593.961489]</td>\n",
       "      <td>90.394185</td>\n",
       "      <td>[9499.957068, 9607.854956]</td>\n",
       "      <td>107.897888</td>\n",
       "      <td>Overlap</td>\n",
       "    </tr>\n",
       "    <tr>\n",
       "      <th>5</th>\n",
       "      <td>0.95</td>\n",
       "      <td>0.10</td>\n",
       "      <td>[9391.428823, 9743.589370]</td>\n",
       "      <td>352.160547</td>\n",
       "      <td>[9377.931297, 9791.161428]</td>\n",
       "      <td>413.230132</td>\n",
       "      <td>Overlap</td>\n",
       "    </tr>\n",
       "    <tr>\n",
       "      <th>6</th>\n",
       "      <td>0.95</td>\n",
       "      <td>0.25</td>\n",
       "      <td>[9527.370508, 9756.850314]</td>\n",
       "      <td>229.479807</td>\n",
       "      <td>[9381.313081, 9631.888203]</td>\n",
       "      <td>250.575122</td>\n",
       "      <td>Overlap</td>\n",
       "    </tr>\n",
       "    <tr>\n",
       "      <th>7</th>\n",
       "      <td>0.95</td>\n",
       "      <td>0.50</td>\n",
       "      <td>[9459.104146, 9614.602272]</td>\n",
       "      <td>155.498126</td>\n",
       "      <td>[9479.863220, 9666.477767]</td>\n",
       "      <td>186.614547</td>\n",
       "      <td>Overlap</td>\n",
       "    </tr>\n",
       "    <tr>\n",
       "      <th>8</th>\n",
       "      <td>0.95</td>\n",
       "      <td>0.75</td>\n",
       "      <td>[9471.498259, 9597.639290]</td>\n",
       "      <td>126.141032</td>\n",
       "      <td>[9505.880807, 9656.991316]</td>\n",
       "      <td>151.110508</td>\n",
       "      <td>Overlap</td>\n",
       "    </tr>\n",
       "    <tr>\n",
       "      <th>9</th>\n",
       "      <td>0.95</td>\n",
       "      <td>0.90</td>\n",
       "      <td>[9510.060378, 9625.368222]</td>\n",
       "      <td>115.307843</td>\n",
       "      <td>[9503.493934, 9640.505658]</td>\n",
       "      <td>137.011724</td>\n",
       "      <td>Overlap</td>\n",
       "    </tr>\n",
       "    <tr>\n",
       "      <th>10</th>\n",
       "      <td>0.99</td>\n",
       "      <td>0.10</td>\n",
       "      <td>[9230.515736, 9718.159068]</td>\n",
       "      <td>487.643332</td>\n",
       "      <td>[9253.513003, 9793.443208]</td>\n",
       "      <td>539.930205</td>\n",
       "      <td>Overlap</td>\n",
       "    </tr>\n",
       "    <tr>\n",
       "      <th>11</th>\n",
       "      <td>0.99</td>\n",
       "      <td>0.25</td>\n",
       "      <td>[9411.138658, 9706.993075]</td>\n",
       "      <td>295.854416</td>\n",
       "      <td>[9417.159201, 9771.471632]</td>\n",
       "      <td>354.312431</td>\n",
       "      <td>Overlap</td>\n",
       "    </tr>\n",
       "    <tr>\n",
       "      <th>12</th>\n",
       "      <td>0.99</td>\n",
       "      <td>0.50</td>\n",
       "      <td>[9453.349718, 9669.383687]</td>\n",
       "      <td>216.033969</td>\n",
       "      <td>[9434.516861, 9692.129231]</td>\n",
       "      <td>257.612370</td>\n",
       "      <td>Overlap</td>\n",
       "    </tr>\n",
       "    <tr>\n",
       "      <th>13</th>\n",
       "      <td>0.99</td>\n",
       "      <td>0.75</td>\n",
       "      <td>[9490.798740, 9667.315678]</td>\n",
       "      <td>176.516938</td>\n",
       "      <td>[9452.034750, 9661.391734]</td>\n",
       "      <td>209.356984</td>\n",
       "      <td>Overlap</td>\n",
       "    </tr>\n",
       "    <tr>\n",
       "      <th>14</th>\n",
       "      <td>0.99</td>\n",
       "      <td>0.90</td>\n",
       "      <td>[9483.580054, 9644.699341]</td>\n",
       "      <td>161.119287</td>\n",
       "      <td>[9471.409886, 9664.442621]</td>\n",
       "      <td>193.032735</td>\n",
       "      <td>Overlap</td>\n",
       "    </tr>\n",
       "  </tbody>\n",
       "</table>\n",
       "</div>"
      ],
      "text/plain": [
       "    width  sample_pct          unmarried_interval  unmarried_interval_range  \\\n",
       "0    0.90        0.10  [9351.688895, 9615.144431]                263.455536   \n",
       "1    0.90        0.25  [9397.728681, 9565.151838]                167.423157   \n",
       "2    0.90        0.50  [9556.275944, 9680.212424]                123.936480   \n",
       "3    0.90        0.75  [9495.839964, 9595.541372]                 99.701408   \n",
       "4    0.90        0.90  [9503.567304, 9593.961489]                 90.394185   \n",
       "5    0.95        0.10  [9391.428823, 9743.589370]                352.160547   \n",
       "6    0.95        0.25  [9527.370508, 9756.850314]                229.479807   \n",
       "7    0.95        0.50  [9459.104146, 9614.602272]                155.498126   \n",
       "8    0.95        0.75  [9471.498259, 9597.639290]                126.141032   \n",
       "9    0.95        0.90  [9510.060378, 9625.368222]                115.307843   \n",
       "10   0.99        0.10  [9230.515736, 9718.159068]                487.643332   \n",
       "11   0.99        0.25  [9411.138658, 9706.993075]                295.854416   \n",
       "12   0.99        0.50  [9453.349718, 9669.383687]                216.033969   \n",
       "13   0.99        0.75  [9490.798740, 9667.315678]                176.516938   \n",
       "14   0.99        0.90  [9483.580054, 9644.699341]                161.119287   \n",
       "\n",
       "              married_interval  married_interval_range overlap_status  \n",
       "0   [9114.831019, 9433.882535]              319.051516        Overlap  \n",
       "1   [9359.752374, 9554.823889]              195.071516        Overlap  \n",
       "2   [9519.246347, 9666.986987]              147.740640        Overlap  \n",
       "3   [9489.049390, 9606.937250]              117.887860        Overlap  \n",
       "4   [9499.957068, 9607.854956]              107.897888        Overlap  \n",
       "5   [9377.931297, 9791.161428]              413.230132        Overlap  \n",
       "6   [9381.313081, 9631.888203]              250.575122        Overlap  \n",
       "7   [9479.863220, 9666.477767]              186.614547        Overlap  \n",
       "8   [9505.880807, 9656.991316]              151.110508        Overlap  \n",
       "9   [9503.493934, 9640.505658]              137.011724        Overlap  \n",
       "10  [9253.513003, 9793.443208]              539.930205        Overlap  \n",
       "11  [9417.159201, 9771.471632]              354.312431        Overlap  \n",
       "12  [9434.516861, 9692.129231]              257.612370        Overlap  \n",
       "13  [9452.034750, 9661.391734]              209.356984        Overlap  \n",
       "14  [9471.409886, 9664.442621]              193.032735        Overlap  "
      ]
     },
     "execution_count": 246,
     "metadata": {},
     "output_type": "execute_result"
    }
   ],
   "source": [
    "params = {\n",
    "    'width': [0.90, 0.95, 0.99],\n",
    "    'sample_pct': [0.10, 0.25, 0.50, 0.75, 0.90]\n",
    "}\n",
    "\n",
    "confidence_intervals_data = pd.DataFrame()\n",
    "\n",
    "for w in params['width']:\n",
    "    for pct in params['sample_pct']:\n",
    "        married_confidence_interval = get_confidence_interval(married_purchase_data, sample_pct= pct, width= w)\n",
    "        unmarried_confidence_interval = get_confidence_interval(unmarried_purchase_data, sample_pct= pct, width= w)\n",
    "\n",
    "        current_confidence_intervals = pd.DataFrame(\n",
    "            {\n",
    "                'width': w, 'sample_pct': pct,\n",
    "                'unmarried_interval': f'[{unmarried_confidence_interval[0]:2f}, {unmarried_confidence_interval[1]:2f}]',\n",
    "                # 'unmarried_interval_lower': unmarried_confidence_interval[0],\n",
    "                # 'unmarried_interval_upper': unmarried_confidence_interval[1],\n",
    "                'unmarried_interval_range': unmarried_confidence_interval[1] - unmarried_confidence_interval[0],\n",
    "                'married_interval': f'[{married_confidence_interval[0]:2f}, {married_confidence_interval[1]:2f}]',\n",
    "                # 'married_interval_lower': married_confidence_interval[0],\n",
    "                # 'married_interval_upper': married_confidence_interval[1],\n",
    "                'married_interval_range': married_confidence_interval[1] - married_confidence_interval[0],\n",
    "                'overlap_status': check_overlap(married_confidence_interval, unmarried_confidence_interval)\n",
    "            },\n",
    "            index= [0]\n",
    "        )\n",
    "\n",
    "        confidence_intervals_data = (\n",
    "            pd.concat([confidence_intervals_data, current_confidence_intervals], ignore_index= True)\n",
    "        )\n",
    "\n",
    "confidence_intervals_data"
   ]
  },
  {
   "cell_type": "markdown",
   "metadata": {},
   "source": [
    "### Observations:\n",
    "\n",
    "- The confidence interval range increases as the sample size decreases and also as the width increases\n",
    "- There is a significant overlap at different combinations of width and sample sizes between confidence intervals of married and unmarried customers\n",
    "- Hence, it can be concluded that there is **no significant** difference between avg spend amount for married vs unmarried customers"
   ]
  },
  {
   "cell_type": "markdown",
   "metadata": {},
   "source": [
    "## Age\n",
    "\n",
    "*Metric: Avg purchase amount per transaction*\n",
    "\n",
    "*Null Hypothesis (H0): There is no significant difference across age groups*\n",
    "\n",
    "*Alternate Hypothesis(Ha): Avg purchase amount is significantly different across age groups*\n"
   ]
  },
  {
   "cell_type": "code",
   "execution_count": 247,
   "metadata": {},
   "outputs": [
    {
     "name": "stdout",
     "output_type": "stream",
     "text": [
      "float64 category\n",
      "(5891,) 7\n"
     ]
    },
    {
     "data": {
      "text/plain": [
       "Age\n",
       "26-35    2053\n",
       "36-45    1167\n",
       "18-25    1069\n",
       "46-50     531\n",
       "51-55     481\n",
       "55+       372\n",
       "0-17      218\n",
       "Name: count, dtype: int64"
      ]
     },
     "execution_count": 247,
     "metadata": {},
     "output_type": "execute_result"
    }
   ],
   "source": [
    "# Checking for data types and cardinality and sample size\n",
    "\n",
    "print(user_agg_data['Avg. Revenue per Transaction'].dtype, user_agg_data['Age'].dtype)\n",
    "\n",
    "print(user_agg_data['Avg. Revenue per Transaction'].shape, user_agg_data['Age'].nunique())\n",
    "\n",
    "user_agg_data['Age'].value_counts()"
   ]
  },
  {
   "cell_type": "markdown",
   "metadata": {},
   "source": [
    "### Next Steps\n",
    "- For simplicity and actionable result, 36-45, 46-50 can be grouped together"
   ]
  },
  {
   "cell_type": "code",
   "execution_count": 248,
   "metadata": {},
   "outputs": [
    {
     "name": "stdout",
     "output_type": "stream",
     "text": [
      "float64 category\n",
      "(5891,) 5\n"
     ]
    },
    {
     "data": {
      "text/plain": [
       "Age_Group\n",
       "26-35    2053\n",
       "36-50    1698\n",
       "18-25    1069\n",
       "50+       853\n",
       "0-17      218\n",
       "Name: count, dtype: int64"
      ]
     },
     "execution_count": 248,
     "metadata": {},
     "output_type": "execute_result"
    }
   ],
   "source": [
    "age_group_mapping = {\n",
    "    '0-17': '0-17',\n",
    "    '18-25': '18-25',\n",
    "    '26-35': '26-35',\n",
    "    '36-45': '36-50',\n",
    "    '46-50': '36-50',\n",
    "    '51-55': '50+',\n",
    "    '55+': '50+'\n",
    "}\n",
    "\n",
    "user_agg_data['Age_Group'] = user_agg_data['Age'].map(age_group_mapping).astype('category')\n",
    "\n",
    "# Checking for data types and cardinality and sample size\n",
    "\n",
    "print(user_agg_data['Avg. Revenue per Transaction'].dtype, user_agg_data['Age_Group'].dtype)\n",
    "\n",
    "print(user_agg_data['Avg. Revenue per Transaction'].shape, user_agg_data['Age_Group'].nunique())\n",
    "\n",
    "user_agg_data['Age_Group'].value_counts()"
   ]
  },
  {
   "cell_type": "code",
   "execution_count": 249,
   "metadata": {},
   "outputs": [
    {
     "data": {
      "image/png": "[encoded data removed]",
      "text/plain": [
       "<Figure size 640x480 with 1 Axes>"
      ]
     },
     "metadata": {},
     "output_type": "display_data"
    }
   ],
   "source": [
    "ax = sns.barplot(data= user_agg_data, x= 'Age_Group', y= 'Avg. Revenue per Transaction')\n",
    "\n",
    "ax.bar_label(ax.containers[0])\n",
    "plt.show()"
   ]
  },
  {
   "cell_type": "markdown",
   "metadata": {},
   "source": [
    "*Sample size: 5891 (no. of customers)*\n",
    "\n",
    "*Data Types: Avg Revenue per Transaction is Numerical and Age is categorical*\n",
    "\n",
    "*Cardinality: Age has 4 values 0-25, 26-35, 36-45, 46+*"
   ]
  },
  {
   "cell_type": "code",
   "execution_count": 250,
   "metadata": {},
   "outputs": [],
   "source": [
    "age_0_17_purchase_data = user_agg_data[user_agg_data['Age_Group'] == '0-17']['Avg. Revenue per Transaction']\n",
    "age_18_25_purchase_data = user_agg_data[user_agg_data['Age_Group'] == '18-25']['Avg. Revenue per Transaction']\n",
    "age_26_35_purchase_data = user_agg_data[user_agg_data['Age_Group'] == '26-35']['Avg. Revenue per Transaction']\n",
    "age_36_50_purchase_data = user_agg_data[user_agg_data['Age_Group'] == '36-50']['Avg. Revenue per Transaction']\n",
    "age_50P_purchase_data = user_agg_data[user_agg_data['Age_Group'] == '50+']['Avg. Revenue per Transaction']\n",
    "\n",
    "age_group_purchase_data_dict = {\n",
    "    '0-17'  : age_0_17_purchase_data,\n",
    "    '18-25'  : age_18_25_purchase_data,\n",
    "    '26-35' : age_26_35_purchase_data,\n",
    "    '36-50' : age_36_50_purchase_data,\n",
    "    '50+'   : age_50P_purchase_data\n",
    "}\n"
   ]
  },
  {
   "cell_type": "markdown",
   "metadata": {},
   "source": [
    "**Assumption: Average spending does not follow a normal distribution as per the ks test**"
   ]
  },
  {
   "cell_type": "markdown",
   "metadata": {},
   "source": [
    "**Checking for the null hypothesis using Kruskal Wallis Test with two tailed alternative hypothesis**\n"
   ]
  },
  {
   "cell_type": "code",
   "execution_count": 251,
   "metadata": {},
   "outputs": [
    {
     "name": "stdout",
     "output_type": "stream",
     "text": [
      "ks_stat: 27.391812, p_val: 0.000017\n",
      "There is a significant difference in median of avg purchase amount between age groups at 95% confidence level\n"
     ]
    }
   ],
   "source": [
    "ks_stat, p_val = st.kruskal(age_0_17_purchase_data, age_18_25_purchase_data, age_26_35_purchase_data, age_36_50_purchase_data, age_50P_purchase_data)\n",
    "\n",
    "print(f\"ks_stat: {ks_stat:4f}, p_val: {p_val:4f}\")\n",
    "\n",
    "\n",
    "alpha = 0.05\n",
    "if p_val > alpha:\n",
    "    print(f\"There is no significant difference in median of avg purchase amount between age groups at {int((1 - alpha)*100)}% confidence level\")\n",
    "else:\n",
    "    print(f\"There is a significant difference in median of avg purchase amount between age groups at {int((1 - alpha)*100)}% confidence level\")"
   ]
  },
  {
   "cell_type": "markdown",
   "metadata": {},
   "source": [
    "### Observations:\n",
    "- The median of average spending amount **is significantly different** between age groups of customers"
   ]
  },
  {
   "cell_type": "markdown",
   "metadata": {},
   "source": [
    "**Assumption: Average spending follows almost normal distribution as per the qq plot, despite the ks test showing otherwise**"
   ]
  },
  {
   "cell_type": "markdown",
   "metadata": {},
   "source": [
    "**Checking for homoscedasticity using Levene's test for applying ANOVA Test**"
   ]
  },
  {
   "cell_type": "code",
   "execution_count": 252,
   "metadata": {},
   "outputs": [
    {
     "name": "stdout",
     "output_type": "stream",
     "text": [
      "l_stat: 2.761620, p_val: 0.026140\n",
      "There is a significant difference variances of avg spending between age groups at 95% confidence level\n"
     ]
    }
   ],
   "source": [
    "l_stat, p_val = st.levene(age_0_17_purchase_data, age_18_25_purchase_data, age_26_35_purchase_data, age_36_50_purchase_data, age_50P_purchase_data)\n",
    "\n",
    "print(f\"l_stat: {l_stat:4f}, p_val: {p_val:4f}\")\n",
    "\n",
    "\n",
    "alpha = 0.05\n",
    "if p_val > alpha:\n",
    "    print(f\"There is no significant difference variances of avg spending between age groups at {int((1 - alpha)*100)}% confidence level\")\n",
    "else:\n",
    "    print(f\"There is a significant difference variances of avg spending between age groups at {int((1 - alpha)*100)}% confidence level\")"
   ]
  },
  {
   "cell_type": "markdown",
   "metadata": {},
   "source": [
    "### Observation:\n",
    "- There is a significant difference in variances across age groups at 95% confidence level\n",
    "- The result would change to having equal variance at 99% confidence level\n",
    "- Perform ANOVA nevertheless based on 99% confidence result to make sure again that there is no difference"
   ]
  },
  {
   "cell_type": "markdown",
   "metadata": {},
   "source": [
    "**Checking for the null hypothesis using ANOVA Test**"
   ]
  },
  {
   "cell_type": "code",
   "execution_count": 253,
   "metadata": {},
   "outputs": [
    {
     "name": "stdout",
     "output_type": "stream",
     "text": [
      "f_stat: 6.458619, p_val: 0.000035\n",
      "There is a significant difference between avg spending between age groups of customers at 95% confidence level\n"
     ]
    }
   ],
   "source": [
    "f_stat, p_val = st.f_oneway(age_0_17_purchase_data, age_18_25_purchase_data, age_26_35_purchase_data, age_36_50_purchase_data, age_50P_purchase_data)\n",
    "\n",
    "print(f\"f_stat: {f_stat:4f}, p_val: {p_val:4f}\")\n",
    "\n",
    "\n",
    "alpha = 0.05\n",
    "if p_val > alpha:\n",
    "    print(f\"There is no significant difference between avg spending between age groups of customers at {int((1 - alpha)*100)}% confidence level\")\n",
    "else:\n",
    "    print(f\"There is a significant difference between avg spending between age groups of customers at {int((1 - alpha)*100)}% confidence level\")"
   ]
  },
  {
   "cell_type": "markdown",
   "metadata": {},
   "source": [
    "### Observations:\n",
    "- ANOVA: There is a significant difference between avg spending between age groups of customers\n",
    "- Kruskal Wallis: ANOVA: There is a significant difference between avg spending between age groups of customers\n",
    "- Both the tests result in the same conclusion that the average spending behaviour is different across age groups"
   ]
  },
  {
   "cell_type": "markdown",
   "metadata": {},
   "source": [
    "### Next Steps:\n",
    "\n",
    "- Apply ttest for all combinations to identify similar and significantly different groups\n",
    "- Merge the subsequent groups that are not significantly different\n",
    "- Compare the confidence intervals of the final groups and check for overlaps"
   ]
  },
  {
   "cell_type": "code",
   "execution_count": 254,
   "metadata": {},
   "outputs": [],
   "source": [
    "def get_ttest_result(left_data, right_data, alpha):\n",
    "    \n",
    "    two_tailed_t_stat, two_tailed_p_val = st.ttest_ind(left_data, right_data, alternative= 'two-sided')\n",
    "\n",
    "    two_tailed_result = 'same' if two_tailed_p_val > alpha else 'different'\n",
    "\n",
    "    alternative = 'less' if left_data.mean() < right_data.mean() else 'greater'\n",
    "\n",
    "    one_tailed_t_stat, one_tailed_p_val = st.ttest_ind(left_data, right_data, alternative= alternative)\n",
    "\n",
    "    one_tailed_result = 'same' if one_tailed_p_val > alpha else alternative\n",
    "\n",
    "    result = {\n",
    "        'two_tailed_p_val'  : round(two_tailed_p_val, 5),\n",
    "        'two_tailed_result' : two_tailed_result,\n",
    "        'one_tailed_p_val'  : round(one_tailed_p_val, 5),\n",
    "        'one_tailed_result' : one_tailed_result\n",
    "    }\n",
    "\n",
    "    return result"
   ]
  },
  {
   "cell_type": "markdown",
   "metadata": {},
   "source": [
    "**Calculating the ttest results and confidence intervals of avg purchase amount for all combinations of age groups**"
   ]
  },
  {
   "cell_type": "code",
   "execution_count": 255,
   "metadata": {},
   "outputs": [
    {
     "data": {
      "text/html": [
       "<div>\n",
       "<style scoped>\n",
       "    .dataframe tbody tr th:only-of-type {\n",
       "        vertical-align: middle;\n",
       "    }\n",
       "\n",
       "    .dataframe tbody tr th {\n",
       "        vertical-align: top;\n",
       "    }\n",
       "\n",
       "    .dataframe thead th {\n",
       "        text-align: right;\n",
       "    }\n",
       "</style>\n",
       "<table border=\"1\" class=\"dataframe\">\n",
       "  <thead>\n",
       "    <tr style=\"text-align: right;\">\n",
       "      <th></th>\n",
       "      <th>left_age_group</th>\n",
       "      <th>right_age_group</th>\n",
       "      <th>two_tailed_p_val</th>\n",
       "      <th>two_tailed_result</th>\n",
       "      <th>one_tailed_p_val</th>\n",
       "      <th>one_tailed_result</th>\n",
       "      <th>left_interval</th>\n",
       "      <th>right_interval</th>\n",
       "      <th>overlap_status</th>\n",
       "    </tr>\n",
       "  </thead>\n",
       "  <tbody>\n",
       "    <tr>\n",
       "      <th>0</th>\n",
       "      <td>0-17</td>\n",
       "      <td>18-25</td>\n",
       "      <td>0.00034</td>\n",
       "      <td>different</td>\n",
       "      <td>0.00017</td>\n",
       "      <td>less</td>\n",
       "      <td>[8729.913649, 9174.639404]</td>\n",
       "      <td>[9396.177701, 9603.375240]</td>\n",
       "      <td>No Overlap</td>\n",
       "    </tr>\n",
       "    <tr>\n",
       "      <th>1</th>\n",
       "      <td>0-17</td>\n",
       "      <td>26-35</td>\n",
       "      <td>0.00000</td>\n",
       "      <td>different</td>\n",
       "      <td>0.00000</td>\n",
       "      <td>less</td>\n",
       "      <td>[8729.913649, 9174.639404]</td>\n",
       "      <td>[9528.202654, 9665.094255]</td>\n",
       "      <td>No Overlap</td>\n",
       "    </tr>\n",
       "    <tr>\n",
       "      <th>2</th>\n",
       "      <td>0-17</td>\n",
       "      <td>36-50</td>\n",
       "      <td>0.00000</td>\n",
       "      <td>different</td>\n",
       "      <td>0.00000</td>\n",
       "      <td>less</td>\n",
       "      <td>[8729.913649, 9174.639404]</td>\n",
       "      <td>[9560.901632, 9713.330298]</td>\n",
       "      <td>No Overlap</td>\n",
       "    </tr>\n",
       "    <tr>\n",
       "      <th>3</th>\n",
       "      <td>0-17</td>\n",
       "      <td>50+</td>\n",
       "      <td>0.00024</td>\n",
       "      <td>different</td>\n",
       "      <td>0.00012</td>\n",
       "      <td>less</td>\n",
       "      <td>[8729.913649, 9174.639404]</td>\n",
       "      <td>[9401.542800, 9629.729789]</td>\n",
       "      <td>No Overlap</td>\n",
       "    </tr>\n",
       "    <tr>\n",
       "      <th>4</th>\n",
       "      <td>18-25</td>\n",
       "      <td>26-35</td>\n",
       "      <td>0.19796</td>\n",
       "      <td>same</td>\n",
       "      <td>0.09898</td>\n",
       "      <td>same</td>\n",
       "      <td>[9396.177701, 9603.375240]</td>\n",
       "      <td>[9528.202654, 9665.094255]</td>\n",
       "      <td>Overlap</td>\n",
       "    </tr>\n",
       "    <tr>\n",
       "      <th>5</th>\n",
       "      <td>18-25</td>\n",
       "      <td>36-50</td>\n",
       "      <td>0.07354</td>\n",
       "      <td>same</td>\n",
       "      <td>0.03677</td>\n",
       "      <td>less</td>\n",
       "      <td>[9396.177701, 9603.375240]</td>\n",
       "      <td>[9560.901632, 9713.330298]</td>\n",
       "      <td>Overlap</td>\n",
       "    </tr>\n",
       "    <tr>\n",
       "      <th>6</th>\n",
       "      <td>18-25</td>\n",
       "      <td>50+</td>\n",
       "      <td>0.84753</td>\n",
       "      <td>same</td>\n",
       "      <td>0.42377</td>\n",
       "      <td>same</td>\n",
       "      <td>[9396.177701, 9603.375240]</td>\n",
       "      <td>[9401.542800, 9629.729789]</td>\n",
       "      <td>Overlap</td>\n",
       "    </tr>\n",
       "    <tr>\n",
       "      <th>7</th>\n",
       "      <td>26-35</td>\n",
       "      <td>36-50</td>\n",
       "      <td>0.48896</td>\n",
       "      <td>same</td>\n",
       "      <td>0.24448</td>\n",
       "      <td>same</td>\n",
       "      <td>[9528.202654, 9665.094255]</td>\n",
       "      <td>[9560.901632, 9713.330298]</td>\n",
       "      <td>Overlap</td>\n",
       "    </tr>\n",
       "    <tr>\n",
       "      <th>8</th>\n",
       "      <td>26-35</td>\n",
       "      <td>50+</td>\n",
       "      <td>0.33008</td>\n",
       "      <td>same</td>\n",
       "      <td>0.16504</td>\n",
       "      <td>same</td>\n",
       "      <td>[9528.202654, 9665.094255]</td>\n",
       "      <td>[9401.542800, 9629.729789]</td>\n",
       "      <td>Overlap</td>\n",
       "    </tr>\n",
       "    <tr>\n",
       "      <th>9</th>\n",
       "      <td>36-50</td>\n",
       "      <td>50+</td>\n",
       "      <td>0.14401</td>\n",
       "      <td>same</td>\n",
       "      <td>0.07201</td>\n",
       "      <td>same</td>\n",
       "      <td>[9560.901632, 9713.330298]</td>\n",
       "      <td>[9401.542800, 9629.729789]</td>\n",
       "      <td>Overlap</td>\n",
       "    </tr>\n",
       "  </tbody>\n",
       "</table>\n",
       "</div>"
      ],
      "text/plain": [
       "  left_age_group right_age_group  two_tailed_p_val two_tailed_result  \\\n",
       "0           0-17           18-25           0.00034         different   \n",
       "1           0-17           26-35           0.00000         different   \n",
       "2           0-17           36-50           0.00000         different   \n",
       "3           0-17             50+           0.00024         different   \n",
       "4          18-25           26-35           0.19796              same   \n",
       "5          18-25           36-50           0.07354              same   \n",
       "6          18-25             50+           0.84753              same   \n",
       "7          26-35           36-50           0.48896              same   \n",
       "8          26-35             50+           0.33008              same   \n",
       "9          36-50             50+           0.14401              same   \n",
       "\n",
       "   one_tailed_p_val one_tailed_result               left_interval  \\\n",
       "0           0.00017              less  [8729.913649, 9174.639404]   \n",
       "1           0.00000              less  [8729.913649, 9174.639404]   \n",
       "2           0.00000              less  [8729.913649, 9174.639404]   \n",
       "3           0.00012              less  [8729.913649, 9174.639404]   \n",
       "4           0.09898              same  [9396.177701, 9603.375240]   \n",
       "5           0.03677              less  [9396.177701, 9603.375240]   \n",
       "6           0.42377              same  [9396.177701, 9603.375240]   \n",
       "7           0.24448              same  [9528.202654, 9665.094255]   \n",
       "8           0.16504              same  [9528.202654, 9665.094255]   \n",
       "9           0.07201              same  [9560.901632, 9713.330298]   \n",
       "\n",
       "               right_interval overlap_status  \n",
       "0  [9396.177701, 9603.375240]     No Overlap  \n",
       "1  [9528.202654, 9665.094255]     No Overlap  \n",
       "2  [9560.901632, 9713.330298]     No Overlap  \n",
       "3  [9401.542800, 9629.729789]     No Overlap  \n",
       "4  [9528.202654, 9665.094255]        Overlap  \n",
       "5  [9560.901632, 9713.330298]        Overlap  \n",
       "6  [9401.542800, 9629.729789]        Overlap  \n",
       "7  [9560.901632, 9713.330298]        Overlap  \n",
       "8  [9401.542800, 9629.729789]        Overlap  \n",
       "9  [9401.542800, 9629.729789]        Overlap  "
      ]
     },
     "execution_count": 255,
     "metadata": {},
     "output_type": "execute_result"
    }
   ],
   "source": [
    "age_group_names = list(age_group_purchase_data_dict.keys())\n",
    "age_group_ttest_results_data = pd.DataFrame()\n",
    "alpha= 0.05; width = 1 - alpha\n",
    "\n",
    "for i in range(len(age_group_names)):\n",
    "    for j in range(i + 1, len(age_group_names)):\n",
    "\n",
    "        result = dict()\n",
    "        result['left_age_group'], result['right_age_group'] = age_group_names[i], age_group_names[j]\n",
    "        result.update(\n",
    "            get_ttest_result(\n",
    "                age_group_purchase_data_dict[age_group_names[i]],\n",
    "                age_group_purchase_data_dict[age_group_names[j]],\n",
    "                alpha\n",
    "            )\n",
    "        )\n",
    "        left_confidence_interval = get_confidence_interval(\n",
    "            age_group_purchase_data_dict[age_group_names[i]], sample_pct= 1, width= 1 - alpha\n",
    "            )\n",
    "        right_confidence_interval = get_confidence_interval(\n",
    "            age_group_purchase_data_dict[age_group_names[j]], sample_pct= 1, width= 1 - alpha\n",
    "            )\n",
    "\n",
    "        result.update(\n",
    "            {\n",
    "                'left_interval': f'[{left_confidence_interval[0]:2f}, {left_confidence_interval[1]:2f}]',\n",
    "                'right_interval': f'[{right_confidence_interval[0]:2f}, {right_confidence_interval[1]:2f}]',\n",
    "                'overlap_status': check_overlap(left_confidence_interval, right_confidence_interval)\n",
    "            }\n",
    "        )\n",
    "        result_data = pd.DataFrame(\n",
    "            data= result, index= [0]\n",
    "        )\n",
    "        \n",
    "        age_group_ttest_results_data = pd.concat([age_group_ttest_results_data, result_data], ignore_index= True)\n",
    "\n",
    "age_group_ttest_results_data"
   ]
  },
  {
   "cell_type": "markdown",
   "metadata": {},
   "source": [
    "### Observations:\n",
    "\n",
    "- The avg purchase amount of 0-17 age group is significantly lesses from other groups without overlap\n",
    "- The other groups have similar average purchase value among each other with overlaps for exceptions\n",
    "- A final grouping of 0-17, 18+ will be useful for further analysis and actionable insights"
   ]
  },
  {
   "cell_type": "code",
   "execution_count": 256,
   "metadata": {},
   "outputs": [],
   "source": [
    "age_group_final_mapping = {\n",
    "    '0-17': '0-17',\n",
    "    '18-25': '18+',\n",
    "    '26-35': '18+',\n",
    "    '36-45': '18+',\n",
    "    '46-50': '18+',\n",
    "    '51-55': '18+',\n",
    "    '55+': '18+'\n",
    "}\n",
    "\n",
    "user_agg_data['Age_Group_Final'] = user_agg_data['Age'].map(age_group_final_mapping).astype('category')\n"
   ]
  },
  {
   "cell_type": "code",
   "execution_count": 257,
   "metadata": {},
   "outputs": [
    {
     "data": {
      "image/png": "[encoded data removed]",
      "text/plain": [
       "<Figure size 640x480 with 1 Axes>"
      ]
     },
     "metadata": {},
     "output_type": "display_data"
    }
   ],
   "source": [
    "ax = sns.barplot(data= user_agg_data, x= 'Age_Group_Final', y= 'Avg. Revenue per Transaction')\n",
    "\n",
    "ax.bar_label(ax.containers[0])\n",
    "plt.show()"
   ]
  },
  {
   "cell_type": "markdown",
   "metadata": {},
   "source": [
    "**Validating the overlap of confidence intervals for age <18 and 18+ avg purchase amount at different widths and sample sizes**"
   ]
  },
  {
   "cell_type": "code",
   "execution_count": 258,
   "metadata": {},
   "outputs": [],
   "source": [
    "age_final_L17_purchase_data = user_agg_data[user_agg_data['Age_Group_Final'] == '0-17']['Avg. Revenue per Transaction']\n",
    "age_final_18P_purchase_data = user_agg_data[user_agg_data['Age_Group_Final'] == '18+']['Avg. Revenue per Transaction']"
   ]
  },
  {
   "cell_type": "code",
   "execution_count": 259,
   "metadata": {},
   "outputs": [
    {
     "data": {
      "text/html": [
       "<div>\n",
       "<style scoped>\n",
       "    .dataframe tbody tr th:only-of-type {\n",
       "        vertical-align: middle;\n",
       "    }\n",
       "\n",
       "    .dataframe tbody tr th {\n",
       "        vertical-align: top;\n",
       "    }\n",
       "\n",
       "    .dataframe thead th {\n",
       "        text-align: right;\n",
       "    }\n",
       "</style>\n",
       "<table border=\"1\" class=\"dataframe\">\n",
       "  <thead>\n",
       "    <tr style=\"text-align: right;\">\n",
       "      <th></th>\n",
       "      <th>width</th>\n",
       "      <th>sample_pct</th>\n",
       "      <th>age_L17_interval</th>\n",
       "      <th>age_L17_interval_range</th>\n",
       "      <th>age_18P_interval</th>\n",
       "      <th>age_18P_interval_range</th>\n",
       "      <th>overlap_status</th>\n",
       "    </tr>\n",
       "  </thead>\n",
       "  <tbody>\n",
       "    <tr>\n",
       "      <th>0</th>\n",
       "      <td>0.90</td>\n",
       "      <td>0.1</td>\n",
       "      <td>[8172.082666, 9104.353823]</td>\n",
       "      <td>932.271158</td>\n",
       "      <td>[9414.995666, 9617.520750]</td>\n",
       "      <td>202.525084</td>\n",
       "      <td>No Overlap</td>\n",
       "    </tr>\n",
       "    <tr>\n",
       "      <th>1</th>\n",
       "      <td>0.90</td>\n",
       "      <td>0.5</td>\n",
       "      <td>[8878.988520, 9356.788911]</td>\n",
       "      <td>477.800391</td>\n",
       "      <td>[9491.542775, 9584.719630]</td>\n",
       "      <td>93.176855</td>\n",
       "      <td>No Overlap</td>\n",
       "    </tr>\n",
       "    <tr>\n",
       "      <th>2</th>\n",
       "      <td>0.90</td>\n",
       "      <td>0.9</td>\n",
       "      <td>[8765.840258, 9130.363418]</td>\n",
       "      <td>364.523160</td>\n",
       "      <td>[9548.430451, 9619.078989]</td>\n",
       "      <td>70.648537</td>\n",
       "      <td>No Overlap</td>\n",
       "    </tr>\n",
       "    <tr>\n",
       "      <th>3</th>\n",
       "      <td>0.95</td>\n",
       "      <td>0.1</td>\n",
       "      <td>[7465.943137, 8934.956779]</td>\n",
       "      <td>1469.013643</td>\n",
       "      <td>[9436.373709, 9693.456378]</td>\n",
       "      <td>257.082670</td>\n",
       "      <td>No Overlap</td>\n",
       "    </tr>\n",
       "    <tr>\n",
       "      <th>4</th>\n",
       "      <td>0.95</td>\n",
       "      <td>0.5</td>\n",
       "      <td>[8552.414182, 9162.016574]</td>\n",
       "      <td>609.602393</td>\n",
       "      <td>[9570.791704, 9692.926602]</td>\n",
       "      <td>122.134898</td>\n",
       "      <td>No Overlap</td>\n",
       "    </tr>\n",
       "    <tr>\n",
       "      <th>5</th>\n",
       "      <td>0.95</td>\n",
       "      <td>0.9</td>\n",
       "      <td>[8670.648766, 9139.040310]</td>\n",
       "      <td>468.391544</td>\n",
       "      <td>[9545.756790, 9635.803676]</td>\n",
       "      <td>90.046886</td>\n",
       "      <td>No Overlap</td>\n",
       "    </tr>\n",
       "    <tr>\n",
       "      <th>6</th>\n",
       "      <td>0.99</td>\n",
       "      <td>0.1</td>\n",
       "      <td>[7985.044500, 10546.178026]</td>\n",
       "      <td>2561.133526</td>\n",
       "      <td>[9408.459888, 9796.067001]</td>\n",
       "      <td>387.607113</td>\n",
       "      <td>Overlap</td>\n",
       "    </tr>\n",
       "    <tr>\n",
       "      <th>7</th>\n",
       "      <td>0.99</td>\n",
       "      <td>0.5</td>\n",
       "      <td>[8324.958658, 9227.383021]</td>\n",
       "      <td>902.424363</td>\n",
       "      <td>[9500.111477, 9666.781908]</td>\n",
       "      <td>166.670431</td>\n",
       "      <td>No Overlap</td>\n",
       "    </tr>\n",
       "    <tr>\n",
       "      <th>8</th>\n",
       "      <td>0.99</td>\n",
       "      <td>0.9</td>\n",
       "      <td>[8651.581086, 9313.800075]</td>\n",
       "      <td>662.218989</td>\n",
       "      <td>[9536.569180, 9662.104115]</td>\n",
       "      <td>125.534936</td>\n",
       "      <td>No Overlap</td>\n",
       "    </tr>\n",
       "  </tbody>\n",
       "</table>\n",
       "</div>"
      ],
      "text/plain": [
       "   width  sample_pct             age_L17_interval  age_L17_interval_range  \\\n",
       "0   0.90         0.1   [8172.082666, 9104.353823]              932.271158   \n",
       "1   0.90         0.5   [8878.988520, 9356.788911]              477.800391   \n",
       "2   0.90         0.9   [8765.840258, 9130.363418]              364.523160   \n",
       "3   0.95         0.1   [7465.943137, 8934.956779]             1469.013643   \n",
       "4   0.95         0.5   [8552.414182, 9162.016574]              609.602393   \n",
       "5   0.95         0.9   [8670.648766, 9139.040310]              468.391544   \n",
       "6   0.99         0.1  [7985.044500, 10546.178026]             2561.133526   \n",
       "7   0.99         0.5   [8324.958658, 9227.383021]              902.424363   \n",
       "8   0.99         0.9   [8651.581086, 9313.800075]              662.218989   \n",
       "\n",
       "             age_18P_interval  age_18P_interval_range overlap_status  \n",
       "0  [9414.995666, 9617.520750]              202.525084     No Overlap  \n",
       "1  [9491.542775, 9584.719630]               93.176855     No Overlap  \n",
       "2  [9548.430451, 9619.078989]               70.648537     No Overlap  \n",
       "3  [9436.373709, 9693.456378]              257.082670     No Overlap  \n",
       "4  [9570.791704, 9692.926602]              122.134898     No Overlap  \n",
       "5  [9545.756790, 9635.803676]               90.046886     No Overlap  \n",
       "6  [9408.459888, 9796.067001]              387.607113        Overlap  \n",
       "7  [9500.111477, 9666.781908]              166.670431     No Overlap  \n",
       "8  [9536.569180, 9662.104115]              125.534936     No Overlap  "
      ]
     },
     "execution_count": 259,
     "metadata": {},
     "output_type": "execute_result"
    }
   ],
   "source": [
    "params = {\n",
    "    'width': [0.90, 0.95, 0.99],\n",
    "    'sample_pct': [0.10, 0.50, 0.90]\n",
    "}\n",
    "\n",
    "confidence_intervals_data = pd.DataFrame()\n",
    "\n",
    "for w in params['width']:\n",
    "    for pct in params['sample_pct']:\n",
    "        age_final_L17_confidence_interval = get_confidence_interval(age_final_L17_purchase_data, sample_pct= pct, width= w)\n",
    "        age_final_18P_confidence_interval = get_confidence_interval(age_final_18P_purchase_data, sample_pct= pct, width= w)\n",
    "\n",
    "        current_confidence_intervals = pd.DataFrame(\n",
    "            {\n",
    "                'width': w, 'sample_pct': pct,\n",
    "                'age_L17_interval': f'[{age_final_L17_confidence_interval[0]:2f}, {age_final_L17_confidence_interval[1]:2f}]',\n",
    "                'age_L17_interval_range': age_final_L17_confidence_interval[1] - age_final_L17_confidence_interval[0],\n",
    "                'age_18P_interval': f'[{age_final_18P_confidence_interval[0]:2f}, {age_final_18P_confidence_interval[1]:2f}]',\n",
    "                'age_18P_interval_range': age_final_18P_confidence_interval[1] - age_final_18P_confidence_interval[0],\n",
    "                'overlap_status': check_overlap(age_final_18P_confidence_interval, age_final_L17_confidence_interval)\n",
    "            },\n",
    "            index= [0]\n",
    "        )\n",
    "\n",
    "        confidence_intervals_data = (\n",
    "            pd.concat([confidence_intervals_data, current_confidence_intervals], ignore_index= True)\n",
    "        )\n",
    "\n",
    "confidence_intervals_data"
   ]
  },
  {
   "cell_type": "markdown",
   "metadata": {},
   "source": [
    "### Observations:\n",
    "\n",
    "- There is no overlap at most of the combinations of width and sample sizes between confidence intervals of age <17 and 18+ customers, except for 99% width and 10% sample pct\n",
    "- Hence, it can be concluded that there **is a significant difference** between avg spend amount for age <17 vs 18+ customers"
   ]
  },
  {
   "cell_type": "markdown",
   "metadata": {},
   "source": [
    "## City Category\n",
    "\n",
    "*Metric: Avg purchase amount per transaction*\n",
    "\n",
    "*Null Hypothesis (H0): There is no significant difference across city categories*\n",
    "\n",
    "*Alternate Hypothesis(Ha): Avg purchase amount is significantly different across city categories*\n"
   ]
  },
  {
   "cell_type": "code",
   "execution_count": 260,
   "metadata": {},
   "outputs": [
    {
     "name": "stdout",
     "output_type": "stream",
     "text": [
      "float64 category\n",
      "(5891,) 3\n"
     ]
    },
    {
     "data": {
      "text/plain": [
       "City_Category\n",
       "C    3139\n",
       "B    1707\n",
       "A    1045\n",
       "Name: count, dtype: int64"
      ]
     },
     "execution_count": 260,
     "metadata": {},
     "output_type": "execute_result"
    }
   ],
   "source": [
    "# Checking for data types and cardinality and sample size\n",
    "\n",
    "print(user_agg_data['Avg. Revenue per Transaction'].dtype, user_agg_data['City_Category'].dtype)\n",
    "\n",
    "print(user_agg_data['Avg. Revenue per Transaction'].shape, user_agg_data['City_Category'].nunique())\n",
    "\n",
    "user_agg_data['City_Category'].value_counts()"
   ]
  },
  {
   "cell_type": "code",
   "execution_count": 261,
   "metadata": {},
   "outputs": [
    {
     "data": {
      "image/png": "[encoded data removed]",
      "text/plain": [
       "<Figure size 640x480 with 1 Axes>"
      ]
     },
     "metadata": {},
     "output_type": "display_data"
    }
   ],
   "source": [
    "ax = sns.barplot(data= user_agg_data, x= 'City_Category', y= 'Avg. Revenue per Transaction')\n",
    "\n",
    "ax.bar_label(ax.containers[0])\n",
    "plt.show()"
   ]
  },
  {
   "cell_type": "markdown",
   "metadata": {},
   "source": [
    "*Sample size: 5891 (no. of customers)*\n",
    "\n",
    "*Data Types: Avg Revenue per Transaction is Numerical and City Category is categorical*\n",
    "\n",
    "*Cardinality: City Category has 3 values A, B, C*"
   ]
  },
  {
   "cell_type": "code",
   "execution_count": 262,
   "metadata": {},
   "outputs": [],
   "source": [
    "city_A_purchase_data = user_agg_data[user_agg_data['City_Category'] == 'A']['Avg. Revenue per Transaction']\n",
    "city_B_purchase_data = user_agg_data[user_agg_data['City_Category'] == 'B']['Avg. Revenue per Transaction']\n",
    "city_C_purchase_data = user_agg_data[user_agg_data['City_Category'] == 'C']['Avg. Revenue per Transaction']\n",
    "\n",
    "city_category_purchase_data_dict = {\n",
    "    'A' : city_A_purchase_data,\n",
    "    'B' : city_B_purchase_data,\n",
    "    'C' : city_C_purchase_data,\n",
    "}\n"
   ]
  },
  {
   "cell_type": "markdown",
   "metadata": {},
   "source": [
    "**Assumption: Average spending does not follow a normal distribution (as per the ks test)**"
   ]
  },
  {
   "cell_type": "markdown",
   "metadata": {},
   "source": [
    "**Checking for the null hypothesis using Kruskal Wallis Test with two tailed alternative hypothesis**\n"
   ]
  },
  {
   "cell_type": "code",
   "execution_count": 263,
   "metadata": {},
   "outputs": [
    {
     "name": "stdout",
     "output_type": "stream",
     "text": [
      "ks_stat: 32.399297, p_val: 0.000000\n",
      "There is a significant difference in median of avg purchase amount between city categories at 95% confidence level\n"
     ]
    }
   ],
   "source": [
    "ks_stat, p_val = st.kruskal(city_A_purchase_data, city_B_purchase_data, city_C_purchase_data)\n",
    "\n",
    "print(f\"ks_stat: {ks_stat:4f}, p_val: {p_val:4f}\")\n",
    "\n",
    "\n",
    "alpha = 0.05\n",
    "if p_val > alpha:\n",
    "    print(f\"There is no significant difference in median of avg purchase amount between city categories at {int((1 - alpha)*100)}% confidence level\")\n",
    "else:\n",
    "    print(f\"There is a significant difference in median of avg purchase amount between city categories at {int((1 - alpha)*100)}% confidence level\")"
   ]
  },
  {
   "cell_type": "markdown",
   "metadata": {},
   "source": [
    "### Observations:\n",
    "- The median of average spending amount **is significantly different** between city categories of customers"
   ]
  },
  {
   "cell_type": "markdown",
   "metadata": {},
   "source": [
    "**Assumption: Average spending follows almost normal distribution as per the qq plot, despite the ks test showing otherwise**"
   ]
  },
  {
   "cell_type": "markdown",
   "metadata": {},
   "source": [
    "**Checking for homoscedasticity using Levene's test for applying ANOVA Test**"
   ]
  },
  {
   "cell_type": "code",
   "execution_count": 264,
   "metadata": {},
   "outputs": [
    {
     "name": "stdout",
     "output_type": "stream",
     "text": [
      "l_stat: 16.735004, p_val: 0.000000\n",
      "There is a significant difference variances of avg spending between city categories at 95% confidence level\n"
     ]
    }
   ],
   "source": [
    "l_stat, p_val = st.levene(city_A_purchase_data, city_B_purchase_data, city_C_purchase_data)\n",
    "\n",
    "print(f\"l_stat: {l_stat:4f}, p_val: {p_val:4f}\")\n",
    "\n",
    "\n",
    "alpha = 0.05\n",
    "if p_val > alpha:\n",
    "    print(f\"There is no significant difference variances of avg spending between city categories at {int((1 - alpha)*100)}% confidence level\")\n",
    "else:\n",
    "    print(f\"There is a significant difference variances of avg spending between city categories at {int((1 - alpha)*100)}% confidence level\")"
   ]
  },
  {
   "cell_type": "markdown",
   "metadata": {},
   "source": [
    "### Observation:\n",
    "- There is a significant difference in variances across city categories at 95% confidence level\n",
    "- Hence, ANOVA test can not be applied in this scenario"
   ]
  },
  {
   "cell_type": "markdown",
   "metadata": {},
   "source": [
    "### Observations:\n",
    "- Kruskal Wallis: There is a significant difference between avg spending between city groups of customers"
   ]
  },
  {
   "cell_type": "markdown",
   "metadata": {},
   "source": [
    "### Next Steps:\n",
    "\n",
    "- Apply ttest for all combinations to identify similar and significantly different groups\n",
    "- Merge the subsequent groups that are not significantly different\n",
    "- Compare the confidence intervals of the final groups and check for overlaps"
   ]
  },
  {
   "cell_type": "markdown",
   "metadata": {},
   "source": [
    "**Calculating the ttest results and confidence intervals of avg purchase amount for all combinations of age groups**"
   ]
  },
  {
   "cell_type": "code",
   "execution_count": 265,
   "metadata": {},
   "outputs": [
    {
     "data": {
      "text/html": [
       "<div>\n",
       "<style scoped>\n",
       "    .dataframe tbody tr th:only-of-type {\n",
       "        vertical-align: middle;\n",
       "    }\n",
       "\n",
       "    .dataframe tbody tr th {\n",
       "        vertical-align: top;\n",
       "    }\n",
       "\n",
       "    .dataframe thead th {\n",
       "        text-align: right;\n",
       "    }\n",
       "</style>\n",
       "<table border=\"1\" class=\"dataframe\">\n",
       "  <thead>\n",
       "    <tr style=\"text-align: right;\">\n",
       "      <th></th>\n",
       "      <th>left_city_category</th>\n",
       "      <th>right_city_category</th>\n",
       "      <th>two_tailed_p_val</th>\n",
       "      <th>two_tailed_result</th>\n",
       "      <th>one_tailed_p_val</th>\n",
       "      <th>one_tailed_result</th>\n",
       "      <th>left_interval</th>\n",
       "      <th>right_interval</th>\n",
       "      <th>overlap_status</th>\n",
       "    </tr>\n",
       "  </thead>\n",
       "  <tbody>\n",
       "    <tr>\n",
       "      <th>0</th>\n",
       "      <td>C</td>\n",
       "      <td>A</td>\n",
       "      <td>0.00000</td>\n",
       "      <td>different</td>\n",
       "      <td>0.00000</td>\n",
       "      <td>greater</td>\n",
       "      <td>[9631.341935, 9751.015584]</td>\n",
       "      <td>[9254.039063, 9445.625139]</td>\n",
       "      <td>No Overlap</td>\n",
       "    </tr>\n",
       "    <tr>\n",
       "      <th>1</th>\n",
       "      <td>C</td>\n",
       "      <td>B</td>\n",
       "      <td>0.00001</td>\n",
       "      <td>different</td>\n",
       "      <td>0.00001</td>\n",
       "      <td>greater</td>\n",
       "      <td>[9631.341935, 9751.015584]</td>\n",
       "      <td>[9368.916691, 9513.232904]</td>\n",
       "      <td>No Overlap</td>\n",
       "    </tr>\n",
       "    <tr>\n",
       "      <th>2</th>\n",
       "      <td>A</td>\n",
       "      <td>B</td>\n",
       "      <td>0.21021</td>\n",
       "      <td>same</td>\n",
       "      <td>0.10510</td>\n",
       "      <td>same</td>\n",
       "      <td>[9254.039063, 9445.625139]</td>\n",
       "      <td>[9368.916691, 9513.232904]</td>\n",
       "      <td>Overlap</td>\n",
       "    </tr>\n",
       "  </tbody>\n",
       "</table>\n",
       "</div>"
      ],
      "text/plain": [
       "  left_city_category right_city_category  two_tailed_p_val two_tailed_result  \\\n",
       "0                  C                   A           0.00000         different   \n",
       "1                  C                   B           0.00001         different   \n",
       "2                  A                   B           0.21021              same   \n",
       "\n",
       "   one_tailed_p_val one_tailed_result               left_interval  \\\n",
       "0           0.00000           greater  [9631.341935, 9751.015584]   \n",
       "1           0.00001           greater  [9631.341935, 9751.015584]   \n",
       "2           0.10510              same  [9254.039063, 9445.625139]   \n",
       "\n",
       "               right_interval overlap_status  \n",
       "0  [9254.039063, 9445.625139]     No Overlap  \n",
       "1  [9368.916691, 9513.232904]     No Overlap  \n",
       "2  [9368.916691, 9513.232904]        Overlap  "
      ]
     },
     "execution_count": 265,
     "metadata": {},
     "output_type": "execute_result"
    }
   ],
   "source": [
    "city_category_names = ['C', 'A', 'B']#list(city_category_purchase_data_dict.keys())\n",
    "city_category_ttest_results_data = pd.DataFrame()\n",
    "alpha= 0.05; width = 1 - alpha\n",
    "\n",
    "for i in range(len(city_category_names)):\n",
    "    for j in range(i + 1, len(city_category_names)):\n",
    "\n",
    "        result = dict()\n",
    "        result['left_city_category'], result['right_city_category'] = city_category_names[i], city_category_names[j]\n",
    "        result.update(\n",
    "            get_ttest_result(\n",
    "                city_category_purchase_data_dict[city_category_names[i]],\n",
    "                city_category_purchase_data_dict[city_category_names[j]],\n",
    "                alpha\n",
    "            )\n",
    "        )\n",
    "        left_confidence_interval = get_confidence_interval(\n",
    "            city_category_purchase_data_dict[city_category_names[i]], sample_pct= 1, width= 1 - alpha\n",
    "            )\n",
    "        right_confidence_interval = get_confidence_interval(\n",
    "            city_category_purchase_data_dict[city_category_names[j]], sample_pct= 1, width= 1 - alpha\n",
    "            )\n",
    "\n",
    "        result.update(\n",
    "            {\n",
    "                'left_interval': f'[{left_confidence_interval[0]:2f}, {left_confidence_interval[1]:2f}]',\n",
    "                'right_interval': f'[{right_confidence_interval[0]:2f}, {right_confidence_interval[1]:2f}]',\n",
    "                'overlap_status': check_overlap(left_confidence_interval, right_confidence_interval)\n",
    "            }\n",
    "        )\n",
    "        result_data = pd.DataFrame(\n",
    "            data= result, index= [0]\n",
    "        )\n",
    "        \n",
    "        city_category_ttest_results_data = pd.concat([city_category_ttest_results_data, result_data], ignore_index= True)\n",
    "\n",
    "city_category_ttest_results_data"
   ]
  },
  {
   "cell_type": "markdown",
   "metadata": {},
   "source": [
    "### Observations:\n",
    "\n",
    "- The avg purchase amount of city C is significantly greater that other groups\n",
    "- The avg purchase amount of city A and B are same"
   ]
  },
  {
   "cell_type": "code",
   "execution_count": 266,
   "metadata": {},
   "outputs": [],
   "source": [
    "city_category_final_mapping = {\n",
    "    'A': 'AB',\n",
    "    'B': 'AB',\n",
    "    'C': 'C',\n",
    "}\n",
    "\n",
    "user_agg_data['City_Category_Final'] = user_agg_data['City_Category'].map(city_category_final_mapping).astype('category')\n"
   ]
  },
  {
   "cell_type": "code",
   "execution_count": 267,
   "metadata": {},
   "outputs": [
    {
     "data": {
      "image/png": "[encoded data removed]",
      "text/plain": [
       "<Figure size 640x480 with 1 Axes>"
      ]
     },
     "metadata": {},
     "output_type": "display_data"
    }
   ],
   "source": [
    "ax = sns.barplot(data= user_agg_data, x= 'City_Category_Final', y= 'Avg. Revenue per Transaction')\n",
    "\n",
    "ax.bar_label(ax.containers[0])\n",
    "plt.show()"
   ]
  },
  {
   "cell_type": "markdown",
   "metadata": {},
   "source": [
    "**Validating the overlap of confidence intervals for age <18 and 18+ avg purchase amount at different widths and sample sizes**"
   ]
  },
  {
   "cell_type": "code",
   "execution_count": 268,
   "metadata": {},
   "outputs": [],
   "source": [
    "city_category_final_AB_purchase_data = user_agg_data[user_agg_data['City_Category_Final'] == 'AB']['Avg. Revenue per Transaction']\n",
    "city_category_final_C_purchase_data = user_agg_data[user_agg_data['City_Category_Final'] == 'C']['Avg. Revenue per Transaction']"
   ]
  },
  {
   "cell_type": "code",
   "execution_count": 269,
   "metadata": {},
   "outputs": [
    {
     "data": {
      "text/html": [
       "<div>\n",
       "<style scoped>\n",
       "    .dataframe tbody tr th:only-of-type {\n",
       "        vertical-align: middle;\n",
       "    }\n",
       "\n",
       "    .dataframe tbody tr th {\n",
       "        vertical-align: top;\n",
       "    }\n",
       "\n",
       "    .dataframe thead th {\n",
       "        text-align: right;\n",
       "    }\n",
       "</style>\n",
       "<table border=\"1\" class=\"dataframe\">\n",
       "  <thead>\n",
       "    <tr style=\"text-align: right;\">\n",
       "      <th></th>\n",
       "      <th>width</th>\n",
       "      <th>sample_pct</th>\n",
       "      <th>city_AB_interval</th>\n",
       "      <th>city_AB_interval_range</th>\n",
       "      <th>city_C_interval</th>\n",
       "      <th>city_C_interval_range</th>\n",
       "      <th>overlap_status</th>\n",
       "    </tr>\n",
       "  </thead>\n",
       "  <tbody>\n",
       "    <tr>\n",
       "      <th>0</th>\n",
       "      <td>0.90</td>\n",
       "      <td>0.1</td>\n",
       "      <td>[9319.971645, 9591.363296]</td>\n",
       "      <td>271.391651</td>\n",
       "      <td>[9706.959361, 9993.801857]</td>\n",
       "      <td>286.842496</td>\n",
       "      <td>No Overlap</td>\n",
       "    </tr>\n",
       "    <tr>\n",
       "      <th>1</th>\n",
       "      <td>0.90</td>\n",
       "      <td>0.5</td>\n",
       "      <td>[9314.181568, 9439.587440]</td>\n",
       "      <td>125.405872</td>\n",
       "      <td>[9569.502847, 9704.442070]</td>\n",
       "      <td>134.939223</td>\n",
       "      <td>No Overlap</td>\n",
       "    </tr>\n",
       "    <tr>\n",
       "      <th>2</th>\n",
       "      <td>0.90</td>\n",
       "      <td>0.9</td>\n",
       "      <td>[9351.987576, 9448.468808]</td>\n",
       "      <td>96.481232</td>\n",
       "      <td>[9639.255164, 9738.024273]</td>\n",
       "      <td>98.769109</td>\n",
       "      <td>No Overlap</td>\n",
       "    </tr>\n",
       "    <tr>\n",
       "      <th>3</th>\n",
       "      <td>0.95</td>\n",
       "      <td>0.1</td>\n",
       "      <td>[9282.340150, 9636.083755]</td>\n",
       "      <td>353.743605</td>\n",
       "      <td>[9503.037288, 9898.341177]</td>\n",
       "      <td>395.303889</td>\n",
       "      <td>Overlap</td>\n",
       "    </tr>\n",
       "    <tr>\n",
       "      <th>4</th>\n",
       "      <td>0.95</td>\n",
       "      <td>0.5</td>\n",
       "      <td>[9384.262258, 9547.979187]</td>\n",
       "      <td>163.716929</td>\n",
       "      <td>[9587.968821, 9755.288695]</td>\n",
       "      <td>167.319874</td>\n",
       "      <td>No Overlap</td>\n",
       "    </tr>\n",
       "    <tr>\n",
       "      <th>5</th>\n",
       "      <td>0.95</td>\n",
       "      <td>0.9</td>\n",
       "      <td>[9345.947851, 9467.462767]</td>\n",
       "      <td>121.514916</td>\n",
       "      <td>[9621.815937, 9748.504479]</td>\n",
       "      <td>126.688542</td>\n",
       "      <td>No Overlap</td>\n",
       "    </tr>\n",
       "    <tr>\n",
       "      <th>6</th>\n",
       "      <td>0.99</td>\n",
       "      <td>0.1</td>\n",
       "      <td>[8999.247082, 9471.147349]</td>\n",
       "      <td>471.900266</td>\n",
       "      <td>[9234.455547, 9777.742436]</td>\n",
       "      <td>543.286889</td>\n",
       "      <td>Overlap</td>\n",
       "    </tr>\n",
       "    <tr>\n",
       "      <th>7</th>\n",
       "      <td>0.99</td>\n",
       "      <td>0.5</td>\n",
       "      <td>[9281.139745, 9512.264686]</td>\n",
       "      <td>231.124941</td>\n",
       "      <td>[9535.486233, 9771.070742]</td>\n",
       "      <td>235.584509</td>\n",
       "      <td>No Overlap</td>\n",
       "    </tr>\n",
       "    <tr>\n",
       "      <th>8</th>\n",
       "      <td>0.99</td>\n",
       "      <td>0.9</td>\n",
       "      <td>[9321.654931, 9490.586648]</td>\n",
       "      <td>168.931717</td>\n",
       "      <td>[9587.557099, 9764.070940]</td>\n",
       "      <td>176.513841</td>\n",
       "      <td>No Overlap</td>\n",
       "    </tr>\n",
       "  </tbody>\n",
       "</table>\n",
       "</div>"
      ],
      "text/plain": [
       "   width  sample_pct            city_AB_interval  city_AB_interval_range  \\\n",
       "0   0.90         0.1  [9319.971645, 9591.363296]              271.391651   \n",
       "1   0.90         0.5  [9314.181568, 9439.587440]              125.405872   \n",
       "2   0.90         0.9  [9351.987576, 9448.468808]               96.481232   \n",
       "3   0.95         0.1  [9282.340150, 9636.083755]              353.743605   \n",
       "4   0.95         0.5  [9384.262258, 9547.979187]              163.716929   \n",
       "5   0.95         0.9  [9345.947851, 9467.462767]              121.514916   \n",
       "6   0.99         0.1  [8999.247082, 9471.147349]              471.900266   \n",
       "7   0.99         0.5  [9281.139745, 9512.264686]              231.124941   \n",
       "8   0.99         0.9  [9321.654931, 9490.586648]              168.931717   \n",
       "\n",
       "              city_C_interval  city_C_interval_range overlap_status  \n",
       "0  [9706.959361, 9993.801857]             286.842496     No Overlap  \n",
       "1  [9569.502847, 9704.442070]             134.939223     No Overlap  \n",
       "2  [9639.255164, 9738.024273]              98.769109     No Overlap  \n",
       "3  [9503.037288, 9898.341177]             395.303889        Overlap  \n",
       "4  [9587.968821, 9755.288695]             167.319874     No Overlap  \n",
       "5  [9621.815937, 9748.504479]             126.688542     No Overlap  \n",
       "6  [9234.455547, 9777.742436]             543.286889        Overlap  \n",
       "7  [9535.486233, 9771.070742]             235.584509     No Overlap  \n",
       "8  [9587.557099, 9764.070940]             176.513841     No Overlap  "
      ]
     },
     "execution_count": 269,
     "metadata": {},
     "output_type": "execute_result"
    }
   ],
   "source": [
    "params = {\n",
    "    'width': [0.90, 0.95, 0.99],\n",
    "    'sample_pct': [0.10, 0.50, 0.90]\n",
    "}\n",
    "\n",
    "confidence_intervals_data = pd.DataFrame()\n",
    "\n",
    "for w in params['width']:\n",
    "    for pct in params['sample_pct']:\n",
    "        city_category_final_AB_confidence_interval = get_confidence_interval(city_category_final_AB_purchase_data, sample_pct= pct, width= w)\n",
    "        city_category_final_C_confidence_interval = get_confidence_interval(city_category_final_C_purchase_data, sample_pct= pct, width= w)\n",
    "\n",
    "        current_confidence_intervals = pd.DataFrame(\n",
    "            {\n",
    "                'width': w, 'sample_pct': pct,\n",
    "                'city_AB_interval': f'[{city_category_final_AB_confidence_interval[0]:2f}, {city_category_final_AB_confidence_interval[1]:2f}]',\n",
    "                'city_AB_interval_range': city_category_final_AB_confidence_interval[1] - city_category_final_AB_confidence_interval[0],\n",
    "                'city_C_interval': f'[{city_category_final_C_confidence_interval[0]:2f}, {city_category_final_C_confidence_interval[1]:2f}]',\n",
    "                'city_C_interval_range': city_category_final_C_confidence_interval[1] - city_category_final_C_confidence_interval[0],\n",
    "                'overlap_status': check_overlap(city_category_final_C_confidence_interval, city_category_final_AB_confidence_interval)\n",
    "            },\n",
    "            index= [0]\n",
    "        )\n",
    "\n",
    "        confidence_intervals_data = (\n",
    "            pd.concat([confidence_intervals_data, current_confidence_intervals], ignore_index= True)\n",
    "        )\n",
    "\n",
    "confidence_intervals_data"
   ]
  },
  {
   "cell_type": "markdown",
   "metadata": {},
   "source": [
    "### Observations:\n",
    "\n",
    "- There is no overlap at most of the combinations of width and sample sizes between confidence intervals of city category AB vs city C customers, except for 10% sample pct at 95% and 99% confidence intervals\n",
    "- Hence, it can be concluded that there **is a significant difference** between avg spend amount for city category AB vs city C customers"
   ]
  },
  {
   "cell_type": "code",
   "execution_count": null,
   "metadata": {},
   "outputs": [],
   "source": []
  }
 ],
 "metadata": {
  "kernelspec": {
   "display_name": "Python 3",
   "language": "python",
   "name": "python3"
  },
  "language_info": {
   "codemirror_mode": {
    "name": "ipython",
    "version": 3
   },
   "file_extension": ".py",
   "mimetype": "text/x-python",
   "name": "python",
   "nbconvert_exporter": "python",
   "pygments_lexer": "ipython3",
   "version": "3.12.7"
  }
 },
 "nbformat": 4,
 "nbformat_minor": 2
}
