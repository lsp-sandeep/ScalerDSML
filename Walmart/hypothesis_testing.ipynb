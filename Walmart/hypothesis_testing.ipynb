{
 "cells": [
  {
   "cell_type": "markdown",
   "metadata": {},
   "source": [
    "## Hypothesis Testing"
   ]
  },
  {
   "cell_type": "markdown",
   "metadata": {},
   "source": [
    "## Import statements"
   ]
  },
  {
   "cell_type": "code",
   "execution_count": 197,
   "metadata": {},
   "outputs": [],
   "source": [
    "import pandas as pd\n",
    "import numpy as np\n",
    "import seaborn as sns\n",
    "import matplotlib.pyplot as plt\n",
    "import scipy.stats as st\n",
    "from statsmodels.stats.weightstats import ztest\n",
    "import statsmodels.api as sm\n",
    "import math as mt\n",
    "import random as rd\n",
    "import time as tm"
   ]
  },
  {
   "cell_type": "markdown",
   "metadata": {},
   "source": [
    "## Data Preperation"
   ]
  },
  {
   "cell_type": "code",
   "execution_count": 198,
   "metadata": {},
   "outputs": [
    {
     "data": {
      "text/html": [
       "<div>\n",
       "<style scoped>\n",
       "    .dataframe tbody tr th:only-of-type {\n",
       "        vertical-align: middle;\n",
       "    }\n",
       "\n",
       "    .dataframe tbody tr th {\n",
       "        vertical-align: top;\n",
       "    }\n",
       "\n",
       "    .dataframe thead th {\n",
       "        text-align: right;\n",
       "    }\n",
       "</style>\n",
       "<table border=\"1\" class=\"dataframe\">\n",
       "  <thead>\n",
       "    <tr style=\"text-align: right;\">\n",
       "      <th></th>\n",
       "      <th>Transaction_ID</th>\n",
       "      <th>User_ID</th>\n",
       "      <th>Gender</th>\n",
       "      <th>Age</th>\n",
       "      <th>City_Category</th>\n",
       "      <th>Stay_In_Current_City_Years</th>\n",
       "      <th>Marital_Status</th>\n",
       "      <th>Purchase</th>\n",
       "      <th>Purchase_Bucket</th>\n",
       "    </tr>\n",
       "  </thead>\n",
       "  <tbody>\n",
       "    <tr>\n",
       "      <th>0</th>\n",
       "      <td>0</td>\n",
       "      <td>1000001</td>\n",
       "      <td>F</td>\n",
       "      <td>0-17</td>\n",
       "      <td>A</td>\n",
       "      <td>2</td>\n",
       "      <td>Unmarried</td>\n",
       "      <td>8370</td>\n",
       "      <td>7500 - 10000</td>\n",
       "    </tr>\n",
       "    <tr>\n",
       "      <th>1</th>\n",
       "      <td>1</td>\n",
       "      <td>1000001</td>\n",
       "      <td>F</td>\n",
       "      <td>0-17</td>\n",
       "      <td>A</td>\n",
       "      <td>2</td>\n",
       "      <td>Unmarried</td>\n",
       "      <td>15200</td>\n",
       "      <td>15000 - 17500</td>\n",
       "    </tr>\n",
       "    <tr>\n",
       "      <th>2</th>\n",
       "      <td>2</td>\n",
       "      <td>1000001</td>\n",
       "      <td>F</td>\n",
       "      <td>0-17</td>\n",
       "      <td>A</td>\n",
       "      <td>2</td>\n",
       "      <td>Unmarried</td>\n",
       "      <td>1422</td>\n",
       "      <td>1000 - 2500</td>\n",
       "    </tr>\n",
       "    <tr>\n",
       "      <th>3</th>\n",
       "      <td>3</td>\n",
       "      <td>1000001</td>\n",
       "      <td>F</td>\n",
       "      <td>0-17</td>\n",
       "      <td>A</td>\n",
       "      <td>2</td>\n",
       "      <td>Unmarried</td>\n",
       "      <td>1057</td>\n",
       "      <td>1000 - 2500</td>\n",
       "    </tr>\n",
       "    <tr>\n",
       "      <th>4</th>\n",
       "      <td>4</td>\n",
       "      <td>1000002</td>\n",
       "      <td>M</td>\n",
       "      <td>55+</td>\n",
       "      <td>C</td>\n",
       "      <td>4+</td>\n",
       "      <td>Unmarried</td>\n",
       "      <td>7969</td>\n",
       "      <td>7500 - 10000</td>\n",
       "    </tr>\n",
       "  </tbody>\n",
       "</table>\n",
       "</div>"
      ],
      "text/plain": [
       "  Transaction_ID  User_ID Gender   Age City_Category  \\\n",
       "0              0  1000001      F  0-17             A   \n",
       "1              1  1000001      F  0-17             A   \n",
       "2              2  1000001      F  0-17             A   \n",
       "3              3  1000001      F  0-17             A   \n",
       "4              4  1000002      M   55+             C   \n",
       "\n",
       "  Stay_In_Current_City_Years Marital_Status  Purchase Purchase_Bucket  \n",
       "0                          2      Unmarried      8370    7500 - 10000  \n",
       "1                          2      Unmarried     15200   15000 - 17500  \n",
       "2                          2      Unmarried      1422     1000 - 2500  \n",
       "3                          2      Unmarried      1057     1000 - 2500  \n",
       "4                         4+      Unmarried      7969    7500 - 10000  "
      ]
     },
     "execution_count": 198,
     "metadata": {},
     "output_type": "execute_result"
    }
   ],
   "source": [
    "# Data Loading\n",
    "file_link = \"https://d2beiqkhq929f0.cloudfront.net/public_assets/assets/000/001/293/original/walmart_data.csv?1641285094\"\n",
    "raw_data = pd.read_csv(file_link)\n",
    "\n",
    "# Data Cleaning\n",
    "clean_data = raw_data.reset_index().copy()\n",
    "clean_data['User_ID'] = clean_data['User_ID'].astype('str')\n",
    "clean_data['Product_ID'] = clean_data['Product_ID'].astype('str')\n",
    "clean_data.rename(columns={'index': 'Transaction_ID'}, inplace=True, errors='ignore')\n",
    "clean_data['Transaction_ID'] = clean_data['Transaction_ID'].astype('str')\n",
    "columns_to_convert = {\n",
    "    'Gender', 'Age','Occupation',\n",
    "    'Marital_Status', 'Product_Category',\n",
    "    'City_Category', 'Stay_In_Current_City_Years'\n",
    "}\n",
    "\n",
    "for column in columns_to_convert:\n",
    "    if column in {'Marital_Status'}:\n",
    "        clean_data[column] = clean_data[column].apply(lambda x: 'Married' if x == 1 else 'Unmarried')\n",
    "    elif column in {'Product_Category', 'Occupation'}:\n",
    "        clean_data[column] = clean_data[column].apply(lambda x: f'{column}_{str(x)}')\n",
    "    clean_data[column] = clean_data[column].astype('category')\n",
    "\n",
    "# Data Preperation\n",
    "analysis_data = clean_data.drop(columns=['Occupation', 'Product_Category', 'Product_ID'])\n",
    "\n",
    "id_columns = ['User_ID', 'Transaction_ID']\n",
    "categorical_columns = analysis_data.select_dtypes(include='category').columns.tolist()\n",
    "numerical_columns = analysis_data.select_dtypes(include='number').columns.tolist()\n",
    "\n",
    "bins = [0, 1000, 2500, 5000, 7500, 10000, 12500, 15000, 17500, 20000, 22500, 25000]\n",
    "labels = [f'{bins[i]} - {bins[i+1]}' for i in range(len(bins)-1)]\n",
    "\n",
    "analysis_data['Purchase_Bucket'] = pd.cut(analysis_data['Purchase'], bins= bins, labels= labels, right= False)\n",
    "\n",
    "numerical_bucketed_columns = ['Purchase_Bucket']\n",
    "\n",
    "analysis_data.head()"
   ]
  },
  {
   "cell_type": "code",
   "execution_count": 199,
   "metadata": {},
   "outputs": [
    {
     "data": {
      "text/html": [
       "<div>\n",
       "<style scoped>\n",
       "    .dataframe tbody tr th:only-of-type {\n",
       "        vertical-align: middle;\n",
       "    }\n",
       "\n",
       "    .dataframe tbody tr th {\n",
       "        vertical-align: top;\n",
       "    }\n",
       "\n",
       "    .dataframe thead th {\n",
       "        text-align: right;\n",
       "    }\n",
       "</style>\n",
       "<table border=\"1\" class=\"dataframe\">\n",
       "  <thead>\n",
       "    <tr style=\"text-align: right;\">\n",
       "      <th></th>\n",
       "      <th>User_ID</th>\n",
       "      <th>Gender</th>\n",
       "      <th>Age</th>\n",
       "      <th>City_Category</th>\n",
       "      <th>Stay_In_Current_City_Years</th>\n",
       "      <th>Marital_Status</th>\n",
       "      <th># Transaction</th>\n",
       "      <th>$ Revenue</th>\n",
       "      <th>Avg. Revenue per Transaction</th>\n",
       "    </tr>\n",
       "  </thead>\n",
       "  <tbody>\n",
       "    <tr>\n",
       "      <th>0</th>\n",
       "      <td>1000001</td>\n",
       "      <td>F</td>\n",
       "      <td>0-17</td>\n",
       "      <td>A</td>\n",
       "      <td>2</td>\n",
       "      <td>Unmarried</td>\n",
       "      <td>35</td>\n",
       "      <td>334093</td>\n",
       "      <td>9545.514286</td>\n",
       "    </tr>\n",
       "    <tr>\n",
       "      <th>1</th>\n",
       "      <td>1000002</td>\n",
       "      <td>M</td>\n",
       "      <td>55+</td>\n",
       "      <td>C</td>\n",
       "      <td>4+</td>\n",
       "      <td>Unmarried</td>\n",
       "      <td>77</td>\n",
       "      <td>810472</td>\n",
       "      <td>10525.610390</td>\n",
       "    </tr>\n",
       "    <tr>\n",
       "      <th>2</th>\n",
       "      <td>1000003</td>\n",
       "      <td>M</td>\n",
       "      <td>26-35</td>\n",
       "      <td>A</td>\n",
       "      <td>3</td>\n",
       "      <td>Unmarried</td>\n",
       "      <td>29</td>\n",
       "      <td>341635</td>\n",
       "      <td>11780.517241</td>\n",
       "    </tr>\n",
       "    <tr>\n",
       "      <th>3</th>\n",
       "      <td>1000004</td>\n",
       "      <td>M</td>\n",
       "      <td>46-50</td>\n",
       "      <td>B</td>\n",
       "      <td>2</td>\n",
       "      <td>Married</td>\n",
       "      <td>14</td>\n",
       "      <td>206468</td>\n",
       "      <td>14747.714286</td>\n",
       "    </tr>\n",
       "    <tr>\n",
       "      <th>4</th>\n",
       "      <td>1000005</td>\n",
       "      <td>M</td>\n",
       "      <td>26-35</td>\n",
       "      <td>A</td>\n",
       "      <td>1</td>\n",
       "      <td>Married</td>\n",
       "      <td>106</td>\n",
       "      <td>821001</td>\n",
       "      <td>7745.292453</td>\n",
       "    </tr>\n",
       "  </tbody>\n",
       "</table>\n",
       "</div>"
      ],
      "text/plain": [
       "   User_ID Gender    Age City_Category Stay_In_Current_City_Years  \\\n",
       "0  1000001      F   0-17             A                          2   \n",
       "1  1000002      M    55+             C                         4+   \n",
       "2  1000003      M  26-35             A                          3   \n",
       "3  1000004      M  46-50             B                          2   \n",
       "4  1000005      M  26-35             A                          1   \n",
       "\n",
       "  Marital_Status  # Transaction  $ Revenue  Avg. Revenue per Transaction  \n",
       "0      Unmarried             35     334093                   9545.514286  \n",
       "1      Unmarried             77     810472                  10525.610390  \n",
       "2      Unmarried             29     341635                  11780.517241  \n",
       "3        Married             14     206468                  14747.714286  \n",
       "4        Married            106     821001                   7745.292453  "
      ]
     },
     "execution_count": 199,
     "metadata": {},
     "output_type": "execute_result"
    }
   ],
   "source": [
    "# Data Aggregation\n",
    "\n",
    "def get_size(collection):\n",
    "    if type(collection) in {str, int, float}:\n",
    "        return 1\n",
    "    elif type(collection) in {list, set, dict}:\n",
    "        n = 0\n",
    "        collections = collection.values() if type(collection) == dict else collection\n",
    "        for sub_collection in collections:\n",
    "            n += get_size(sub_collection)\n",
    "        return n\n",
    "    else:\n",
    "        return 0\n",
    "\n",
    "def remove_agg_prefixes(name, prefixes, trim= True):\n",
    "    for prefix in prefixes:\n",
    "        name = name.replace(prefix, '')\n",
    "    \n",
    "    name = name.strip()\n",
    "\n",
    "    return name\n",
    "\n",
    "\n",
    "def get_agg_data(data, groupby_coulmns, base_aggs, custom_aggs, include= 'custom', ret_agg_names= False):\n",
    "    base_agg_data = data.groupby(groupby_coulmns, observed= True).agg(**base_aggs)\n",
    "    base_agg_names = list(base_aggs.keys())\n",
    "    if include == 'base':\n",
    "        if ret_agg_names:\n",
    "            return base_agg_data.reset_index(), base_agg_names\n",
    "        return base_agg_data.reset_index()\n",
    "\n",
    "    custom_agg_names = []\n",
    "    agg_data = base_agg_data.copy()\n",
    "    for agg_type, agg_columns in custom_aggs.items():\n",
    "        if agg_type == '%':\n",
    "            for column in agg_columns:\n",
    "                new_column = remove_agg_prefixes(column, ['#', '$'])\n",
    "                agg_data[f'% {new_column}'] = agg_data[column] * 100 / agg_data[column].sum()\n",
    "                custom_agg_names.append(f'% {new_column}')\n",
    "        elif agg_type == 'Avg.':\n",
    "            for numerator, denominators in agg_columns.items():\n",
    "                new_numerator = remove_agg_prefixes(numerator, ['#', '$'])\n",
    "                for denominator in denominators:\n",
    "                    new_denominator = remove_agg_prefixes(denominator, ['#', '$'])\n",
    "                    agg_data[f'Avg. {new_numerator} per {new_denominator}'] = agg_data[numerator] / agg_data[denominator]\n",
    "                    custom_agg_names.append(f'Avg. {new_numerator} per {new_denominator}')\n",
    "    \n",
    "    if include == 'both':\n",
    "        if ret_agg_names:\n",
    "            return agg_data.reset_index(), base_agg_names + custom_agg_names\n",
    "        return agg_data.reset_index()\n",
    "\n",
    "    if ret_agg_names:\n",
    "        return agg_data.drop(columns= base_agg_data.columns.tolist()).reset_index(), custom_agg_names\n",
    "    return agg_data.drop(columns= base_agg_data.columns.tolist()).reset_index()\n",
    "\n",
    "user_base_aggs = {\n",
    "    '# Transaction': ('Transaction_ID', 'count'),\n",
    "    '$ Revenue': ('Purchase', 'sum')\n",
    "}\n",
    "\n",
    "user_custom_aggs = {\n",
    "    'Avg.': {\n",
    "        '$ Revenue': ['# Transaction']\n",
    "    }\n",
    "}\n",
    "\n",
    "user_agg_data, user_agg_columns = get_agg_data(analysis_data, ['User_ID'] + categorical_columns, user_base_aggs, user_custom_aggs, include= 'both', ret_agg_names= True)\n",
    "\n",
    "user_agg_data.head()"
   ]
  },
  {
   "cell_type": "markdown",
   "metadata": {},
   "source": [
    "**Test Hypothesis Framework**\n",
    "\n",
    "*Metric: Avg purchase amount per transaction*\n",
    "\n",
    "*Null Hypothesis: There is no significant difference between the variables*\n",
    "\n",
    "| Variable          | Variable Type | Cardinality   | Alternate Hypothesis       |\n",
    "| :---------------- | :------------ | :------------ | :------------------------- |\n",
    "| Gender            | Categorical   | 2             | Greater for Male           |\n",
    "| Marital_Status    | Categorical   | 2             | Greater for Unmarried      |\n",
    "| Age               | Categorical   | 6             | Greater for (26-35 / 18-45)|\n",
    "| City_Category     | Categorical   | 3             | Lesser for City C          |\n"
   ]
  },
  {
   "cell_type": "markdown",
   "metadata": {},
   "source": [
    "**Choice of Test Framework**\n",
    "\n",
    "```yaml\n",
    "Variable Type\n",
    "├── Numerical vs Categorical:\n",
    "│   ├── Cardinality = 2:\n",
    "│   |   ├── Normal: Yes → Two Sample T-Test Independent\n",
    "│   |   └── Normal: No → Two Sample KS-Test\n",
    "│   └── Cardinality > 2: No  → Outcome B\n",
    "│       ├── Normal and Homoscedastic: Yes → Two Sample ANOVA\n",
    "│       └── Normal and Homoscedastic: No → Kruskal-Wallis Test\n",
    "├── Categorical vs Categorical:\n",
    "└── Numerical vs Numerical:\n",
    "```"
   ]
  },
  {
   "cell_type": "markdown",
   "metadata": {},
   "source": [
    "## Gender\n",
    "\n",
    "*Metric: Avg purchase amount per transaction*\n",
    "\n",
    "*Null Hypothesis (H0): There is no significant difference between the male vs female customers*\n",
    "\n",
    "*Alternate Hypothesis(Ha): Male avg purchase amount per transaction is greater than female*\n"
   ]
  },
  {
   "cell_type": "code",
   "execution_count": 200,
   "metadata": {},
   "outputs": [
    {
     "name": "stdout",
     "output_type": "stream",
     "text": [
      "float64 category\n",
      "(5891,) 2\n"
     ]
    },
    {
     "data": {
      "text/plain": [
       "Gender\n",
       "M    4225\n",
       "F    1666\n",
       "Name: count, dtype: int64"
      ]
     },
     "execution_count": 200,
     "metadata": {},
     "output_type": "execute_result"
    }
   ],
   "source": [
    "# Checking for data types and cardinality and sample size\n",
    "\n",
    "print(user_agg_data['Avg. Revenue per Transaction'].dtype, user_agg_data['Gender'].dtype)\n",
    "\n",
    "print(user_agg_data['Avg. Revenue per Transaction'].shape, user_agg_data['Gender'].nunique())\n",
    "\n",
    "user_agg_data['Gender'].value_counts()"
   ]
  },
  {
   "cell_type": "markdown",
   "metadata": {},
   "source": [
    "*Sample size: 5891 (no. of customers)*\n",
    "\n",
    "*Data Types: Avg Revenue per Transaction is Numerical and Gender is categorical*\n",
    "\n",
    "*Cardinality: Gender has 2 values M (male: 4225) and F (female: 1666)*"
   ]
  },
  {
   "cell_type": "code",
   "execution_count": 201,
   "metadata": {},
   "outputs": [
    {
     "data": {
      "image/png": "[encoded data removed]",
      "text/plain": [
       "<Figure size 640x480 with 1 Axes>"
      ]
     },
     "metadata": {},
     "output_type": "display_data"
    },
    {
     "name": "stdout",
     "output_type": "stream",
     "text": [
      "The sample data not follow a normal distribution at 95% confidence level with ks_stat: 1.0, p_val: 0.0\n"
     ]
    }
   ],
   "source": [
    "# Checking for Normality of the metric using QQ plot and KS Test (one sample - theoretical normal)\n",
    "\n",
    "sm.qqplot(user_agg_data['Avg. Revenue per Transaction'], line= 's')\n",
    "plt.show()\n",
    "\n",
    "ks_stat, p_val = st.kstest(user_agg_data['Avg. Revenue per Transaction'], 'norm')\n",
    "\n",
    "alpha = 0.05\n",
    "if p_val > alpha:\n",
    "    print(f\"The sample data follows a normal distribution at {int((1 - alpha)*100)}% confidence level with ks_stat: {ks_stat}, p_val: {p_val}\")\n",
    "else:\n",
    "    print(f\"The sample data not follow a normal distribution at {int((1 - alpha)*100)}% confidence level with ks_stat: {ks_stat}, p_val: {p_val}\")"
   ]
  },
  {
   "cell_type": "markdown",
   "metadata": {},
   "source": [
    "### Observations:\n",
    "- The qq plot looks mostly linear with outliers towards the right, \n",
    "- The ks test shows that the sample is not following a normal distribution"
   ]
  },
  {
   "cell_type": "code",
   "execution_count": 202,
   "metadata": {},
   "outputs": [],
   "source": [
    "male_purchase_data = user_agg_data[user_agg_data['Gender'] == 'M']['Avg. Revenue per Transaction']\n",
    "female_purchase_data = user_agg_data[user_agg_data['Gender'] == 'F']['Avg. Revenue per Transaction']"
   ]
  },
  {
   "cell_type": "markdown",
   "metadata": {},
   "source": [
    "**Assumption: Average spending does not follow a normal distribution as per the ks test**"
   ]
  },
  {
   "cell_type": "markdown",
   "metadata": {},
   "source": [
    "**Checking for the null hypothesis using Two Sample KS Test with two tailed alternative hypothesis**\n"
   ]
  },
  {
   "cell_type": "code",
   "execution_count": 203,
   "metadata": {},
   "outputs": [
    {
     "name": "stdout",
     "output_type": "stream",
     "text": [
      "ks_stat: 0.219469, p_val: 0.000000\n",
      "There is a significant difference between Male and Female purchase distributions at 95% confidence level\n"
     ]
    }
   ],
   "source": [
    "ks_stat, p_val = st.kstest(male_purchase_data, female_purchase_data, alternative= 'two-sided')\n",
    "\n",
    "print(f\"ks_stat: {ks_stat:4f}, p_val: {p_val:4f}\")\n",
    "\n",
    "\n",
    "alpha = 0.05\n",
    "if p_val > alpha:\n",
    "    print(f\"There is not significant difference between Male and Female purchase distributions at {int((1 - alpha)*100)}% confidence level\")\n",
    "else:\n",
    "    print(f\"There is a significant difference between Male and Female purchase distributions at {int((1 - alpha)*100)}% confidence level\")"
   ]
  },
  {
   "cell_type": "markdown",
   "metadata": {},
   "source": [
    "### Observations:\n",
    "- The average spending amount **is** significantly different for male vs female customers"
   ]
  },
  {
   "cell_type": "markdown",
   "metadata": {},
   "source": [
    "**Assumption: Average spending follows almost normal distribution as per the qq plot, despite the ks test not showing significance**"
   ]
  },
  {
   "cell_type": "code",
   "execution_count": 204,
   "metadata": {},
   "outputs": [
    {
     "data": {
      "text/plain": [
       "(9806.867524226629, 8965.19846393646)"
      ]
     },
     "execution_count": 204,
     "metadata": {},
     "output_type": "execute_result"
    }
   ],
   "source": [
    "male_purchase_data.mean(), female_purchase_data.mean()"
   ]
  },
  {
   "cell_type": "markdown",
   "metadata": {},
   "source": [
    "**Checking for the null hypothesis using Two Sample T Test with left tailed alternative hypothesis (male spending is greater than female)**\n",
    "\n",
    "*Left tailed test because mean of avg purchase amount for male is higher than female*"
   ]
  },
  {
   "cell_type": "code",
   "execution_count": 205,
   "metadata": {},
   "outputs": [
    {
     "name": "stdout",
     "output_type": "stream",
     "text": [
      "t_stat: 15.710671, p_val: 0.000000\n",
      "Male avg purchase amount is significantly greater than Female at 95% confidence level\n"
     ]
    }
   ],
   "source": [
    "t_stat, p_val = st.ttest_ind(male_purchase_data, female_purchase_data, alternative= 'greater')\n",
    "\n",
    "print(f\"t_stat: {t_stat:4f}, p_val: {p_val:4f}\")\n",
    "\n",
    "\n",
    "alpha = 0.05\n",
    "if p_val > alpha:\n",
    "    print(f\"There is no significant difference between avg spending for Male and Female users at {int((1 - alpha)*100)}% confidence level\")\n",
    "else:\n",
    "    print(f\"Male avg purchase amount is significantly greater than Female at {int((1 - alpha)*100)}% confidence level\")"
   ]
  },
  {
   "cell_type": "markdown",
   "metadata": {},
   "source": [
    "### Observations:\n",
    "- The p value for the left tailed t-test is practically 0\n",
    "- Male avg purchase amount is significantly greater than Female at 95% confidence level"
   ]
  },
  {
   "cell_type": "markdown",
   "metadata": {},
   "source": [
    "**Calculating the confidence intervals for male and female avg purchase amount**"
   ]
  },
  {
   "cell_type": "code",
   "execution_count": 206,
   "metadata": {},
   "outputs": [
    {
     "name": "stdout",
     "output_type": "stream",
     "text": [
      "Male population avg purchase amount 95% confidence interval: 9749.383406 - 9849.087789\n",
      "Female population avg purchase amount 95% confidence interval: 8883.296988 - 9025.352504\n"
     ]
    }
   ],
   "source": [
    "male_purchase_size, male_purchase_mean, male_purchase_std = male_purchase_data.shape[0], male_purchase_data.mean(), male_purchase_data.std()\n",
    "female_purchase_size, female_purchase_mean, female_purchase_std = female_purchase_data.shape[0], female_purchase_data.mean(), female_purchase_data.std()\n",
    "\n",
    "male_purchase_se, female_purchase_se = male_purchase_std / mt.sqrt(male_purchase_size), female_purchase_std / mt.sqrt(female_purchase_size)\n",
    "\n",
    "width = 0.95\n",
    "\n",
    "lower_width, upper_width = (1 - width)/2, width - ((1-width)/2)\n",
    "male_purchase_lower, male_purchase_upper = male_purchase_mean + (st.norm.ppf(lower_width) * male_purchase_se), male_purchase_mean + (st.norm.ppf(upper_width) * male_purchase_se)\n",
    "female_purchase_lower, female_purchase_upper = female_purchase_mean + (st.norm.ppf(lower_width) * female_purchase_se), female_purchase_mean + (st.norm.ppf(upper_width) * female_purchase_se)\n",
    "\n",
    "print(f\"Male population avg purchase amount {int(width*100)}% confidence interval: {male_purchase_lower:2f} - {male_purchase_upper:2f}\")\n",
    "print(f\"Female population avg purchase amount {int(width*100)}% confidence interval: {female_purchase_lower:2f} - {female_purchase_upper:2f}\")"
   ]
  },
  {
   "cell_type": "markdown",
   "metadata": {},
   "source": [
    "### Observations:\n",
    "\n",
    "- There is no overlap between male and female avg purchase amount for the population at 95% confidence interval"
   ]
  },
  {
   "cell_type": "markdown",
   "metadata": {},
   "source": [
    "**Validating the overlap of confidence intervals for male and female avg purchase amount at different widths and sample sizes**"
   ]
  },
  {
   "cell_type": "code",
   "execution_count": 207,
   "metadata": {},
   "outputs": [],
   "source": [
    "def get_confidence_interval(data, sample_pct, width):\n",
    "    if sample_pct < 1:\n",
    "        sample_data = data.sample(frac= sample_pct)\n",
    "    else:\n",
    "        sample_data = data\n",
    "\n",
    "    sample_size, sample_mean, sample_std = sample_data.shape[0], sample_data.mean(), sample_data.std()\n",
    "\n",
    "    sample_se = sample_std / mt.sqrt(sample_size)\n",
    "\n",
    "    lower_width, upper_width = (1 - width)/2, width - ((1-width)/2)\n",
    "    sample_lower, sample_upper = (\n",
    "        sample_mean + (st.norm.ppf(lower_width) * sample_se),\n",
    "        sample_mean + (st.norm.ppf(upper_width) * sample_se)\n",
    "        )\n",
    "\n",
    "    return [sample_lower, sample_upper]\n",
    "\n",
    "def check_overlap(left_interval, right_interval):\n",
    "    if len(left_interval) != 2 or len(right_interval) != 2:\n",
    "        return 'Invalid inteval size'\n",
    "    \n",
    "    if (left_interval[0] > left_interval[1]) or (right_interval[0] > right_interval[1]):\n",
    "        return 'Invalid interval order'\n",
    "    \n",
    "    if left_interval[1] < right_interval[0] or right_interval[1] < left_interval[0]:\n",
    "        return 'No Overlap'\n",
    "    \n",
    "    return 'Overalp'"
   ]
  },
  {
   "cell_type": "code",
   "execution_count": 208,
   "metadata": {},
   "outputs": [
    {
     "data": {
      "text/html": [
       "<div>\n",
       "<style scoped>\n",
       "    .dataframe tbody tr th:only-of-type {\n",
       "        vertical-align: middle;\n",
       "    }\n",
       "\n",
       "    .dataframe tbody tr th {\n",
       "        vertical-align: top;\n",
       "    }\n",
       "\n",
       "    .dataframe thead th {\n",
       "        text-align: right;\n",
       "    }\n",
       "</style>\n",
       "<table border=\"1\" class=\"dataframe\">\n",
       "  <thead>\n",
       "    <tr style=\"text-align: right;\">\n",
       "      <th></th>\n",
       "      <th>width</th>\n",
       "      <th>sample_pct</th>\n",
       "      <th>female_interval</th>\n",
       "      <th>female_interval_range</th>\n",
       "      <th>male_interval</th>\n",
       "      <th>male_interval_range</th>\n",
       "      <th>overlap_status</th>\n",
       "    </tr>\n",
       "  </thead>\n",
       "  <tbody>\n",
       "    <tr>\n",
       "      <th>0</th>\n",
       "      <td>0.90</td>\n",
       "      <td>0.10</td>\n",
       "      <td>[8827.970869, 9186.295221]</td>\n",
       "      <td>358.324352</td>\n",
       "      <td>[9529.554741, 9767.443160]</td>\n",
       "      <td>237.888418</td>\n",
       "      <td>No Overlap</td>\n",
       "    </tr>\n",
       "    <tr>\n",
       "      <th>1</th>\n",
       "      <td>0.90</td>\n",
       "      <td>0.25</td>\n",
       "      <td>[8747.605067, 8973.255686]</td>\n",
       "      <td>225.650619</td>\n",
       "      <td>[9679.471462, 9839.001520]</td>\n",
       "      <td>159.530058</td>\n",
       "      <td>No Overlap</td>\n",
       "    </tr>\n",
       "    <tr>\n",
       "      <th>2</th>\n",
       "      <td>0.90</td>\n",
       "      <td>0.50</td>\n",
       "      <td>[8798.052617, 8956.585030]</td>\n",
       "      <td>158.532413</td>\n",
       "      <td>[9786.501168, 9898.252286]</td>\n",
       "      <td>111.751118</td>\n",
       "      <td>No Overlap</td>\n",
       "    </tr>\n",
       "    <tr>\n",
       "      <th>3</th>\n",
       "      <td>0.90</td>\n",
       "      <td>0.75</td>\n",
       "      <td>[8885.898012, 9014.288214]</td>\n",
       "      <td>128.390202</td>\n",
       "      <td>[9767.102143, 9858.399530]</td>\n",
       "      <td>91.297387</td>\n",
       "      <td>No Overlap</td>\n",
       "    </tr>\n",
       "    <tr>\n",
       "      <th>4</th>\n",
       "      <td>0.90</td>\n",
       "      <td>0.90</td>\n",
       "      <td>[8896.742712, 9015.282579]</td>\n",
       "      <td>118.539866</td>\n",
       "      <td>[9762.203865, 9845.273029]</td>\n",
       "      <td>83.069164</td>\n",
       "      <td>No Overlap</td>\n",
       "    </tr>\n",
       "    <tr>\n",
       "      <th>5</th>\n",
       "      <td>0.95</td>\n",
       "      <td>0.10</td>\n",
       "      <td>[8733.918506, 9133.098776]</td>\n",
       "      <td>399.180271</td>\n",
       "      <td>[9705.086804, 10009.104536]</td>\n",
       "      <td>304.017733</td>\n",
       "      <td>No Overlap</td>\n",
       "    </tr>\n",
       "    <tr>\n",
       "      <th>6</th>\n",
       "      <td>0.95</td>\n",
       "      <td>0.25</td>\n",
       "      <td>[8848.752200, 9115.715056]</td>\n",
       "      <td>266.962856</td>\n",
       "      <td>[9711.131472, 9912.588937]</td>\n",
       "      <td>201.457465</td>\n",
       "      <td>No Overlap</td>\n",
       "    </tr>\n",
       "    <tr>\n",
       "      <th>7</th>\n",
       "      <td>0.95</td>\n",
       "      <td>0.50</td>\n",
       "      <td>[8800.475465, 9001.385689]</td>\n",
       "      <td>200.910224</td>\n",
       "      <td>[9699.967974, 9840.324844]</td>\n",
       "      <td>140.356870</td>\n",
       "      <td>No Overlap</td>\n",
       "    </tr>\n",
       "    <tr>\n",
       "      <th>8</th>\n",
       "      <td>0.95</td>\n",
       "      <td>0.75</td>\n",
       "      <td>[8849.851769, 9016.781093]</td>\n",
       "      <td>166.929324</td>\n",
       "      <td>[9711.116961, 9825.387109]</td>\n",
       "      <td>114.270148</td>\n",
       "      <td>No Overlap</td>\n",
       "    </tr>\n",
       "    <tr>\n",
       "      <th>9</th>\n",
       "      <td>0.95</td>\n",
       "      <td>0.90</td>\n",
       "      <td>[8872.023868, 9018.417433]</td>\n",
       "      <td>146.393564</td>\n",
       "      <td>[9741.788069, 9846.516366]</td>\n",
       "      <td>104.728296</td>\n",
       "      <td>No Overlap</td>\n",
       "    </tr>\n",
       "    <tr>\n",
       "      <th>10</th>\n",
       "      <td>0.99</td>\n",
       "      <td>0.10</td>\n",
       "      <td>[8422.403680, 9012.207455]</td>\n",
       "      <td>589.803775</td>\n",
       "      <td>[9510.486896, 9947.192297]</td>\n",
       "      <td>436.705401</td>\n",
       "      <td>No Overlap</td>\n",
       "    </tr>\n",
       "    <tr>\n",
       "      <th>11</th>\n",
       "      <td>0.99</td>\n",
       "      <td>0.25</td>\n",
       "      <td>[8752.971917, 9163.150264]</td>\n",
       "      <td>410.178347</td>\n",
       "      <td>[9606.008180, 9877.289863]</td>\n",
       "      <td>271.281684</td>\n",
       "      <td>No Overlap</td>\n",
       "    </tr>\n",
       "    <tr>\n",
       "      <th>12</th>\n",
       "      <td>0.99</td>\n",
       "      <td>0.50</td>\n",
       "      <td>[8827.028623, 9104.737865]</td>\n",
       "      <td>277.709242</td>\n",
       "      <td>[9702.571129, 9894.002510]</td>\n",
       "      <td>191.431381</td>\n",
       "      <td>No Overlap</td>\n",
       "    </tr>\n",
       "    <tr>\n",
       "      <th>13</th>\n",
       "      <td>0.99</td>\n",
       "      <td>0.75</td>\n",
       "      <td>[8822.848036, 9051.674518]</td>\n",
       "      <td>228.826482</td>\n",
       "      <td>[9696.337017, 9857.587798]</td>\n",
       "      <td>161.250781</td>\n",
       "      <td>No Overlap</td>\n",
       "    </tr>\n",
       "    <tr>\n",
       "      <th>14</th>\n",
       "      <td>0.99</td>\n",
       "      <td>0.90</td>\n",
       "      <td>[8836.956100, 9041.704547]</td>\n",
       "      <td>204.748447</td>\n",
       "      <td>[9708.853191, 9855.491271]</td>\n",
       "      <td>146.638080</td>\n",
       "      <td>No Overlap</td>\n",
       "    </tr>\n",
       "  </tbody>\n",
       "</table>\n",
       "</div>"
      ],
      "text/plain": [
       "    width  sample_pct             female_interval  female_interval_range  \\\n",
       "0    0.90        0.10  [8827.970869, 9186.295221]             358.324352   \n",
       "1    0.90        0.25  [8747.605067, 8973.255686]             225.650619   \n",
       "2    0.90        0.50  [8798.052617, 8956.585030]             158.532413   \n",
       "3    0.90        0.75  [8885.898012, 9014.288214]             128.390202   \n",
       "4    0.90        0.90  [8896.742712, 9015.282579]             118.539866   \n",
       "5    0.95        0.10  [8733.918506, 9133.098776]             399.180271   \n",
       "6    0.95        0.25  [8848.752200, 9115.715056]             266.962856   \n",
       "7    0.95        0.50  [8800.475465, 9001.385689]             200.910224   \n",
       "8    0.95        0.75  [8849.851769, 9016.781093]             166.929324   \n",
       "9    0.95        0.90  [8872.023868, 9018.417433]             146.393564   \n",
       "10   0.99        0.10  [8422.403680, 9012.207455]             589.803775   \n",
       "11   0.99        0.25  [8752.971917, 9163.150264]             410.178347   \n",
       "12   0.99        0.50  [8827.028623, 9104.737865]             277.709242   \n",
       "13   0.99        0.75  [8822.848036, 9051.674518]             228.826482   \n",
       "14   0.99        0.90  [8836.956100, 9041.704547]             204.748447   \n",
       "\n",
       "                  male_interval  male_interval_range overlap_status  \n",
       "0    [9529.554741, 9767.443160]           237.888418     No Overlap  \n",
       "1    [9679.471462, 9839.001520]           159.530058     No Overlap  \n",
       "2    [9786.501168, 9898.252286]           111.751118     No Overlap  \n",
       "3    [9767.102143, 9858.399530]            91.297387     No Overlap  \n",
       "4    [9762.203865, 9845.273029]            83.069164     No Overlap  \n",
       "5   [9705.086804, 10009.104536]           304.017733     No Overlap  \n",
       "6    [9711.131472, 9912.588937]           201.457465     No Overlap  \n",
       "7    [9699.967974, 9840.324844]           140.356870     No Overlap  \n",
       "8    [9711.116961, 9825.387109]           114.270148     No Overlap  \n",
       "9    [9741.788069, 9846.516366]           104.728296     No Overlap  \n",
       "10   [9510.486896, 9947.192297]           436.705401     No Overlap  \n",
       "11   [9606.008180, 9877.289863]           271.281684     No Overlap  \n",
       "12   [9702.571129, 9894.002510]           191.431381     No Overlap  \n",
       "13   [9696.337017, 9857.587798]           161.250781     No Overlap  \n",
       "14   [9708.853191, 9855.491271]           146.638080     No Overlap  "
      ]
     },
     "execution_count": 208,
     "metadata": {},
     "output_type": "execute_result"
    }
   ],
   "source": [
    "params = {\n",
    "    'width': [0.90, 0.95, 0.99],\n",
    "    'sample_pct': [0.10, 0.25, 0.50, 0.75, 0.90]\n",
    "}\n",
    "\n",
    "confidence_intervals_data = pd.DataFrame()\n",
    "\n",
    "for w in params['width']:\n",
    "    for pct in params['sample_pct']:\n",
    "        male_confidence_interval = get_confidence_interval(male_purchase_data, sample_pct= pct, width= w)\n",
    "        female_confidence_interval = get_confidence_interval(female_purchase_data, sample_pct= pct, width= w)\n",
    "\n",
    "        current_confidence_intervals = pd.DataFrame(\n",
    "            {\n",
    "                'width': w, 'sample_pct': pct,\n",
    "                'female_interval': f'[{female_confidence_interval[0]:2f}, {female_confidence_interval[1]:2f}]',\n",
    "                # 'female_interval_lower': female_confidence_interval[0],\n",
    "                # 'female_interval_upper': female_confidence_interval[1],\n",
    "                'female_interval_range': female_confidence_interval[1] - female_confidence_interval[0],\n",
    "                'male_interval': f'[{male_confidence_interval[0]:2f}, {male_confidence_interval[1]:2f}]',\n",
    "                # 'male_interval_lower': male_confidence_interval[0],\n",
    "                # 'male_interval_upper': male_confidence_interval[1],\n",
    "                'male_interval_range': male_confidence_interval[1] - male_confidence_interval[0],\n",
    "                'overlap_status': check_overlap(male_confidence_interval, female_confidence_interval)\n",
    "            },\n",
    "            index= [0]\n",
    "        )\n",
    "\n",
    "        confidence_intervals_data = (\n",
    "            pd.concat([confidence_intervals_data, current_confidence_intervals], ignore_index= True)\n",
    "        )\n",
    "\n",
    "confidence_intervals_data"
   ]
  },
  {
   "cell_type": "markdown",
   "metadata": {},
   "source": [
    "### Observations:\n",
    "\n",
    "- The confidence interval range increases as the sample size decreases and also as the width increases\n",
    "- There is no overlap at different combinations of width and sample sizes\n",
    "- Hence, it can be concluded that male avg spend amount is significantly higher than female"
   ]
  },
  {
   "cell_type": "markdown",
   "metadata": {},
   "source": [
    "## Marital Status\n",
    "\n",
    "*Metric: Avg purchase amount per transaction*\n",
    "\n",
    "*Null Hypothesis (H0): There is no significant difference between the married vs unmarried customers*\n",
    "\n",
    "*Alternate Hypothesis(Ha): Avg purchase amount per transaction is greater for Married customers than Unmarried*\n"
   ]
  },
  {
   "cell_type": "code",
   "execution_count": 209,
   "metadata": {},
   "outputs": [
    {
     "name": "stdout",
     "output_type": "stream",
     "text": [
      "float64 category\n",
      "(5891,) 2\n"
     ]
    },
    {
     "data": {
      "text/plain": [
       "Marital_Status\n",
       "Unmarried    3417\n",
       "Married      2474\n",
       "Name: count, dtype: int64"
      ]
     },
     "execution_count": 209,
     "metadata": {},
     "output_type": "execute_result"
    }
   ],
   "source": [
    "# Checking for data types and cardinality and sample size\n",
    "\n",
    "print(user_agg_data['Avg. Revenue per Transaction'].dtype, user_agg_data['Marital_Status'].dtype)\n",
    "\n",
    "print(user_agg_data['Avg. Revenue per Transaction'].shape, user_agg_data['Marital_Status'].nunique())\n",
    "\n",
    "user_agg_data['Marital_Status'].value_counts()"
   ]
  },
  {
   "cell_type": "markdown",
   "metadata": {},
   "source": [
    "*Sample size: 5891 (no. of customers)*\n",
    "\n",
    "*Data Types: Avg Revenue per Transaction is Numerical and Marital Status is categorical*\n",
    "\n",
    "*Cardinality: Gender has 2 values Unmarried (3417) and Married (2474)*"
   ]
  },
  {
   "cell_type": "markdown",
   "metadata": {},
   "source": [
    "### Observations:\n",
    "- The qq plot looks mostly linear with outliers towards the right, \n",
    "- The ks test shows that the sample is not following a normal distribution"
   ]
  },
  {
   "cell_type": "code",
   "execution_count": 210,
   "metadata": {},
   "outputs": [],
   "source": [
    "married_purchase_data = user_agg_data[user_agg_data['Marital_Status'] == 'Married']['Avg. Revenue per Transaction']\n",
    "unmarried_purchase_data = user_agg_data[user_agg_data['Marital_Status'] == 'Unmarried']['Avg. Revenue per Transaction']"
   ]
  },
  {
   "cell_type": "markdown",
   "metadata": {},
   "source": [
    "**Assumption: Average spending does not follow a normal distribution as per the ks test**"
   ]
  },
  {
   "cell_type": "markdown",
   "metadata": {},
   "source": [
    "**Checking for the null hypothesis using Two Sample KS Test with two tailed alternative hypothesis**\n"
   ]
  },
  {
   "cell_type": "code",
   "execution_count": 211,
   "metadata": {},
   "outputs": [
    {
     "name": "stdout",
     "output_type": "stream",
     "text": [
      "ks_stat: 0.023913, p_val: 0.377029\n",
      "There is no significant difference between Unmarried and Married customer purchase distributions at 95% confidence level\n"
     ]
    }
   ],
   "source": [
    "ks_stat, p_val = st.kstest(married_purchase_data, unmarried_purchase_data, alternative= 'two-sided')\n",
    "\n",
    "print(f\"ks_stat: {ks_stat:4f}, p_val: {p_val:4f}\")\n",
    "\n",
    "\n",
    "alpha = 0.05\n",
    "if p_val > alpha:\n",
    "    print(f\"There is no significant difference between Unmarried and Married customer purchase distributions at {int((1 - alpha)*100)}% confidence level\")\n",
    "else:\n",
    "    print(f\"There is a significant difference between Unmarried and Married customer purchase distributions at {int((1 - alpha)*100)}% confidence level\")"
   ]
  },
  {
   "cell_type": "markdown",
   "metadata": {},
   "source": [
    "### Observations:\n",
    "- The average spending amount **is not** significantly different for married vs unmarried customers"
   ]
  },
  {
   "cell_type": "markdown",
   "metadata": {},
   "source": [
    "**Assumption: Average spending follows almost normal distribution as per the qq plot, despite the ks test showing otherwise**"
   ]
  },
  {
   "cell_type": "code",
   "execution_count": 212,
   "metadata": {},
   "outputs": [
    {
     "data": {
      "text/plain": [
       "(9574.962299031744, 9564.407141636266)"
      ]
     },
     "execution_count": 212,
     "metadata": {},
     "output_type": "execute_result"
    }
   ],
   "source": [
    "married_purchase_data.mean(), unmarried_purchase_data.mean()"
   ]
  },
  {
   "cell_type": "markdown",
   "metadata": {},
   "source": [
    "**Checking for the null hypothesis using Two Sample T Test with left tailed alternative hypothesis (married spending is greater than unmarried)**\n",
    "\n",
    "*Left tailed test because mean of avg purchase amount for married is higher than unmarried*"
   ]
  },
  {
   "cell_type": "code",
   "execution_count": 213,
   "metadata": {},
   "outputs": [
    {
     "name": "stdout",
     "output_type": "stream",
     "text": [
      "t_stat: 0.211532, p_val: 0.416240\n",
      "There is no significant difference between avg spending for married and unmarried users at 95% confidence level\n"
     ]
    }
   ],
   "source": [
    "t_stat, p_val = st.ttest_ind(married_purchase_data, unmarried_purchase_data, alternative= 'greater')\n",
    "\n",
    "print(f\"t_stat: {t_stat:4f}, p_val: {p_val:4f}\")\n",
    "\n",
    "\n",
    "alpha = 0.05\n",
    "if p_val > alpha:\n",
    "    print(f\"There is no significant difference between avg spending for married and unmarried users at {int((1 - alpha)*100)}% confidence level\")\n",
    "else:\n",
    "    print(f\"Married customer avg purchase amount is significantly greater than Unmarried customers at {int((1 - alpha)*100)}% confidence level\")"
   ]
  },
  {
   "cell_type": "markdown",
   "metadata": {},
   "source": [
    "### Observations:\n",
    "- The p value for the left tailed t-test is 0.42\n",
    "- There is no significant difference between avg spending between married and unmarried customers"
   ]
  },
  {
   "cell_type": "markdown",
   "metadata": {},
   "source": [
    "**Calculating the confidence intervals for Married and Unmarried avg purchase amount**"
   ]
  },
  {
   "cell_type": "code",
   "execution_count": 214,
   "metadata": {},
   "outputs": [
    {
     "name": "stdout",
     "output_type": "stream",
     "text": [
      "Married population avg purchase amount 95% confidence interval: 9499.780970 - 9630.180604\n",
      "Unmarried population avg purchase amount 95% confidence interval: 9501.461343 - 9610.638837\n"
     ]
    }
   ],
   "source": [
    "married_purchase_size, married_purchase_mean, married_purchase_std = married_purchase_data.shape[0], married_purchase_data.mean(), married_purchase_data.std()\n",
    "unmarried_purchase_size, unmarried_purchase_mean, unmarried_purchase_std = unmarried_purchase_data.shape[0], unmarried_purchase_data.mean(), unmarried_purchase_data.std()\n",
    "\n",
    "married_purchase_se, unmarried_purchase_se = married_purchase_std / mt.sqrt(married_purchase_size), unmarried_purchase_std / mt.sqrt(unmarried_purchase_size)\n",
    "\n",
    "width = 0.95\n",
    "\n",
    "lower_width, upper_width = (1 - width)/2, width - ((1-width)/2)\n",
    "married_purchase_lower, married_purchase_upper = married_purchase_mean + (st.norm.ppf(lower_width) * married_purchase_se), married_purchase_mean + (st.norm.ppf(upper_width) * married_purchase_se)\n",
    "unmarried_purchase_lower, unmarried_purchase_upper = unmarried_purchase_mean + (st.norm.ppf(lower_width) * unmarried_purchase_se), unmarried_purchase_mean + (st.norm.ppf(upper_width) * unmarried_purchase_se)\n",
    "\n",
    "print(f\"Married population avg purchase amount {int(width*100)}% confidence interval: {married_purchase_lower:2f} - {married_purchase_upper:2f}\")\n",
    "print(f\"Unmarried population avg purchase amount {int(width*100)}% confidence interval: {unmarried_purchase_lower:2f} - {unmarried_purchase_upper:2f}\")"
   ]
  },
  {
   "cell_type": "markdown",
   "metadata": {},
   "source": [
    "### Observations:\n",
    "\n",
    "- There is a full overlap of intervals between married and unmarried avg purchase amount for the population at 95% confidence interval\n",
    "- The interval for unmarried customers is contained within the married population interval"
   ]
  },
  {
   "cell_type": "markdown",
   "metadata": {},
   "source": [
    "**Validating the overlap of confidence intervals for married and unmarried avg purchase amount at different widths and sample sizes**"
   ]
  },
  {
   "cell_type": "code",
   "execution_count": 215,
   "metadata": {},
   "outputs": [
    {
     "data": {
      "text/html": [
       "<div>\n",
       "<style scoped>\n",
       "    .dataframe tbody tr th:only-of-type {\n",
       "        vertical-align: middle;\n",
       "    }\n",
       "\n",
       "    .dataframe tbody tr th {\n",
       "        vertical-align: top;\n",
       "    }\n",
       "\n",
       "    .dataframe thead th {\n",
       "        text-align: right;\n",
       "    }\n",
       "</style>\n",
       "<table border=\"1\" class=\"dataframe\">\n",
       "  <thead>\n",
       "    <tr style=\"text-align: right;\">\n",
       "      <th></th>\n",
       "      <th>width</th>\n",
       "      <th>sample_pct</th>\n",
       "      <th>unmarried_interval</th>\n",
       "      <th>unmarried_interval_range</th>\n",
       "      <th>married_interval</th>\n",
       "      <th>married_interval_range</th>\n",
       "      <th>overlap_status</th>\n",
       "    </tr>\n",
       "  </thead>\n",
       "  <tbody>\n",
       "    <tr>\n",
       "      <th>0</th>\n",
       "      <td>0.90</td>\n",
       "      <td>0.10</td>\n",
       "      <td>[9179.806257, 9441.037540]</td>\n",
       "      <td>261.231283</td>\n",
       "      <td>[9171.590773, 9455.764822]</td>\n",
       "      <td>284.174049</td>\n",
       "      <td>Overalp</td>\n",
       "    </tr>\n",
       "    <tr>\n",
       "      <th>1</th>\n",
       "      <td>0.90</td>\n",
       "      <td>0.25</td>\n",
       "      <td>[9504.082941, 9680.683816]</td>\n",
       "      <td>176.600875</td>\n",
       "      <td>[9416.522018, 9625.773417]</td>\n",
       "      <td>209.251399</td>\n",
       "      <td>Overalp</td>\n",
       "    </tr>\n",
       "    <tr>\n",
       "      <th>2</th>\n",
       "      <td>0.90</td>\n",
       "      <td>0.50</td>\n",
       "      <td>[9491.136346, 9612.742958]</td>\n",
       "      <td>121.606612</td>\n",
       "      <td>[9550.450658, 9701.501111]</td>\n",
       "      <td>151.050454</td>\n",
       "      <td>Overalp</td>\n",
       "    </tr>\n",
       "    <tr>\n",
       "      <th>3</th>\n",
       "      <td>0.90</td>\n",
       "      <td>0.75</td>\n",
       "      <td>[9479.024967, 9578.526211]</td>\n",
       "      <td>99.501244</td>\n",
       "      <td>[9508.973553, 9626.631899]</td>\n",
       "      <td>117.658346</td>\n",
       "      <td>Overalp</td>\n",
       "    </tr>\n",
       "    <tr>\n",
       "      <th>4</th>\n",
       "      <td>0.90</td>\n",
       "      <td>0.90</td>\n",
       "      <td>[9517.514324, 9608.633752]</td>\n",
       "      <td>91.119428</td>\n",
       "      <td>[9517.633357, 9626.375299]</td>\n",
       "      <td>108.741943</td>\n",
       "      <td>Overalp</td>\n",
       "    </tr>\n",
       "    <tr>\n",
       "      <th>5</th>\n",
       "      <td>0.95</td>\n",
       "      <td>0.10</td>\n",
       "      <td>[9440.394903, 9765.312600]</td>\n",
       "      <td>324.917697</td>\n",
       "      <td>[9371.214218, 9809.556517]</td>\n",
       "      <td>438.342299</td>\n",
       "      <td>Overalp</td>\n",
       "    </tr>\n",
       "    <tr>\n",
       "      <th>6</th>\n",
       "      <td>0.95</td>\n",
       "      <td>0.25</td>\n",
       "      <td>[9464.706563, 9674.233120]</td>\n",
       "      <td>209.526556</td>\n",
       "      <td>[9439.159987, 9709.531850]</td>\n",
       "      <td>270.371862</td>\n",
       "      <td>Overalp</td>\n",
       "    </tr>\n",
       "    <tr>\n",
       "      <th>7</th>\n",
       "      <td>0.95</td>\n",
       "      <td>0.50</td>\n",
       "      <td>[9458.366459, 9615.632801]</td>\n",
       "      <td>157.266342</td>\n",
       "      <td>[9427.915269, 9608.746811]</td>\n",
       "      <td>180.831542</td>\n",
       "      <td>Overalp</td>\n",
       "    </tr>\n",
       "    <tr>\n",
       "      <th>8</th>\n",
       "      <td>0.95</td>\n",
       "      <td>0.75</td>\n",
       "      <td>[9470.576022, 9595.834467]</td>\n",
       "      <td>125.258446</td>\n",
       "      <td>[9506.730707, 9656.172833]</td>\n",
       "      <td>149.442126</td>\n",
       "      <td>Overalp</td>\n",
       "    </tr>\n",
       "    <tr>\n",
       "      <th>9</th>\n",
       "      <td>0.95</td>\n",
       "      <td>0.90</td>\n",
       "      <td>[9490.554592, 9606.428431]</td>\n",
       "      <td>115.873840</td>\n",
       "      <td>[9503.216507, 9640.362748]</td>\n",
       "      <td>137.146240</td>\n",
       "      <td>Overalp</td>\n",
       "    </tr>\n",
       "    <tr>\n",
       "      <th>10</th>\n",
       "      <td>0.99</td>\n",
       "      <td>0.10</td>\n",
       "      <td>[9403.903195, 9881.202721]</td>\n",
       "      <td>477.299526</td>\n",
       "      <td>[9269.981917, 9833.959199]</td>\n",
       "      <td>563.977282</td>\n",
       "      <td>Overalp</td>\n",
       "    </tr>\n",
       "    <tr>\n",
       "      <th>11</th>\n",
       "      <td>0.99</td>\n",
       "      <td>0.25</td>\n",
       "      <td>[9341.559853, 9651.477771]</td>\n",
       "      <td>309.917918</td>\n",
       "      <td>[9410.062511, 9787.099340]</td>\n",
       "      <td>377.036829</td>\n",
       "      <td>Overalp</td>\n",
       "    </tr>\n",
       "    <tr>\n",
       "      <th>12</th>\n",
       "      <td>0.99</td>\n",
       "      <td>0.50</td>\n",
       "      <td>[9399.070575, 9611.370637]</td>\n",
       "      <td>212.300062</td>\n",
       "      <td>[9446.441973, 9708.848660]</td>\n",
       "      <td>262.406687</td>\n",
       "      <td>Overalp</td>\n",
       "    </tr>\n",
       "    <tr>\n",
       "      <th>13</th>\n",
       "      <td>0.99</td>\n",
       "      <td>0.75</td>\n",
       "      <td>[9475.549735, 9651.595025]</td>\n",
       "      <td>176.045290</td>\n",
       "      <td>[9472.369420, 9684.116255]</td>\n",
       "      <td>211.746835</td>\n",
       "      <td>Overalp</td>\n",
       "    </tr>\n",
       "    <tr>\n",
       "      <th>14</th>\n",
       "      <td>0.99</td>\n",
       "      <td>0.90</td>\n",
       "      <td>[9471.608859, 9631.532565]</td>\n",
       "      <td>159.923706</td>\n",
       "      <td>[9462.549364, 9656.810207]</td>\n",
       "      <td>194.260843</td>\n",
       "      <td>Overalp</td>\n",
       "    </tr>\n",
       "  </tbody>\n",
       "</table>\n",
       "</div>"
      ],
      "text/plain": [
       "    width  sample_pct          unmarried_interval  unmarried_interval_range  \\\n",
       "0    0.90        0.10  [9179.806257, 9441.037540]                261.231283   \n",
       "1    0.90        0.25  [9504.082941, 9680.683816]                176.600875   \n",
       "2    0.90        0.50  [9491.136346, 9612.742958]                121.606612   \n",
       "3    0.90        0.75  [9479.024967, 9578.526211]                 99.501244   \n",
       "4    0.90        0.90  [9517.514324, 9608.633752]                 91.119428   \n",
       "5    0.95        0.10  [9440.394903, 9765.312600]                324.917697   \n",
       "6    0.95        0.25  [9464.706563, 9674.233120]                209.526556   \n",
       "7    0.95        0.50  [9458.366459, 9615.632801]                157.266342   \n",
       "8    0.95        0.75  [9470.576022, 9595.834467]                125.258446   \n",
       "9    0.95        0.90  [9490.554592, 9606.428431]                115.873840   \n",
       "10   0.99        0.10  [9403.903195, 9881.202721]                477.299526   \n",
       "11   0.99        0.25  [9341.559853, 9651.477771]                309.917918   \n",
       "12   0.99        0.50  [9399.070575, 9611.370637]                212.300062   \n",
       "13   0.99        0.75  [9475.549735, 9651.595025]                176.045290   \n",
       "14   0.99        0.90  [9471.608859, 9631.532565]                159.923706   \n",
       "\n",
       "              married_interval  married_interval_range overlap_status  \n",
       "0   [9171.590773, 9455.764822]              284.174049        Overalp  \n",
       "1   [9416.522018, 9625.773417]              209.251399        Overalp  \n",
       "2   [9550.450658, 9701.501111]              151.050454        Overalp  \n",
       "3   [9508.973553, 9626.631899]              117.658346        Overalp  \n",
       "4   [9517.633357, 9626.375299]              108.741943        Overalp  \n",
       "5   [9371.214218, 9809.556517]              438.342299        Overalp  \n",
       "6   [9439.159987, 9709.531850]              270.371862        Overalp  \n",
       "7   [9427.915269, 9608.746811]              180.831542        Overalp  \n",
       "8   [9506.730707, 9656.172833]              149.442126        Overalp  \n",
       "9   [9503.216507, 9640.362748]              137.146240        Overalp  \n",
       "10  [9269.981917, 9833.959199]              563.977282        Overalp  \n",
       "11  [9410.062511, 9787.099340]              377.036829        Overalp  \n",
       "12  [9446.441973, 9708.848660]              262.406687        Overalp  \n",
       "13  [9472.369420, 9684.116255]              211.746835        Overalp  \n",
       "14  [9462.549364, 9656.810207]              194.260843        Overalp  "
      ]
     },
     "execution_count": 215,
     "metadata": {},
     "output_type": "execute_result"
    }
   ],
   "source": [
    "params = {\n",
    "    'width': [0.90, 0.95, 0.99],\n",
    "    'sample_pct': [0.10, 0.25, 0.50, 0.75, 0.90]\n",
    "}\n",
    "\n",
    "confidence_intervals_data = pd.DataFrame()\n",
    "\n",
    "for w in params['width']:\n",
    "    for pct in params['sample_pct']:\n",
    "        married_confidence_interval = get_confidence_interval(married_purchase_data, sample_pct= pct, width= w)\n",
    "        unmarried_confidence_interval = get_confidence_interval(unmarried_purchase_data, sample_pct= pct, width= w)\n",
    "\n",
    "        current_confidence_intervals = pd.DataFrame(\n",
    "            {\n",
    "                'width': w, 'sample_pct': pct,\n",
    "                'unmarried_interval': f'[{unmarried_confidence_interval[0]:2f}, {unmarried_confidence_interval[1]:2f}]',\n",
    "                # 'unmarried_interval_lower': unmarried_confidence_interval[0],\n",
    "                # 'unmarried_interval_upper': unmarried_confidence_interval[1],\n",
    "                'unmarried_interval_range': unmarried_confidence_interval[1] - unmarried_confidence_interval[0],\n",
    "                'married_interval': f'[{married_confidence_interval[0]:2f}, {married_confidence_interval[1]:2f}]',\n",
    "                # 'married_interval_lower': married_confidence_interval[0],\n",
    "                # 'married_interval_upper': married_confidence_interval[1],\n",
    "                'married_interval_range': married_confidence_interval[1] - married_confidence_interval[0],\n",
    "                'overlap_status': check_overlap(married_confidence_interval, unmarried_confidence_interval)\n",
    "            },\n",
    "            index= [0]\n",
    "        )\n",
    "\n",
    "        confidence_intervals_data = (\n",
    "            pd.concat([confidence_intervals_data, current_confidence_intervals], ignore_index= True)\n",
    "        )\n",
    "\n",
    "confidence_intervals_data"
   ]
  },
  {
   "cell_type": "markdown",
   "metadata": {},
   "source": [
    "### Observations:\n",
    "\n",
    "- The confidence interval range increases as the sample size decreases and also as the width increases\n",
    "- There is a significant overlap at different combinations of width and sample sizes between confidence intervals of married and unmarried customers\n",
    "- Hence, it can be concluded that there is **no significant** difference between avg spend amount for married vs unmarried customers"
   ]
  },
  {
   "cell_type": "markdown",
   "metadata": {},
   "source": [
    "## Age\n",
    "\n",
    "*Metric: Avg purchase amount per transaction*\n",
    "\n",
    "*Null Hypothesis (H0): There is no significant difference across age groups*\n",
    "\n",
    "*Alternate Hypothesis(Ha): Avg purchase amount is significantly different across age groups*\n"
   ]
  },
  {
   "cell_type": "code",
   "execution_count": 216,
   "metadata": {},
   "outputs": [
    {
     "name": "stdout",
     "output_type": "stream",
     "text": [
      "float64 category\n",
      "(5891,) 7\n"
     ]
    },
    {
     "data": {
      "text/plain": [
       "Age\n",
       "26-35    2053\n",
       "36-45    1167\n",
       "18-25    1069\n",
       "46-50     531\n",
       "51-55     481\n",
       "55+       372\n",
       "0-17      218\n",
       "Name: count, dtype: int64"
      ]
     },
     "execution_count": 216,
     "metadata": {},
     "output_type": "execute_result"
    }
   ],
   "source": [
    "# Checking for data types and cardinality and sample size\n",
    "\n",
    "print(user_agg_data['Avg. Revenue per Transaction'].dtype, user_agg_data['Age'].dtype)\n",
    "\n",
    "print(user_agg_data['Avg. Revenue per Transaction'].shape, user_agg_data['Age'].nunique())\n",
    "\n",
    "user_agg_data['Age'].value_counts()"
   ]
  },
  {
   "cell_type": "markdown",
   "metadata": {},
   "source": [
    "### Next Steps\n",
    "- For simplicity and actionable result, 0-17, 18-25 can be grouped together as 0-25 and 46-50, 51-55 and 55+ can be grouped as 46+"
   ]
  },
  {
   "cell_type": "code",
   "execution_count": 217,
   "metadata": {},
   "outputs": [
    {
     "name": "stdout",
     "output_type": "stream",
     "text": [
      "float64 category\n",
      "(5891,) 5\n"
     ]
    },
    {
     "data": {
      "text/plain": [
       "Age_Group\n",
       "36-55    2179\n",
       "26-35    2053\n",
       "18-25    1069\n",
       "55+       372\n",
       "0-17      218\n",
       "Name: count, dtype: int64"
      ]
     },
     "execution_count": 217,
     "metadata": {},
     "output_type": "execute_result"
    }
   ],
   "source": [
    "age_group_mapping = {\n",
    "    '0-17': '0-17',\n",
    "    '18-25': '18-25',\n",
    "    '26-35': '26-35',\n",
    "    '36-45': '36-55',\n",
    "    '46-50': '36-55',\n",
    "    '51-55': '36-55',\n",
    "    '55+': '55+'\n",
    "}\n",
    "\n",
    "user_agg_data['Age_Group'] = user_agg_data['Age'].map(age_group_mapping).astype('category')\n",
    "\n",
    "# Checking for data types and cardinality and sample size\n",
    "\n",
    "print(user_agg_data['Avg. Revenue per Transaction'].dtype, user_agg_data['Age_Group'].dtype)\n",
    "\n",
    "print(user_agg_data['Avg. Revenue per Transaction'].shape, user_agg_data['Age_Group'].nunique())\n",
    "\n",
    "user_agg_data['Age_Group'].value_counts()"
   ]
  },
  {
   "cell_type": "markdown",
   "metadata": {},
   "source": [
    "*Sample size: 5891 (no. of customers)*\n",
    "\n",
    "*Data Types: Avg Revenue per Transaction is Numerical and Age is categorical*\n",
    "\n",
    "*Cardinality: Age has 4 values 0-25, 26-35, 36-45, 46+*"
   ]
  },
  {
   "cell_type": "markdown",
   "metadata": {},
   "source": [
    "### Observations:\n",
    "- The qq plot looks mostly linear with outliers towards the right, \n",
    "- The ks test shows that the sample is not following a normal distribution"
   ]
  },
  {
   "cell_type": "code",
   "execution_count": 218,
   "metadata": {},
   "outputs": [],
   "source": [
    "age_0_17_purchase_data = user_agg_data[user_agg_data['Age_Group'] == '0-17']['Avg. Revenue per Transaction']\n",
    "age_18_25_purchase_data = user_agg_data[user_agg_data['Age_Group'] == '18-25']['Avg. Revenue per Transaction']\n",
    "age_26_35_purchase_data = user_agg_data[user_agg_data['Age_Group'] == '26-35']['Avg. Revenue per Transaction']\n",
    "age_18_55_purchase_data = user_agg_data[user_agg_data['Age_Group'] == '36-55']['Avg. Revenue per Transaction']\n",
    "age_55P_purchase_data = user_agg_data[user_agg_data['Age_Group'] == '55+']['Avg. Revenue per Transaction']\n",
    "\n",
    "age_group_purchase_data_dict = {\n",
    "    '0-17'  : age_0_17_purchase_data,\n",
    "    '18-25'  : age_18_25_purchase_data,\n",
    "    '26-35' : age_26_35_purchase_data,\n",
    "    '36-55' : age_18_55_purchase_data,\n",
    "    '55+'   : age_55P_purchase_data\n",
    "}\n"
   ]
  },
  {
   "cell_type": "markdown",
   "metadata": {},
   "source": [
    "**Assumption: Average spending does not follow a normal distribution as per the ks test**"
   ]
  },
  {
   "cell_type": "markdown",
   "metadata": {},
   "source": [
    "**Checking for the null hypothesis using Kruskal Wallis Test with two tailed alternative hypothesis**\n"
   ]
  },
  {
   "cell_type": "code",
   "execution_count": 219,
   "metadata": {},
   "outputs": [
    {
     "name": "stdout",
     "output_type": "stream",
     "text": [
      "ks_stat: 31.090753, p_val: 0.000003\n",
      "There is a significant difference in median of age purchase amount between age groups at 95% confidence level\n"
     ]
    }
   ],
   "source": [
    "ks_stat, p_val = st.kruskal(age_0_17_purchase_data, age_18_25_purchase_data, age_26_35_purchase_data, age_18_55_purchase_data, age_55P_purchase_data)\n",
    "\n",
    "print(f\"ks_stat: {ks_stat:4f}, p_val: {p_val:4f}\")\n",
    "\n",
    "\n",
    "alpha = 0.05\n",
    "if p_val > alpha:\n",
    "    print(f\"There is no significant difference in median of age purchase amount between age groups at {int((1 - alpha)*100)}% confidence level\")\n",
    "else:\n",
    "    print(f\"There is a significant difference in median of age purchase amount between age groups at {int((1 - alpha)*100)}% confidence level\")"
   ]
  },
  {
   "cell_type": "markdown",
   "metadata": {},
   "source": [
    "### Observations:\n",
    "- The median of average spending amount **is significantly different** between age groups of customers"
   ]
  },
  {
   "cell_type": "markdown",
   "metadata": {},
   "source": [
    "**Assumption: Average spending follows almost normal distribution as per the qq plot, despite the ks test showing otherwise**"
   ]
  },
  {
   "cell_type": "code",
   "execution_count": 220,
   "metadata": {},
   "outputs": [
    {
     "data": {
      "image/png": "[encoded data removed]",
      "text/plain": [
       "<Figure size 640x480 with 1 Axes>"
      ]
     },
     "metadata": {},
     "output_type": "display_data"
    }
   ],
   "source": [
    "ax = sns.barplot(data= user_agg_data, x= 'Age_Group', y= 'Avg. Revenue per Transaction')\n",
    "\n",
    "ax.bar_label(ax.containers[0])\n",
    "plt.show()"
   ]
  },
  {
   "cell_type": "markdown",
   "metadata": {},
   "source": [
    "**Checking for the null hypothesis using ANOVA Test**"
   ]
  },
  {
   "cell_type": "code",
   "execution_count": 221,
   "metadata": {},
   "outputs": [
    {
     "name": "stdout",
     "output_type": "stream",
     "text": [
      "f_stat: 7.187846, p_val: 0.000009\n",
      "There is a significant difference between avg spending between age groups of customers at 95% confidence level\n"
     ]
    }
   ],
   "source": [
    "f_stat, p_val = st.f_oneway(age_0_17_purchase_data, age_18_25_purchase_data, age_26_35_purchase_data, age_18_55_purchase_data, age_55P_purchase_data)\n",
    "\n",
    "print(f\"f_stat: {f_stat:4f}, p_val: {p_val:4f}\")\n",
    "\n",
    "\n",
    "alpha = 0.05\n",
    "if p_val > alpha:\n",
    "    print(f\"There is no significant difference between avg spending between age groups of customers at {int((1 - alpha)*100)}% confidence level\")\n",
    "else:\n",
    "    print(f\"There is a significant difference between avg spending between age groups of customers at {int((1 - alpha)*100)}% confidence level\")"
   ]
  },
  {
   "cell_type": "markdown",
   "metadata": {},
   "source": [
    "### Observations:\n",
    "- There is a significant difference between avg spending between age groups of customers"
   ]
  },
  {
   "cell_type": "markdown",
   "metadata": {},
   "source": [
    "### Next Steps:\n",
    "\n",
    "- Apply ttest for all combinations to identify similar and significantly different groups\n",
    "- Merge the subsequent groups that are not significantly different\n",
    "- Compare the confidence intervals of the final groups and check for overlaps"
   ]
  },
  {
   "cell_type": "code",
   "execution_count": 222,
   "metadata": {},
   "outputs": [],
   "source": [
    "def get_ttest_result(left_data, right_data, alpha):\n",
    "    \n",
    "    two_tailed_t_stat, two_tailed_p_val = st.ttest_ind(left_data, right_data, alternative= 'two-sided')\n",
    "\n",
    "    two_tailed_result = 'same' if two_tailed_p_val > alpha else 'different'\n",
    "\n",
    "    alternative = 'less' if left_data.mean() < right_data.mean() else 'greater'\n",
    "\n",
    "    one_tailed_t_stat, one_tailed_p_val = st.ttest_ind(left_data, right_data, alternative= alternative)\n",
    "\n",
    "    one_tailed_result = 'same' if one_tailed_p_val > alpha else alternative\n",
    "\n",
    "    result = {\n",
    "        'two_tailed_p_val'  : round(two_tailed_p_val, 5),\n",
    "        'two_tailed_result' : two_tailed_result,\n",
    "        'one_tailed_p_val'  : round(one_tailed_p_val, 5),\n",
    "        'one_tailed_result' : one_tailed_result\n",
    "    }\n",
    "\n",
    "    return result"
   ]
  },
  {
   "cell_type": "markdown",
   "metadata": {},
   "source": [
    "**Calculating the ttest results and confidence intervals of avg purchase amount for all combinations of age groups**"
   ]
  },
  {
   "cell_type": "code",
   "execution_count": 223,
   "metadata": {},
   "outputs": [
    {
     "data": {
      "text/html": [
       "<div>\n",
       "<style scoped>\n",
       "    .dataframe tbody tr th:only-of-type {\n",
       "        vertical-align: middle;\n",
       "    }\n",
       "\n",
       "    .dataframe tbody tr th {\n",
       "        vertical-align: top;\n",
       "    }\n",
       "\n",
       "    .dataframe thead th {\n",
       "        text-align: right;\n",
       "    }\n",
       "</style>\n",
       "<table border=\"1\" class=\"dataframe\">\n",
       "  <thead>\n",
       "    <tr style=\"text-align: right;\">\n",
       "      <th></th>\n",
       "      <th>left_age_group</th>\n",
       "      <th>right_age_group</th>\n",
       "      <th>two_tailed_p_val</th>\n",
       "      <th>two_tailed_result</th>\n",
       "      <th>one_tailed_p_val</th>\n",
       "      <th>one_tailed_result</th>\n",
       "      <th>left_interval</th>\n",
       "      <th>right_interval</th>\n",
       "      <th>overlap_status</th>\n",
       "    </tr>\n",
       "  </thead>\n",
       "  <tbody>\n",
       "    <tr>\n",
       "      <th>0</th>\n",
       "      <td>0-17</td>\n",
       "      <td>18-25</td>\n",
       "      <td>0.00034</td>\n",
       "      <td>different</td>\n",
       "      <td>0.00017</td>\n",
       "      <td>less</td>\n",
       "      <td>[8729.913649, 9174.639404]</td>\n",
       "      <td>[9396.177701, 9603.375240]</td>\n",
       "      <td>No Overlap</td>\n",
       "    </tr>\n",
       "    <tr>\n",
       "      <th>1</th>\n",
       "      <td>0-17</td>\n",
       "      <td>26-35</td>\n",
       "      <td>0.00000</td>\n",
       "      <td>different</td>\n",
       "      <td>0.00000</td>\n",
       "      <td>less</td>\n",
       "      <td>[8729.913649, 9174.639404]</td>\n",
       "      <td>[9528.202654, 9665.094255]</td>\n",
       "      <td>No Overlap</td>\n",
       "    </tr>\n",
       "    <tr>\n",
       "      <th>2</th>\n",
       "      <td>0-17</td>\n",
       "      <td>36-55</td>\n",
       "      <td>0.00000</td>\n",
       "      <td>different</td>\n",
       "      <td>0.00000</td>\n",
       "      <td>less</td>\n",
       "      <td>[8729.913649, 9174.639404]</td>\n",
       "      <td>[9566.477404, 9702.224910]</td>\n",
       "      <td>No Overlap</td>\n",
       "    </tr>\n",
       "    <tr>\n",
       "      <th>3</th>\n",
       "      <td>0-17</td>\n",
       "      <td>55+</td>\n",
       "      <td>0.01286</td>\n",
       "      <td>different</td>\n",
       "      <td>0.00643</td>\n",
       "      <td>less</td>\n",
       "      <td>[8729.913649, 9174.639404]</td>\n",
       "      <td>[9203.554473, 9556.772616]</td>\n",
       "      <td>No Overlap</td>\n",
       "    </tr>\n",
       "    <tr>\n",
       "      <th>4</th>\n",
       "      <td>18-25</td>\n",
       "      <td>26-35</td>\n",
       "      <td>0.19796</td>\n",
       "      <td>same</td>\n",
       "      <td>0.09898</td>\n",
       "      <td>same</td>\n",
       "      <td>[9396.177701, 9603.375240]</td>\n",
       "      <td>[9528.202654, 9665.094255]</td>\n",
       "      <td>Overalp</td>\n",
       "    </tr>\n",
       "    <tr>\n",
       "      <th>5</th>\n",
       "      <td>18-25</td>\n",
       "      <td>36-55</td>\n",
       "      <td>0.06997</td>\n",
       "      <td>same</td>\n",
       "      <td>0.03498</td>\n",
       "      <td>less</td>\n",
       "      <td>[9396.177701, 9603.375240]</td>\n",
       "      <td>[9566.477404, 9702.224910]</td>\n",
       "      <td>Overalp</td>\n",
       "    </tr>\n",
       "    <tr>\n",
       "      <th>6</th>\n",
       "      <td>18-25</td>\n",
       "      <td>55+</td>\n",
       "      <td>0.36687</td>\n",
       "      <td>same</td>\n",
       "      <td>0.18344</td>\n",
       "      <td>same</td>\n",
       "      <td>[9396.177701, 9603.375240]</td>\n",
       "      <td>[9203.554473, 9556.772616]</td>\n",
       "      <td>Overalp</td>\n",
       "    </tr>\n",
       "    <tr>\n",
       "      <th>7</th>\n",
       "      <td>26-35</td>\n",
       "      <td>36-55</td>\n",
       "      <td>0.50745</td>\n",
       "      <td>same</td>\n",
       "      <td>0.25373</td>\n",
       "      <td>same</td>\n",
       "      <td>[9528.202654, 9665.094255]</td>\n",
       "      <td>[9566.477404, 9702.224910]</td>\n",
       "      <td>Overalp</td>\n",
       "    </tr>\n",
       "    <tr>\n",
       "      <th>8</th>\n",
       "      <td>26-35</td>\n",
       "      <td>55+</td>\n",
       "      <td>0.05567</td>\n",
       "      <td>same</td>\n",
       "      <td>0.02783</td>\n",
       "      <td>greater</td>\n",
       "      <td>[9528.202654, 9665.094255]</td>\n",
       "      <td>[9203.554473, 9556.772616]</td>\n",
       "      <td>Overalp</td>\n",
       "    </tr>\n",
       "    <tr>\n",
       "      <th>9</th>\n",
       "      <td>36-55</td>\n",
       "      <td>55+</td>\n",
       "      <td>0.02477</td>\n",
       "      <td>different</td>\n",
       "      <td>0.01239</td>\n",
       "      <td>greater</td>\n",
       "      <td>[9566.477404, 9702.224910]</td>\n",
       "      <td>[9203.554473, 9556.772616]</td>\n",
       "      <td>No Overlap</td>\n",
       "    </tr>\n",
       "  </tbody>\n",
       "</table>\n",
       "</div>"
      ],
      "text/plain": [
       "  left_age_group right_age_group  two_tailed_p_val two_tailed_result  \\\n",
       "0           0-17           18-25           0.00034         different   \n",
       "1           0-17           26-35           0.00000         different   \n",
       "2           0-17           36-55           0.00000         different   \n",
       "3           0-17             55+           0.01286         different   \n",
       "4          18-25           26-35           0.19796              same   \n",
       "5          18-25           36-55           0.06997              same   \n",
       "6          18-25             55+           0.36687              same   \n",
       "7          26-35           36-55           0.50745              same   \n",
       "8          26-35             55+           0.05567              same   \n",
       "9          36-55             55+           0.02477         different   \n",
       "\n",
       "   one_tailed_p_val one_tailed_result               left_interval  \\\n",
       "0           0.00017              less  [8729.913649, 9174.639404]   \n",
       "1           0.00000              less  [8729.913649, 9174.639404]   \n",
       "2           0.00000              less  [8729.913649, 9174.639404]   \n",
       "3           0.00643              less  [8729.913649, 9174.639404]   \n",
       "4           0.09898              same  [9396.177701, 9603.375240]   \n",
       "5           0.03498              less  [9396.177701, 9603.375240]   \n",
       "6           0.18344              same  [9396.177701, 9603.375240]   \n",
       "7           0.25373              same  [9528.202654, 9665.094255]   \n",
       "8           0.02783           greater  [9528.202654, 9665.094255]   \n",
       "9           0.01239           greater  [9566.477404, 9702.224910]   \n",
       "\n",
       "               right_interval overlap_status  \n",
       "0  [9396.177701, 9603.375240]     No Overlap  \n",
       "1  [9528.202654, 9665.094255]     No Overlap  \n",
       "2  [9566.477404, 9702.224910]     No Overlap  \n",
       "3  [9203.554473, 9556.772616]     No Overlap  \n",
       "4  [9528.202654, 9665.094255]        Overalp  \n",
       "5  [9566.477404, 9702.224910]        Overalp  \n",
       "6  [9203.554473, 9556.772616]        Overalp  \n",
       "7  [9566.477404, 9702.224910]        Overalp  \n",
       "8  [9203.554473, 9556.772616]        Overalp  \n",
       "9  [9203.554473, 9556.772616]     No Overlap  "
      ]
     },
     "execution_count": 223,
     "metadata": {},
     "output_type": "execute_result"
    }
   ],
   "source": [
    "age_group_names = list(age_group_purchase_data_dict.keys())\n",
    "age_group_ttest_results_data = pd.DataFrame()\n",
    "alpha= 0.05; width = 1 - alpha\n",
    "\n",
    "for i in range(len(age_group_names)):\n",
    "    for j in range(i + 1, len(age_group_names)):\n",
    "\n",
    "        result = dict()\n",
    "        result['left_age_group'], result['right_age_group'] = age_group_names[i], age_group_names[j]\n",
    "        result.update(\n",
    "            get_ttest_result(\n",
    "                age_group_purchase_data_dict[age_group_names[i]],\n",
    "                age_group_purchase_data_dict[age_group_names[j]],\n",
    "                alpha\n",
    "            )\n",
    "        )\n",
    "        left_confidence_interval = get_confidence_interval(\n",
    "            age_group_purchase_data_dict[age_group_names[i]], sample_pct= 1, width= 1 - alpha\n",
    "            )\n",
    "        right_confidence_interval = get_confidence_interval(\n",
    "            age_group_purchase_data_dict[age_group_names[j]], sample_pct= 1, width= 1 - alpha\n",
    "            )\n",
    "\n",
    "        result.update(\n",
    "            {\n",
    "                'left_interval': f'[{left_confidence_interval[0]:2f}, {left_confidence_interval[1]:2f}]',\n",
    "                'right_interval': f'[{right_confidence_interval[0]:2f}, {right_confidence_interval[1]:2f}]',\n",
    "                'overlap_status': check_overlap(left_confidence_interval, right_confidence_interval)\n",
    "            }\n",
    "        )\n",
    "        result_data = pd.DataFrame(\n",
    "            data= result, index= [0]\n",
    "        )\n",
    "        \n",
    "        age_group_ttest_results_data = pd.concat([age_group_ttest_results_data, result_data], ignore_index= True)\n",
    "\n",
    "age_group_ttest_results_data"
   ]
  },
  {
   "cell_type": "markdown",
   "metadata": {},
   "source": [
    "### Observations:\n",
    "\n",
    "- The avg purchase amount of 0-17 age group is significantly lesses from other groups and 55+ age group is significantly greater than other most of other groups\n",
    "- A final grouping of 0-17, 18-55, 55+ will be useful for further analysis and actionable insights"
   ]
  },
  {
   "cell_type": "code",
   "execution_count": 226,
   "metadata": {},
   "outputs": [],
   "source": [
    "age_group_final_mapping = {\n",
    "    '0-17': '0-17',\n",
    "    '18-25': '18-55',\n",
    "    '26-35': '18-55',\n",
    "    '36-45': '18-55',\n",
    "    '46-50': '18-55',\n",
    "    '51-55': '18-55',\n",
    "    '55+': '55+'\n",
    "}\n",
    "\n",
    "user_agg_data['Age_Group_Final'] = user_agg_data['Age'].map(age_group_final_mapping).astype('category')\n"
   ]
  },
  {
   "cell_type": "code",
   "execution_count": 227,
   "metadata": {},
   "outputs": [
    {
     "data": {
      "image/png": "[encoded data removed]",
      "text/plain": [
       "<Figure size 640x480 with 1 Axes>"
      ]
     },
     "metadata": {},
     "output_type": "display_data"
    }
   ],
   "source": [
    "ax = sns.barplot(data= user_agg_data, x= 'Age_Group_Final', y= 'Avg. Revenue per Transaction')\n",
    "\n",
    "ax.bar_label(ax.containers[0])\n",
    "plt.show()"
   ]
  },
  {
   "cell_type": "markdown",
   "metadata": {},
   "source": [
    "**Validating the overlap of confidence intervals for married and unmarried avg purchase amount at different widths and sample sizes**"
   ]
  },
  {
   "cell_type": "code",
   "execution_count": null,
   "metadata": {},
   "outputs": [
    {
     "data": {
      "text/html": [
       "<div>\n",
       "<style scoped>\n",
       "    .dataframe tbody tr th:only-of-type {\n",
       "        vertical-align: middle;\n",
       "    }\n",
       "\n",
       "    .dataframe tbody tr th {\n",
       "        vertical-align: top;\n",
       "    }\n",
       "\n",
       "    .dataframe thead th {\n",
       "        text-align: right;\n",
       "    }\n",
       "</style>\n",
       "<table border=\"1\" class=\"dataframe\">\n",
       "  <thead>\n",
       "    <tr style=\"text-align: right;\">\n",
       "      <th></th>\n",
       "      <th>width</th>\n",
       "      <th>sample_pct</th>\n",
       "      <th>unmarried_interval</th>\n",
       "      <th>unmarried_interval_range</th>\n",
       "      <th>married_interval</th>\n",
       "      <th>married_interval_range</th>\n",
       "      <th>overlap_status</th>\n",
       "    </tr>\n",
       "  </thead>\n",
       "  <tbody>\n",
       "    <tr>\n",
       "      <th>0</th>\n",
       "      <td>0.90</td>\n",
       "      <td>0.10</td>\n",
       "      <td>[9195.290832, 9462.390817]</td>\n",
       "      <td>267.099985</td>\n",
       "      <td>[9264.048980, 9565.782711]</td>\n",
       "      <td>301.733731</td>\n",
       "      <td>Overalp</td>\n",
       "    </tr>\n",
       "    <tr>\n",
       "      <th>1</th>\n",
       "      <td>0.90</td>\n",
       "      <td>0.25</td>\n",
       "      <td>[9384.055000, 9557.538471]</td>\n",
       "      <td>173.483471</td>\n",
       "      <td>[9516.779078, 9724.964359]</td>\n",
       "      <td>208.185281</td>\n",
       "      <td>Overalp</td>\n",
       "    </tr>\n",
       "    <tr>\n",
       "      <th>2</th>\n",
       "      <td>0.90</td>\n",
       "      <td>0.50</td>\n",
       "      <td>[9508.866291, 9629.546504]</td>\n",
       "      <td>120.680213</td>\n",
       "      <td>[9442.252111, 9586.383190]</td>\n",
       "      <td>144.131079</td>\n",
       "      <td>Overalp</td>\n",
       "    </tr>\n",
       "    <tr>\n",
       "      <th>3</th>\n",
       "      <td>0.90</td>\n",
       "      <td>0.75</td>\n",
       "      <td>[9493.112530, 9592.463598]</td>\n",
       "      <td>99.351068</td>\n",
       "      <td>[9456.175823, 9572.390250]</td>\n",
       "      <td>116.214427</td>\n",
       "      <td>Overalp</td>\n",
       "    </tr>\n",
       "    <tr>\n",
       "      <th>4</th>\n",
       "      <td>0.90</td>\n",
       "      <td>0.90</td>\n",
       "      <td>[9514.608615, 9605.630697]</td>\n",
       "      <td>91.022082</td>\n",
       "      <td>[9520.944292, 9628.723415]</td>\n",
       "      <td>107.779123</td>\n",
       "      <td>Overalp</td>\n",
       "    </tr>\n",
       "    <tr>\n",
       "      <th>5</th>\n",
       "      <td>0.95</td>\n",
       "      <td>0.10</td>\n",
       "      <td>[9482.945175, 9841.428326]</td>\n",
       "      <td>358.483151</td>\n",
       "      <td>[9315.059330, 9731.016216]</td>\n",
       "      <td>415.956886</td>\n",
       "      <td>Overalp</td>\n",
       "    </tr>\n",
       "    <tr>\n",
       "      <th>6</th>\n",
       "      <td>0.95</td>\n",
       "      <td>0.25</td>\n",
       "      <td>[9500.620651, 9714.689845]</td>\n",
       "      <td>214.069194</td>\n",
       "      <td>[9309.384712, 9574.362156]</td>\n",
       "      <td>264.977444</td>\n",
       "      <td>Overalp</td>\n",
       "    </tr>\n",
       "    <tr>\n",
       "      <th>7</th>\n",
       "      <td>0.95</td>\n",
       "      <td>0.50</td>\n",
       "      <td>[9500.301427, 9659.089074]</td>\n",
       "      <td>158.787647</td>\n",
       "      <td>[9402.120374, 9584.008914]</td>\n",
       "      <td>181.888540</td>\n",
       "      <td>Overalp</td>\n",
       "    </tr>\n",
       "    <tr>\n",
       "      <th>8</th>\n",
       "      <td>0.95</td>\n",
       "      <td>0.75</td>\n",
       "      <td>[9502.556970, 9627.243245]</td>\n",
       "      <td>124.686276</td>\n",
       "      <td>[9488.882957, 9641.053393]</td>\n",
       "      <td>152.170436</td>\n",
       "      <td>Overalp</td>\n",
       "    </tr>\n",
       "    <tr>\n",
       "      <th>9</th>\n",
       "      <td>0.95</td>\n",
       "      <td>0.90</td>\n",
       "      <td>[9494.197492, 9610.177331]</td>\n",
       "      <td>115.979839</td>\n",
       "      <td>[9487.313572, 9623.739585]</td>\n",
       "      <td>136.426013</td>\n",
       "      <td>Overalp</td>\n",
       "    </tr>\n",
       "    <tr>\n",
       "      <th>10</th>\n",
       "      <td>0.99</td>\n",
       "      <td>0.10</td>\n",
       "      <td>[9362.329579, 9854.329230]</td>\n",
       "      <td>491.999651</td>\n",
       "      <td>[9223.643016, 9756.836386]</td>\n",
       "      <td>533.193371</td>\n",
       "      <td>Overalp</td>\n",
       "    </tr>\n",
       "    <tr>\n",
       "      <th>11</th>\n",
       "      <td>0.99</td>\n",
       "      <td>0.25</td>\n",
       "      <td>[9367.931158, 9684.026479]</td>\n",
       "      <td>316.095321</td>\n",
       "      <td>[9361.627233, 9735.810394]</td>\n",
       "      <td>374.183161</td>\n",
       "      <td>Overalp</td>\n",
       "    </tr>\n",
       "    <tr>\n",
       "      <th>12</th>\n",
       "      <td>0.99</td>\n",
       "      <td>0.50</td>\n",
       "      <td>[9405.719905, 9621.702054]</td>\n",
       "      <td>215.982150</td>\n",
       "      <td>[9385.324515, 9632.862721]</td>\n",
       "      <td>247.538207</td>\n",
       "      <td>Overalp</td>\n",
       "    </tr>\n",
       "    <tr>\n",
       "      <th>13</th>\n",
       "      <td>0.99</td>\n",
       "      <td>0.75</td>\n",
       "      <td>[9459.435247, 9635.024776]</td>\n",
       "      <td>175.589529</td>\n",
       "      <td>[9446.567814, 9657.969527]</td>\n",
       "      <td>211.401713</td>\n",
       "      <td>Overalp</td>\n",
       "    </tr>\n",
       "    <tr>\n",
       "      <th>14</th>\n",
       "      <td>0.99</td>\n",
       "      <td>0.90</td>\n",
       "      <td>[9478.131882, 9639.217875]</td>\n",
       "      <td>161.085993</td>\n",
       "      <td>[9479.984718, 9672.260839]</td>\n",
       "      <td>192.276121</td>\n",
       "      <td>Overalp</td>\n",
       "    </tr>\n",
       "  </tbody>\n",
       "</table>\n",
       "</div>"
      ],
      "text/plain": [
       "    width  sample_pct          unmarried_interval  unmarried_interval_range  \\\n",
       "0    0.90        0.10  [9195.290832, 9462.390817]                267.099985   \n",
       "1    0.90        0.25  [9384.055000, 9557.538471]                173.483471   \n",
       "2    0.90        0.50  [9508.866291, 9629.546504]                120.680213   \n",
       "3    0.90        0.75  [9493.112530, 9592.463598]                 99.351068   \n",
       "4    0.90        0.90  [9514.608615, 9605.630697]                 91.022082   \n",
       "5    0.95        0.10  [9482.945175, 9841.428326]                358.483151   \n",
       "6    0.95        0.25  [9500.620651, 9714.689845]                214.069194   \n",
       "7    0.95        0.50  [9500.301427, 9659.089074]                158.787647   \n",
       "8    0.95        0.75  [9502.556970, 9627.243245]                124.686276   \n",
       "9    0.95        0.90  [9494.197492, 9610.177331]                115.979839   \n",
       "10   0.99        0.10  [9362.329579, 9854.329230]                491.999651   \n",
       "11   0.99        0.25  [9367.931158, 9684.026479]                316.095321   \n",
       "12   0.99        0.50  [9405.719905, 9621.702054]                215.982150   \n",
       "13   0.99        0.75  [9459.435247, 9635.024776]                175.589529   \n",
       "14   0.99        0.90  [9478.131882, 9639.217875]                161.085993   \n",
       "\n",
       "              married_interval  married_interval_range overlap_status  \n",
       "0   [9264.048980, 9565.782711]              301.733731        Overalp  \n",
       "1   [9516.779078, 9724.964359]              208.185281        Overalp  \n",
       "2   [9442.252111, 9586.383190]              144.131079        Overalp  \n",
       "3   [9456.175823, 9572.390250]              116.214427        Overalp  \n",
       "4   [9520.944292, 9628.723415]              107.779123        Overalp  \n",
       "5   [9315.059330, 9731.016216]              415.956886        Overalp  \n",
       "6   [9309.384712, 9574.362156]              264.977444        Overalp  \n",
       "7   [9402.120374, 9584.008914]              181.888540        Overalp  \n",
       "8   [9488.882957, 9641.053393]              152.170436        Overalp  \n",
       "9   [9487.313572, 9623.739585]              136.426013        Overalp  \n",
       "10  [9223.643016, 9756.836386]              533.193371        Overalp  \n",
       "11  [9361.627233, 9735.810394]              374.183161        Overalp  \n",
       "12  [9385.324515, 9632.862721]              247.538207        Overalp  \n",
       "13  [9446.567814, 9657.969527]              211.401713        Overalp  \n",
       "14  [9479.984718, 9672.260839]              192.276121        Overalp  "
      ]
     },
     "metadata": {},
     "output_type": "display_data"
    }
   ],
   "source": [
    "params = {\n",
    "    'width': [0.90, 0.95, 0.99],\n",
    "    'sample_pct': [0.10, 0.50, 0.90]\n",
    "}\n",
    "\n",
    "confidence_intervals_data = pd.DataFrame()\n",
    "\n",
    "for w in params['width']:\n",
    "    for pct in params['sample_pct']:\n",
    "        married_confidence_interval = get_confidence_interval(married_purchase_data, sample_pct= pct, width= w)\n",
    "        unmarried_confidence_interval = get_confidence_interval(unmarried_purchase_data, sample_pct= pct, width= w)\n",
    "\n",
    "        current_confidence_intervals = pd.DataFrame(\n",
    "            {\n",
    "                'width': w, 'sample_pct': pct,\n",
    "                'unmarried_interval': f'[{unmarried_confidence_interval[0]:2f}, {unmarried_confidence_interval[1]:2f}]',\n",
    "                'unmarried_interval_range': unmarried_confidence_interval[1] - unmarried_confidence_interval[0],\n",
    "                'married_interval': f'[{married_confidence_interval[0]:2f}, {married_confidence_interval[1]:2f}]',\n",
    "                'married_interval_range': married_confidence_interval[1] - married_confidence_interval[0],\n",
    "                'overlap_status': check_overlap(married_confidence_interval, unmarried_confidence_interval)\n",
    "            },\n",
    "            index= [0]\n",
    "        )\n",
    "\n",
    "        confidence_intervals_data = (\n",
    "            pd.concat([confidence_intervals_data, current_confidence_intervals], ignore_index= True)\n",
    "        )\n",
    "\n",
    "confidence_intervals_data"
   ]
  },
  {
   "cell_type": "markdown",
   "metadata": {},
   "source": [
    "### Observations:\n",
    "\n",
    "- The confidence interval range increases as the sample size decreases and also as the width increases\n",
    "- There is a significant overlap at different combinations of width and sample sizes between confidence intervals of married and unmarried customers\n",
    "- Hence, it can be concluded that there is **no significant** difference between avg spend amount for married vs unmarried customers"
   ]
  },
  {
   "cell_type": "code",
   "execution_count": null,
   "metadata": {},
   "outputs": [],
   "source": []
  }
 ],
 "metadata": {
  "kernelspec": {
   "display_name": "base",
   "language": "python",
   "name": "python3"
  },
  "language_info": {
   "codemirror_mode": {
    "name": "ipython",
    "version": 3
   },
   "file_extension": ".py",
   "mimetype": "text/x-python",
   "name": "python",
   "nbconvert_exporter": "python",
   "pygments_lexer": "ipython3",
   "version": "3.12.7"
  }
 },
 "nbformat": 4,
 "nbformat_minor": 2
}
