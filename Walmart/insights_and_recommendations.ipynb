{
 "cells": [
  {
   "cell_type": "markdown",
   "metadata": {},
   "source": [
    "# Insights"
   ]
  },
  {
   "cell_type": "markdown",
   "metadata": {},
   "source": [
    "## Data Cleaning and Preperation"
   ]
  },
  {
   "cell_type": "markdown",
   "metadata": {},
   "source": [
    "### Observations:\n",
    "1. There are 5.5 lakh records of transaction data\n",
    "2. User ID and Product ID columns identify the product purchased by a user in the current transaction\n",
    "3. User ID is of int data type and should be changed to string\n",
    "4. There does not seem to be an unique identifier for each transaction\n",
    "5. There are 3631 unique products\n",
    "6. There are not any null values in the data\n",
    "7. The category columns such as Occupation, City_Category, Marital_Status, Product_Category are of int data type and are masked so need to change to category type\n",
    "8. There are no missing values in the data as confirmed earlier\n",
    "9. All the categorical variables have a significant size of samples except for occupation 8 and product category 9 which have less than 1% of samples, since there will not be much analysis of these columns for the current problem statement, it can be ignored\n",
    "10. There are 0.5% outliers in the purchase amount column which are above upper limit of 21400 but are still less than 25000, hence there is no need to remove these outliers\n",
    "11. The mean purchase amount is greater than the median which means the distribution is right skewed as confirmed by the hist plot\n",
    "12. The product category and occupation columns are masked with each containing around 20 unique values which will make it hard to analyse since we cannot bin it or infer business insight directly from it, hence these columns can be dropped from here including the product id column"
   ]
  },
  {
   "cell_type": "markdown",
   "metadata": {},
   "source": [
    "## Exploration"
   ]
  },
  {
   "cell_type": "markdown",
   "metadata": {},
   "source": [
    "### Observations:\n",
    "\n",
    "- Purchase Amount\n",
    "  - The mean purchase amount per transaction is 15% more than median amount, which indicates a right skew in the purchase amount distribution\n",
    "  - The purchase amount distribution does not seem to be a normal distribution, a normality check is required before selecting a test statistic for any subsequent hypothesis testing\n",
    "  - The transactions seems to cluster around ranges of purchase amount, which may be due to prices being discounted down from a round figure\n",
    "\n",
    "- Avg. Revenue per Transaction\n",
    "  - The average revenue per transaction seems to approximately follow a normal distribution, need to check for the same\n",
    "  - The qq plot of average order value looks mostly linear with outliers towards the right \n",
    "  - The ks test shows that the average order value is not following a normal distribution\n",
    "\n",
    "- Gender:\n",
    "  - 72% of purchasing customers are male and 28% customers are female\n",
    "  - The same is reflected in transaction and revenue which is distributed as 75% male and 25% female\n",
    "  - The male customers made 98 transactions on average which is 20% more than 81 transactions made by female customers\n",
    "  - Average revenue per customer is 925K for males which is 30% more than 712K for females\n",
    "  - Average order value is 9.5K for males which is 8% more than 8.7K for females\n",
    "  - The metrics seems to be high for males compared to females, need to test significance of the same\n",
    "  - It is also possible that only a few customers are generating most of the revenue, need to check revenue distribution as the user level\n",
    "  - There seems to be more female customers who make low order value transactions\n",
    "  - The same trend seems to appear for Transaction volume and Revenue\n",
    "  - The average spending amount **is significantly different** for male vs female customers\n",
    "  - Male avg purchase amount is significantly greater than Female as per the left tailed t-test at 95% confidence level\n",
    "  - There is no overlap between male (9749.4 - 9849.1) and female (8883.3 - 9025.3) avg purchase amount for the population at 95% confidence interval\n",
    "  - The confidence interval range increases as the sample size decreases and also as the width increases\n",
    "  - There is no overlap at different combinations of width and sample sizes\n",
    "  - Hence, it can be concluded that male avg spend amount is significantly higher than female\n",
    "\n",
    "- Age:\n",
    "  - 40% of customers are in the age range of 26-35 while 20% in 36-45 and 18% in 18-25, a total of 78% of customers are in the age range 18-45\n",
    "  - The same is the case for revenue contribution and transaction volume across the given age ranges, which can indicate that the revenue may be uniformly distributed across customers atleast across age ranges\n",
    "  - The average revenue per user and the average no. of transactions per user seem to be ranked similary with age ranges (26-35, 36-45, 18-25) ranking at the top and age ranges (0-17 and 55+) ranking at the bottom, need to check the significance for the same\n",
    "  - The average order value seems to be similar across the given age ranges, need to check significance of the same\n",
    "  - The avg order value seems to be distributed similarly across age\n",
    "  - There are more customers in the age group 55+ who contributed low revenue with low transaction volume\n",
    "  - The median of average spending amount **is significantly different** between age groups of customers\n",
    "  - There is a significant difference in variances across age groups at 95% confidence level\n",
    "  - The result would change to having equal variance at 99% confidence level\n",
    "  - Perform ANOVA nevertheless based on 99% confidence result to make sure again that there is no difference\n",
    "  - ANOVA: There is a significant difference between avg spending between age groups of customers\n",
    "  - Kruskal Wallis: ANOVA: There is a significant difference between avg spending between age groups of customers\n",
    "  - Both the tests result in the same conclusion that the average spending behaviour is different across age groups\n",
    "  - The avg purchase amount of 0-17 age group is significantly lesses from other groups and 55+ age group is significantly greater than other most of other groups\n",
    "  - A final grouping of 0-17, 18-55, 55+ will be useful for further analysis and actionable insights\n",
    "  - There is no overlap at most of the combinations of width and sample sizes between confidence intervals of age <17 and 18+ customers, except for 99% width and 10% sample pct\n",
    "  - Hence, it can be concluded that there **is a significant difference** between avg spend amount for age <17 vs 18+ customers\n",
    "\n",
    "- Marital Status\n",
    "  - 58% of customers are unmarried and 42% of customers are married\n",
    "  - The transaction count and revenue are distributed in the same way with 59% from unmarried and 41% from married\n",
    "  - The average revenue per user and average order value seem to be similar for married and unmarried customers, need to check the same\n",
    "  - The distribution of transaction volume and revenue seems to be exactly overlapping across marital status\n",
    "  - The same is the case for average order value with the exception that there are slightly more customers at the mean avg purchase per transaction\n",
    "  - The average spending amount **is not significantly different** for married vs unmarried customers\n",
    "  - There is no significant difference between avg spending between married and unmarried customers\n",
    "  - There is a full overlap of intervals between married and unmarried avg purchase amount for the population at 95% confidence interval\n",
    "  - The interval for unmarried customers is contained within the married population interval\n",
    "\n",
    "- City Category\n",
    "  - 53% of the customers are from City C which is the majority compared to other two cities which have 29% and 18% from City B and City C respectively\n",
    "  - Unlike age, gender and marital status the transaction volume and revenue is not distributed similar to the no of customers, with City B contributing 41% of revenue/transaction and then City C with 31% of revenue/transaction\n",
    "  - The average revenue per customer across city seems to also behave unlike age, gender and marital status, with City A and City B being similar at 1.26M (1.6% more than) and 1.24M while City C is 58% low at 530K revenue per user. The same is reflected with average transaciton volume per customer.\n",
    "  - The average order value looks similar across cities with City C leading by a small margin of 6%. Need to check significance of the same.\n",
    "  - Need to also check the distribution average order value and total revenue at user level across city, age, gender and marital status\n",
    "  - Though the average order value is same across cities, there seems to be more customers with higher average order value in City C compared to others\n",
    "  - There are very large no of customers with low revenue and transaction volume in City C compared to other cities\n",
    "  - The trend here seems to be that most of users from City C make very few transactions of slightly high average order value\n",
    "  - The median of average spending amount **is significantly different** between city categories of customers\n",
    "  - There is a significant difference in variances across city categories at 95% confidence level\n",
    "  - Hence, ANOVA test can not be applied in this scenario\n",
    "  - Kruskal Wallis: There is a significant difference between avg spending between city groups of customers\n",
    "  - The avg purchase amount of city C is significantly greater that other groups\n",
    "  - The avg purchase amount of city A and B are same\n",
    "  - There is no overlap at most of the combinations of width and sample sizes between confidence intervals of city category AB vs city C customers, except for 10% sample pct at 95% and 99% confidence intervals\n",
    "  - Hence, it can be concluded that there **is a significant difference** between avg spend amount for city category AB vs city C customers"
   ]
  },
  {
   "cell_type": "markdown",
   "metadata": {},
   "source": [
    "# Actionable Recommendations"
   ]
  },
  {
   "cell_type": "markdown",
   "metadata": {},
   "source": [
    "- More than 70% of customers are male and 75% of revenue on black friday is contributed by male customers, the average speding amount per transaction is 8% more for male customers which is significantly different from that of female customers. The following actions are recommended based on gender:\n",
    "  - Targeted marketing towards male customers while justifying the customer acquisition cost, to boost sales and revenue on black friday\n",
    "  - Recommendation of bundled and relevant products while fine tuning the discounts so that the total value sums up within the average purchase amount confidence interval for the respective genders\n",
    "- There are 3.7% of customers with age less than 18 and contributing to 2.6% of revenue on black friday, the average spending is 6% lower compared to the other age groups with significance. The following actions are recommende based on age group:\n",
    "  - Decreasing the marketing spends on <18 customers to improve the profitabilty for this customer segment with respect to the low average order value and revenue contribution\n",
    "  - Including more products relevant to the <18 age group to generate more revenue from the customers that are making purchases\n",
    "- There are 53% of customers in City C with only 31% of revenue contribution, the average no. of transactions made are 60% lower compared to other cities while the average order value is 6% more for City C with significance. The following actions are recommended based on city category:\n",
    "  - Inclusion of more products relevant to city C to improve the volume of transactions\n",
    "  - Bundling of relevant products and while optimizing the pricing so the total combo value falls within the average purchase interval for City C"
   ]
  },
  {
   "cell_type": "markdown",
   "metadata": {},
   "source": [
    "# Future Work:\n",
    "\n",
    "- Similar analysis of average spending for stay in current city, occupation and product category\n",
    "- Root cause analysis for why the revenue contribution is disproportionate to the percentage of customer from City C and why there are very few transactions per customer with high average spending compared to other city categories\n",
    "- Analysis to find segments of Gender, Age and City with deterministic average purchase amount to optimize pricing strategies within those segments to improve revenue\n",
    "- Analysis of product categoried to find relevant product combinations for each segment of Gender, Age, Marital Status and Age to improve revenue"
   ]
  }
 ],
 "metadata": {
  "language_info": {
   "name": "python"
  }
 },
 "nbformat": 4,
 "nbformat_minor": 2
}
