{
  "nbformat": 4,
  "nbformat_minor": 0,
  "metadata": {
    "colab": {
      "name": "Week-1_Python_Refresher",
      "provenance": [],
      "authorship_tag": "ABX9TyNMZ9IHbDqX+pZuvXPzx//b",
      "include_colab_link": true
    },
    "kernelspec": {
      "name": "python3",
      "display_name": "Python 3"
    },
    "language_info": {
      "name": "python"
    }
  },
  "cells": [
    {
      "cell_type": "markdown",
      "metadata": {
        "id": "view-in-github",
        "colab_type": "text"
      },
      "source": [
        "<a href=\"https://colab.research.google.com/github/lsp-sandeep/scaler_dsml_practice/blob/main/Week_1_Python_Refresher.ipynb\" target=\"_parent\"><img src=\"https://colab.research.google.com/assets/colab-badge.svg\" alt=\"Open In Colab\"/></a>"
      ]
    },
    {
      "cell_type": "code",
      "execution_count": null,
      "metadata": {
        "colab": {
          "base_uri": "https://localhost:8080/"
        },
        "id": "pKu6S-md5hdb",
        "outputId": "e13a2552-b709-424a-e4fa-26c5b63a81fe"
      },
      "outputs": [
        {
          "output_type": "execute_result",
          "data": {
            "text/plain": [
              "4.199999999999999"
            ]
          },
          "metadata": {},
          "execution_count": 1
        }
      ],
      "source": [
        "1.2 + 1.4 + 1.6"
      ]
    },
    {
      "cell_type": "code",
      "source": [
        "_"
      ],
      "metadata": {
        "colab": {
          "base_uri": "https://localhost:8080/"
        },
        "id": "_6aa8iwk5qI3",
        "outputId": "fd003dba-4b21-489e-8212-bb3bcf249f4f"
      },
      "execution_count": null,
      "outputs": [
        {
          "output_type": "execute_result",
          "data": {
            "text/plain": [
              "4.199999999999999"
            ]
          },
          "metadata": {},
          "execution_count": 2
        }
      ]
    },
    {
      "cell_type": "code",
      "source": [
        "_ += _"
      ],
      "metadata": {
        "id": "XTDklT446nZp"
      },
      "execution_count": null,
      "outputs": []
    },
    {
      "cell_type": "code",
      "source": [
        "_"
      ],
      "metadata": {
        "colab": {
          "base_uri": "https://localhost:8080/"
        },
        "id": "EZZ6Gppw64J3",
        "outputId": "0c0fed82-d978-4a99-ae45-4a50042d6d18"
      },
      "execution_count": null,
      "outputs": [
        {
          "output_type": "execute_result",
          "data": {
            "text/plain": [
              "8.399999999999999"
            ]
          },
          "metadata": {},
          "execution_count": 4
        }
      ]
    },
    {
      "cell_type": "code",
      "source": [
        "del _"
      ],
      "metadata": {
        "id": "1GcP7UhK65Zv"
      },
      "execution_count": null,
      "outputs": []
    },
    {
      "cell_type": "code",
      "source": [
        "a = \"a\"\n",
        "b = \"a\"\n",
        "\n",
        "id(a) == id(b)"
      ],
      "metadata": {
        "colab": {
          "base_uri": "https://localhost:8080/"
        },
        "id": "9zXtH3TC7D83",
        "outputId": "48b9d60e-1cd0-4a02-d869-e434809ccb7f"
      },
      "execution_count": null,
      "outputs": [
        {
          "output_type": "execute_result",
          "data": {
            "text/plain": [
              "True"
            ]
          },
          "metadata": {},
          "execution_count": 7
        }
      ]
    },
    {
      "cell_type": "code",
      "source": [
        "a = \"abcde\"\n",
        "b = \"abcde\"\n",
        "\n",
        "id(a) == id(b)"
      ],
      "metadata": {
        "colab": {
          "base_uri": "https://localhost:8080/"
        },
        "id": "Xq7AKjXu7EoX",
        "outputId": "7c0b6b31-3b4d-4a3b-caaa-2d5df1bad641"
      },
      "execution_count": null,
      "outputs": [
        {
          "output_type": "execute_result",
          "data": {
            "text/plain": [
              "True"
            ]
          },
          "metadata": {},
          "execution_count": 8
        }
      ]
    },
    {
      "cell_type": "code",
      "source": [
        "a = \"python\"\n",
        "\n",
        "it = iter(a)\n",
        "\n",
        "it"
      ],
      "metadata": {
        "colab": {
          "base_uri": "https://localhost:8080/"
        },
        "id": "Hzwvlybk_oxS",
        "outputId": "b2554c2d-2fc7-440e-b69c-cfd8febbb170"
      },
      "execution_count": null,
      "outputs": [
        {
          "output_type": "execute_result",
          "data": {
            "text/plain": [
              "<str_iterator at 0x7f2335dcd8d0>"
            ]
          },
          "metadata": {},
          "execution_count": 9
        }
      ]
    },
    {
      "cell_type": "code",
      "source": [
        "_"
      ],
      "metadata": {
        "colab": {
          "base_uri": "https://localhost:8080/"
        },
        "id": "Oq3-D90oNryI",
        "outputId": "b2ca2c63-165c-4cd0-d5c8-531174b54022"
      },
      "execution_count": null,
      "outputs": [
        {
          "output_type": "execute_result",
          "data": {
            "text/plain": [
              "<str_iterator at 0x7f2335dcd8d0>"
            ]
          },
          "metadata": {},
          "execution_count": 10
        }
      ]
    },
    {
      "cell_type": "code",
      "source": [
        "score = 2\n",
        "\n",
        "if True:\n",
        "    score = 66\n",
        "\n",
        "def batting():\n",
        "    global score\n",
        "    score = 5\n",
        "    print(score)\n",
        "\n",
        "batting()\n",
        "print(score)"
      ],
      "metadata": {
        "id": "PhMFT5pSNuIr",
        "colab": {
          "base_uri": "https://localhost:8080/"
        },
        "outputId": "3535348f-9a69-424b-e581-d719b6623d6e"
      },
      "execution_count": null,
      "outputs": [
        {
          "output_type": "stream",
          "name": "stdout",
          "text": [
            "5\n",
            "5\n"
          ]
        }
      ]
    },
    {
      "cell_type": "code",
      "source": [
        "a = 0.4\n",
        "b = 1.2 + 1.4\n",
        "d = 1.2 + 1.4 + 0.4\n",
        "c = b + a\n",
        "print(d)\n",
        "print(c)"
      ],
      "metadata": {
        "id": "4Dy-tOsmGZdA",
        "colab": {
          "base_uri": "https://localhost:8080/"
        },
        "outputId": "bdfd21ae-a066-4f20-b601-d7e2c849b409"
      },
      "execution_count": null,
      "outputs": [
        {
          "output_type": "stream",
          "name": "stdout",
          "text": [
            "2.9999999999999996\n",
            "2.9999999999999996\n"
          ]
        }
      ]
    },
    {
      "cell_type": "code",
      "source": [
        "type(list())"
      ],
      "metadata": {
        "id": "Org0eKAzI0TP",
        "colab": {
          "base_uri": "https://localhost:8080/"
        },
        "outputId": "b803a2c4-c4d0-4160-b90b-ee1d4ba1780f"
      },
      "execution_count": null,
      "outputs": [
        {
          "output_type": "execute_result",
          "data": {
            "text/plain": [
              "list"
            ]
          },
          "metadata": {},
          "execution_count": 1
        }
      ]
    },
    {
      "cell_type": "code",
      "source": [
        "l = list(range(1,11))\n",
        "l"
      ],
      "metadata": {
        "colab": {
          "base_uri": "https://localhost:8080/"
        },
        "id": "dtPePY42I7se",
        "outputId": "f35bb1e5-3fc1-4958-cf22-77cf771535e6"
      },
      "execution_count": null,
      "outputs": [
        {
          "output_type": "execute_result",
          "data": {
            "text/plain": [
              "[1, 2, 3, 4, 5, 6, 7, 8, 9, 10]"
            ]
          },
          "metadata": {},
          "execution_count": 4
        }
      ]
    },
    {
      "cell_type": "code",
      "source": [
        "l[::]"
      ],
      "metadata": {
        "colab": {
          "base_uri": "https://localhost:8080/"
        },
        "id": "aSoO3wMBNQN8",
        "outputId": "61ea78b9-72d2-4fe0-c47f-7ab1b78a0bb4"
      },
      "execution_count": null,
      "outputs": [
        {
          "output_type": "execute_result",
          "data": {
            "text/plain": [
              "[1, 2, 3, 4, 5, 6, 7, 8, 9, 10]"
            ]
          },
          "metadata": {},
          "execution_count": 5
        }
      ]
    },
    {
      "cell_type": "code",
      "source": [
        "id(l)"
      ],
      "metadata": {
        "colab": {
          "base_uri": "https://localhost:8080/"
        },
        "id": "mHm9s-PSNS_5",
        "outputId": "215cef4f-8513-4af1-c9ee-c9dbb8b1824f"
      },
      "execution_count": null,
      "outputs": [
        {
          "output_type": "execute_result",
          "data": {
            "text/plain": [
              "139949529096096"
            ]
          },
          "metadata": {},
          "execution_count": 6
        }
      ]
    },
    {
      "cell_type": "code",
      "source": [
        "id(l[0])"
      ],
      "metadata": {
        "colab": {
          "base_uri": "https://localhost:8080/"
        },
        "id": "wiCcs7v8POBV",
        "outputId": "7f3df44b-845d-45f9-dcb1-7665176abb74"
      },
      "execution_count": null,
      "outputs": [
        {
          "output_type": "execute_result",
          "data": {
            "text/plain": [
              "11256064"
            ]
          },
          "metadata": {},
          "execution_count": 7
        }
      ]
    },
    {
      "cell_type": "code",
      "source": [
        "l[0] = 5"
      ],
      "metadata": {
        "id": "QW2uitplPQ1V"
      },
      "execution_count": null,
      "outputs": []
    },
    {
      "cell_type": "code",
      "source": [
        "id(l)"
      ],
      "metadata": {
        "colab": {
          "base_uri": "https://localhost:8080/"
        },
        "id": "ymlfoukNPTDI",
        "outputId": "ab3b37c3-81ea-4552-f16b-2e8fb0c7f799"
      },
      "execution_count": null,
      "outputs": [
        {
          "output_type": "execute_result",
          "data": {
            "text/plain": [
              "139949529096096"
            ]
          },
          "metadata": {},
          "execution_count": 9
        }
      ]
    },
    {
      "cell_type": "code",
      "source": [
        "id(l[0])"
      ],
      "metadata": {
        "colab": {
          "base_uri": "https://localhost:8080/"
        },
        "id": "uqVLtZoTPVCq",
        "outputId": "9227d9c7-69fb-4ef2-8d61-056eb1ea8237"
      },
      "execution_count": null,
      "outputs": [
        {
          "output_type": "execute_result",
          "data": {
            "text/plain": [
              "11256192"
            ]
          },
          "metadata": {},
          "execution_count": 10
        }
      ]
    },
    {
      "cell_type": "code",
      "source": [
        "a = 6\n",
        "b = a\n",
        "a = 7\n",
        "b,a"
      ],
      "metadata": {
        "colab": {
          "base_uri": "https://localhost:8080/"
        },
        "id": "beac7VmaPZsq",
        "outputId": "6f80a2f0-0681-4fcd-bd09-35a6640085c2"
      },
      "execution_count": null,
      "outputs": [
        {
          "output_type": "execute_result",
          "data": {
            "text/plain": [
              "(6, 7)"
            ]
          },
          "metadata": {},
          "execution_count": 12
        }
      ]
    },
    {
      "cell_type": "code",
      "source": [
        "repr(1.5)"
      ],
      "metadata": {
        "colab": {
          "base_uri": "https://localhost:8080/",
          "height": 35
        },
        "id": "Fdevhue_QLco",
        "outputId": "95e92383-ecf7-4623-d85f-e77f67b85efd"
      },
      "execution_count": null,
      "outputs": [
        {
          "output_type": "execute_result",
          "data": {
            "text/plain": [
              "'1.5'"
            ],
            "application/vnd.google.colaboratory.intrinsic+json": {
              "type": "string"
            }
          },
          "metadata": {},
          "execution_count": 18
        }
      ]
    },
    {
      "cell_type": "code",
      "source": [
        "board = [[\" \"]*3]*3\n",
        "\n",
        "board"
      ],
      "metadata": {
        "id": "YqJ9fdyNaxKT",
        "colab": {
          "base_uri": "https://localhost:8080/"
        },
        "outputId": "4b1800ec-af51-4934-b447-d146065e0e69"
      },
      "execution_count": null,
      "outputs": [
        {
          "output_type": "execute_result",
          "data": {
            "text/plain": [
              "[[' ', ' ', ' '], [' ', ' ', ' '], [' ', ' ', ' ']]"
            ]
          },
          "metadata": {},
          "execution_count": 15
        }
      ]
    },
    {
      "cell_type": "code",
      "source": [
        "\n",
        "\n",
        "for i in range(3):\n",
        "    print(\"Row id:\", id(board[i]))\n",
        "    for j in range(3):\n",
        "        print(\"\\tElement id:\", id(board[i][j]))\n"
      ],
      "metadata": {
        "colab": {
          "base_uri": "https://localhost:8080/"
        },
        "id": "G1b2ixLcSevl",
        "outputId": "c6d85c2e-842b-45d3-b260-b96fde983f22"
      },
      "execution_count": null,
      "outputs": [
        {
          "output_type": "stream",
          "name": "stdout",
          "text": [
            "Row id: 139772120387904\n",
            "\tElement id: 139772651908720\n",
            "\tElement id: 139772651908720\n",
            "\tElement id: 139772651908720\n",
            "Row id: 139772120481696\n",
            "\tElement id: 139772651611184\n",
            "\tElement id: 139772651908720\n",
            "\tElement id: 139772651908720\n",
            "Row id: 139772120387904\n",
            "\tElement id: 139772651908720\n",
            "\tElement id: 139772651908720\n",
            "\tElement id: 139772651908720\n"
          ]
        }
      ]
    },
    {
      "cell_type": "code",
      "source": [
        "board[0][1] = \"3\"\n",
        "\n",
        "board"
      ],
      "metadata": {
        "colab": {
          "base_uri": "https://localhost:8080/"
        },
        "id": "_5qFaBMURtyl",
        "outputId": "2e000257-efbc-4076-daab-db2dcaa4f32c"
      },
      "execution_count": null,
      "outputs": [
        {
          "output_type": "execute_result",
          "data": {
            "text/plain": [
              "[['0', '3', ' '], ['1', '2', ' '], ['0', '3', ' ']]"
            ]
          },
          "metadata": {},
          "execution_count": 21
        }
      ]
    },
    {
      "cell_type": "code",
      "source": [
        "board = [\" \"]*3\n",
        "\n",
        "board"
      ],
      "metadata": {
        "colab": {
          "base_uri": "https://localhost:8080/"
        },
        "id": "4YpAScLjSCNk",
        "outputId": "d0234b74-494a-4499-92e1-4697ec928785"
      },
      "execution_count": null,
      "outputs": [
        {
          "output_type": "execute_result",
          "data": {
            "text/plain": [
              "[' ', ' ', ' ']"
            ]
          },
          "metadata": {},
          "execution_count": 7
        }
      ]
    },
    {
      "cell_type": "code",
      "source": [
        "board[0] = \"0\"\n",
        "\n",
        "board"
      ],
      "metadata": {
        "colab": {
          "base_uri": "https://localhost:8080/"
        },
        "id": "d2jDrDsbSKk9",
        "outputId": "eb23a646-86ee-43cc-cc06-8f9b043e0ccb"
      },
      "execution_count": null,
      "outputs": [
        {
          "output_type": "execute_result",
          "data": {
            "text/plain": [
              "['0', ' ', ' ']"
            ]
          },
          "metadata": {},
          "execution_count": 9
        }
      ]
    },
    {
      "cell_type": "code",
      "source": [
        "id()"
      ],
      "metadata": {
        "id": "dN9j1WfJSMqL"
      },
      "execution_count": null,
      "outputs": []
    },
    {
      "cell_type": "code",
      "source": [
        "arr = [[1,2,3],[10,11,12],[4,5,6],[13,14,15],[10,1,2]]\n",
        "\n",
        "print(max (arr, key=sum ) )"
      ],
      "metadata": {
        "colab": {
          "base_uri": "https://localhost:8080/"
        },
        "id": "deK9hW_zV4OU",
        "outputId": "a21fccde-d535-4154-92fe-77de3e00cc9c"
      },
      "execution_count": null,
      "outputs": [
        {
          "output_type": "stream",
          "name": "stdout",
          "text": [
            "[13, 14, 15]\n"
          ]
        }
      ]
    },
    {
      "cell_type": "code",
      "source": [
        "arr = [[1, 2, 3, 4],\n",
        "       [4, 5, 6, 7],\n",
        "       [8, 9, 10, 11],\n",
        "       [12, 13, 14, 15]]\n",
        "\n",
        "for i in range(0, 4):\n",
        "  print(arr[i].pop(), end=\" \")"
      ],
      "metadata": {
        "colab": {
          "base_uri": "https://localhost:8080/"
        },
        "id": "Y6NCubIQV8I9",
        "outputId": "12179aa7-fe3e-4659-a243-05b6bc534785"
      },
      "execution_count": null,
      "outputs": [
        {
          "output_type": "stream",
          "name": "stdout",
          "text": [
            "4 7 11 15 "
          ]
        }
      ]
    },
    {
      "cell_type": "code",
      "source": [
        "l = [1, 2, 3]\n",
        "l"
      ],
      "metadata": {
        "colab": {
          "base_uri": "https://localhost:8080/"
        },
        "id": "zhG2CAWCWcOU",
        "outputId": "f7ddda61-f37e-4e38-bb03-3a94e114b5a3"
      },
      "execution_count": null,
      "outputs": [
        {
          "output_type": "execute_result",
          "data": {
            "text/plain": [
              "[1, 2, 3]"
            ]
          },
          "metadata": {},
          "execution_count": 24
        }
      ]
    },
    {
      "cell_type": "code",
      "source": [
        "id(l), id(l[:])"
      ],
      "metadata": {
        "colab": {
          "base_uri": "https://localhost:8080/"
        },
        "id": "aRISwNzsW0eu",
        "outputId": "9d9d5df4-948d-4538-b5fa-652ae51a7c2b"
      },
      "execution_count": null,
      "outputs": [
        {
          "output_type": "execute_result",
          "data": {
            "text/plain": [
              "(139772120772688, 139772120081184)"
            ]
          },
          "metadata": {},
          "execution_count": 25
        }
      ]
    },
    {
      "cell_type": "code",
      "source": [
        "list1 = ['Apple', 'Berry', 'Cherry', 'Papaya']\n",
        "list2 = list1\n",
        "list3 = list1[:]\n",
        "\n",
        "list2[0] = 'Guava'\n",
        "list3[1] = 'Kiwi'\n",
        "\n",
        "total = 0\n",
        "for ls in (list1, list2, list3):\n",
        "  if ls[0] == 'Guava':\n",
        "    total += 1\n",
        "\n",
        "  if ls[1] == 'Kiwi':\n",
        "    total += 20\n",
        "\n",
        "print (total, list3[0])"
      ],
      "metadata": {
        "colab": {
          "base_uri": "https://localhost:8080/"
        },
        "id": "Tzte73KJW4bp",
        "outputId": "e7f5670a-9120-4aea-8dde-fd3393f977c5"
      },
      "execution_count": null,
      "outputs": [
        {
          "output_type": "stream",
          "name": "stdout",
          "text": [
            "22 Apple\n"
          ]
        }
      ]
    },
    {
      "cell_type": "code",
      "source": [
        "a = ()\n",
        "type(a)"
      ],
      "metadata": {
        "id": "z35RF39rXOGE",
        "colab": {
          "base_uri": "https://localhost:8080/"
        },
        "outputId": "dd042b08-7c01-459a-8ace-7069c82de9bb"
      },
      "execution_count": null,
      "outputs": [
        {
          "output_type": "execute_result",
          "data": {
            "text/plain": [
              "tuple"
            ]
          },
          "metadata": {},
          "execution_count": 1
        }
      ]
    },
    {
      "cell_type": "code",
      "source": [
        "a = {1, 2, 3, 4, 5}"
      ],
      "metadata": {
        "id": "l8Ql1mHZgHZv"
      },
      "execution_count": null,
      "outputs": []
    },
    {
      "cell_type": "code",
      "source": [
        "len(a)"
      ],
      "metadata": {
        "colab": {
          "base_uri": "https://localhost:8080/"
        },
        "id": "Gnw0JlhvlOwV",
        "outputId": "0eba0cf0-fd04-4fa7-9f28-29a3d4851d4d"
      },
      "execution_count": null,
      "outputs": [
        {
          "output_type": "execute_result",
          "data": {
            "text/plain": [
              "5"
            ]
          },
          "metadata": {},
          "execution_count": 3
        }
      ]
    },
    {
      "cell_type": "code",
      "source": [
        "a.add(6)"
      ],
      "metadata": {
        "id": "12m6YItslRUa"
      },
      "execution_count": null,
      "outputs": []
    },
    {
      "cell_type": "code",
      "source": [
        "a"
      ],
      "metadata": {
        "colab": {
          "base_uri": "https://localhost:8080/"
        },
        "id": "JN4uDq0rlTpV",
        "outputId": "99b58c84-6692-4992-9048-76c6bfa2be67"
      },
      "execution_count": null,
      "outputs": [
        {
          "output_type": "execute_result",
          "data": {
            "text/plain": [
              "{1, 2, 3, 4, 5, 6}"
            ]
          },
          "metadata": {},
          "execution_count": 5
        }
      ]
    },
    {
      "cell_type": "code",
      "source": [
        "a = {\"a\": \"b\"}\n",
        "\n",
        "a[\"a\"]"
      ],
      "metadata": {
        "colab": {
          "base_uri": "https://localhost:8080/",
          "height": 35
        },
        "id": "zKV3meFFlUNS",
        "outputId": "3b6664f5-4bbe-4ee4-c725-93c5b1aa90fc"
      },
      "execution_count": null,
      "outputs": [
        {
          "output_type": "execute_result",
          "data": {
            "text/plain": [
              "'b'"
            ],
            "application/vnd.google.colaboratory.intrinsic+json": {
              "type": "string"
            }
          },
          "metadata": {},
          "execution_count": 6
        }
      ]
    },
    {
      "cell_type": "code",
      "source": [
        "a[\"a\"] = \"c\"\n",
        "a"
      ],
      "metadata": {
        "colab": {
          "base_uri": "https://localhost:8080/"
        },
        "id": "MGTEknIfmFy-",
        "outputId": "2a085e15-3bb5-4919-c260-5b79a85177c3"
      },
      "execution_count": null,
      "outputs": [
        {
          "output_type": "execute_result",
          "data": {
            "text/plain": [
              "{'a': 'c'}"
            ]
          },
          "metadata": {},
          "execution_count": 7
        }
      ]
    },
    {
      "cell_type": "code",
      "source": [
        "board = [[\" \" for i in range(3)] for i in range(3)]\n",
        "\n",
        "board"
      ],
      "metadata": {
        "colab": {
          "base_uri": "https://localhost:8080/"
        },
        "id": "27IkwxLEmI6R",
        "outputId": "c8c3fc63-1a52-4b2f-a70a-7413d7b0f285"
      },
      "execution_count": null,
      "outputs": [
        {
          "output_type": "execute_result",
          "data": {
            "text/plain": [
              "[[' ', ' ', ' '], [' ', ' ', ' '], [' ', ' ', ' ']]"
            ]
          },
          "metadata": {},
          "execution_count": 9
        }
      ]
    },
    {
      "cell_type": "code",
      "source": [
        "board[0][0] = \"0\""
      ],
      "metadata": {
        "id": "dBKg2MWLweeG"
      },
      "execution_count": null,
      "outputs": []
    },
    {
      "cell_type": "code",
      "source": [
        "board"
      ],
      "metadata": {
        "id": "Gz3sTbdhwwqL",
        "outputId": "d7d6109f-afff-447d-d236-d284bfe71278",
        "colab": {
          "base_uri": "https://localhost:8080/"
        }
      },
      "execution_count": null,
      "outputs": [
        {
          "output_type": "execute_result",
          "data": {
            "text/plain": [
              "[['0', ' ', ' '], [' ', ' ', ' '], [' ', ' ', ' ']]"
            ]
          },
          "metadata": {},
          "execution_count": 11
        }
      ]
    },
    {
      "cell_type": "code",
      "source": [
        "def reverse(s):\n",
        "    string = \"\"\n",
        "    for i in s:\n",
        "        string = i + string\n",
        "    return string\n",
        "\n",
        "reverse(\"Sandeep\")"
      ],
      "metadata": {
        "id": "Bo0qlBauwxbF",
        "colab": {
          "base_uri": "https://localhost:8080/",
          "height": 35
        },
        "outputId": "6896c8d8-da23-495a-f252-e85a9939d773"
      },
      "execution_count": null,
      "outputs": [
        {
          "output_type": "execute_result",
          "data": {
            "text/plain": [
              "'peednaS'"
            ],
            "application/vnd.google.colaboratory.intrinsic+json": {
              "type": "string"
            }
          },
          "metadata": {},
          "execution_count": 1
        }
      ]
    },
    {
      "cell_type": "code",
      "source": [
        "def reverse(s):\n",
        "    return s[::-1]\n",
        "\n",
        "reverse(\"Sandeep\")"
      ],
      "metadata": {
        "colab": {
          "base_uri": "https://localhost:8080/",
          "height": 35
        },
        "id": "HIqV1L-30A4U",
        "outputId": "5c835524-9cca-4b27-f313-b4827f3d0ff9"
      },
      "execution_count": null,
      "outputs": [
        {
          "output_type": "execute_result",
          "data": {
            "text/plain": [
              "'peednaS'"
            ],
            "application/vnd.google.colaboratory.intrinsic+json": {
              "type": "string"
            }
          },
          "metadata": {},
          "execution_count": 5
        }
      ]
    },
    {
      "cell_type": "code",
      "source": [
        "string = \"Sandeep\"\n",
        "\n",
        "set(string)"
      ],
      "metadata": {
        "colab": {
          "base_uri": "https://localhost:8080/"
        },
        "id": "kEsDg3RN0QrN",
        "outputId": "01db47a3-61b2-4b6d-df0c-9df962693db7"
      },
      "execution_count": null,
      "outputs": [
        {
          "output_type": "execute_result",
          "data": {
            "text/plain": [
              "{'S', 'a', 'd', 'e', 'n', 'p'}"
            ]
          },
          "metadata": {},
          "execution_count": 6
        }
      ]
    },
    {
      "cell_type": "code",
      "source": [
        "\"\".join(_)"
      ],
      "metadata": {
        "colab": {
          "base_uri": "https://localhost:8080/",
          "height": 35
        },
        "id": "bN04Caws1DmM",
        "outputId": "235a48d6-b9e6-4529-8b1b-d7d908cc8faf"
      },
      "execution_count": null,
      "outputs": [
        {
          "output_type": "execute_result",
          "data": {
            "text/plain": [
              "'Sedapn'"
            ],
            "application/vnd.google.colaboratory.intrinsic+json": {
              "type": "string"
            }
          },
          "metadata": {},
          "execution_count": 7
        }
      ]
    },
    {
      "cell_type": "code",
      "source": [
        "def count_unique_words(inp):\n",
        "    ans = 0\n",
        "    arr = list(inp.split())\n",
        "    for word in arr:\n",
        "        arr2=[]\n",
        "    if len(tuple(word)) == len(word) and len(word) > 3:\n",
        "        ans += 1\n",
        "    return ans"
      ],
      "metadata": {
        "id": "E7T1FDZg1Lkd"
      },
      "execution_count": null,
      "outputs": []
    },
    {
      "cell_type": "code",
      "source": [
        "count_unique_words(\"Sandeep ABCD Bharath WXYZ Swapna KLMN\")"
      ],
      "metadata": {
        "colab": {
          "base_uri": "https://localhost:8080/"
        },
        "id": "zT9syck42jTW",
        "outputId": "3c2ef373-d8e2-4ec2-bd96-c8e6702b53fc"
      },
      "execution_count": null,
      "outputs": [
        {
          "output_type": "execute_result",
          "data": {
            "text/plain": [
              "1"
            ]
          },
          "metadata": {},
          "execution_count": 17
        }
      ]
    },
    {
      "cell_type": "code",
      "source": [
        "\"Sandeep ABCD Bharath WXYZ Swapna KLMN\".split()"
      ],
      "metadata": {
        "colab": {
          "base_uri": "https://localhost:8080/"
        },
        "id": "vtPK_u222sGY",
        "outputId": "6dd4671a-cf66-4eee-c476-e90343d7bf55"
      },
      "execution_count": null,
      "outputs": [
        {
          "output_type": "execute_result",
          "data": {
            "text/plain": [
              "['Sandeep', 'ABCD', 'Bharath', 'WXYZ', 'Swapna', 'KLMN']"
            ]
          },
          "metadata": {},
          "execution_count": 11
        }
      ]
    },
    {
      "cell_type": "code",
      "source": [
        "def most_frequent(List):\n",
        "    total=0\n",
        "    result= List[0]\n",
        "    for i in List:\n",
        "        curr_frequency = List.count(i)\n",
        "        if (curr_frequency > total):\n",
        "            total =curr_frequency\n",
        "            result = i\n",
        "    return(result)"
      ],
      "metadata": {
        "id": "E4SVp2mI2xYX"
      },
      "execution_count": null,
      "outputs": []
    },
    {
      "cell_type": "code",
      "source": [
        "List = [i for i in range(1, 10) for j in range(i)]\n",
        "\n",
        "print(List, most_frequent(List))"
      ],
      "metadata": {
        "colab": {
          "base_uri": "https://localhost:8080/"
        },
        "id": "30M_bNxI4VAX",
        "outputId": "d2f06bc4-05f1-4a5d-eca1-2024a9efc762"
      },
      "execution_count": null,
      "outputs": [
        {
          "output_type": "stream",
          "name": "stdout",
          "text": [
            "[1, 2, 2, 3, 3, 3, 4, 4, 4, 4, 5, 5, 5, 5, 5, 6, 6, 6, 6, 6, 6, 7, 7, 7, 7, 7, 7, 7, 8, 8, 8, 8, 8, 8, 8, 8, 9, 9, 9, 9, 9, 9, 9, 9, 9] 9\n"
          ]
        }
      ]
    },
    {
      "cell_type": "code",
      "source": [
        "print()"
      ],
      "metadata": {
        "colab": {
          "base_uri": "https://localhost:8080/"
        },
        "id": "x2NQk1IW4nxP",
        "outputId": "57946efa-5d3e-4d20-dd61-457cc095267c"
      },
      "execution_count": null,
      "outputs": [
        {
          "output_type": "stream",
          "name": "stdout",
          "text": [
            "[1, 2, 2, 3, 3, 3, 4, 4, 4, 4, 5, 5, 5, 5, 5, 6, 6, 6, 6, 6, 6, 7, 7, 7, 7, 7, 7, 7, 8, 8, 8, 8, 8, 8, 8, 8, 9, 9, 9, 9, 9, 9, 9, 9, 9]\n"
          ]
        }
      ]
    },
    {
      "cell_type": "code",
      "source": [
        "sampleDict = {\n",
        "    \"class\":{\n",
        "        \"student\":{\n",
        "            \"name\":\"Mike\",\n",
        "            \"marks\":{\n",
        "                \"physics\":70,\n",
        "                \"history\":80\n",
        "                }\n",
        "                }\n",
        "             }\n",
        "              }"
      ],
      "metadata": {
        "id": "silrH6RF5q5j"
      },
      "execution_count": null,
      "outputs": []
    },
    {
      "cell_type": "code",
      "source": [
        "sampleDict[\"class\"][\"student\"][\"marks\"][\"history\"]"
      ],
      "metadata": {
        "colab": {
          "base_uri": "https://localhost:8080/"
        },
        "id": "Obe2Xj-89d_f",
        "outputId": "5ffac0b1-6105-4aeb-fe43-5ea3ddb1656c"
      },
      "execution_count": null,
      "outputs": [
        {
          "output_type": "execute_result",
          "data": {
            "text/plain": [
              "80"
            ]
          },
          "metadata": {},
          "execution_count": 47
        }
      ]
    },
    {
      "cell_type": "code",
      "source": [
        "arr = [(1,2),(4,3),(5,7,3),(1,2),(5,6)]\n",
        "\n",
        "set(arr)"
      ],
      "metadata": {
        "colab": {
          "base_uri": "https://localhost:8080/"
        },
        "id": "GbtFvY0c9ouf",
        "outputId": "ab313bfc-fbdf-4eff-c882-24f199542c61"
      },
      "execution_count": null,
      "outputs": [
        {
          "output_type": "execute_result",
          "data": {
            "text/plain": [
              "{(1, 2), (4, 3), (5, 6), (5, 7, 3)}"
            ]
          },
          "metadata": {},
          "execution_count": 15
        }
      ]
    },
    {
      "cell_type": "code",
      "source": [
        "list(set(arr))"
      ],
      "metadata": {
        "colab": {
          "base_uri": "https://localhost:8080/"
        },
        "id": "KRXoQqvJAv_H",
        "outputId": "14f532c2-82e8-401d-af96-3e85bfa0d4dc"
      },
      "execution_count": null,
      "outputs": [
        {
          "output_type": "execute_result",
          "data": {
            "text/plain": [
              "[(1, 2), (5, 6), (4, 3), (5, 3)]"
            ]
          },
          "metadata": {},
          "execution_count": 8
        }
      ]
    },
    {
      "cell_type": "code",
      "source": [
        "list(set([i for i in arr]))"
      ],
      "metadata": {
        "colab": {
          "base_uri": "https://localhost:8080/"
        },
        "id": "WOpgaVx7BGbd",
        "outputId": "bd091af1-8b96-45cc-f247-7f5a1a78798b"
      },
      "execution_count": null,
      "outputs": [
        {
          "output_type": "execute_result",
          "data": {
            "text/plain": [
              "[(1, 2), (2, 3), (5, 6)]"
            ]
          },
          "metadata": {},
          "execution_count": 51
        }
      ]
    },
    {
      "cell_type": "code",
      "source": [
        "[item for item in set(tuple(i for i in arr))]"
      ],
      "metadata": {
        "colab": {
          "base_uri": "https://localhost:8080/"
        },
        "id": "Ki92RzlzBMYU",
        "outputId": "b856a5bb-c6a5-471b-d32c-3b449b113d07"
      },
      "execution_count": null,
      "outputs": [
        {
          "output_type": "execute_result",
          "data": {
            "text/plain": [
              "[(1, 2), (2, 3), (5, 6)]"
            ]
          },
          "metadata": {},
          "execution_count": 52
        }
      ]
    },
    {
      "cell_type": "code",
      "source": [
        ""
      ],
      "metadata": {
        "id": "EQSa4iMl5kZt"
      },
      "execution_count": null,
      "outputs": []
    },
    {
      "cell_type": "code",
      "source": [
        "[ (a,b) for i, [a,b] in enumerate(arr) if not any ((c==a and d==b) for c, d in arr[ : i])]"
      ],
      "metadata": {
        "colab": {
          "base_uri": "https://localhost:8080/"
        },
        "id": "4U5QUGY4Bigg",
        "outputId": "5b9c10af-bfb7-4c6c-efec-c41b89e81ef4"
      },
      "execution_count": null,
      "outputs": [
        {
          "output_type": "execute_result",
          "data": {
            "text/plain": [
              "[(1, 2), (4, 3), (5, 3), (5, 6)]"
            ]
          },
          "metadata": {},
          "execution_count": 10
        }
      ]
    },
    {
      "cell_type": "code",
      "source": [
        "lst = []\n",
        "for i, [a,b] in enumerate(arr):\n",
        "    tup = ()\n",
        "    for _, c in arr[:i]:\n",
        "        print(arr[:i],_,c)\n",
        "        tup += (c==b,)\n",
        "    if not any(tup):\n",
        "        lst.append((a,b))\n",
        "\n",
        "lst"
      ],
      "metadata": {
        "id": "ynmLvtpfBuum",
        "colab": {
          "base_uri": "https://localhost:8080/",
          "height": 252
        },
        "outputId": "69229cb7-7bd1-4582-f963-a5b2aa275b00"
      },
      "execution_count": null,
      "outputs": [
        {
          "output_type": "stream",
          "name": "stdout",
          "text": [
            "[(1, 2)] 1 2\n"
          ]
        },
        {
          "output_type": "error",
          "ename": "ValueError",
          "evalue": "ignored",
          "traceback": [
            "\u001b[0;31m---------------------------------------------------------------------------\u001b[0m",
            "\u001b[0;31mValueError\u001b[0m                                Traceback (most recent call last)",
            "\u001b[0;32m<ipython-input-17-727dab88ea5c>\u001b[0m in \u001b[0;36m<module>\u001b[0;34m()\u001b[0m\n\u001b[1;32m      1\u001b[0m \u001b[0mlst\u001b[0m \u001b[0;34m=\u001b[0m \u001b[0;34m[\u001b[0m\u001b[0;34m]\u001b[0m\u001b[0;34m\u001b[0m\u001b[0;34m\u001b[0m\u001b[0m\n\u001b[0;32m----> 2\u001b[0;31m \u001b[0;32mfor\u001b[0m \u001b[0mi\u001b[0m\u001b[0;34m,\u001b[0m \u001b[0;34m[\u001b[0m\u001b[0ma\u001b[0m\u001b[0;34m,\u001b[0m\u001b[0mb\u001b[0m\u001b[0;34m]\u001b[0m \u001b[0;32min\u001b[0m \u001b[0menumerate\u001b[0m\u001b[0;34m(\u001b[0m\u001b[0marr\u001b[0m\u001b[0;34m)\u001b[0m\u001b[0;34m:\u001b[0m\u001b[0;34m\u001b[0m\u001b[0;34m\u001b[0m\u001b[0m\n\u001b[0m\u001b[1;32m      3\u001b[0m     \u001b[0mtup\u001b[0m \u001b[0;34m=\u001b[0m \u001b[0;34m(\u001b[0m\u001b[0;34m)\u001b[0m\u001b[0;34m\u001b[0m\u001b[0;34m\u001b[0m\u001b[0m\n\u001b[1;32m      4\u001b[0m     \u001b[0;32mfor\u001b[0m \u001b[0m_\u001b[0m\u001b[0;34m,\u001b[0m \u001b[0mc\u001b[0m \u001b[0;32min\u001b[0m \u001b[0marr\u001b[0m\u001b[0;34m[\u001b[0m\u001b[0;34m:\u001b[0m\u001b[0mi\u001b[0m\u001b[0;34m]\u001b[0m\u001b[0;34m:\u001b[0m\u001b[0;34m\u001b[0m\u001b[0;34m\u001b[0m\u001b[0m\n\u001b[1;32m      5\u001b[0m         \u001b[0mprint\u001b[0m\u001b[0;34m(\u001b[0m\u001b[0marr\u001b[0m\u001b[0;34m[\u001b[0m\u001b[0;34m:\u001b[0m\u001b[0mi\u001b[0m\u001b[0;34m]\u001b[0m\u001b[0;34m,\u001b[0m\u001b[0m_\u001b[0m\u001b[0;34m,\u001b[0m\u001b[0mc\u001b[0m\u001b[0;34m)\u001b[0m\u001b[0;34m\u001b[0m\u001b[0;34m\u001b[0m\u001b[0m\n",
            "\u001b[0;31mValueError\u001b[0m: too many values to unpack (expected 2)"
          ]
        }
      ]
    },
    {
      "cell_type": "code",
      "source": [
        "{x : x**2 for x in range(1, 6)}"
      ],
      "metadata": {
        "colab": {
          "base_uri": "https://localhost:8080/"
        },
        "id": "EuS3x_0Jl_v0",
        "outputId": "f8820dd5-62af-451f-9076-13ca26ce585e"
      },
      "execution_count": null,
      "outputs": [
        {
          "output_type": "execute_result",
          "data": {
            "text/plain": [
              "{1: 1, 2: 4, 3: 9, 4: 16, 5: 25}"
            ]
          },
          "metadata": {},
          "execution_count": 11
        }
      ]
    },
    {
      "cell_type": "code",
      "source": [
        "lis = [(0, 2), (1, 3), (2, 4)]\n",
        "result = sum (n for _, n in lis)\n",
        "print(result)"
      ],
      "metadata": {
        "colab": {
          "base_uri": "https://localhost:8080/"
        },
        "id": "lmjEYDg5oaE5",
        "outputId": "2c4679e4-6ebe-4e85-a066-52daecd7de7a"
      },
      "execution_count": null,
      "outputs": [
        {
          "output_type": "stream",
          "name": "stdout",
          "text": [
            "9\n"
          ]
        }
      ]
    },
    {
      "cell_type": "code",
      "source": [
        "arr = [a+\" \"+b for a in [ 'Hello', 'Good'] for b in ['Dear', 'Bye']]\n",
        "print(arr) "
      ],
      "metadata": {
        "colab": {
          "base_uri": "https://localhost:8080/"
        },
        "id": "9sf-KRGYrXbP",
        "outputId": "b12bfa57-b862-42b1-83d6-5e94e8095ae7"
      },
      "execution_count": null,
      "outputs": [
        {
          "output_type": "stream",
          "name": "stdout",
          "text": [
            "['Hello Dear', 'Hello Bye', 'Good Dear', 'Good Bye']\n"
          ]
        }
      ]
    },
    {
      "cell_type": "code",
      "source": [
        "def wrapper(func):\n",
        "     print(\"_\"*50)\n",
        "     func()\n",
        "     print(\"_\"*50)\n",
        "\n",
        "def say_hello():\n",
        "    print(\"Hello\")\n",
        "\n",
        "wrapper(say_hello)"
      ],
      "metadata": {
        "id": "FvlVK4mBrusC",
        "colab": {
          "base_uri": "https://localhost:8080/"
        },
        "outputId": "914d3301-75eb-47c4-dc7b-59312df661dc"
      },
      "execution_count": null,
      "outputs": [
        {
          "output_type": "stream",
          "name": "stdout",
          "text": [
            "__________________________________________________\n",
            "Hello\n",
            "__________________________________________________\n"
          ]
        }
      ]
    },
    {
      "cell_type": "code",
      "source": [
        "a = [1, 0, 1]\n",
        "b = [1, 1, 0]\n",
        "\n",
        "m = list(map(lambda x, y: x == y, a , b))\n",
        "\n",
        "m"
      ],
      "metadata": {
        "colab": {
          "base_uri": "https://localhost:8080/"
        },
        "id": "H_uqIAkdBbBC",
        "outputId": "a4d89ef5-5cc3-4275-ce16-a3ab54034388"
      },
      "execution_count": null,
      "outputs": [
        {
          "output_type": "execute_result",
          "data": {
            "text/plain": [
              "[True, False, False]"
            ]
          },
          "metadata": {},
          "execution_count": 4
        }
      ]
    },
    {
      "cell_type": "code",
      "source": [
        "a = [1, 2, 3]\n",
        "b = [1, 3, 3]\n",
        "list(filter(lambda x, y : x == y, a, b))"
      ],
      "metadata": {
        "colab": {
          "base_uri": "https://localhost:8080/",
          "height": 200
        },
        "id": "a0aatdaZMFfC",
        "outputId": "12147763-cc4e-40fc-92b7-fe23837578ea"
      },
      "execution_count": null,
      "outputs": [
        {
          "output_type": "error",
          "ename": "TypeError",
          "evalue": "ignored",
          "traceback": [
            "\u001b[0;31m---------------------------------------------------------------------------\u001b[0m",
            "\u001b[0;31mTypeError\u001b[0m                                 Traceback (most recent call last)",
            "\u001b[0;32m<ipython-input-5-3a631237fb66>\u001b[0m in \u001b[0;36m<module>\u001b[0;34m()\u001b[0m\n\u001b[1;32m      1\u001b[0m \u001b[0ma\u001b[0m \u001b[0;34m=\u001b[0m \u001b[0;34m[\u001b[0m\u001b[0;36m1\u001b[0m\u001b[0;34m,\u001b[0m \u001b[0;36m2\u001b[0m\u001b[0;34m,\u001b[0m \u001b[0;36m3\u001b[0m\u001b[0;34m]\u001b[0m\u001b[0;34m\u001b[0m\u001b[0;34m\u001b[0m\u001b[0m\n\u001b[1;32m      2\u001b[0m \u001b[0mb\u001b[0m \u001b[0;34m=\u001b[0m \u001b[0;34m[\u001b[0m\u001b[0;36m1\u001b[0m\u001b[0;34m,\u001b[0m \u001b[0;36m3\u001b[0m\u001b[0;34m,\u001b[0m \u001b[0;36m3\u001b[0m\u001b[0;34m]\u001b[0m\u001b[0;34m\u001b[0m\u001b[0;34m\u001b[0m\u001b[0m\n\u001b[0;32m----> 3\u001b[0;31m \u001b[0mlist\u001b[0m\u001b[0;34m(\u001b[0m\u001b[0mfilter\u001b[0m\u001b[0;34m(\u001b[0m\u001b[0;32mlambda\u001b[0m \u001b[0mx\u001b[0m\u001b[0;34m,\u001b[0m \u001b[0my\u001b[0m \u001b[0;34m:\u001b[0m \u001b[0mx\u001b[0m \u001b[0;34m==\u001b[0m \u001b[0my\u001b[0m\u001b[0;34m,\u001b[0m \u001b[0ma\u001b[0m\u001b[0;34m,\u001b[0m \u001b[0mb\u001b[0m\u001b[0;34m)\u001b[0m\u001b[0;34m)\u001b[0m\u001b[0;34m\u001b[0m\u001b[0;34m\u001b[0m\u001b[0m\n\u001b[0m",
            "\u001b[0;31mTypeError\u001b[0m: filter expected 2 arguments, got 3"
          ]
        }
      ]
    },
    {
      "cell_type": "code",
      "source": [
        "l = [0, 1, 0, 4]\n",
        "\n",
        "filter(None, l)"
      ],
      "metadata": {
        "colab": {
          "base_uri": "https://localhost:8080/"
        },
        "id": "QQqGMz8RNczo",
        "outputId": "449a595b-29d3-42d9-fd96-051288d77c58"
      },
      "execution_count": null,
      "outputs": [
        {
          "output_type": "execute_result",
          "data": {
            "text/plain": [
              "<filter at 0x7f1c6dccff50>"
            ]
          },
          "metadata": {},
          "execution_count": 11
        }
      ]
    },
    {
      "cell_type": "code",
      "source": [
        "list(_)"
      ],
      "metadata": {
        "colab": {
          "base_uri": "https://localhost:8080/"
        },
        "id": "4QNufj6uNtua",
        "outputId": "e755977b-84af-4406-ac81-545038bfe59e"
      },
      "execution_count": null,
      "outputs": [
        {
          "output_type": "execute_result",
          "data": {
            "text/plain": [
              "[1, 4]"
            ]
          },
          "metadata": {},
          "execution_count": 12
        }
      ]
    },
    {
      "cell_type": "code",
      "source": [
        "if [set()]:\n",
        "    print(\"TRUTHY\")\n",
        "else:\n",
        "    print(\"FALSY\")"
      ],
      "metadata": {
        "colab": {
          "base_uri": "https://localhost:8080/"
        },
        "id": "O-n559ylOGUP",
        "outputId": "5f2c3cc1-1cbe-4829-85c1-a17487dafe9e"
      },
      "execution_count": null,
      "outputs": [
        {
          "output_type": "stream",
          "name": "stdout",
          "text": [
            "TRUTHY\n"
          ]
        }
      ]
    },
    {
      "cell_type": "code",
      "source": [
        "test_string = \"this is a long srtring with a lot of characters\"\n",
        "\n",
        "test_list = test_string.split()\n",
        "\n",
        "test_list"
      ],
      "metadata": {
        "id": "X5cBuddAPAvV",
        "colab": {
          "base_uri": "https://localhost:8080/"
        },
        "outputId": "f4fa04af-aba3-4811-9c64-4c44dcc88e39"
      },
      "execution_count": null,
      "outputs": [
        {
          "output_type": "execute_result",
          "data": {
            "text/plain": [
              "['this', 'is', 'a', 'long', 'srtring', 'with', 'a', 'lot', 'of', 'characters']"
            ]
          },
          "metadata": {},
          "execution_count": 5
        }
      ]
    },
    {
      "cell_type": "code",
      "source": [
        "unique_test_list = list(map(lambda x: \"\".join(set(x)), test_list))\n",
        "\n",
        "unique_test_list"
      ],
      "metadata": {
        "colab": {
          "base_uri": "https://localhost:8080/"
        },
        "id": "xpVEPfR-56on",
        "outputId": "c31fb579-dfba-417e-fe69-6cb1b75bdde1"
      },
      "execution_count": null,
      "outputs": [
        {
          "output_type": "execute_result",
          "data": {
            "text/plain": [
              "['tsih', 'si', 'a', 'lnog', 'tngrsi', 'thiw', 'a', 'lto', 'fo', 'taehrsc']"
            ]
          },
          "metadata": {},
          "execution_count": 6
        }
      ]
    },
    {
      "cell_type": "code",
      "source": [
        "from functools import reduce\n",
        "\n",
        "count_unique_char_words = reduce(lambda x, y: x+y, list(map(lambda x, y: len(x) == len(y), test_list, unique_test_list)))\n",
        "\n",
        "count_unique_char_words"
      ],
      "metadata": {
        "colab": {
          "base_uri": "https://localhost:8080/"
        },
        "id": "LgXjxKUP6q7d",
        "outputId": "b5b2e8c1-0c47-440b-84d2-55d175cef7d2"
      },
      "execution_count": null,
      "outputs": [
        {
          "output_type": "execute_result",
          "data": {
            "text/plain": [
              "8"
            ]
          },
          "metadata": {},
          "execution_count": 7
        }
      ]
    },
    {
      "cell_type": "code",
      "source": [
        "print(f\"count = {count_unique_char_words}\")"
      ],
      "metadata": {
        "colab": {
          "base_uri": "https://localhost:8080/"
        },
        "id": "czqBDfkr7lER",
        "outputId": "fb512dad-b5f3-40f0-b5c7-08aaa79b1df0"
      },
      "execution_count": null,
      "outputs": [
        {
          "output_type": "stream",
          "name": "stdout",
          "text": [
            "count = 8\n"
          ]
        }
      ]
    },
    {
      "cell_type": "code",
      "source": [
        "test_string = \"101510101010\"\n",
        "\n",
        "isbinary = reduce(lambda x, y: x == y == True, list(map(lambda x: (x == \"1\" or x == \"0\"), test_string)))\n",
        "\n",
        "isbinary"
      ],
      "metadata": {
        "colab": {
          "base_uri": "https://localhost:8080/"
        },
        "id": "7KXMCYY5753u",
        "outputId": "6ff9231b-14ba-4511-c094-8e88ef5f666e"
      },
      "execution_count": null,
      "outputs": [
        {
          "output_type": "execute_result",
          "data": {
            "text/plain": [
              "False"
            ]
          },
          "metadata": {},
          "execution_count": 15
        }
      ]
    },
    {
      "cell_type": "code",
      "source": [
        "t = 9; n = t//2 + t%2; c = (t-1)/2\n",
        "\n",
        "#print(numbers)\n",
        "\n",
        "for i in range(t):\n",
        "    for j in range(t):\n",
        "        print(t + 1 - (n - int(max(abs(i-c),abs(j-c)) // 1)),end= \" \")\n",
        "    print()"
      ],
      "metadata": {
        "colab": {
          "base_uri": "https://localhost:8080/"
        },
        "id": "i3gr8wp88joO",
        "outputId": "4f9cfcec-fae4-4584-9f8a-932480316b0c"
      },
      "execution_count": null,
      "outputs": [
        {
          "output_type": "stream",
          "name": "stdout",
          "text": [
            "9 9 9 9 9 9 9 9 9 \n",
            "9 8 8 8 8 8 8 8 9 \n",
            "9 8 7 7 7 7 7 8 9 \n",
            "9 8 7 6 6 6 7 8 9 \n",
            "9 8 7 6 5 6 7 8 9 \n",
            "9 8 7 6 6 6 7 8 9 \n",
            "9 8 7 7 7 7 7 8 9 \n",
            "9 8 8 8 8 8 8 8 9 \n",
            "9 9 9 9 9 9 9 9 9 \n"
          ]
        }
      ]
    },
    {
      "cell_type": "code",
      "source": [
        "3.5%1"
      ],
      "metadata": {
        "colab": {
          "base_uri": "https://localhost:8080/"
        },
        "id": "RHXERZLq-XxI",
        "outputId": "0ae7ae98-bca9-4e4f-89a5-e453415e3f7e"
      },
      "execution_count": null,
      "outputs": [
        {
          "output_type": "execute_result",
          "data": {
            "text/plain": [
              "0.5"
            ]
          },
          "metadata": {},
          "execution_count": 39
        }
      ]
    },
    {
      "cell_type": "code",
      "source": [
        ""
      ],
      "metadata": {
        "id": "aOggBtuLEhsH"
      },
      "execution_count": null,
      "outputs": []
    }
  ]
}