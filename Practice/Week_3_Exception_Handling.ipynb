{
  "nbformat": 4,
  "nbformat_minor": 0,
  "metadata": {
    "colab": {
      "name": "Week-3_Exception_Handling.ipynb",
      "provenance": [],
      "collapsed_sections": [],
      "authorship_tag": "ABX9TyPmB5DiYVtTciJ/+es//fWq",
      "include_colab_link": true
    },
    "kernelspec": {
      "name": "python3",
      "display_name": "Python 3"
    },
    "language_info": {
      "name": "python"
    }
  },
  "cells": [
    {
      "cell_type": "markdown",
      "metadata": {
        "id": "view-in-github",
        "colab_type": "text"
      },
      "source": [
        "<a href=\"https://colab.research.google.com/github/lsp-sandeep/scaler_dsml_practice/blob/main/Week_3_Exception_Handling.ipynb\" target=\"_parent\"><img src=\"https://colab.research.google.com/assets/colab-badge.svg\" alt=\"Open In Colab\"/></a>"
      ]
    },
    {
      "cell_type": "code",
      "execution_count": null,
      "metadata": {
        "id": "NZfYK5-SYSyr",
        "colab": {
          "base_uri": "https://localhost:8080/"
        },
        "outputId": "11dea405-a52f-4d16-e4ae-e7cc7c3f9593"
      },
      "outputs": [
        {
          "output_type": "stream",
          "name": "stdout",
          "text": [
            "4\n",
            "4\n"
          ]
        }
      ],
      "source": [
        "try:\n",
        "  print(a)\n",
        "except ValueError:\n",
        "  a=3\n",
        "  print(a)\n",
        "except:\n",
        "  a=5\n",
        "  print(a)\n",
        "finally:\n",
        "  a=4\n",
        "  print(a)\n"
      ]
    },
    {
      "cell_type": "code",
      "source": [
        "try:\n",
        "    print(a)\n",
        "except Exception as e:\n",
        "    print(type(e).__name__)"
      ],
      "metadata": {
        "colab": {
          "base_uri": "https://localhost:8080/"
        },
        "id": "jWU-b7sGGR3B",
        "outputId": "ca7e5608-6202-4794-a0cf-0202b34bcc56"
      },
      "execution_count": null,
      "outputs": [
        {
          "output_type": "stream",
          "name": "stdout",
          "text": [
            "NameError\n"
          ]
        }
      ]
    },
    {
      "cell_type": "code",
      "source": [
        "import random"
      ],
      "metadata": {
        "id": "Q-cpT-RfJEb-"
      },
      "execution_count": null,
      "outputs": []
    },
    {
      "cell_type": "code",
      "source": [
        "random.randrange(4)"
      ],
      "metadata": {
        "colab": {
          "base_uri": "https://localhost:8080/"
        },
        "id": "ASYArn-AGujX",
        "outputId": "b68bb30d-de7a-4dc8-a78a-6c2d24748b46"
      },
      "execution_count": null,
      "outputs": [
        {
          "output_type": "execute_result",
          "data": {
            "text/plain": [
              "3"
            ]
          },
          "metadata": {},
          "execution_count": 63
        }
      ]
    },
    {
      "cell_type": "code",
      "source": [
        "try:\n",
        "  print(x)\n",
        "except NameError:                       #1\n",
        "  print(\"Variable x is not defined\")\n",
        "except:                                 #2\n",
        "  print(\"Something else went wrong\")"
      ],
      "metadata": {
        "colab": {
          "base_uri": "https://localhost:8080/"
        },
        "id": "JWTDAm_dL18U",
        "outputId": "bbe91a87-c5b0-4412-851c-b834af2e7742"
      },
      "execution_count": null,
      "outputs": [
        {
          "output_type": "stream",
          "name": "stdout",
          "text": [
            "Variable x is not defined\n"
          ]
        }
      ]
    },
    {
      "cell_type": "code",
      "source": [
        "from math import factorial\n",
        "print(math.factorial(5)) "
      ],
      "metadata": {
        "colab": {
          "base_uri": "https://localhost:8080/",
          "height": 190
        },
        "id": "Lr2jmx8yMk_P",
        "outputId": "6e077d82-63a0-48dd-a932-1af294d525e9"
      },
      "execution_count": null,
      "outputs": [
        {
          "output_type": "error",
          "ename": "NameError",
          "evalue": "ignored",
          "traceback": [
            "\u001b[0;31m---------------------------------------------------------------------------\u001b[0m",
            "\u001b[0;31mNameError\u001b[0m                                 Traceback (most recent call last)",
            "\u001b[0;32m<ipython-input-65-f1172db715c1>\u001b[0m in \u001b[0;36m<module>\u001b[0;34m()\u001b[0m\n\u001b[1;32m      1\u001b[0m \u001b[0;32mfrom\u001b[0m \u001b[0mmath\u001b[0m \u001b[0;32mimport\u001b[0m \u001b[0mfactorial\u001b[0m\u001b[0;34m\u001b[0m\u001b[0;34m\u001b[0m\u001b[0m\n\u001b[0;32m----> 2\u001b[0;31m \u001b[0mprint\u001b[0m\u001b[0;34m(\u001b[0m\u001b[0mmath\u001b[0m\u001b[0;34m.\u001b[0m\u001b[0mfactorial\u001b[0m\u001b[0;34m(\u001b[0m\u001b[0;36m5\u001b[0m\u001b[0;34m)\u001b[0m\u001b[0;34m)\u001b[0m\u001b[0;34m\u001b[0m\u001b[0;34m\u001b[0m\u001b[0m\n\u001b[0m",
            "\u001b[0;31mNameError\u001b[0m: name 'math' is not defined"
          ]
        }
      ]
    },
    {
      "cell_type": "code",
      "source": [
        "int(\"4.5\")"
      ],
      "metadata": {
        "colab": {
          "base_uri": "https://localhost:8080/",
          "height": 172
        },
        "id": "q18YpycnM0bt",
        "outputId": "63e38a9f-d5ac-419e-f83b-f0c94cd71f22"
      },
      "execution_count": null,
      "outputs": [
        {
          "output_type": "error",
          "ename": "ValueError",
          "evalue": "ignored",
          "traceback": [
            "\u001b[0;31m---------------------------------------------------------------------------\u001b[0m",
            "\u001b[0;31mValueError\u001b[0m                                Traceback (most recent call last)",
            "\u001b[0;32m<ipython-input-66-8c9892f002ca>\u001b[0m in \u001b[0;36m<module>\u001b[0;34m()\u001b[0m\n\u001b[0;32m----> 1\u001b[0;31m \u001b[0mint\u001b[0m\u001b[0;34m(\u001b[0m\u001b[0;34m\"4.5\"\u001b[0m\u001b[0;34m)\u001b[0m\u001b[0;34m\u001b[0m\u001b[0;34m\u001b[0m\u001b[0m\n\u001b[0m",
            "\u001b[0;31mValueError\u001b[0m: invalid literal for int() with base 10: '4.5'"
          ]
        }
      ]
    },
    {
      "cell_type": "code",
      "source": [
        "try:\n",
        "  n=int(input(\"Enter a number\"))\n",
        "  while 100%n==0:\n",
        "    print(\"Good\")\n",
        "    \n",
        "except ValueError:\n",
        "  print(\"Invalid\")"
      ],
      "metadata": {
        "colab": {
          "base_uri": "https://localhost:8080/"
        },
        "id": "EoLy828iOV1E",
        "outputId": "f032a97b-f366-4d8c-d62a-d6fa3e6b4895"
      },
      "execution_count": null,
      "outputs": [
        {
          "name": "stdout",
          "output_type": "stream",
          "text": [
            "Enter a number3\n"
          ]
        }
      ]
    },
    {
      "cell_type": "code",
      "source": [
        "def even(x):\n",
        "  try:\n",
        "    if x%2==0:\n",
        "      return \"even\"\n",
        "    else:\n",
        "      raise Exception\n",
        "  except:\n",
        "    return(\"odd\")\n",
        "  finally:\n",
        "    return \"integer\"\n",
        "\n",
        "print(even(5))    #A\n",
        "print(even(4))    #B"
      ],
      "metadata": {
        "colab": {
          "base_uri": "https://localhost:8080/"
        },
        "id": "RUxA92OYOb6s",
        "outputId": "8d0b9cf5-0104-4a09-fef8-f749b0af6c58"
      },
      "execution_count": null,
      "outputs": [
        {
          "output_type": "stream",
          "name": "stdout",
          "text": [
            "integer\n",
            "integer\n"
          ]
        }
      ]
    },
    {
      "cell_type": "code",
      "source": [
        "def even(x):\n",
        "    if x%2 == 0:\n",
        "        return \"even\"\n",
        "    else:\n",
        "        return(\"odd\")\n",
        "\n",
        "even(5)"
      ],
      "metadata": {
        "colab": {
          "base_uri": "https://localhost:8080/",
          "height": 36
        },
        "id": "6THIruqhPpId",
        "outputId": "61d5d065-2ce2-4bd4-fa8c-cd8017f2bcdb"
      },
      "execution_count": null,
      "outputs": [
        {
          "output_type": "execute_result",
          "data": {
            "text/plain": [
              "'odd'"
            ],
            "application/vnd.google.colaboratory.intrinsic+json": {
              "type": "string"
            }
          },
          "metadata": {},
          "execution_count": 71
        }
      ]
    },
    {
      "cell_type": "code",
      "source": [
        "import random\n",
        "\n",
        "array = list(range(100))\n",
        "random.shuffle(array)\n",
        "while len(array) != 0:\n",
        "      print(array.pop())"
      ],
      "metadata": {
        "id": "mvmJKvjpPzLm"
      },
      "execution_count": null,
      "outputs": []
    },
    {
      "cell_type": "code",
      "source": [
        "array"
      ],
      "metadata": {
        "colab": {
          "base_uri": "https://localhost:8080/"
        },
        "id": "K5EJ1jZjRNAx",
        "outputId": "4fcd77c4-4e30-48f3-bf9c-c20b5c8560fa"
      },
      "execution_count": null,
      "outputs": [
        {
          "output_type": "execute_result",
          "data": {
            "text/plain": [
              "[]"
            ]
          },
          "metadata": {},
          "execution_count": 78
        }
      ]
    },
    {
      "cell_type": "code",
      "source": [
        "import math\n",
        "result = 1\n",
        "for i in range(1,7):\n",
        "     result += 1/(math.factorial(i))\n",
        "print(round(result,2))"
      ],
      "metadata": {
        "colab": {
          "base_uri": "https://localhost:8080/"
        },
        "id": "DEidE9yIRQNF",
        "outputId": "b5fe7f0a-9fa7-482c-8d37-d28ce1866816"
      },
      "execution_count": null,
      "outputs": [
        {
          "output_type": "stream",
          "name": "stdout",
          "text": [
            "2.72\n"
          ]
        }
      ]
    },
    {
      "cell_type": "code",
      "source": [
        "import math\n",
        "import numpy as np\n",
        "a=[1,2,3,45]"
      ],
      "metadata": {
        "id": "2N8m1mi1RkzM"
      },
      "execution_count": null,
      "outputs": []
    },
    {
      "cell_type": "code",
      "source": [
        "np.mean(a)"
      ],
      "metadata": {
        "colab": {
          "base_uri": "https://localhost:8080/"
        },
        "id": "sciLXNEpVCr6",
        "outputId": "6c9bc9dd-b23f-4623-fd42-3a8e019ba4c2"
      },
      "execution_count": null,
      "outputs": [
        {
          "output_type": "execute_result",
          "data": {
            "text/plain": [
              "12.75"
            ]
          },
          "metadata": {},
          "execution_count": 2
        }
      ]
    },
    {
      "cell_type": "code",
      "source": [
        "np.std(a)"
      ],
      "metadata": {
        "colab": {
          "base_uri": "https://localhost:8080/"
        },
        "id": "P2Rw04ETVGPb",
        "outputId": "2b55357b-bed4-4c5f-a963-32d5635bf603"
      },
      "execution_count": null,
      "outputs": [
        {
          "output_type": "execute_result",
          "data": {
            "text/plain": [
              "18.632968094214082"
            ]
          },
          "metadata": {},
          "execution_count": 3
        }
      ]
    },
    {
      "cell_type": "code",
      "source": [
        "math.standard_deviation(a)"
      ],
      "metadata": {
        "colab": {
          "base_uri": "https://localhost:8080/",
          "height": 172
        },
        "id": "ein3KIR8VJzX",
        "outputId": "0465edbe-c3fc-4239-88e3-9f6c77bf3a70"
      },
      "execution_count": null,
      "outputs": [
        {
          "output_type": "error",
          "ename": "AttributeError",
          "evalue": "ignored",
          "traceback": [
            "\u001b[0;31m---------------------------------------------------------------------------\u001b[0m",
            "\u001b[0;31mAttributeError\u001b[0m                            Traceback (most recent call last)",
            "\u001b[0;32m<ipython-input-5-71bc6e2efce4>\u001b[0m in \u001b[0;36m<module>\u001b[0;34m()\u001b[0m\n\u001b[0;32m----> 1\u001b[0;31m \u001b[0mmath\u001b[0m\u001b[0;34m.\u001b[0m\u001b[0mstandard_deviation\u001b[0m\u001b[0;34m(\u001b[0m\u001b[0ma\u001b[0m\u001b[0;34m)\u001b[0m\u001b[0;34m\u001b[0m\u001b[0;34m\u001b[0m\u001b[0m\n\u001b[0m",
            "\u001b[0;31mAttributeError\u001b[0m: module 'math' has no attribute 'standard_deviation'"
          ]
        }
      ]
    },
    {
      "cell_type": "code",
      "source": [
        "class A:\n",
        " def __init__(self, name, sound=\"Grrrr\"):\n",
        "   self.name = name\n",
        "   self.sound = sound\n",
        "\n",
        " def make_noise(self):\n",
        "   print(\"{} says, {}\".format(self.name,self.sound))\n",
        "\n",
        "class B(A):\n",
        " def __init__(self, name=\"Rachel\"):\n",
        "   super().__init__(name, \"Meow!\")\n",
        "\n",
        " def make_noise(self,sound=\"Grrrr!\"):\n",
        "   print(\"{} says, {}\".format(self.name, sound))\n",
        "\n",
        "pet_cat = B()\n",
        "pet_cat.make_noise()"
      ],
      "metadata": {
        "colab": {
          "base_uri": "https://localhost:8080/"
        },
        "id": "btu8BKSaVOIY",
        "outputId": "7cbe7e9c-bc89-422c-db05-b5e96907834b"
      },
      "execution_count": null,
      "outputs": [
        {
          "output_type": "stream",
          "name": "stdout",
          "text": [
            "Rachel says, Grrrr!\n"
          ]
        }
      ]
    },
    {
      "cell_type": "code",
      "source": [
        "class AI:\n",
        "    def check(self):\n",
        "        return \"AI's check\"\n",
        "    def display(self):\n",
        "        print(self.check(),end=\" \")\n",
        "\n",
        "class ML(AI):\n",
        "    def check(self):\n",
        "        return \"ML's check\"\n",
        "\n",
        "AI().display()\n",
        "ML().display()"
      ],
      "metadata": {
        "colab": {
          "base_uri": "https://localhost:8080/"
        },
        "id": "Psjt1ILfaIOF",
        "outputId": "b37da5ec-ba55-4979-8fe4-601d4bb0db86"
      },
      "execution_count": null,
      "outputs": [
        {
          "output_type": "stream",
          "name": "stdout",
          "text": [
            "AI's check ML's check "
          ]
        }
      ]
    },
    {
      "cell_type": "code",
      "source": [
        "class A:\n",
        "    def __init__(self):\n",
        "        print(\"A\")\n",
        "        super(A, self).__init__()\n",
        "\n",
        "class B(A):\n",
        "    def __init__(self):\n",
        "        print(\"B\")\n",
        "        super(B, self).__init__()\n",
        "\n",
        "class C(A, B):\n",
        "    def __init__(self):\n",
        "        print(\"C\")\n",
        "        super(C, self).__init__()\n",
        "\n",
        "c = C()"
      ],
      "metadata": {
        "id": "ShiRSbcBama6",
        "colab": {
          "base_uri": "https://localhost:8080/",
          "height": 264
        },
        "outputId": "f2020217-6530-474c-bf66-f5c14b594c6f"
      },
      "execution_count": null,
      "outputs": [
        {
          "output_type": "error",
          "ename": "TypeError",
          "evalue": "ignored",
          "traceback": [
            "\u001b[0;31m---------------------------------------------------------------------------\u001b[0m",
            "\u001b[0;31mTypeError\u001b[0m                                 Traceback (most recent call last)",
            "\u001b[0;32m<ipython-input-16-0b41d9fe25da>\u001b[0m in \u001b[0;36m<module>\u001b[0;34m()\u001b[0m\n\u001b[1;32m      9\u001b[0m         \u001b[0msuper\u001b[0m\u001b[0;34m(\u001b[0m\u001b[0mB\u001b[0m\u001b[0;34m,\u001b[0m \u001b[0mself\u001b[0m\u001b[0;34m)\u001b[0m\u001b[0;34m.\u001b[0m\u001b[0m__init__\u001b[0m\u001b[0;34m(\u001b[0m\u001b[0;34m)\u001b[0m\u001b[0;34m\u001b[0m\u001b[0;34m\u001b[0m\u001b[0m\n\u001b[1;32m     10\u001b[0m \u001b[0;34m\u001b[0m\u001b[0m\n\u001b[0;32m---> 11\u001b[0;31m \u001b[0;32mclass\u001b[0m \u001b[0mC\u001b[0m\u001b[0;34m(\u001b[0m\u001b[0mA\u001b[0m\u001b[0;34m,\u001b[0m \u001b[0mB\u001b[0m\u001b[0;34m)\u001b[0m\u001b[0;34m:\u001b[0m\u001b[0;34m\u001b[0m\u001b[0;34m\u001b[0m\u001b[0m\n\u001b[0m\u001b[1;32m     12\u001b[0m     \u001b[0;32mdef\u001b[0m \u001b[0m__init__\u001b[0m\u001b[0;34m(\u001b[0m\u001b[0mself\u001b[0m\u001b[0;34m)\u001b[0m\u001b[0;34m:\u001b[0m\u001b[0;34m\u001b[0m\u001b[0;34m\u001b[0m\u001b[0m\n\u001b[1;32m     13\u001b[0m         \u001b[0mprint\u001b[0m\u001b[0;34m(\u001b[0m\u001b[0;34m\"C\"\u001b[0m\u001b[0;34m)\u001b[0m\u001b[0;34m\u001b[0m\u001b[0;34m\u001b[0m\u001b[0m\n",
            "\u001b[0;31mTypeError\u001b[0m: Cannot create a consistent method resolution\norder (MRO) for bases A, B"
          ]
        }
      ]
    },
    {
      "cell_type": "code",
      "source": [
        "C.__mro__"
      ],
      "metadata": {
        "colab": {
          "base_uri": "https://localhost:8080/",
          "height": 172
        },
        "id": "_9bZvVhAewic",
        "outputId": "5ddc0b40-adfd-4333-98b9-4f0ecaa87679"
      },
      "execution_count": null,
      "outputs": [
        {
          "output_type": "error",
          "ename": "NameError",
          "evalue": "ignored",
          "traceback": [
            "\u001b[0;31m---------------------------------------------------------------------------\u001b[0m",
            "\u001b[0;31mNameError\u001b[0m                                 Traceback (most recent call last)",
            "\u001b[0;32m<ipython-input-12-ad2c44f4cbef>\u001b[0m in \u001b[0;36m<module>\u001b[0;34m()\u001b[0m\n\u001b[0;32m----> 1\u001b[0;31m \u001b[0mC\u001b[0m\u001b[0;34m.\u001b[0m\u001b[0m__mro__\u001b[0m\u001b[0;34m\u001b[0m\u001b[0;34m\u001b[0m\u001b[0m\n\u001b[0m",
            "\u001b[0;31mNameError\u001b[0m: name 'C' is not defined"
          ]
        }
      ]
    },
    {
      "cell_type": "code",
      "source": [
        "def bubble_sort(a):\n",
        "    change = 0\n",
        "    for i in range(len(a)):\n",
        "        for j in range(len(a) - i - 1):\n",
        "            if a[j] > a[j+1]:\n",
        "                a[j], a[j + 1] = a[j + 1], a[j]\n",
        "                change += 1\n",
        "\n",
        "        if change == 0:\n",
        "            return\n",
        "    return"
      ],
      "metadata": {
        "id": "BhEhNU7UfNdA"
      },
      "execution_count": null,
      "outputs": []
    },
    {
      "cell_type": "code",
      "source": [
        "a = [5, 7, 3, 2, 1, 4, 6]\n",
        "\n",
        "bubble_sort(a)\n",
        "\n",
        "a"
      ],
      "metadata": {
        "colab": {
          "base_uri": "https://localhost:8080/"
        },
        "id": "plkXHDiaep4H",
        "outputId": "acbce764-13d1-41ff-8c6d-6d97bfd8087f"
      },
      "execution_count": null,
      "outputs": [
        {
          "output_type": "execute_result",
          "data": {
            "text/plain": [
              "[1, 2, 3, 4, 5, 6, 7]"
            ]
          },
          "metadata": {},
          "execution_count": 7
        }
      ]
    },
    {
      "cell_type": "code",
      "source": [
        "class A():\n",
        "    pass\n",
        "class B(A):\n",
        "    pass\n",
        "\n",
        "class C(A, B):\n",
        "    pass"
      ],
      "metadata": {
        "id": "hvRWLn2Pe3nS",
        "colab": {
          "base_uri": "https://localhost:8080/",
          "height": 246
        },
        "outputId": "5807b40b-a81a-4852-b350-f69f61b79486"
      },
      "execution_count": null,
      "outputs": [
        {
          "output_type": "error",
          "ename": "TypeError",
          "evalue": "ignored",
          "traceback": [
            "\u001b[0;31m---------------------------------------------------------------------------\u001b[0m",
            "\u001b[0;31mTypeError\u001b[0m                                 Traceback (most recent call last)",
            "\u001b[0;32m<ipython-input-14-90bfe8fb6153>\u001b[0m in \u001b[0;36m<module>\u001b[0;34m()\u001b[0m\n\u001b[1;32m      4\u001b[0m     \u001b[0;32mpass\u001b[0m\u001b[0;34m\u001b[0m\u001b[0;34m\u001b[0m\u001b[0m\n\u001b[1;32m      5\u001b[0m \u001b[0;34m\u001b[0m\u001b[0m\n\u001b[0;32m----> 6\u001b[0;31m \u001b[0;32mclass\u001b[0m \u001b[0mC\u001b[0m\u001b[0;34m(\u001b[0m\u001b[0mA\u001b[0m\u001b[0;34m,\u001b[0m \u001b[0mB\u001b[0m\u001b[0;34m)\u001b[0m\u001b[0;34m:\u001b[0m\u001b[0;34m\u001b[0m\u001b[0;34m\u001b[0m\u001b[0m\n\u001b[0m\u001b[1;32m      7\u001b[0m     \u001b[0;32mpass\u001b[0m\u001b[0;34m\u001b[0m\u001b[0;34m\u001b[0m\u001b[0m\n",
            "\u001b[0;31mTypeError\u001b[0m: Cannot create a consistent method resolution\norder (MRO) for bases A, B"
          ]
        }
      ]
    },
    {
      "cell_type": "code",
      "source": [
        "A"
      ],
      "metadata": {
        "colab": {
          "base_uri": "https://localhost:8080/"
        },
        "id": "hqWRXPPCiciO",
        "outputId": "6e916a89-0617-42d1-a54b-fb237b6f6b43"
      },
      "execution_count": null,
      "outputs": [
        {
          "output_type": "execute_result",
          "data": {
            "text/plain": [
              "__main__.A"
            ]
          },
          "metadata": {},
          "execution_count": 15
        }
      ]
    },
    {
      "cell_type": "code",
      "source": [
        "class First(object):\n",
        "    def __init__(self):\n",
        "        super(First, self).__init__()\n",
        "        print(\"first\")\n",
        "\n",
        "class Second(object):\n",
        "    def __init__(self):\n",
        "        super(Second, self).__init__()\n",
        "        print(\"second\")\n",
        "\n",
        "class Third(First, Second):\n",
        "    def __init__(self):\n",
        "        super(Third, self).__init__()\n",
        "        print(\"third\")"
      ],
      "metadata": {
        "id": "A3otTENFkH9o"
      },
      "execution_count": null,
      "outputs": []
    },
    {
      "cell_type": "code",
      "source": [
        "arr = [7 , 5, 1, 2, 6, 4, 3]\n",
        "\n",
        "for j in range(len(arr)-1,-1,-1):\n",
        "  for k in range(0,j):\n",
        "    if(arr[k]>arr[k+1]):\n",
        "      temp=arr[k]\n",
        "      arr[k]=arr[k+1]\n",
        "      arr[k+1]=temp\n",
        "arr"
      ],
      "metadata": {
        "id": "s0yfBPZ4lIT9",
        "colab": {
          "base_uri": "https://localhost:8080/"
        },
        "outputId": "cf2c2eb5-ee1a-4f24-a859-54802cbba6e6"
      },
      "execution_count": null,
      "outputs": [
        {
          "output_type": "execute_result",
          "data": {
            "text/plain": [
              "[1, 2, 3, 4, 5, 6, 7]"
            ]
          },
          "metadata": {},
          "execution_count": 3
        }
      ]
    },
    {
      "cell_type": "code",
      "source": [
        "def foo(n):\n",
        "    count = 0\n",
        "    for i in range(n):\n",
        "        j=i\n",
        "        while j!=0:\n",
        "            # print(j)\n",
        "            j=j//2\n",
        "            count += 1\n",
        "    return count\n",
        "\n",
        "def func(n):\n",
        "    res = 0\n",
        "    for i in range(1, n+1):\n",
        "        res += math.floor(math.log(i,2))\n",
        "    return res + n\n",
        "\n",
        "def fufo(n):\n",
        "    return int(math.log(math.factorial(n))) + n"
      ],
      "metadata": {
        "id": "LKxbIbc4he8n"
      },
      "execution_count": null,
      "outputs": []
    },
    {
      "cell_type": "code",
      "source": [
        "print(list(map(foo, list(range(2,100)))))\n",
        "print(list(map(func, list(range(1,99))))) #lambda x: int(math.log(math.factorial(x),2))\n",
        "print(list(map(lambda x: func(x) - fufo(x), list(range(1,99)))))"
      ],
      "metadata": {
        "colab": {
          "base_uri": "https://localhost:8080/"
        },
        "id": "4sKKChKHm7ir",
        "outputId": "2c8f9d93-cd56-4c0b-8042-9d37a2934c24"
      },
      "execution_count": null,
      "outputs": [
        {
          "output_type": "stream",
          "name": "stdout",
          "text": [
            "[1, 3, 5, 8, 11, 14, 17, 21, 25, 29, 33, 37, 41, 45, 49, 54, 59, 64, 69, 74, 79, 84, 89, 94, 99, 104, 109, 114, 119, 124, 129, 135, 141, 147, 153, 159, 165, 171, 177, 183, 189, 195, 201, 207, 213, 219, 225, 231, 237, 243, 249, 255, 261, 267, 273, 279, 285, 291, 297, 303, 309, 315, 321, 328, 335, 342, 349, 356, 363, 370, 377, 384, 391, 398, 405, 412, 419, 426, 433, 440, 447, 454, 461, 468, 475, 482, 489, 496, 503, 510, 517, 524, 531, 538, 545, 552, 559, 566]\n",
            "[1, 3, 5, 8, 11, 14, 17, 21, 25, 29, 33, 37, 41, 45, 49, 54, 59, 64, 69, 74, 79, 84, 89, 94, 99, 104, 109, 114, 119, 124, 129, 135, 141, 147, 153, 159, 165, 171, 177, 183, 189, 195, 201, 207, 213, 219, 225, 231, 237, 243, 249, 255, 261, 267, 273, 279, 285, 291, 297, 303, 309, 315, 321, 328, 335, 342, 349, 356, 363, 370, 377, 384, 391, 398, 405, 412, 419, 426, 433, 440, 447, 454, 461, 468, 475, 482, 489, 496, 503, 510, 517, 524, 531, 538, 545, 552, 559, 566]\n",
            "[0, 1, 1, 1, 2, 2, 2, 3, 4, 4, 5, 6, 6, 6, 7, 8, 9, 10, 11, 12, 13, 14, 15, 16, 16, 17, 18, 19, 19, 20, 20, 22, 23, 25, 26, 28, 29, 31, 32, 33, 34, 36, 37, 38, 39, 41, 42, 43, 44, 45, 46, 47, 48, 49, 50, 51, 52, 53, 54, 55, 56, 57, 57, 59, 61, 63, 65, 67, 68, 70, 72, 74, 75, 77, 79, 80, 82, 84, 85, 87, 88, 90, 92, 93, 95, 96, 98, 99, 101, 102, 104, 105, 107, 108, 110, 111, 113, 114]\n"
          ]
        }
      ]
    },
    {
      "cell_type": "code",
      "source": [
        "import math"
      ],
      "metadata": {
        "id": "r8dpWacLnGHp"
      },
      "execution_count": null,
      "outputs": []
    },
    {
      "cell_type": "code",
      "source": [
        "math.floor(5.7)"
      ],
      "metadata": {
        "colab": {
          "base_uri": "https://localhost:8080/"
        },
        "id": "xzhjjZ66oTN_",
        "outputId": "aaa550c7-d350-43cf-a04a-97c1d6b66dc2"
      },
      "execution_count": null,
      "outputs": [
        {
          "output_type": "execute_result",
          "data": {
            "text/plain": [
              "5"
            ]
          },
          "metadata": {},
          "execution_count": 51
        }
      ]
    },
    {
      "cell_type": "code",
      "source": [
        "func(5)"
      ],
      "metadata": {
        "colab": {
          "base_uri": "https://localhost:8080/"
        },
        "id": "2O9u6t3SoV2A",
        "outputId": "3e12c312-066d-46a7-df88-4fe634ef11d7"
      },
      "execution_count": null,
      "outputs": [
        {
          "output_type": "stream",
          "name": "stdout",
          "text": [
            "0\n",
            "1\n",
            "1\n",
            "2\n",
            "2\n"
          ]
        },
        {
          "output_type": "execute_result",
          "data": {
            "text/plain": [
              "6"
            ]
          },
          "metadata": {},
          "execution_count": 62
        }
      ]
    },
    {
      "cell_type": "code",
      "source": [
        "a = [1, 2, 3, 4]\n",
        "b = [3, 5, 7, 9, 1]\n",
        "\n",
        "list(map(lambda x, y: x + y, a ,b))"
      ],
      "metadata": {
        "id": "cRTCCcV5uSKr",
        "colab": {
          "base_uri": "https://localhost:8080/"
        },
        "outputId": "5bb514e7-35a8-4fc3-b345-d1e90bc0ef73"
      },
      "execution_count": null,
      "outputs": [
        {
          "output_type": "execute_result",
          "data": {
            "text/plain": [
              "[4, 7, 10, 13]"
            ]
          },
          "metadata": {},
          "execution_count": 1
        }
      ]
    },
    {
      "cell_type": "code",
      "source": [
        "def islexi(first: str, second: str):\n",
        "    for i in range(min(len(first), len(second))):\n",
        "        if first[i] < second[i]:\n",
        "            return True\n",
        "        elif first[i] > second[i]:\n",
        "            return False\n",
        "        else:\n",
        "            continue\n",
        "    if len(first) <= len(second):\n",
        "        return True\n",
        "    else:\n",
        "        return False"
      ],
      "metadata": {
        "id": "4rnQx-TP-i7Y"
      },
      "execution_count": null,
      "outputs": []
    },
    {
      "cell_type": "code",
      "source": [
        "islexi(\"abcd\", \"aaa\")"
      ],
      "metadata": {
        "colab": {
          "base_uri": "https://localhost:8080/"
        },
        "id": "lSiYdoGoAiuv",
        "outputId": "7ebc5ecb-b266-41a0-845b-4c4c3321c8c0"
      },
      "execution_count": null,
      "outputs": [
        {
          "output_type": "execute_result",
          "data": {
            "text/plain": [
              "False"
            ]
          },
          "metadata": {},
          "execution_count": 3
        }
      ]
    },
    {
      "cell_type": "code",
      "source": [
        "a = [4, 8, 7, 1, 3, 6, 2, 5]\n",
        "\n",
        "for i in range(len(a) - 1):\n",
        "    min_index = i\n",
        "    for j in range(i + 1, len(a)):\n",
        "        if a[min_index] > a[j]:\n",
        "            min_index = j\n",
        "    if min_index != i:\n",
        "        a[i], a[min_index] = a[min_index], a[i]\n",
        "\n",
        "print(a)"
      ],
      "metadata": {
        "id": "MamydKLJAmDF",
        "colab": {
          "base_uri": "https://localhost:8080/"
        },
        "outputId": "5e7acaa5-409a-4e12-f8fc-67d5be309f0c"
      },
      "execution_count": null,
      "outputs": [
        {
          "output_type": "stream",
          "name": "stdout",
          "text": [
            "[1, 2, 3, 4, 5, 6, 7, 8]\n"
          ]
        }
      ]
    },
    {
      "cell_type": "code",
      "source": [
        "a = [4, 8, 7, 1, 3, 6, 2, 5]\n",
        "\n",
        "for i in range(len(a)):\n",
        "    for j in range(len(a)):\n",
        "        if a[i] < a[j]:\n",
        "            a[j], a[i] = a[i], a[j]\n",
        "\n",
        "        print(a)\n",
        "    print()\n",
        "a"
      ],
      "metadata": {
        "id": "XJj4bRQdgkJa"
      },
      "execution_count": null,
      "outputs": []
    },
    {
      "cell_type": "code",
      "source": [
        "class A:\n",
        "    pass\n",
        "\n",
        "class B(A):\n",
        "    pass\n",
        "\n",
        "class C(A, B):\n",
        "    pass\n",
        "\n",
        "c = C()"
      ],
      "metadata": {
        "id": "8zcj290bh2cl",
        "colab": {
          "base_uri": "https://localhost:8080/",
          "height": 264
        },
        "outputId": "1c9ea318-6710-46b8-aa81-c4d509ea304c"
      },
      "execution_count": null,
      "outputs": [
        {
          "output_type": "error",
          "ename": "TypeError",
          "evalue": "ignored",
          "traceback": [
            "\u001b[0;31m---------------------------------------------------------------------------\u001b[0m",
            "\u001b[0;31mTypeError\u001b[0m                                 Traceback (most recent call last)",
            "\u001b[0;32m<ipython-input-1-6ab86ff7f475>\u001b[0m in \u001b[0;36m<module>\u001b[0;34m()\u001b[0m\n\u001b[1;32m      6\u001b[0m \u001b[0;32mclass\u001b[0m \u001b[0mB\u001b[0m\u001b[0;34m(\u001b[0m\u001b[0mA\u001b[0m\u001b[0;34m)\u001b[0m\u001b[0;34m:\u001b[0m\u001b[0;34m\u001b[0m\u001b[0;34m\u001b[0m\u001b[0m\n\u001b[1;32m      7\u001b[0m     \u001b[0;32mpass\u001b[0m\u001b[0;34m\u001b[0m\u001b[0;34m\u001b[0m\u001b[0m\n\u001b[0;32m----> 8\u001b[0;31m \u001b[0;32mclass\u001b[0m \u001b[0mC\u001b[0m\u001b[0;34m(\u001b[0m\u001b[0mA\u001b[0m\u001b[0;34m,\u001b[0m \u001b[0mB\u001b[0m\u001b[0;34m)\u001b[0m\u001b[0;34m:\u001b[0m\u001b[0;34m\u001b[0m\u001b[0;34m\u001b[0m\u001b[0m\n\u001b[0m\u001b[1;32m      9\u001b[0m     \u001b[0;32mpass\u001b[0m\u001b[0;34m\u001b[0m\u001b[0;34m\u001b[0m\u001b[0m\n\u001b[1;32m     10\u001b[0m \u001b[0;34m\u001b[0m\u001b[0m\n",
            "\u001b[0;31mTypeError\u001b[0m: Cannot create a consistent method resolution\norder (MRO) for bases A, B"
          ]
        }
      ]
    },
    {
      "cell_type": "code",
      "source": [
        "arr = [3,5,7,14,15]\n",
        "\n",
        "count = 0\n",
        "for i in range(0, len(arr) - 1):\n",
        "    min = i\n",
        "    for j in range(i + 1, len(arr)):\n",
        "        if arr[j] < arr[min]:\n",
        "            min = j\n",
        "        count += 1\n",
        "    temp = arr[min]\n",
        "    arr[min] = arr[i]\n",
        "    arr[i] = temp\n",
        "    print(arr)"
      ],
      "metadata": {
        "id": "rl3O7gSZ1Kah",
        "colab": {
          "base_uri": "https://localhost:8080/"
        },
        "outputId": "32bfbb21-3bf3-46e4-d23b-9bce886276fd"
      },
      "execution_count": null,
      "outputs": [
        {
          "output_type": "stream",
          "name": "stdout",
          "text": [
            "[3, 5, 7, 14, 15]\n",
            "[3, 5, 7, 14, 15]\n",
            "[3, 5, 7, 14, 15]\n",
            "[3, 5, 7, 14, 15]\n"
          ]
        }
      ]
    },
    {
      "cell_type": "code",
      "source": [
        "arr, count"
      ],
      "metadata": {
        "colab": {
          "base_uri": "https://localhost:8080/"
        },
        "id": "K6cJPZLiWyAb",
        "outputId": "ade05e3f-28c7-4d2f-d534-15a1b8738bb5"
      },
      "execution_count": null,
      "outputs": [
        {
          "output_type": "execute_result",
          "data": {
            "text/plain": [
              "([3, 5, 7, 14, 15], 10)"
            ]
          },
          "metadata": {},
          "execution_count": 4
        }
      ]
    },
    {
      "cell_type": "code",
      "source": [
        "arr = [4, 8, 7, 1, 3, 6, 2, 5]\n",
        "\n",
        "def insertionSort(arr):\n",
        "  value=0\n",
        "  for i in range(1,len(arr)+1):\n",
        "    value=arr[i-1]\n",
        "    j=i-1\n",
        "    while((j > 0) and (arr[j-1] > value)): #Fill the blank\n",
        "      arr[j]=arr[j-1]\n",
        "      j=j-1\n",
        "    arr[j]=value\n",
        "  return arr \n",
        "\n",
        "insertionSort(arr)"
      ],
      "metadata": {
        "colab": {
          "base_uri": "https://localhost:8080/"
        },
        "id": "Dl0RibFKWy03",
        "outputId": "10215022-c108-4e20-eade-b4c8b950bc40"
      },
      "execution_count": null,
      "outputs": [
        {
          "output_type": "execute_result",
          "data": {
            "text/plain": [
              "[1, 2, 3, 4, 5, 6, 7, 8]"
            ]
          },
          "metadata": {},
          "execution_count": 6
        }
      ]
    },
    {
      "cell_type": "code",
      "source": [
        "str1 = \"string\"\n",
        "str2 = str1\n",
        "\n",
        "str1 is str2"
      ],
      "metadata": {
        "id": "LpHRwbogdiiH",
        "colab": {
          "base_uri": "https://localhost:8080/"
        },
        "outputId": "ea2dbeff-8ab0-4f26-d944-ab72dc5613cc"
      },
      "execution_count": null,
      "outputs": [
        {
          "output_type": "execute_result",
          "data": {
            "text/plain": [
              "True"
            ]
          },
          "metadata": {},
          "execution_count": 1
        }
      ]
    },
    {
      "cell_type": "code",
      "source": [
        ""
      ],
      "metadata": {
        "id": "8rjzRSoqPQSa"
      },
      "execution_count": null,
      "outputs": []
    }
  ]
}
