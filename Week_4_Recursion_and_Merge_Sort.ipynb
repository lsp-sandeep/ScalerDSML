{
  "nbformat": 4,
  "nbformat_minor": 0,
  "metadata": {
    "colab": {
      "name": "Week-4 Recursion and Merge Sort.ipynb",
      "provenance": [],
      "authorship_tag": "ABX9TyOnetQWOyz11FTuFFhv/bj9",
      "include_colab_link": true
    },
    "kernelspec": {
      "name": "python3",
      "display_name": "Python 3"
    },
    "language_info": {
      "name": "python"
    }
  },
  "cells": [
    {
      "cell_type": "markdown",
      "metadata": {
        "id": "view-in-github",
        "colab_type": "text"
      },
      "source": [
        "<a href=\"https://colab.research.google.com/github/lsp-sandeep/scaler_dsml_practice/blob/main/Week_4_Recursion_and_Merge_Sort.ipynb\" target=\"_parent\"><img src=\"https://colab.research.google.com/assets/colab-badge.svg\" alt=\"Open In Colab\"/></a>"
      ]
    },
    {
      "cell_type": "code",
      "execution_count": null,
      "metadata": {
        "id": "BkKzGbX5HNuT"
      },
      "outputs": [],
      "source": [
        "A = list(range(1,7))\n",
        "\n",
        "def order(A):\n",
        "    if len(A) <= 2:\n",
        "        return A[:]\n",
        "    return A[:1] + order(A[2:] + A[1:2])"
      ]
    },
    {
      "cell_type": "code",
      "source": [
        "A = [1, 4, 3, 7, 2, 8, 6]\n",
        "\n",
        "list(A)"
      ],
      "metadata": {
        "colab": {
          "base_uri": "https://localhost:8080/"
        },
        "id": "ocW8_OrkHn2r",
        "outputId": "7b9f7bd2-4b7b-418d-b395-754f4ca85a2e"
      },
      "execution_count": null,
      "outputs": [
        {
          "output_type": "execute_result",
          "data": {
            "text/plain": [
              "[1, 4, 3, 7, 2, 8, 6]"
            ]
          },
          "metadata": {},
          "execution_count": 38
        }
      ]
    },
    {
      "cell_type": "code",
      "source": [
        "B = [1, 2]\n",
        "\n",
        "B[10:]"
      ],
      "metadata": {
        "colab": {
          "base_uri": "https://localhost:8080/"
        },
        "id": "wnDh3HnKHquF",
        "outputId": "31bb7303-c357-4d84-b6d4-9977c0be41d7"
      },
      "execution_count": null,
      "outputs": [
        {
          "output_type": "execute_result",
          "data": {
            "text/plain": [
              "[]"
            ]
          },
          "metadata": {},
          "execution_count": 50
        }
      ]
    },
    {
      "cell_type": "code",
      "source": [
        "order(A)"
      ],
      "metadata": {
        "colab": {
          "base_uri": "https://localhost:8080/"
        },
        "id": "gcG8dh78IWBN",
        "outputId": "d43aa271-7e0f-471c-cd37-0f3c875a3942"
      },
      "execution_count": null,
      "outputs": [
        {
          "output_type": "execute_result",
          "data": {
            "text/plain": [
              "[1, 3, 5, 2, 6, 4]"
            ]
          },
          "metadata": {},
          "execution_count": 46
        }
      ]
    },
    {
      "cell_type": "code",
      "source": [
        "def solve(a):\n",
        "    if len(a) == 1:\n",
        "        return [a[0]]\n",
        "    return [a[0]] + solve(a[2:]+[a[1]])"
      ],
      "metadata": {
        "id": "idg-uiD2I5Ny"
      },
      "execution_count": null,
      "outputs": []
    },
    {
      "cell_type": "code",
      "source": [
        "solve([])"
      ],
      "metadata": {
        "colab": {
          "base_uri": "https://localhost:8080/",
          "height": 264
        },
        "id": "_0cm9pt2RuM9",
        "outputId": "81e1c82b-8d69-4036-ec33-1d053fca763f"
      },
      "execution_count": null,
      "outputs": [
        {
          "output_type": "error",
          "ename": "IndexError",
          "evalue": "ignored",
          "traceback": [
            "\u001b[0;31m---------------------------------------------------------------------------\u001b[0m",
            "\u001b[0;31mIndexError\u001b[0m                                Traceback (most recent call last)",
            "\u001b[0;32m<ipython-input-51-997449dcf456>\u001b[0m in \u001b[0;36m<module>\u001b[0;34m()\u001b[0m\n\u001b[0;32m----> 1\u001b[0;31m \u001b[0msolve\u001b[0m\u001b[0;34m(\u001b[0m\u001b[0;34m[\u001b[0m\u001b[0;34m]\u001b[0m\u001b[0;34m)\u001b[0m\u001b[0;34m\u001b[0m\u001b[0;34m\u001b[0m\u001b[0m\n\u001b[0m",
            "\u001b[0;32m<ipython-input-47-a5d6dd921d78>\u001b[0m in \u001b[0;36msolve\u001b[0;34m(a)\u001b[0m\n\u001b[1;32m      2\u001b[0m     \u001b[0;32mif\u001b[0m \u001b[0mlen\u001b[0m\u001b[0;34m(\u001b[0m\u001b[0ma\u001b[0m\u001b[0;34m)\u001b[0m \u001b[0;34m==\u001b[0m \u001b[0;36m1\u001b[0m\u001b[0;34m:\u001b[0m\u001b[0;34m\u001b[0m\u001b[0;34m\u001b[0m\u001b[0m\n\u001b[1;32m      3\u001b[0m         \u001b[0;32mreturn\u001b[0m \u001b[0;34m[\u001b[0m\u001b[0ma\u001b[0m\u001b[0;34m[\u001b[0m\u001b[0;36m0\u001b[0m\u001b[0;34m]\u001b[0m\u001b[0;34m]\u001b[0m\u001b[0;34m\u001b[0m\u001b[0;34m\u001b[0m\u001b[0m\n\u001b[0;32m----> 4\u001b[0;31m     \u001b[0;32mreturn\u001b[0m \u001b[0;34m[\u001b[0m\u001b[0ma\u001b[0m\u001b[0;34m[\u001b[0m\u001b[0;36m0\u001b[0m\u001b[0;34m]\u001b[0m\u001b[0;34m]\u001b[0m \u001b[0;34m+\u001b[0m \u001b[0msolve\u001b[0m\u001b[0;34m(\u001b[0m\u001b[0ma\u001b[0m\u001b[0;34m[\u001b[0m\u001b[0;36m2\u001b[0m\u001b[0;34m:\u001b[0m\u001b[0;34m]\u001b[0m\u001b[0;34m+\u001b[0m\u001b[0;34m[\u001b[0m\u001b[0ma\u001b[0m\u001b[0;34m[\u001b[0m\u001b[0;36m1\u001b[0m\u001b[0;34m]\u001b[0m\u001b[0;34m]\u001b[0m\u001b[0;34m)\u001b[0m\u001b[0;34m\u001b[0m\u001b[0;34m\u001b[0m\u001b[0m\n\u001b[0m",
            "\u001b[0;31mIndexError\u001b[0m: list index out of range"
          ]
        }
      ]
    },
    {
      "cell_type": "code",
      "source": [
        "order([])"
      ],
      "metadata": {
        "colab": {
          "base_uri": "https://localhost:8080/"
        },
        "id": "3ll4jYURRyoM",
        "outputId": "cbc14877-75d1-4344-f8f3-65109567f0c0"
      },
      "execution_count": null,
      "outputs": [
        {
          "output_type": "execute_result",
          "data": {
            "text/plain": [
              "[]"
            ]
          },
          "metadata": {},
          "execution_count": 52
        }
      ]
    },
    {
      "cell_type": "code",
      "source": [
        "s = \"hello\"\n",
        "\n",
        "s.split(\"h\")"
      ],
      "metadata": {
        "id": "haiQCUkDVnbl",
        "colab": {
          "base_uri": "https://localhost:8080/"
        },
        "outputId": "679022e6-2a76-4d5b-e299-f579be54acf6"
      },
      "execution_count": null,
      "outputs": [
        {
          "output_type": "execute_result",
          "data": {
            "text/plain": [
              "['', 'ello']"
            ]
          },
          "metadata": {},
          "execution_count": 6
        }
      ]
    },
    {
      "cell_type": "code",
      "source": [
        "len(_[0])"
      ],
      "metadata": {
        "colab": {
          "base_uri": "https://localhost:8080/"
        },
        "id": "JGjWyrXBHLH5",
        "outputId": "e6e07066-18f3-4171-972e-ff6402b15671"
      },
      "execution_count": null,
      "outputs": [
        {
          "output_type": "execute_result",
          "data": {
            "text/plain": [
              "0"
            ]
          },
          "metadata": {},
          "execution_count": 3
        }
      ]
    },
    {
      "cell_type": "code",
      "source": [
        "x = s.split(\"h\")\n",
        "\n",
        "x[0]"
      ],
      "metadata": {
        "colab": {
          "base_uri": "https://localhost:8080/",
          "height": 36
        },
        "id": "5UEDnidiHSq2",
        "outputId": "1410776c-ab83-4316-9c25-a680df7acec2"
      },
      "execution_count": null,
      "outputs": [
        {
          "output_type": "execute_result",
          "data": {
            "text/plain": [
              "''"
            ],
            "application/vnd.google.colaboratory.intrinsic+json": {
              "type": "string"
            }
          },
          "metadata": {},
          "execution_count": 5
        }
      ]
    },
    {
      "cell_type": "code",
      "source": [
        "s.count(\"h\")"
      ],
      "metadata": {
        "colab": {
          "base_uri": "https://localhost:8080/"
        },
        "id": "jDAYXedNHhP6",
        "outputId": "2c1b6562-0f66-4e34-b386-76ea0beba960"
      },
      "execution_count": null,
      "outputs": [
        {
          "output_type": "execute_result",
          "data": {
            "text/plain": [
              "1"
            ]
          },
          "metadata": {},
          "execution_count": 7
        }
      ]
    },
    {
      "cell_type": "code",
      "source": [
        "def bp(string, n):\n",
        "  if n>0:\n",
        "    print(string[n], end='')\n",
        "    bp(string, n-1)\n",
        "  elif n==0:\n",
        "    print(string[0])\n",
        "\n",
        "s = input()\n",
        "bp(s, len(s)-1)"
      ],
      "metadata": {
        "colab": {
          "base_uri": "https://localhost:8080/"
        },
        "id": "yG2hwVFSIhuL",
        "outputId": "90380e01-561a-43ed-f469-44e16506cca0"
      },
      "execution_count": null,
      "outputs": [
        {
          "output_type": "stream",
          "name": "stdout",
          "text": [
            "news\n",
            "swen\n"
          ]
        }
      ]
    },
    {
      "cell_type": "code",
      "source": [
        "def fibonacci(n, c = 0):\n",
        "    if n <= 1:\n",
        "        return n, c\n",
        "    (f1, c1), (f2, c2) = fibonacci(n-1, c + 1), fibonacci(n-2, c + 1)\n",
        "    return f1 + f2, c1 + c2"
      ],
      "metadata": {
        "id": "XW8OA93DZmzl"
      },
      "execution_count": null,
      "outputs": []
    },
    {
      "cell_type": "code",
      "source": [
        "fibonacci(10)"
      ],
      "metadata": {
        "colab": {
          "base_uri": "https://localhost:8080/"
        },
        "id": "D71pbtrgbB8-",
        "outputId": "ab727137-845e-4c16-bb70-3e03a76e5df0"
      },
      "execution_count": null,
      "outputs": [
        {
          "output_type": "execute_result",
          "data": {
            "text/plain": [
              "(55, 600)"
            ]
          },
          "metadata": {},
          "execution_count": 15
        }
      ]
    },
    {
      "cell_type": "code",
      "source": [
        "l = [ ]\n",
        "def convert(b):\n",
        "  if(b==0):\n",
        "    return l\n",
        "  digit=b%2\n",
        "  l.append(digit)\n",
        "  convert(b//2)\n",
        "\n",
        "convert(6)\n",
        "l.reverse()\n",
        "for i in l:\n",
        "  print(i,end=\"\")"
      ],
      "metadata": {
        "colab": {
          "base_uri": "https://localhost:8080/"
        },
        "id": "pvBBuVBYbD7s",
        "outputId": "54bf06f4-2cbf-4a4e-83b0-778dad311a56"
      },
      "execution_count": null,
      "outputs": [
        {
          "output_type": "stream",
          "name": "stdout",
          "text": [
            "110"
          ]
        }
      ]
    },
    {
      "cell_type": "code",
      "source": [
        "def fun(i,j):\n",
        "      if(i==0):\n",
        "         return j\n",
        "      else:\n",
        "         return fun(i-1,j+1)\n",
        "fun(4,8)"
      ],
      "metadata": {
        "colab": {
          "base_uri": "https://localhost:8080/"
        },
        "id": "wQl79yWVc4lI",
        "outputId": "2e0f2da2-cce7-4650-d316-fd9ccd8552b2"
      },
      "execution_count": null,
      "outputs": [
        {
          "output_type": "execute_result",
          "data": {
            "text/plain": [
              "12"
            ]
          },
          "metadata": {},
          "execution_count": 18
        }
      ]
    },
    {
      "cell_type": "code",
      "source": [
        "def count_freq(x, y):\n",
        "  if(y!=1):\n",
        "    if(x!=1):\n",
        "      print(\"*\")\n",
        "      count_freq(x/2,y)\n",
        "    else:\n",
        "      print(\"#\")\n",
        "      y=y-1\n",
        "      count_freq(x,y)"
      ],
      "metadata": {
        "id": "zaXCWgqpdG6L"
      },
      "execution_count": null,
      "outputs": []
    },
    {
      "cell_type": "code",
      "source": [
        "count_freq(256, 4)"
      ],
      "metadata": {
        "colab": {
          "base_uri": "https://localhost:8080/"
        },
        "id": "KlHQhWDheap8",
        "outputId": "8689a629-9045-4c3f-b405-1abf620edb04"
      },
      "execution_count": null,
      "outputs": [
        {
          "output_type": "stream",
          "name": "stdout",
          "text": [
            "*\n",
            "*\n",
            "*\n",
            "*\n",
            "*\n",
            "*\n",
            "*\n",
            "*\n",
            "#\n",
            "#\n",
            "#\n"
          ]
        }
      ]
    },
    {
      "cell_type": "code",
      "source": [
        "def fun(n):\n",
        "  if (n > 50):\n",
        "    return n - 5\n",
        "  return fun(fun(n+11))\n",
        "print(fun(45))"
      ],
      "metadata": {
        "colab": {
          "base_uri": "https://localhost:8080/"
        },
        "id": "6FeMKOhzegPj",
        "outputId": "ad874359-2fb1-4e30-b7df-6bba42410615"
      },
      "execution_count": null,
      "outputs": [
        {
          "output_type": "stream",
          "name": "stdout",
          "text": [
            "46\n"
          ]
        }
      ]
    },
    {
      "cell_type": "code",
      "source": [
        "def fun(i,j):\n",
        "  if(i==0):\n",
        "    return j\n",
        "  else:\n",
        "    return fun(j,i-5)\n",
        "\n",
        "print(fun(15,8))"
      ],
      "metadata": {
        "colab": {
          "base_uri": "https://localhost:8080/"
        },
        "id": "IGxXRzyUe44Y",
        "outputId": "f7965389-01e5-458b-a7ce-aaacd007c878"
      },
      "execution_count": null,
      "outputs": [
        {
          "output_type": "stream",
          "name": "stdout",
          "text": [
            "-7\n"
          ]
        }
      ]
    },
    {
      "cell_type": "code",
      "source": [
        "def merge_sort(A, key):\n",
        "    n = len(A)\n",
        "    if n == 1:\n",
        "        return A[:1]\n",
        "    \n",
        "    left, right = merge_sort(A[:n//2], key), merge_sort(A[n//2:], key)\n",
        "\n",
        "    i, j = 0, 0; res = []\n",
        "\n",
        "    while i < len(left) and j < len(right):\n",
        "        if key(left[i]) <= key(right[j]):\n",
        "            res.append(left[i]); i += 1\n",
        "        else:\n",
        "            res.append(right[j]); j += 1\n",
        "    \n",
        "    if i < len(left):\n",
        "        res += left[i:]\n",
        "    elif j < len(right):\n",
        "        res += right[j:]\n",
        "\n",
        "    return res"
      ],
      "metadata": {
        "id": "mhlf7JoRfnk6"
      },
      "execution_count": null,
      "outputs": []
    },
    {
      "cell_type": "code",
      "source": [
        "test = [\n",
        "        {\"name\": \"A\", \"score\": 50},\n",
        "        {\"name\": \"B\", \"score\": 40},\n",
        "        {\"name\": \"C\", \"score\": 30},\n",
        "        {\"name\": \"D\", \"score\": 20},\n",
        "        {\"name\": \"E\", \"score\": 10}\n",
        "]"
      ],
      "metadata": {
        "id": "6VfxcMBTMWfh"
      },
      "execution_count": null,
      "outputs": []
    },
    {
      "cell_type": "code",
      "source": [
        "merge_sort(test, lambda x: x[\"score\"])"
      ],
      "metadata": {
        "colab": {
          "base_uri": "https://localhost:8080/"
        },
        "id": "fP0Uz7ppMwd9",
        "outputId": "c4f1bf0d-fdf5-4dcb-c7f5-133e29cc9cad"
      },
      "execution_count": null,
      "outputs": [
        {
          "output_type": "execute_result",
          "data": {
            "text/plain": [
              "[{'name': 'E', 'score': 10},\n",
              " {'name': 'D', 'score': 20},\n",
              " {'name': 'C', 'score': 30},\n",
              " {'name': 'B', 'score': 40},\n",
              " {'name': 'A', 'score': 50}]"
            ]
          },
          "metadata": {},
          "execution_count": 3
        }
      ]
    },
    {
      "cell_type": "code",
      "source": [
        "def isIsomorphic(s1, s2):\n",
        "    if len(s1) != len(s2):\n",
        "        return False\n",
        "    \n",
        "    s1_s2, s2_s1 = {}, {}\n",
        "\n",
        "    for i in range(len(s1)):\n",
        "        get_s2 = s1_s2.get(s1[i], None)\n",
        "        get_s1 = s2_s1.get(s2[i], None)\n",
        "\n",
        "        if get_s1 == None and get_s2 == None:\n",
        "            s1_s2[s1[i]], s2_s1[s2[i]] = s2[i], s1[i]\n",
        "        elif (get_s2 == None) ^ (get_s1 == None):\n",
        "            return False\n",
        "        elif get_s1 != s1[i] or get_s2 != s2[i]:\n",
        "            return False\n",
        "    \n",
        "    return True"
      ],
      "metadata": {
        "id": "ZG0wSpe2M97l"
      },
      "execution_count": null,
      "outputs": []
    },
    {
      "cell_type": "code",
      "source": [
        "print(isIsomorphic(\"XYXY\", \"OZOZ\"))\n",
        "print(isIsomorphic(\"XZYY\", \"\"))"
      ],
      "metadata": {
        "colab": {
          "base_uri": "https://localhost:8080/"
        },
        "id": "9jkLnoyRGu3a",
        "outputId": "678bcfc8-4bcd-4e19-91ce-6fcc7c0aa14a"
      },
      "execution_count": null,
      "outputs": [
        {
          "output_type": "stream",
          "name": "stdout",
          "text": [
            "True\n",
            "False\n"
          ]
        }
      ]
    },
    {
      "cell_type": "code",
      "source": [
        "def isIsomorphic2(s1, s2):\n",
        "    if len(s1) != len(s2):\n",
        "        return False\n",
        "    \n",
        "    s1_s2, s2_s1 = {}, {}\n",
        "\n",
        "    for i in range(len(s1)):\n",
        "        get_s2 = s1_s2.get(s1[i], None)\n",
        "        get_s1 = s2_s1.get(s2[i], None)\n",
        "\n",
        "        if get_s1 == s1[i] and get_s2 == s2[i]:\n",
        "            continue\n",
        "        else:\n",
        "            return False\n",
        "    \n",
        "    return True"
      ],
      "metadata": {
        "id": "OuH7GgycHDUc"
      },
      "execution_count": null,
      "outputs": []
    },
    {
      "cell_type": "code",
      "source": [
        "def revers_binary_search(a, target):\n",
        "    begin, end = 0, len(a) - 1\n",
        "\n",
        "    while begin <= end:\n",
        "        mid = (begin + end) // 2\n",
        "        if a[mid] < target:\n",
        "            end = mid + 1\n",
        "        elif a[mid] > target:\n",
        "            begin = mid - 1\n",
        "        else:\n",
        "            return mid\n",
        "    return -1"
      ],
      "metadata": {
        "id": "iCdKGmytI3zK"
      },
      "execution_count": null,
      "outputs": []
    },
    {
      "cell_type": "code",
      "source": [
        "a = list(range(9,-1,-1))\n",
        "\n",
        "print(a)\n",
        "revers_binary_search(a, 4)"
      ],
      "metadata": {
        "colab": {
          "base_uri": "https://localhost:8080/"
        },
        "id": "lvor56ljq_y0",
        "outputId": "d847d290-c88b-469e-89fe-24911987b6d6"
      },
      "execution_count": null,
      "outputs": [
        {
          "output_type": "stream",
          "name": "stdout",
          "text": [
            "[9, 8, 7, 6, 5, 4, 3, 2, 1, 0]\n"
          ]
        },
        {
          "output_type": "execute_result",
          "data": {
            "text/plain": [
              "5"
            ]
          },
          "metadata": {},
          "execution_count": 10
        }
      ]
    },
    {
      "cell_type": "code",
      "source": [
        "try:\n",
        "    print(\"call\")\n",
        "\n",
        "print(\"not\")"
      ],
      "metadata": {
        "colab": {
          "base_uri": "https://localhost:8080/",
          "height": 135
        },
        "id": "9BuXg2NTrKst",
        "outputId": "6980fd91-4292-4df1-bc3e-6ebfa11c3f0e"
      },
      "execution_count": null,
      "outputs": [
        {
          "output_type": "error",
          "ename": "SyntaxError",
          "evalue": "ignored",
          "traceback": [
            "\u001b[0;36m  File \u001b[0;32m\"<ipython-input-11-5cd020f147a1>\"\u001b[0;36m, line \u001b[0;32m4\u001b[0m\n\u001b[0;31m    print(\"not\")\u001b[0m\n\u001b[0m        ^\u001b[0m\n\u001b[0;31mSyntaxError\u001b[0m\u001b[0;31m:\u001b[0m invalid syntax\n"
          ]
        }
      ]
    },
    {
      "cell_type": "code",
      "source": [
        "def something():\n",
        "    raise Exception()\n",
        "    print(\"After Exception\")\n",
        "\n",
        "print('Exception')"
      ],
      "metadata": {
        "colab": {
          "base_uri": "https://localhost:8080/"
        },
        "id": "dpQ6svJUsJVC",
        "outputId": "9ef22b07-7bb8-4e80-c985-c436d74e7070"
      },
      "execution_count": null,
      "outputs": [
        {
          "output_type": "stream",
          "name": "stdout",
          "text": [
            "Exception\n"
          ]
        }
      ]
    },
    {
      "cell_type": "code",
      "source": [
        "def solve(A, B):\n",
        "    #YOUR CODE GOES HERE\n",
        "    start, end = 0, len(A) - 1\n",
        "    prev_mid = None\n",
        "\n",
        "    while start <= end:\n",
        "        mid = (start + end)//2\n",
        "        if prev_mid == mid:\n",
        "            break\n",
        "        if A[mid] > B:\n",
        "            end = mid\n",
        "        elif A[mid] <= B:\n",
        "            start = mid\n",
        "        prev_mid = mid\n",
        "    \n",
        "    if A[mid] > B:\n",
        "        return mid\n",
        "    else:\n",
        "        return mid + 1"
      ],
      "metadata": {
        "id": "dM9g7JrKt7hq"
      },
      "execution_count": null,
      "outputs": []
    },
    {
      "cell_type": "code",
      "source": [
        "solve([1, 2, 3, 3, 5, 6, 7], 3.5)"
      ],
      "metadata": {
        "colab": {
          "base_uri": "https://localhost:8080/"
        },
        "id": "R1F5vclCTheI",
        "outputId": "83ca565e-6d99-4bd5-c33d-e001e88869bb"
      },
      "execution_count": null,
      "outputs": [
        {
          "output_type": "execute_result",
          "data": {
            "text/plain": [
              "4"
            ]
          },
          "metadata": {},
          "execution_count": 46
        }
      ]
    },
    {
      "cell_type": "code",
      "source": [
        "def binary_search(A, a):\n",
        "    begin, end = 0, len(A)\n",
        "\n",
        "    while begin <= end:\n",
        "        mid = (begin + end) // 2\n",
        "\n",
        "        print(\"-\"*10)\n",
        "        print(f\"begin = {A[begin]}, mid = {A[mid]}, end = {A[end - 1]}\")\n",
        "        print(f\"A = {A[begin:end]}\")\n",
        "        print(\"-\"*10)\n",
        "\n",
        "        if A[mid] < a:\n",
        "            begin = mid + 1\n",
        "        elif A[mid] > a:\n",
        "            end = mid - 1\n",
        "        else:\n",
        "            return mid, A[mid]\n"
      ],
      "metadata": {
        "id": "vDPNaY4hTr2n"
      },
      "execution_count": null,
      "outputs": []
    },
    {
      "cell_type": "code",
      "source": [
        "binary_search([35, 66, 73, 80, 90, 102, 258], 90)"
      ],
      "metadata": {
        "colab": {
          "base_uri": "https://localhost:8080/"
        },
        "id": "07Qz28Bm7tWu",
        "outputId": "b10bf704-7dc8-4803-d7a4-2172b8d22261"
      },
      "execution_count": null,
      "outputs": [
        {
          "output_type": "stream",
          "name": "stdout",
          "text": [
            "----------\n",
            "begin = 35, mid = 80, end = 258\n",
            "A = [35, 66, 73, 80, 90, 102, 258]\n",
            "----------\n",
            "----------\n",
            "begin = 90, mid = 102, end = 258\n",
            "A = [90, 102, 258]\n",
            "----------\n",
            "----------\n",
            "begin = 90, mid = 90, end = 80\n",
            "A = []\n",
            "----------\n"
          ]
        },
        {
          "output_type": "execute_result",
          "data": {
            "text/plain": [
              "(4, 90)"
            ]
          },
          "metadata": {},
          "execution_count": 42
        }
      ]
    },
    {
      "cell_type": "code",
      "source": [
        "def binary_search_rec(A, a):\n",
        "    begin, end = 0, len(A)\n",
        "\n",
        "    while begin <= end:\n",
        "        mid = (begin + end) // 2\n",
        "\n",
        "        print(\"-\"*10)\n",
        "        print(f\"begin = {A[begin]}, mid = {A[mid]}, end = {A[end - 1]}\")\n",
        "        print(f\"A = {A[begin:end]}\")\n",
        "        print(\"-\"*10)\n",
        "\n",
        "        if A[mid] < a:\n",
        "            return binary_search_rec(A[mid + 1:end], a)\n",
        "        elif A[mid] > a:\n",
        "            return binary_search_rec(A[begin:mid], a)\n",
        "        else:\n",
        "            return mid, A[mid]"
      ],
      "metadata": {
        "id": "uv78_KnR70ym"
      },
      "execution_count": null,
      "outputs": []
    },
    {
      "cell_type": "code",
      "source": [
        "binary_search_rec([35, 66, 73, 80, 90, 102, 258], 90)"
      ],
      "metadata": {
        "colab": {
          "base_uri": "https://localhost:8080/"
        },
        "id": "ouBbVRYrAovI",
        "outputId": "d5f7fc7a-2167-45be-fe5a-84e1f56d2051"
      },
      "execution_count": null,
      "outputs": [
        {
          "output_type": "stream",
          "name": "stdout",
          "text": [
            "----------\n",
            "begin = 35, mid = 80, end = 258\n",
            "A = [35, 66, 73, 80, 90, 102, 258]\n",
            "----------\n",
            "----------\n",
            "begin = 90, mid = 102, end = 258\n",
            "A = [90, 102, 258]\n",
            "----------\n",
            "----------\n",
            "begin = 90, mid = 90, end = 90\n",
            "A = [90]\n",
            "----------\n"
          ]
        },
        {
          "output_type": "execute_result",
          "data": {
            "text/plain": [
              "(0, 90)"
            ]
          },
          "metadata": {},
          "execution_count": 44
        }
      ]
    },
    {
      "cell_type": "code",
      "source": [
        "def bin_search(data, key):\n",
        "  low = 0\n",
        "  high = len(data) - 1\n",
        "  mid = 0\n",
        "  while low <= high:              #blank1\n",
        "    mid = (low + high) // 2           #blank2\n",
        "    if data[mid] < key:\n",
        "      low = mid + 1\n",
        "    elif data[mid] > key:\n",
        "      high = mid - 1\n",
        "    else:\n",
        "      return mid\n",
        "  return \"Element not found\""
      ],
      "metadata": {
        "id": "utVvQ81YAsQH"
      },
      "execution_count": null,
      "outputs": []
    },
    {
      "cell_type": "code",
      "source": [
        "bin_search([35, 66, 73, 80, 90, 102, 258], 35)"
      ],
      "metadata": {
        "colab": {
          "base_uri": "https://localhost:8080/"
        },
        "id": "U2cebRHoBKqC",
        "outputId": "0bb1e8eb-8fd7-4a8a-b4d6-3e1bf6e44d90"
      },
      "execution_count": null,
      "outputs": [
        {
          "output_type": "execute_result",
          "data": {
            "text/plain": [
              "0"
            ]
          },
          "metadata": {},
          "execution_count": 48
        }
      ]
    },
    {
      "cell_type": "code",
      "source": [
        "def sentinelSearch(ar,target,n):\n",
        "  last = ar[n-1]\n",
        "  ar[n-1] = target\n",
        "  i = 0\n",
        "  while ar[i]!=target:\n",
        "    i+=1\n",
        "  ar[n-1] = last\n",
        "  if (i<n-1) or target==ar[n-1]:\n",
        "    return i\n",
        "  else:\n",
        "    return -1"
      ],
      "metadata": {
        "id": "jNa2QnCdBQkz"
      },
      "execution_count": null,
      "outputs": []
    },
    {
      "cell_type": "code",
      "source": [
        "sentinelSearch([1,2,3,4,5],5,5)"
      ],
      "metadata": {
        "colab": {
          "base_uri": "https://localhost:8080/"
        },
        "id": "juT6VsKqDL3x",
        "outputId": "ba81bbf6-4858-4414-ed2a-8cb71fd35084"
      },
      "execution_count": null,
      "outputs": [
        {
          "output_type": "execute_result",
          "data": {
            "text/plain": [
              "4"
            ]
          },
          "metadata": {},
          "execution_count": 50
        }
      ]
    },
    {
      "cell_type": "code",
      "source": [
        "def bin_search(data, low, high, element):\n",
        "      mid = low + (high - low)//2\n",
        "      if data[mid] == element:\n",
        "        return mid\n",
        "      elif data[mid] < element:\n",
        "        return bin_search(data, mid + 1, high, element)\n",
        "      else:\n",
        "        return bin_search(data, low, mid - 1, element)"
      ],
      "metadata": {
        "id": "kliRViiwDMjW"
      },
      "execution_count": null,
      "outputs": []
    },
    {
      "cell_type": "code",
      "source": [
        "bin_search([35, 66, 73, 80, 90, 102, 258], 1, 7, 66)"
      ],
      "metadata": {
        "colab": {
          "base_uri": "https://localhost:8080/"
        },
        "id": "TCg4LCqHDmsT",
        "outputId": "1a92694d-f37f-42f6-eed8-298ade110672"
      },
      "execution_count": null,
      "outputs": [
        {
          "output_type": "execute_result",
          "data": {
            "text/plain": [
              "1"
            ]
          },
          "metadata": {},
          "execution_count": 57
        }
      ]
    },
    {
      "cell_type": "code",
      "source": [
        "def recur_search(key, values, lower, upper):\n",
        "  if (upper < lower):\n",
        "    print(\"in here\")\n",
        "    return False\n",
        "\n",
        "  mid = (lower + upper) // 2\n",
        "  print(\"-\"*10)\n",
        "  print(f\"begin = {values[lower]}, mid = {values[mid]}, end = {values[upper]}\")\n",
        "  print(f\"A = {values[lower:upper + 1]}\")\n",
        "  print(\"-\"*10)\n",
        "\n",
        "  if (key == values[mid]):\n",
        "    return True\n",
        " \n",
        "  elif (key < values[mid]):\n",
        "    recur_search(key, values, lower, mid - 1)\n",
        "\n",
        "  else: \n",
        "    recur_search(key, values, mid + 1, upper)\n",
        "\n",
        "  print(\"out here\")\n",
        "  return False"
      ],
      "metadata": {
        "id": "G5-S_9DGDp4K"
      },
      "execution_count": null,
      "outputs": []
    },
    {
      "cell_type": "code",
      "source": [
        "recur_search(1, [1, 2, 3, 4, 5], 0, 4)"
      ],
      "metadata": {
        "colab": {
          "base_uri": "https://localhost:8080/"
        },
        "id": "PkZPBgY6EfVD",
        "outputId": "95bfb991-778f-42f2-8ab9-f1300d0e120f"
      },
      "execution_count": null,
      "outputs": [
        {
          "output_type": "stream",
          "name": "stdout",
          "text": [
            "----------\n",
            "begin = 1, mid = 3, end = 5\n",
            "A = [1, 2, 3, 4, 5]\n",
            "----------\n",
            "----------\n",
            "begin = 1, mid = 1, end = 2\n",
            "A = [1, 2]\n",
            "----------\n",
            "out here\n"
          ]
        },
        {
          "output_type": "execute_result",
          "data": {
            "text/plain": [
              "False"
            ]
          },
          "metadata": {},
          "execution_count": 80
        }
      ]
    },
    {
      "cell_type": "code",
      "source": [
        "type(bin(7))"
      ],
      "metadata": {
        "id": "r8mksJdMEihu",
        "colab": {
          "base_uri": "https://localhost:8080/"
        },
        "outputId": "258f0598-dda5-4cc7-d143-56ef233560b4"
      },
      "execution_count": null,
      "outputs": [
        {
          "output_type": "execute_result",
          "data": {
            "text/plain": [
              "str"
            ]
          },
          "metadata": {},
          "execution_count": 2
        }
      ]
    },
    {
      "cell_type": "code",
      "source": [
        "7 & 1"
      ],
      "metadata": {
        "colab": {
          "base_uri": "https://localhost:8080/"
        },
        "id": "cD0ISsL9TV14",
        "outputId": "cc1330e8-12fc-43ec-f25a-d7be250abab9"
      },
      "execution_count": null,
      "outputs": [
        {
          "output_type": "execute_result",
          "data": {
            "text/plain": [
              "1"
            ]
          },
          "metadata": {},
          "execution_count": 4
        }
      ]
    },
    {
      "cell_type": "code",
      "source": [
        "bin(7) & bin(0)"
      ],
      "metadata": {
        "colab": {
          "base_uri": "https://localhost:8080/",
          "height": 172
        },
        "id": "K1Y3UN6zTrvI",
        "outputId": "c0606e05-bbdd-4f8e-dc68-32902da41364"
      },
      "execution_count": null,
      "outputs": [
        {
          "output_type": "error",
          "ename": "TypeError",
          "evalue": "ignored",
          "traceback": [
            "\u001b[0;31m---------------------------------------------------------------------------\u001b[0m",
            "\u001b[0;31mTypeError\u001b[0m                                 Traceback (most recent call last)",
            "\u001b[0;32m<ipython-input-5-6df18a53c311>\u001b[0m in \u001b[0;36m<module>\u001b[0;34m()\u001b[0m\n\u001b[0;32m----> 1\u001b[0;31m \u001b[0mbin\u001b[0m\u001b[0;34m(\u001b[0m\u001b[0;36m7\u001b[0m\u001b[0;34m)\u001b[0m \u001b[0;34m&\u001b[0m \u001b[0mbin\u001b[0m\u001b[0;34m(\u001b[0m\u001b[0;36m0\u001b[0m\u001b[0;34m)\u001b[0m\u001b[0;34m\u001b[0m\u001b[0;34m\u001b[0m\u001b[0m\n\u001b[0m",
            "\u001b[0;31mTypeError\u001b[0m: unsupported operand type(s) for &: 'str' and 'str'"
          ]
        }
      ]
    },
    {
      "cell_type": "code",
      "source": [
        "a = bin(7)\n",
        "\n",
        "a[::-1]"
      ],
      "metadata": {
        "colab": {
          "base_uri": "https://localhost:8080/",
          "height": 36
        },
        "id": "iYQO71k3T2tW",
        "outputId": "4bfaae4a-bdeb-4e7c-96c2-2c4af065e2bb"
      },
      "execution_count": null,
      "outputs": [
        {
          "output_type": "execute_result",
          "data": {
            "text/plain": [
              "'111b0'"
            ],
            "application/vnd.google.colaboratory.intrinsic+json": {
              "type": "string"
            }
          },
          "metadata": {},
          "execution_count": 6
        }
      ]
    },
    {
      "cell_type": "code",
      "source": [
        "import numpy as np\n",
        "\n",
        "a = np.array([1, 2, 3, 4])"
      ],
      "metadata": {
        "id": "Ep3Z0S7TT7jb"
      },
      "execution_count": null,
      "outputs": []
    },
    {
      "cell_type": "code",
      "source": [
        "type(a)"
      ],
      "metadata": {
        "colab": {
          "base_uri": "https://localhost:8080/"
        },
        "id": "iEgp0yNzqtLX",
        "outputId": "60cc10c2-d77b-4818-dc64-1282fa80cfab"
      },
      "execution_count": null,
      "outputs": [
        {
          "output_type": "execute_result",
          "data": {
            "text/plain": [
              "numpy.ndarray"
            ]
          },
          "metadata": {},
          "execution_count": 9
        }
      ]
    },
    {
      "cell_type": "code",
      "source": [
        "str1 = \"abcdef\"\n",
        "\n",
        "str1[2:] = \"ghij\"\n",
        "\n",
        "str1"
      ],
      "metadata": {
        "id": "uxTrUD9Xqvah",
        "colab": {
          "base_uri": "https://localhost:8080/",
          "height": 246
        },
        "outputId": "2e7412c6-0526-482a-ccfc-864cfb39f0de"
      },
      "execution_count": null,
      "outputs": [
        {
          "output_type": "error",
          "ename": "TypeError",
          "evalue": "ignored",
          "traceback": [
            "\u001b[0;31m---------------------------------------------------------------------------\u001b[0m",
            "\u001b[0;31mTypeError\u001b[0m                                 Traceback (most recent call last)",
            "\u001b[0;32m<ipython-input-1-cc2e7547ca91>\u001b[0m in \u001b[0;36m<module>\u001b[0;34m()\u001b[0m\n\u001b[1;32m      1\u001b[0m \u001b[0mstr1\u001b[0m \u001b[0;34m=\u001b[0m \u001b[0;34m\"abcdef\"\u001b[0m\u001b[0;34m\u001b[0m\u001b[0;34m\u001b[0m\u001b[0m\n\u001b[1;32m      2\u001b[0m \u001b[0;34m\u001b[0m\u001b[0m\n\u001b[0;32m----> 3\u001b[0;31m \u001b[0mstr1\u001b[0m\u001b[0;34m[\u001b[0m\u001b[0;36m2\u001b[0m\u001b[0;34m:\u001b[0m\u001b[0;34m]\u001b[0m \u001b[0;34m=\u001b[0m \u001b[0;34m\"ghij\"\u001b[0m\u001b[0;34m\u001b[0m\u001b[0;34m\u001b[0m\u001b[0m\n\u001b[0m\u001b[1;32m      4\u001b[0m \u001b[0;34m\u001b[0m\u001b[0m\n\u001b[1;32m      5\u001b[0m \u001b[0mstr1\u001b[0m\u001b[0;34m\u001b[0m\u001b[0;34m\u001b[0m\u001b[0m\n",
            "\u001b[0;31mTypeError\u001b[0m: 'str' object does not support item assignment"
          ]
        }
      ]
    },
    {
      "cell_type": "code",
      "source": [
        "zero_bin = '0b' + '0'*32\n",
        "\n",
        "bin(~int(zero_bin,2))"
      ],
      "metadata": {
        "colab": {
          "base_uri": "https://localhost:8080/",
          "height": 36
        },
        "id": "sz7mriPnEoi4",
        "outputId": "8f6ebf0e-3376-4865-ee27-ef852c4e2123"
      },
      "execution_count": null,
      "outputs": [
        {
          "output_type": "execute_result",
          "data": {
            "text/plain": [
              "'-0b1'"
            ],
            "application/vnd.google.colaboratory.intrinsic+json": {
              "type": "string"
            }
          },
          "metadata": {},
          "execution_count": 3
        }
      ]
    },
    {
      "cell_type": "code",
      "source": [
        "bin(~0b000000000)"
      ],
      "metadata": {
        "colab": {
          "base_uri": "https://localhost:8080/",
          "height": 36
        },
        "id": "gnDOhDe2FNK2",
        "outputId": "7fe6df33-d490-4bbf-cc96-90cfce8a6b67"
      },
      "execution_count": null,
      "outputs": [
        {
          "output_type": "execute_result",
          "data": {
            "text/plain": [
              "'-0b1'"
            ],
            "application/vnd.google.colaboratory.intrinsic+json": {
              "type": "string"
            }
          },
          "metadata": {},
          "execution_count": 5
        }
      ]
    },
    {
      "cell_type": "code",
      "source": [
        "\"\".join(map(lambda x: '1' if x == '0' else '0',bin(~(-100))[:1:-1]))"
      ],
      "metadata": {
        "colab": {
          "base_uri": "https://localhost:8080/",
          "height": 36
        },
        "id": "436v5JkRFeGu",
        "outputId": "9ba9bde5-fc2b-4618-9f5a-b3676a2f6a97"
      },
      "execution_count": null,
      "outputs": [
        {
          "output_type": "execute_result",
          "data": {
            "text/plain": [
              "'0011100'"
            ],
            "application/vnd.google.colaboratory.intrinsic+json": {
              "type": "string"
            }
          },
          "metadata": {},
          "execution_count": 13
        }
      ]
    },
    {
      "cell_type": "code",
      "source": [
        "~0"
      ],
      "metadata": {
        "colab": {
          "base_uri": "https://localhost:8080/"
        },
        "id": "s_H8U8iBF7Ku",
        "outputId": "cfc1f2eb-dc4e-4607-d42f-b30f23c1bc1b"
      },
      "execution_count": null,
      "outputs": [
        {
          "output_type": "execute_result",
          "data": {
            "text/plain": [
              "-1"
            ]
          },
          "metadata": {},
          "execution_count": 9
        }
      ]
    },
    {
      "cell_type": "code",
      "source": [
        "0b1010100 & 0b1"
      ],
      "metadata": {
        "colab": {
          "base_uri": "https://localhost:8080/"
        },
        "id": "mJdyLgi_GdGl",
        "outputId": "763a7455-c5b9-4122-a8ec-06fe5d3e02a7"
      },
      "execution_count": null,
      "outputs": [
        {
          "output_type": "execute_result",
          "data": {
            "text/plain": [
              "0"
            ]
          },
          "metadata": {},
          "execution_count": 15
        }
      ]
    },
    {
      "cell_type": "code",
      "source": [
        "from functools import reduce\n",
        "\n",
        "reduce?"
      ],
      "metadata": {
        "id": "A7GIUgmLJrp0"
      },
      "execution_count": null,
      "outputs": []
    },
    {
      "cell_type": "code",
      "source": [
        "sum(map(lambda x: bin(x)[2:].count('1'), range(5)))"
      ],
      "metadata": {
        "colab": {
          "base_uri": "https://localhost:8080/"
        },
        "id": "NImRhvjwN1QR",
        "outputId": "138fb81e-4e63-4a4d-c11f-1e60945a318d"
      },
      "execution_count": null,
      "outputs": [
        {
          "output_type": "execute_result",
          "data": {
            "text/plain": [
              "5"
            ]
          },
          "metadata": {},
          "execution_count": 25
        }
      ]
    },
    {
      "cell_type": "code",
      "source": [
        "def set_bits_counter(x):\n",
        "    count = 0\n",
        "    while x > 0:\n",
        "        count += int(x & 1)\n",
        "        x >>= 1\n",
        "        print(f\"count = {count}, x_bin = {bin(x)[2:]}\")\n",
        "    return count\n",
        "\n",
        "set_bits_counter(10)"
      ],
      "metadata": {
        "colab": {
          "base_uri": "https://localhost:8080/"
        },
        "id": "d_RP5ss7OWIQ",
        "outputId": "e3b81a72-898b-4bd0-99b5-ff5b902a2656"
      },
      "execution_count": null,
      "outputs": [
        {
          "output_type": "stream",
          "name": "stdout",
          "text": [
            "count = 0, x_bin = 101\n",
            "count = 1, x_bin = 10\n",
            "count = 1, x_bin = 1\n",
            "count = 2, x_bin = 0\n"
          ]
        },
        {
          "output_type": "execute_result",
          "data": {
            "text/plain": [
              "2"
            ]
          },
          "metadata": {},
          "execution_count": 29
        }
      ]
    },
    {
      "cell_type": "code",
      "source": [
        "class DSML():\n",
        "\n",
        "    def __init__(self, value):\n",
        "        self.value = value\n",
        "\n",
        "    def __and__(self, obj):\n",
        "      mask = ~(1 << obj.value)\n",
        "      self.value = self.value & mask\n",
        "      return self.value & obj.value\n",
        "\n",
        "    def __or__(self, obj):\n",
        "      mask = 1 << obj.value\n",
        "      self.value = self.value ^ mask\n",
        "      return self.value | obj.value\n",
        "\n",
        "    def __invert__(self):\n",
        "      mask = 1 << 5\n",
        "      return ~(mask | self.value)\n",
        "\n",
        "a = DSML(8)\n",
        "b = DSML(5)\n",
        "c = DSML(0)\n",
        "print(a & b,a | b, ~c)"
      ],
      "metadata": {
        "colab": {
          "base_uri": "https://localhost:8080/"
        },
        "id": "50maSfdXRG9w",
        "outputId": "823c2df6-25d1-4cb2-bf61-6ebacee3cb93"
      },
      "execution_count": null,
      "outputs": [
        {
          "output_type": "stream",
          "name": "stdout",
          "text": [
            "0 45 -33\n"
          ]
        }
      ]
    },
    {
      "cell_type": "code",
      "source": [
        "bin(~(1 << 2))"
      ],
      "metadata": {
        "colab": {
          "base_uri": "https://localhost:8080/",
          "height": 36
        },
        "id": "_Qp12yDEVSt-",
        "outputId": "3381a599-541a-46a5-e088-e2056dd144bf"
      },
      "execution_count": null,
      "outputs": [
        {
          "output_type": "execute_result",
          "data": {
            "text/plain": [
              "'-0b101'"
            ],
            "application/vnd.google.colaboratory.intrinsic+json": {
              "type": "string"
            }
          },
          "metadata": {},
          "execution_count": 33
        }
      ]
    },
    {
      "cell_type": "code",
      "source": [
        "bin(5)"
      ],
      "metadata": {
        "colab": {
          "base_uri": "https://localhost:8080/",
          "height": 36
        },
        "id": "bkeGYpUvVaVt",
        "outputId": "f093e1e8-0165-4a7a-d123-65e07b9c3460"
      },
      "execution_count": null,
      "outputs": [
        {
          "output_type": "execute_result",
          "data": {
            "text/plain": [
              "'0b101'"
            ],
            "application/vnd.google.colaboratory.intrinsic+json": {
              "type": "string"
            }
          },
          "metadata": {},
          "execution_count": 39
        }
      ]
    },
    {
      "cell_type": "code",
      "source": [
        "bin(5 | (~(1 << 2)))"
      ],
      "metadata": {
        "colab": {
          "base_uri": "https://localhost:8080/",
          "height": 36
        },
        "id": "2dNgih8CVhVV",
        "outputId": "01a745f1-f786-4159-9dcc-c1c25616a126"
      },
      "execution_count": null,
      "outputs": [
        {
          "output_type": "execute_result",
          "data": {
            "text/plain": [
              "'-0b1'"
            ],
            "application/vnd.google.colaboratory.intrinsic+json": {
              "type": "string"
            }
          },
          "metadata": {},
          "execution_count": 42
        }
      ]
    },
    {
      "cell_type": "code",
      "source": [
        "def showbits(n):\n",
        "  for i in range(15,-1,-1):\n",
        "    mask=1<<i; k= n & mask\n",
        "    if k==0:\n",
        "      print(0,end=\"\")\n",
        "    else:\n",
        "      print(1,end=\"\")\n",
        "showbits(10)"
      ],
      "metadata": {
        "colab": {
          "base_uri": "https://localhost:8080/"
        },
        "id": "ZggIoFczVtcg",
        "outputId": "e3d044c8-1d74-490f-b803-19fc4406f609"
      },
      "execution_count": null,
      "outputs": [
        {
          "output_type": "stream",
          "name": "stdout",
          "text": [
            "0000000000001010"
          ]
        }
      ]
    },
    {
      "cell_type": "code",
      "source": [
        "i=13\n",
        "for j in range(0,4):\n",
        "  k=i>>j\n",
        "  print(k,bin(k), end=\" \")"
      ],
      "metadata": {
        "colab": {
          "base_uri": "https://localhost:8080/"
        },
        "id": "bYpWqQhnYAlE",
        "outputId": "d6cd84fd-70fe-4daa-ce7d-7a75b19dc787"
      },
      "execution_count": null,
      "outputs": [
        {
          "output_type": "stream",
          "name": "stdout",
          "text": [
            "13 0b1101 6 0b110 3 0b11 1 0b1 "
          ]
        }
      ]
    },
    {
      "cell_type": "code",
      "source": [
        "def isPowerOfTwo(x:int):\n",
        "  if(x == 0):\n",
        "    return False\n",
        "  else:\n",
        "    while(x & 1 == 0):\n",
        "      x >>= 1\n",
        "    return x==1\n",
        "\n",
        "isPowerOfTwo(8)"
      ],
      "metadata": {
        "colab": {
          "base_uri": "https://localhost:8080/"
        },
        "id": "fYx9WnwWY1KT",
        "outputId": "c581e71b-aa0f-4cfa-9bc8-e17d7505f945"
      },
      "execution_count": null,
      "outputs": [
        {
          "output_type": "execute_result",
          "data": {
            "text/plain": [
              "True"
            ]
          },
          "metadata": {},
          "execution_count": 47
        }
      ]
    },
    {
      "cell_type": "code",
      "source": [
        "class Cpp_io:\n",
        "    def __lshift__(self, sentence):\n",
        "        print(sentence)\n",
        "    def __rshift__(self, var):\n",
        "        var[0] = input()\n",
        "\n",
        "cout = Cpp_io()\n",
        "cin = Cpp_io()\n",
        "\n",
        "a = [0]\n",
        "cin >> a\n",
        "cout << a[0]"
      ],
      "metadata": {
        "id": "qyIw0AaHZ6uz",
        "colab": {
          "base_uri": "https://localhost:8080/"
        },
        "outputId": "834411ac-fac2-4281-e7af-2e8aa56d21fb"
      },
      "execution_count": null,
      "outputs": [
        {
          "output_type": "stream",
          "name": "stdout",
          "text": [
            "5\n",
            "5\n"
          ]
        }
      ]
    },
    {
      "cell_type": "code",
      "source": [
        "def assign(a):\n",
        "    a[1] = input()\n",
        "\n",
        "a = [1, 2, 3]\n",
        "assign(a)\n",
        "a"
      ],
      "metadata": {
        "colab": {
          "base_uri": "https://localhost:8080/"
        },
        "id": "yvmxnhszo5Ii",
        "outputId": "c94ae9df-d965-4e1d-e689-8a1012e1e010"
      },
      "execution_count": null,
      "outputs": [
        {
          "name": "stdout",
          "output_type": "stream",
          "text": [
            "100\n"
          ]
        },
        {
          "output_type": "execute_result",
          "data": {
            "text/plain": [
              "[1, '100', 3]"
            ]
          },
          "metadata": {},
          "execution_count": 9
        }
      ]
    },
    {
      "cell_type": "code",
      "source": [
        ""
      ],
      "metadata": {
        "id": "BFc3lsokqoWO"
      },
      "execution_count": null,
      "outputs": []
    }
  ]
}